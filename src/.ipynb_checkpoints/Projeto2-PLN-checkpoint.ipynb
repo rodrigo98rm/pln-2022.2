{
 "cells": [
  {
   "cell_type": "markdown",
   "metadata": {
    "id": "dplAA4R5mRrE"
   },
   "source": [
    "# Imports"
   ]
  },
  {
   "cell_type": "code",
   "execution_count": 1,
   "metadata": {
    "executionInfo": {
     "elapsed": 5,
     "status": "ok",
     "timestamp": 1660869356185,
     "user": {
      "displayName": "Juliana Thomaz",
      "userId": "10883141159324758422"
     },
     "user_tz": 180
    },
    "id": "OWFK6d3QmRKE"
   },
   "outputs": [],
   "source": [
    "import re\n",
    "import pandas as pd\n",
    "import json\n",
    "import numpy as np\n",
    "import seaborn as sns"
   ]
  },
  {
   "cell_type": "markdown",
   "metadata": {
    "id": "muyhJsQRVfZH"
   },
   "source": [
    "# Extração de Dados"
   ]
  },
  {
   "cell_type": "code",
   "execution_count": 2,
   "metadata": {},
   "outputs": [],
   "source": [
    "def df_tweets_candidatos(json_filename):\n",
    "    df = pd.read_json(json_filename).drop(columns = ['replies'])\n",
    "    return df\n",
    "\n",
    "\n",
    "def df_tweets_respostas(json_filename):\n",
    "    df = pd.read_json(json_filename).dropna().reset_index()[['replies']]\n",
    "    ds = []\n",
    "    for replies in df['replies'].to_list():\n",
    "        for reply in replies:\n",
    "            ds.append(reply)\n",
    "\n",
    "    reply_df = pd.DataFrame (ds).drop(columns = ['attachments'])\n",
    "    return reply_df\n",
    "\n",
    "def df_tweets_cadidatos_respostas(json_filename):\n",
    "    df_tweets_cand = df_tweets_candidatos(json_filename)\n",
    "    df_tweets_reps = df_tweets_respostas(json_filename)\n",
    "\n",
    "    return (df_tweets_cand, df_tweets_reps)"
   ]
  },
  {
   "cell_type": "markdown",
   "metadata": {
    "id": "apymyF3WWswV"
   },
   "source": [
    "# Pré-Processamento"
   ]
  },
  {
   "cell_type": "markdown",
   "metadata": {
    "id": "ZV-mwXjWVoLT"
   },
   "source": [
    "# Modelagem de Tópicos"
   ]
  },
  {
   "cell_type": "code",
   "execution_count": null,
   "metadata": {
    "id": "VJBsIdssWQC3"
   },
   "outputs": [],
   "source": []
  },
  {
   "cell_type": "markdown",
   "metadata": {
    "id": "wYl-0IqqWI6u"
   },
   "source": [
    "# Similaridade de Textos"
   ]
  },
  {
   "cell_type": "code",
   "execution_count": null,
   "metadata": {},
   "outputs": [],
   "source": []
  },
  {
   "cell_type": "markdown",
   "metadata": {
    "id": "5LANdfj4WRBM"
   },
   "source": [
    "# Análise de Sentimentos"
   ]
  },
  {
   "cell_type": "markdown",
   "metadata": {},
   "source": [
    "Aqui, temos a intenção de captar como as pessoas reagem aos tweets dos candidatos. Elas concordam, se opõem ou pouco se importam com tal posição dos candidatos? Um meio de entendermos é através da análise de sentimentos. </br>"
   ]
  },
  {
   "cell_type": "markdown",
   "metadata": {},
   "source": [
    "## 1. Capta respostas aos tweets feitos pelos candidatos"
   ]
  },
  {
   "cell_type": "code",
   "execution_count": 30,
   "metadata": {},
   "outputs": [],
   "source": [
    "replies_lula = df_tweets_respostas('datasets\\lula-result.json')\n",
    "replies_ciro = df_tweets_respostas('datasets\\ciro-result.json')\n",
    "replies_bolsonaro = df_tweets_respostas('datasets\\\\bolsonaro-result.json')"
   ]
  },
  {
   "cell_type": "markdown",
   "metadata": {},
   "source": [
    "## 2. Relaciona candidato ao dataframe"
   ]
  },
  {
   "cell_type": "code",
   "execution_count": 92,
   "metadata": {},
   "outputs": [],
   "source": [
    "replies_lula['candidato'] = 'lula'\n",
    "replies_ciro['candidato'] = 'ciro'\n",
    "replies_bolsonaro['candidato'] = 'bolsonaro'"
   ]
  },
  {
   "cell_type": "markdown",
   "metadata": {},
   "source": [
    "## 3. Prepara bibliotecas e pacotes para análise de sentimentos"
   ]
  },
  {
   "cell_type": "code",
   "execution_count": 20,
   "metadata": {
    "collapsed": true
   },
   "outputs": [
    {
     "name": "stdout",
     "output_type": "stream",
     "text": [
      "Requirement already satisfied: tensorflow in c:\\users\\jthom\\anaconda3\\lib\\site-packages (2.9.1)\n",
      "Requirement already satisfied: flatbuffers<2,>=1.12 in c:\\users\\jthom\\anaconda3\\lib\\site-packages (from tensorflow) (1.12)\n",
      "Requirement already satisfied: tensorboard<2.10,>=2.9 in c:\\users\\jthom\\anaconda3\\lib\\site-packages (from tensorflow) (2.9.1)\n",
      "Requirement already satisfied: absl-py>=1.0.0 in c:\\users\\jthom\\anaconda3\\lib\\site-packages (from tensorflow) (1.2.0)\n",
      "Requirement already satisfied: setuptools in c:\\users\\jthom\\anaconda3\\lib\\site-packages (from tensorflow) (61.2.0)\n",
      "Requirement already satisfied: protobuf<3.20,>=3.9.2 in c:\\users\\jthom\\anaconda3\\lib\\site-packages (from tensorflow) (3.19.1)\n",
      "Requirement already satisfied: h5py>=2.9.0 in c:\\users\\jthom\\anaconda3\\lib\\site-packages (from tensorflow) (3.6.0)\n",
      "Requirement already satisfied: libclang>=13.0.0 in c:\\users\\jthom\\anaconda3\\lib\\site-packages (from tensorflow) (14.0.6)\n",
      "Requirement already satisfied: tensorflow-estimator<2.10.0,>=2.9.0rc0 in c:\\users\\jthom\\anaconda3\\lib\\site-packages (from tensorflow) (2.9.0)\n",
      "Requirement already satisfied: opt-einsum>=2.3.2 in c:\\users\\jthom\\anaconda3\\lib\\site-packages (from tensorflow) (3.3.0)\n",
      "Requirement already satisfied: keras-preprocessing>=1.1.1 in c:\\users\\jthom\\anaconda3\\lib\\site-packages (from tensorflow) (1.1.2)\n",
      "Requirement already satisfied: numpy>=1.20 in c:\\users\\jthom\\anaconda3\\lib\\site-packages (from tensorflow) (1.21.5)\n",
      "Requirement already satisfied: gast<=0.4.0,>=0.2.1 in c:\\users\\jthom\\anaconda3\\lib\\site-packages (from tensorflow) (0.4.0)\n",
      "Requirement already satisfied: tensorflow-io-gcs-filesystem>=0.23.1 in c:\\users\\jthom\\anaconda3\\lib\\site-packages (from tensorflow) (0.26.0)\n",
      "Requirement already satisfied: termcolor>=1.1.0 in c:\\users\\jthom\\anaconda3\\lib\\site-packages (from tensorflow) (1.1.0)\n",
      "Requirement already satisfied: six>=1.12.0 in c:\\users\\jthom\\anaconda3\\lib\\site-packages (from tensorflow) (1.16.0)\n",
      "Requirement already satisfied: grpcio<2.0,>=1.24.3 in c:\\users\\jthom\\anaconda3\\lib\\site-packages (from tensorflow) (1.42.0)\n",
      "Requirement already satisfied: keras<2.10.0,>=2.9.0rc0 in c:\\users\\jthom\\anaconda3\\lib\\site-packages (from tensorflow) (2.9.0)\n",
      "Requirement already satisfied: packaging in c:\\users\\jthom\\anaconda3\\lib\\site-packages (from tensorflow) (21.3)\n",
      "Requirement already satisfied: wrapt>=1.11.0 in c:\\users\\jthom\\anaconda3\\lib\\site-packages (from tensorflow) (1.12.1)\n",
      "Requirement already satisfied: astunparse>=1.6.0 in c:\\users\\jthom\\anaconda3\\lib\\site-packages (from tensorflow) (1.6.3)\n",
      "Requirement already satisfied: typing-extensions>=3.6.6 in c:\\users\\jthom\\anaconda3\\lib\\site-packages (from tensorflow) (4.1.1)\n",
      "Requirement already satisfied: google-pasta>=0.1.1 in c:\\users\\jthom\\anaconda3\\lib\\site-packages (from tensorflow) (0.2.0)\n",
      "Requirement already satisfied: wheel<1.0,>=0.23.0 in c:\\users\\jthom\\anaconda3\\lib\\site-packages (from astunparse>=1.6.0->tensorflow) (0.37.1)\n",
      "Requirement already satisfied: tensorboard-data-server<0.7.0,>=0.6.0 in c:\\users\\jthom\\anaconda3\\lib\\site-packages (from tensorboard<2.10,>=2.9->tensorflow) (0.6.1)\n",
      "Requirement already satisfied: requests<3,>=2.21.0 in c:\\users\\jthom\\anaconda3\\lib\\site-packages (from tensorboard<2.10,>=2.9->tensorflow) (2.27.1)\n",
      "Requirement already satisfied: google-auth-oauthlib<0.5,>=0.4.1 in c:\\users\\jthom\\anaconda3\\lib\\site-packages (from tensorboard<2.10,>=2.9->tensorflow) (0.4.6)\n",
      "Requirement already satisfied: google-auth<3,>=1.6.3 in c:\\users\\jthom\\anaconda3\\lib\\site-packages (from tensorboard<2.10,>=2.9->tensorflow) (1.33.0)\n",
      "Requirement already satisfied: tensorboard-plugin-wit>=1.6.0 in c:\\users\\jthom\\anaconda3\\lib\\site-packages (from tensorboard<2.10,>=2.9->tensorflow) (1.8.1)\n",
      "Requirement already satisfied: werkzeug>=1.0.1 in c:\\users\\jthom\\anaconda3\\lib\\site-packages (from tensorboard<2.10,>=2.9->tensorflow) (2.0.3)\n",
      "Requirement already satisfied: markdown>=2.6.8 in c:\\users\\jthom\\anaconda3\\lib\\site-packages (from tensorboard<2.10,>=2.9->tensorflow) (3.3.4)\n",
      "Requirement already satisfied: pyasn1-modules>=0.2.1 in c:\\users\\jthom\\anaconda3\\lib\\site-packages (from google-auth<3,>=1.6.3->tensorboard<2.10,>=2.9->tensorflow) (0.2.8)\n",
      "Requirement already satisfied: rsa<5,>=3.1.4 in c:\\users\\jthom\\anaconda3\\lib\\site-packages (from google-auth<3,>=1.6.3->tensorboard<2.10,>=2.9->tensorflow) (4.7.2)\n",
      "Requirement already satisfied: cachetools<5.0,>=2.0.0 in c:\\users\\jthom\\anaconda3\\lib\\site-packages (from google-auth<3,>=1.6.3->tensorboard<2.10,>=2.9->tensorflow) (4.2.2)\n",
      "Requirement already satisfied: requests-oauthlib>=0.7.0 in c:\\users\\jthom\\anaconda3\\lib\\site-packages (from google-auth-oauthlib<0.5,>=0.4.1->tensorboard<2.10,>=2.9->tensorflow) (1.3.1)\n",
      "Requirement already satisfied: pyasn1<0.5.0,>=0.4.6 in c:\\users\\jthom\\anaconda3\\lib\\site-packages (from pyasn1-modules>=0.2.1->google-auth<3,>=1.6.3->tensorboard<2.10,>=2.9->tensorflow) (0.4.8)\n",
      "Requirement already satisfied: certifi>=2017.4.17 in c:\\users\\jthom\\anaconda3\\lib\\site-packages (from requests<3,>=2.21.0->tensorboard<2.10,>=2.9->tensorflow) (2021.10.8)\n",
      "Requirement already satisfied: charset-normalizer~=2.0.0 in c:\\users\\jthom\\anaconda3\\lib\\site-packages (from requests<3,>=2.21.0->tensorboard<2.10,>=2.9->tensorflow) (2.0.4)\n",
      "Requirement already satisfied: urllib3<1.27,>=1.21.1 in c:\\users\\jthom\\anaconda3\\lib\\site-packages (from requests<3,>=2.21.0->tensorboard<2.10,>=2.9->tensorflow) (1.26.9)\n",
      "Requirement already satisfied: idna<4,>=2.5 in c:\\users\\jthom\\anaconda3\\lib\\site-packages (from requests<3,>=2.21.0->tensorboard<2.10,>=2.9->tensorflow) (3.3)\n",
      "Requirement already satisfied: oauthlib>=3.0.0 in c:\\users\\jthom\\anaconda3\\lib\\site-packages (from requests-oauthlib>=0.7.0->google-auth-oauthlib<0.5,>=0.4.1->tensorboard<2.10,>=2.9->tensorflow) (3.2.0)\n",
      "Requirement already satisfied: pyparsing!=3.0.5,>=2.0.2 in c:\\users\\jthom\\anaconda3\\lib\\site-packages (from packaging->tensorflow) (3.0.4)\n"
     ]
    }
   ],
   "source": [
    "!pip install tensorflow"
   ]
  },
  {
   "cell_type": "code",
   "execution_count": 21,
   "metadata": {
    "scrolled": true
   },
   "outputs": [
    {
     "name": "stdout",
     "output_type": "stream",
     "text": [
      "Requirement already satisfied: torch in c:\\users\\jthom\\anaconda3\\lib\\site-packages (1.12.1)\n",
      "Requirement already satisfied: typing-extensions in c:\\users\\jthom\\anaconda3\\lib\\site-packages (from torch) (4.1.1)\n"
     ]
    }
   ],
   "source": [
    "!pip install torch"
   ]
  },
  {
   "cell_type": "code",
   "execution_count": 22,
   "metadata": {
    "collapsed": true
   },
   "outputs": [
    {
     "name": "stdout",
     "output_type": "stream",
     "text": [
      "Requirement already satisfied: transformers[sentencepiece] in c:\\users\\jthom\\anaconda3\\lib\\site-packages (4.21.1)\n",
      "Requirement already satisfied: filelock in c:\\users\\jthom\\anaconda3\\lib\\site-packages (from transformers[sentencepiece]) (3.6.0)\n",
      "Requirement already satisfied: tqdm>=4.27 in c:\\users\\jthom\\anaconda3\\lib\\site-packages (from transformers[sentencepiece]) (4.64.0)\n",
      "Requirement already satisfied: regex!=2019.12.17 in c:\\users\\jthom\\anaconda3\\lib\\site-packages (from transformers[sentencepiece]) (2022.3.15)\n",
      "Requirement already satisfied: packaging>=20.0 in c:\\users\\jthom\\anaconda3\\lib\\site-packages (from transformers[sentencepiece]) (21.3)\n",
      "Requirement already satisfied: requests in c:\\users\\jthom\\anaconda3\\lib\\site-packages (from transformers[sentencepiece]) (2.27.1)\n",
      "Requirement already satisfied: huggingface-hub<1.0,>=0.1.0 in c:\\users\\jthom\\anaconda3\\lib\\site-packages (from transformers[sentencepiece]) (0.8.1)\n",
      "Requirement already satisfied: numpy>=1.17 in c:\\users\\jthom\\anaconda3\\lib\\site-packages (from transformers[sentencepiece]) (1.21.5)\n",
      "Requirement already satisfied: pyyaml>=5.1 in c:\\users\\jthom\\anaconda3\\lib\\site-packages (from transformers[sentencepiece]) (6.0)\n",
      "Requirement already satisfied: tokenizers!=0.11.3,<0.13,>=0.11.1 in c:\\users\\jthom\\anaconda3\\lib\\site-packages (from transformers[sentencepiece]) (0.12.1)\n",
      "Requirement already satisfied: sentencepiece!=0.1.92,>=0.1.91 in c:\\users\\jthom\\anaconda3\\lib\\site-packages (from transformers[sentencepiece]) (0.1.97)\n",
      "Requirement already satisfied: protobuf<=3.20.1 in c:\\users\\jthom\\anaconda3\\lib\\site-packages (from transformers[sentencepiece]) (3.19.1)\n",
      "Requirement already satisfied: typing-extensions>=3.7.4.3 in c:\\users\\jthom\\anaconda3\\lib\\site-packages (from huggingface-hub<1.0,>=0.1.0->transformers[sentencepiece]) (4.1.1)\n",
      "Requirement already satisfied: pyparsing!=3.0.5,>=2.0.2 in c:\\users\\jthom\\anaconda3\\lib\\site-packages (from packaging>=20.0->transformers[sentencepiece]) (3.0.4)\n",
      "Requirement already satisfied: colorama in c:\\users\\jthom\\anaconda3\\lib\\site-packages (from tqdm>=4.27->transformers[sentencepiece]) (0.4.4)\n",
      "Requirement already satisfied: certifi>=2017.4.17 in c:\\users\\jthom\\anaconda3\\lib\\site-packages (from requests->transformers[sentencepiece]) (2021.10.8)\n",
      "Requirement already satisfied: charset-normalizer~=2.0.0 in c:\\users\\jthom\\anaconda3\\lib\\site-packages (from requests->transformers[sentencepiece]) (2.0.4)\n",
      "Requirement already satisfied: idna<4,>=2.5 in c:\\users\\jthom\\anaconda3\\lib\\site-packages (from requests->transformers[sentencepiece]) (3.3)\n",
      "Requirement already satisfied: urllib3<1.27,>=1.21.1 in c:\\users\\jthom\\anaconda3\\lib\\site-packages (from requests->transformers[sentencepiece]) (1.26.9)\n"
     ]
    }
   ],
   "source": [
    "!pip install transformers[sentencepiece]"
   ]
  },
  {
   "cell_type": "markdown",
   "metadata": {},
   "source": [
    "## 4. O modelo de análise de sentimentos"
   ]
  },
  {
   "cell_type": "markdown",
   "metadata": {},
   "source": [
    "Neste projeto, optamos por utilizar um modelo pré-treinado para tweets em português a partir do **Transformer**. O modelo em específico pode ser encontrado na plataforma **Hugging Face** pelo nome de `twitter-xlm-roberta-base-sentiment`.</br>\n",
    "Seguindo sua documentação básica, basta inicializar o pipeline da forma abaixo."
   ]
  },
  {
   "cell_type": "code",
   "execution_count": 23,
   "metadata": {},
   "outputs": [],
   "source": [
    "from transformers import pipeline"
   ]
  },
  {
   "cell_type": "code",
   "execution_count": 24,
   "metadata": {},
   "outputs": [],
   "source": [
    "model_path = \"cardiffnlp/twitter-xlm-roberta-base-sentiment\"\n",
    "sentiment_task = pipeline(\"sentiment-analysis\", model=model_path, tokenizer=model_path)"
   ]
  },
  {
   "cell_type": "markdown",
   "metadata": {},
   "source": [
    "## 5. Pré-processamento"
   ]
  },
  {
   "cell_type": "markdown",
   "metadata": {},
   "source": [
    "Antes de começarmos a classificação de fato, optamos por excluir os nomes de usuários, substituir links por `http` e transformar todo o texto em caixa baixa durante o pré-processamento."
   ]
  },
  {
   "cell_type": "code",
   "execution_count": 25,
   "metadata": {},
   "outputs": [],
   "source": [
    "def pre_processamento(text):\n",
    "    new_text = []\n",
    "    for t in text.split(\" \"):\n",
    "        t = '' if t.startswith('@') and len(t) > 1 else t\n",
    "        t = 'http' if t.startswith('http') else t\n",
    "        t = '' if t.startswith('\\n') else t\n",
    "        new_text.append(t.lower())\n",
    "    return \" \".join(new_text)"
   ]
  },
  {
   "cell_type": "markdown",
   "metadata": {},
   "source": [
    "### 5.1 Tratando corpus para melhor identificação"
   ]
  },
  {
   "cell_type": "markdown",
   "metadata": {},
   "source": [
    "<p>Por se tratar de um contexto político muito específico, é necessário \"traduzir\" alguns tokens para sentimentos equivalentes. Assim, podemos ajudar de forma manual na classificação de cada resposta.</br>\n",
    "<p>Para isso, cada candidato possui 2 dicionários, um de apoio e outro de oposição, responsáveis por substituir o token à esquerda pelo da direita. Importante dizer que os tokens foram retirados de amostras dos mesmos tweets."
   ]
  },
  {
   "cell_type": "markdown",
   "metadata": {},
   "source": [
    "#### Dicionários - Ciro Gomes"
   ]
  },
  {
   "cell_type": "code",
   "execution_count": 93,
   "metadata": {},
   "outputs": [],
   "source": [
    "apoio_ciro = {\n",
    "    \"#prefirociro12\":\"concordo muito com ciro\",\n",
    "    \"#ciro12\":\"concordo muito com ciro\",\n",
    "    \"#cirocomandremarinho\":\"concordo muito com ciro\",\n",
    "    \"#cirocomandrémarinho\":\"concordo muito com ciro\",\n",
    "    \"#ciropresidente\":\"concordo muito com ciro\",\n",
    "    \"#prefirociro\":\"concordo muito com ciro\",\n",
    "    \"🌹\":\"concordo muito com o ciro\",\n",
    "    \"1️⃣2️⃣\":\"ciro\",\n",
    "    \"☝️✌️\":\"ciro\",\n",
    "    \"✅\":\"eu apoio\",\n",
    "    \"vou de ciro\":\"concordo muito com ciro\",\n",
    "    \"vou cravar ciro\":\"concordo muito com ciro\"\n",
    "}"
   ]
  },
  {
   "cell_type": "code",
   "execution_count": 94,
   "metadata": {},
   "outputs": [],
   "source": [
    "negacao_ciro = {    \n",
    "    \"🤮\":\"nojo \",\n",
    "    \"🤢\":\"nojo\",\n",
    "    \"💩\":\"horrível\",\n",
    "    \"1️⃣3️⃣\":\"lula \",\n",
    "    \"2️⃣2️⃣\":\"bolsonaro \",\n",
    "    \"#lulano1ºturno\":\"não gosto de você.\",\n",
    "    \"#bolsonaroreeleito\":\"não gosto de você.\",\n",
    "    \"#fechadocombolsonaro\":\"não gosto de você.\",\n",
    "    \"#capitaodopovoquevaivencerdenovo\":\"não gosto nada de você.\",\n",
    "    \"é bolsonaro!\":\"não gosto de você\",\n",
    "    \"bolsonaro 22\":\"não gosto de você.\",\n",
    "    \"lula eu apoio\":\"não gosto de você.\",\n",
    "    \"bolsonaro eu apoio\":\"não gosto de você.\",\n",
    "    \n",
    "    \"vou de lula\":\"não concordo com ciro.\",\n",
    "    \"vou cravar lula\":\"não concordo com ciro.\",\n",
    "    \"vou de bolsonaro\":\"não concordo com ciro.\",\n",
    "    \"vou cravar bolsonaro\":\"não concordo com ciro.\",\n",
    "    \"vou de 13\":\"não concordo com ciro.\",\n",
    "    \"vou cravar 13\":\"não concordo com ciro.\",\n",
    "    \"vou de 22\":\"não concordo com ciro.\",\n",
    "    \"vou cravar 22\":\"não concordo com ciro.\"\n",
    "}"
   ]
  },
  {
   "cell_type": "markdown",
   "metadata": {},
   "source": [
    "#### Dicionários - Lula"
   ]
  },
  {
   "cell_type": "code",
   "execution_count": 95,
   "metadata": {},
   "outputs": [],
   "source": [
    "apoio_lula = {\n",
    "    \"lulano1ºturno\":\"concordo muito com lula\",\n",
    "    \"1️⃣3️⃣\":\"lula \",\n",
    "    \"✅\":\"eu apoio\",\n",
    "    \"#lulapresidente\":\"concordo muito com lula\",\n",
    "    \"#prefirolula\":\"concordo muito com lula\",\n",
    "    \"vou de lula\":\"concordo muito com lula\",\n",
    "    \"vou cravar lula\":\"concordo muito com lula\",\n",
    "    \"lula 13\":\"eu apoio muito lula\"\n",
    "}"
   ]
  },
  {
   "cell_type": "code",
   "execution_count": 96,
   "metadata": {},
   "outputs": [],
   "source": [
    "negacao_lula = {\n",
    "    \"🌹\":\"não apoio você.\",\n",
    "    \"🤮\":\"nojo \",\n",
    "    \"🤢\":\"nojo\",\n",
    "    \"💩\":\"horrível\",\n",
    "    \"1️⃣2️⃣\":\"ciro \",\n",
    "    \"2️⃣2️⃣\":\"bolsonaro \",\n",
    "    \"☝️✌️\":\"ciro\",\n",
    "    \"#bolsonaroreeleito\":\"não gosto de você.\",\n",
    "    \"#fechadocombolsonaro\":\"não gosto de você.\",\n",
    "    \"#ocapitaovaivenceroladrao\":\"não gosto nada de você.\",\n",
    "    \"#lulanuncamais\":\"não apoiaria você de forma alguma.\",\n",
    "    \"#lulaladraoseulugarenaprisao\":\"odeio você.\",\n",
    "    \"#capitaodopovoquevaivencerdenovo\":\"não gosto nada de você.\",\n",
    "    \"#lularoubouobrasil\":\"lula roubou o brasil.\",\n",
    "    \"é bolsonaro!\":\"não gosto de você\",\n",
    "    \"bolsonaro 22\":\"não gosto de você.\",\n",
    "    \"ciro eu apoio\":\"não gosto de você.\",\n",
    "    \"bolsonaro eu apoio\":\"não gosto de você.\",\n",
    "    \"fora pt\":\"não aceito você.\",\n",
    "    \"lulaladrão\":\"ladrão\",\n",
    "    \"l@dr@o\":\"ladrão\",\n",
    "    \"l_a_d_r_ã_o\":\"ladrão\",\n",
    "    \"lula nunca mais\":\"jamais aceitarei lula\",\n",
    "    \"pt nunca mais\":\"jamais aceitarei o pt novamente\",\n",
    "    \"ptralha\":\"ruim\",\n",
    "    \n",
    "    \"vou de ciro\":\"não concordo com lula.\",\n",
    "    \"vou cravar ciro\":\"não concordo com lula.\",\n",
    "    \"vou de bolsonaro\":\"não concordo com lula.\",\n",
    "    \"vou cravar bolsonaro\":\"não concordo com lula.\",\n",
    "    \"vou de 12\":\"não concordo com lula.\",\n",
    "    \"vou cravar 12\":\"não concordo com lula.\",\n",
    "    \"vou de 22\":\"não concordo com lula.\",\n",
    "    \"vou cravar 22\":\"não concordo com lula.\"\n",
    "}"
   ]
  },
  {
   "cell_type": "markdown",
   "metadata": {},
   "source": [
    "#### Dicionários - Bolsonaro"
   ]
  },
  {
   "cell_type": "code",
   "execution_count": 97,
   "metadata": {},
   "outputs": [],
   "source": [
    "apoio_bolsonaro = {\n",
    "    \"2️⃣2️⃣\":\"bolsonaro \",\n",
    "    \"✅\":\"eu apoio\",\n",
    "    \"br👍\":\"concordo muito com bolsonaro\",\n",
    "    \"#bolsonaroreeleito\":\"concordo muito com bolsonaro.\",\n",
    "    \"#fechadocombolsonaro\":\"concordo muito com bolsonaro.\",\n",
    "    \"#ocapitaovaivenceroladrao\":\"concordo muito com bolsonaro.\",\n",
    "    \"#bolsonaronoprimeiroturno\":\"amo e apoio bolsonaro\",\n",
    "    \"b22\":\"eu apoio bolsonaro como presidente\",\n",
    "    \"é bolsonaro!\":\"concordo muito com bolsonaro\",\n",
    "    \"bolsonaro 22\":\"concordo muito com bolsonaro.\",    \n",
    "    \"bolsonaro eu apoio\":\"concordo muito com bolsonaro.\",\n",
    "    \"vou de bolsonaro\":\"concordo muito com bolsonaro\",\n",
    "    \"vou de 22\":\"concordo muito com bolsonaro\",\n",
    "    \"vou cravar bolsonaro\":\"concordo muito com bolsonaro\",\n",
    "    \"vou cravar 22\":\"concordo muito com bolsonaro\",\n",
    "    \"brasil acima de tudo\":\"concordo muito com o bolsonaro\",\n",
    "    \"deus acima de todos\":\"concordo muito com o bolsonaro\"\n",
    "}"
   ]
  },
  {
   "cell_type": "code",
   "execution_count": 124,
   "metadata": {},
   "outputs": [],
   "source": [
    "negacao_bolsonaro = {    \n",
    "    \"🤮\":\"nojo \",\n",
    "    \"🤢\":\"nojo\",\n",
    "    \"💩\":\"horrível\",\n",
    "    \"1️⃣3️⃣\":\"lula \",\n",
    "    \"1️⃣2️⃣\":\"ciro\",    \n",
    "    \"#lulano1ºturno\":\"não gosto de você.\",\n",
    "    \"#lulanoprimeiroturno\":\"não gosto de você.\",\n",
    "    \"lulapresidente13\":\"não gosto de você.\",\n",
    "    \"#bolsonaronacadeia\":\"bolsonaro merece ir para a cadeia\",\n",
    "    \"#chuchucadocentrao\":\"tchutchuca do centrão\",\n",
    "    \"#thuthucadocentrao\":\"tchutchuca do centrão\",\n",
    "    \"#tchutchucadocentrao\":\"tchutchuca do centrão\",\n",
    "    \"tchutchucão\":\"tchutchuca do centrão\",\n",
    "    \"tchutchuca do centrão\":\"escrava do centrão\",\n",
    "    \"bostanaristas\":\"apoiadores de político ruim\",\n",
    "    \"bostanarista\":\"apoiador de político ruim\",\n",
    "    \"22k\":\"tchutchuca do centrão\",\n",
    "    \"forabolsonaro\":\"odeio e não suporto bolsonaro\",\n",
    "    \"fora bolsonaro\":\"não suporto bolsonaro\",\n",
    "    \"lula eu apoio\":\"não gosto de você.\",\n",
    "    \"ciro eu apoio\":\"não gosto de você.\",    \n",
    "    \"vou de lula\":\"não concordo com bolsonaro.\",\n",
    "    \"vou cravar lula\":\"não concordo com bolsonaro.\",\n",
    "    \"vou de 13\":\"não concordo com bolsonaro.\",\n",
    "    \"vou cravar 13\":\"não concordo com bolsonaro.\",\n",
    "    \"vou de ciro\":\"não concordo com bolsonaro.\",\n",
    "    \"vou cravar ciro\":\"não concordo com bolsonaro.\",\n",
    "    \"vou de 12\":\"não concordo com bolsonaro.\",\n",
    "    \"vou cravar 12\":\"não concordo com bolsonaro.\",\n",
    "}"
   ]
  },
  {
   "cell_type": "markdown",
   "metadata": {},
   "source": [
    "Substitui tokens não classificáveis devido ao contexto por outros mais apropriados."
   ]
  },
  {
   "cell_type": "code",
   "execution_count": 99,
   "metadata": {},
   "outputs": [],
   "source": [
    "def replace_all(text, dic):\n",
    "    for i, j in dic.items():\n",
    "        text = text.replace(i, j)\n",
    "    return text"
   ]
  },
  {
   "cell_type": "markdown",
   "metadata": {},
   "source": [
    "## 6. Analisando sentimentos "
   ]
  },
  {
   "cell_type": "markdown",
   "metadata": {},
   "source": [
    "Retorna uma lista de dicionários já contendo a classificação de sentimentos.  \n",
    "**Parâmetros de entrada**:\n",
    ">**df_candidato**: dataframe pandas das respostas aos tweets de um determinado candidato,  \n",
    ">**dic_apoio**: dicionário de tokens de apoio,  \n",
    ">**dic_oposicao**: dicionário de tokens de oposição\n",
    "\n",
    "**Retorno**: \n",
    ">**author_id**: id do autor do tweet pai,  \n",
    ">**conversation_id**: id da thread,  \n",
    ">**created_at**: datetime de criação do tweet,  \n",
    ">**candidato**: nome do candidato a presidente,  \n",
    ">**id**: id do tweet de resposta,  \n",
    ">**texto_original**: texto original do tweet de resposta,  \n",
    ">**texto_tratado**: text tratado do tweet de resposta,  \n",
    ">**sentimento**: sentimento classificado em positivo, negativo ou neutro,  \n",
    ">**sentimento_score**: score entre 0 e 1 do sentimento classificado  "
   ]
  },
  {
   "cell_type": "code",
   "execution_count": 100,
   "metadata": {},
   "outputs": [],
   "source": [
    "def analisa_sentimentos(df_candidato, dic_apoio, dic_oposicao):\n",
    "    candidato_sentimentos = []\n",
    "    \n",
    "    for linha in df_candidato.iterrows():\n",
    "        l = list(linha)\n",
    "\n",
    "        tratamento = pre_processamento(l[1]['text'])\n",
    "        apoio = replace_all(tratamento, dic_apoio)\n",
    "        text = replace_all(apoio, dic_oposicao)\n",
    "        sentimento = sentiment_task(text)\n",
    "\n",
    "        dic = {\"author_id\": l[1]['author_id'],\n",
    "               \"conversation_id\": l[1]['conversation_id'],\n",
    "               \"created_at\": l[1]['created_at'],\n",
    "               \"candidato\": l[1]['candidato'],\n",
    "               \"id\": l[1]['id'],\n",
    "               \"texto_original\": l[1]['text'],           \n",
    "               \"texto_tratado\": text,\n",
    "               \"sentimento\": sentimento[0]['label'],\n",
    "               \"sentimento_score\": np.round(float(sentimento[0]['score']), 3)\n",
    "              }\n",
    "\n",
    "        candidato_sentimentos.append(dic)\n",
    "        \n",
    "    return candidato_sentimentos"
   ]
  },
  {
   "cell_type": "markdown",
   "metadata": {},
   "source": [
    "Calcula taxas de aprovação e rejeição de determinado candidato."
   ]
  },
  {
   "cell_type": "code",
   "execution_count": 101,
   "metadata": {},
   "outputs": [],
   "source": [
    "def calcula_taxas(df_sentimentos):\n",
    "    gb = df_sentimentos[['texto_tratado','sentimento']].groupby(['sentimento']).count().reset_index()\n",
    "    aprovacao = float(gb[gb['sentimento'] == 'Positive']['texto_tratado']/int(gb.sum()['texto_tratado']))\n",
    "    rejeicao = float(gb[gb['sentimento'] == 'Negative']['texto_tratado']/int(gb.sum()['texto_tratado']))\n",
    "\n",
    "    print(f\"Taxa de aprovação do candidato: {np.round(aprovacao*100,1)}%\")\n",
    "    print(f\"Taxa de rejeição do candidato: {np.round(rejeicao*100,1)}%\")"
   ]
  },
  {
   "cell_type": "markdown",
   "metadata": {},
   "source": [
    "### 6.1 Lula"
   ]
  },
  {
   "cell_type": "code",
   "execution_count": 105,
   "metadata": {
    "scrolled": true
   },
   "outputs": [
    {
     "data": {
      "text/html": [
       "<div>\n",
       "<style scoped>\n",
       "    .dataframe tbody tr th:only-of-type {\n",
       "        vertical-align: middle;\n",
       "    }\n",
       "\n",
       "    .dataframe tbody tr th {\n",
       "        vertical-align: top;\n",
       "    }\n",
       "\n",
       "    .dataframe thead th {\n",
       "        text-align: right;\n",
       "    }\n",
       "</style>\n",
       "<table border=\"1\" class=\"dataframe\">\n",
       "  <thead>\n",
       "    <tr style=\"text-align: right;\">\n",
       "      <th></th>\n",
       "      <th>author_id</th>\n",
       "      <th>conversation_id</th>\n",
       "      <th>created_at</th>\n",
       "      <th>candidato</th>\n",
       "      <th>id</th>\n",
       "      <th>texto_original</th>\n",
       "      <th>texto_tratado</th>\n",
       "      <th>sentimento</th>\n",
       "      <th>sentimento_score</th>\n",
       "    </tr>\n",
       "  </thead>\n",
       "  <tbody>\n",
       "    <tr>\n",
       "      <th>0</th>\n",
       "      <td>1555314824648822786</td>\n",
       "      <td>1560319888643719169</td>\n",
       "      <td>2022-08-19T01:28:21.000Z</td>\n",
       "      <td>lula</td>\n",
       "      <td>1560438485970042881</td>\n",
       "      <td>@LeonardoDeodoro @LulaOficial Cai em onda de P...</td>\n",
       "      <td>cai em onda de pt não</td>\n",
       "      <td>Negative</td>\n",
       "      <td>0.705</td>\n",
       "    </tr>\n",
       "    <tr>\n",
       "      <th>1</th>\n",
       "      <td>1555314824648822786</td>\n",
       "      <td>1560319888643719169</td>\n",
       "      <td>2022-08-19T01:27:39.000Z</td>\n",
       "      <td>lula</td>\n",
       "      <td>1560438309318545410</td>\n",
       "      <td>@LulaOficial Cala boca bandido https://t.co/4n...</td>\n",
       "      <td>cala boca bandido http</td>\n",
       "      <td>Negative</td>\n",
       "      <td>0.850</td>\n",
       "    </tr>\n",
       "    <tr>\n",
       "      <th>2</th>\n",
       "      <td>1109601156316254208</td>\n",
       "      <td>1560319888643719169</td>\n",
       "      <td>2022-08-19T01:26:29.000Z</td>\n",
       "      <td>lula</td>\n",
       "      <td>1560438018372210689</td>\n",
       "      <td>@LulaOficial Tá certo. Pensa que o povo é otário.</td>\n",
       "      <td>tá certo. pensa que o povo é otário.</td>\n",
       "      <td>Negative</td>\n",
       "      <td>0.858</td>\n",
       "    </tr>\n",
       "    <tr>\n",
       "      <th>3</th>\n",
       "      <td>1334214409170849796</td>\n",
       "      <td>1560319888643719169</td>\n",
       "      <td>2022-08-19T01:23:58.000Z</td>\n",
       "      <td>lula</td>\n",
       "      <td>1560437383216173056</td>\n",
       "      <td>@Laura_livia123 @XRZTIMO @LulaOficial kkkkkkkk...</td>\n",
       "      <td>kkkkkkkkkkkkkkkkkkkkkkkk</td>\n",
       "      <td>Neutral</td>\n",
       "      <td>0.519</td>\n",
       "    </tr>\n",
       "    <tr>\n",
       "      <th>4</th>\n",
       "      <td>1518923220942004229</td>\n",
       "      <td>1560319888643719169</td>\n",
       "      <td>2022-08-19T01:23:57.000Z</td>\n",
       "      <td>lula</td>\n",
       "      <td>1560437378858340353</td>\n",
       "      <td>@LeonardoDeodoro @LulaOficial Manteve diálogos...</td>\n",
       "      <td>manteve diálogos \"cabulosos\" com traficantes...</td>\n",
       "      <td>Negative</td>\n",
       "      <td>0.609</td>\n",
       "    </tr>\n",
       "  </tbody>\n",
       "</table>\n",
       "</div>"
      ],
      "text/plain": [
       "             author_id      conversation_id                created_at  \\\n",
       "0  1555314824648822786  1560319888643719169  2022-08-19T01:28:21.000Z   \n",
       "1  1555314824648822786  1560319888643719169  2022-08-19T01:27:39.000Z   \n",
       "2  1109601156316254208  1560319888643719169  2022-08-19T01:26:29.000Z   \n",
       "3  1334214409170849796  1560319888643719169  2022-08-19T01:23:58.000Z   \n",
       "4  1518923220942004229  1560319888643719169  2022-08-19T01:23:57.000Z   \n",
       "\n",
       "  candidato                   id  \\\n",
       "0      lula  1560438485970042881   \n",
       "1      lula  1560438309318545410   \n",
       "2      lula  1560438018372210689   \n",
       "3      lula  1560437383216173056   \n",
       "4      lula  1560437378858340353   \n",
       "\n",
       "                                      texto_original  \\\n",
       "0  @LeonardoDeodoro @LulaOficial Cai em onda de P...   \n",
       "1  @LulaOficial Cala boca bandido https://t.co/4n...   \n",
       "2  @LulaOficial Tá certo. Pensa que o povo é otário.   \n",
       "3  @Laura_livia123 @XRZTIMO @LulaOficial kkkkkkkk...   \n",
       "4  @LeonardoDeodoro @LulaOficial Manteve diálogos...   \n",
       "\n",
       "                                       texto_tratado sentimento  \\\n",
       "0                              cai em onda de pt não   Negative   \n",
       "1                             cala boca bandido http   Negative   \n",
       "2               tá certo. pensa que o povo é otário.   Negative   \n",
       "3                           kkkkkkkkkkkkkkkkkkkkkkkk    Neutral   \n",
       "4    manteve diálogos \"cabulosos\" com traficantes...   Negative   \n",
       "\n",
       "   sentimento_score  \n",
       "0             0.705  \n",
       "1             0.850  \n",
       "2             0.858  \n",
       "3             0.519  \n",
       "4             0.609  "
      ]
     },
     "execution_count": 105,
     "metadata": {},
     "output_type": "execute_result"
    }
   ],
   "source": [
    "lula_sentimentos = analisa_sentimentos(replies_lula, apoio_lula, negacao_lula)\n",
    "lula_model = pd.DataFrame.from_records(lula_sentimentos)\n",
    "# retira respostas feitas apenas com links\n",
    "lula_model = lula_model[lula_model.texto_tratado != ' http'].reset_index().drop(columns='index')\n",
    "lula_model.head()"
   ]
  },
  {
   "cell_type": "markdown",
   "metadata": {},
   "source": [
    "### 6.1.1 Visualização da análise de sentimentos para Lula"
   ]
  },
  {
   "cell_type": "code",
   "execution_count": 106,
   "metadata": {
    "scrolled": false
   },
   "outputs": [
    {
     "data": {
      "text/plain": [
       "<AxesSubplot:xlabel='sentimento', ylabel='count'>"
      ]
     },
     "execution_count": 106,
     "metadata": {},
     "output_type": "execute_result"
    },
    {
     "data": {
      "image/png": "[encoded data removed]",
      "text/plain": [
       "<Figure size 432x288 with 1 Axes>"
      ]
     },
     "metadata": {
      "needs_background": "light"
     },
     "output_type": "display_data"
    }
   ],
   "source": [
    "sns.countplot(x = lula_model['sentimento'])"
   ]
  },
  {
   "cell_type": "markdown",
   "metadata": {},
   "source": [
    "### 6.1.2 Taxas de aprovação e rejeição: Lula"
   ]
  },
  {
   "cell_type": "code",
   "execution_count": 107,
   "metadata": {
    "scrolled": true
   },
   "outputs": [
    {
     "name": "stdout",
     "output_type": "stream",
     "text": [
      "Taxa de aprovação do candidato: 10.0%\n",
      "Taxa de rejeição do candidato: 50.9%\n"
     ]
    }
   ],
   "source": [
    "calcula_taxas(lula_model)"
   ]
  },
  {
   "cell_type": "markdown",
   "metadata": {},
   "source": [
    "### 6.2 Ciro Gomes"
   ]
  },
  {
   "cell_type": "code",
   "execution_count": 108,
   "metadata": {},
   "outputs": [
    {
     "data": {
      "text/html": [
       "<div>\n",
       "<style scoped>\n",
       "    .dataframe tbody tr th:only-of-type {\n",
       "        vertical-align: middle;\n",
       "    }\n",
       "\n",
       "    .dataframe tbody tr th {\n",
       "        vertical-align: top;\n",
       "    }\n",
       "\n",
       "    .dataframe thead th {\n",
       "        text-align: right;\n",
       "    }\n",
       "</style>\n",
       "<table border=\"1\" class=\"dataframe\">\n",
       "  <thead>\n",
       "    <tr style=\"text-align: right;\">\n",
       "      <th></th>\n",
       "      <th>author_id</th>\n",
       "      <th>conversation_id</th>\n",
       "      <th>created_at</th>\n",
       "      <th>candidato</th>\n",
       "      <th>id</th>\n",
       "      <th>texto_original</th>\n",
       "      <th>texto_tratado</th>\n",
       "      <th>sentimento</th>\n",
       "      <th>sentimento_score</th>\n",
       "    </tr>\n",
       "  </thead>\n",
       "  <tbody>\n",
       "    <tr>\n",
       "      <th>0</th>\n",
       "      <td>2557532220</td>\n",
       "      <td>1560439246913257475</td>\n",
       "      <td>2022-08-19T01:46:41.000Z</td>\n",
       "      <td>ciro</td>\n",
       "      <td>1560443100576862209</td>\n",
       "      <td>@Juninho_Ebersol @cirogomes @AndreMarinho E aí...</td>\n",
       "      <td>e aí ele vai lá e debate, conversa, se expõ...</td>\n",
       "      <td>Negative</td>\n",
       "      <td>0.454</td>\n",
       "    </tr>\n",
       "    <tr>\n",
       "      <th>1</th>\n",
       "      <td>163749471</td>\n",
       "      <td>1560439246913257475</td>\n",
       "      <td>2022-08-19T01:46:12.000Z</td>\n",
       "      <td>ciro</td>\n",
       "      <td>1560442980359618560</td>\n",
       "      <td>@cirogomes @AndreMarinho Que fase, hein...</td>\n",
       "      <td>que fase, hein...</td>\n",
       "      <td>Negative</td>\n",
       "      <td>0.836</td>\n",
       "    </tr>\n",
       "    <tr>\n",
       "      <th>2</th>\n",
       "      <td>1057378799321522178</td>\n",
       "      <td>1560439246913257475</td>\n",
       "      <td>2022-08-19T01:45:43.000Z</td>\n",
       "      <td>ciro</td>\n",
       "      <td>1560442856673869824</td>\n",
       "      <td>@cirogomes @AndreMarinho Alckmin e Lula. Versã...</td>\n",
       "      <td>alckmin e lula. versão \"ninguém liga\"</td>\n",
       "      <td>Neutral</td>\n",
       "      <td>0.548</td>\n",
       "    </tr>\n",
       "    <tr>\n",
       "      <th>3</th>\n",
       "      <td>47700524</td>\n",
       "      <td>1560439246913257475</td>\n",
       "      <td>2022-08-19T01:43:10.000Z</td>\n",
       "      <td>ciro</td>\n",
       "      <td>1560442214395830273</td>\n",
       "      <td>@cirogomes @AndreMarinho Foi muito bom. Não pr...</td>\n",
       "      <td>foi muito bom. não precisava nem ter partici...</td>\n",
       "      <td>Positive</td>\n",
       "      <td>0.836</td>\n",
       "    </tr>\n",
       "    <tr>\n",
       "      <th>4</th>\n",
       "      <td>73403327</td>\n",
       "      <td>1560439246913257475</td>\n",
       "      <td>2022-08-19T01:42:47.000Z</td>\n",
       "      <td>ciro</td>\n",
       "      <td>1560442120258953219</td>\n",
       "      <td>@cirogomes @AndreMarinho #CiroPresidente12</td>\n",
       "      <td>concordo muito com ciro12</td>\n",
       "      <td>Positive</td>\n",
       "      <td>0.540</td>\n",
       "    </tr>\n",
       "  </tbody>\n",
       "</table>\n",
       "</div>"
      ],
      "text/plain": [
       "             author_id      conversation_id                created_at  \\\n",
       "0           2557532220  1560439246913257475  2022-08-19T01:46:41.000Z   \n",
       "1            163749471  1560439246913257475  2022-08-19T01:46:12.000Z   \n",
       "2  1057378799321522178  1560439246913257475  2022-08-19T01:45:43.000Z   \n",
       "3             47700524  1560439246913257475  2022-08-19T01:43:10.000Z   \n",
       "4             73403327  1560439246913257475  2022-08-19T01:42:47.000Z   \n",
       "\n",
       "  candidato                   id  \\\n",
       "0      ciro  1560443100576862209   \n",
       "1      ciro  1560442980359618560   \n",
       "2      ciro  1560442856673869824   \n",
       "3      ciro  1560442214395830273   \n",
       "4      ciro  1560442120258953219   \n",
       "\n",
       "                                      texto_original  \\\n",
       "0  @Juninho_Ebersol @cirogomes @AndreMarinho E aí...   \n",
       "1         @cirogomes @AndreMarinho Que fase, hein...   \n",
       "2  @cirogomes @AndreMarinho Alckmin e Lula. Versã...   \n",
       "3  @cirogomes @AndreMarinho Foi muito bom. Não pr...   \n",
       "4         @cirogomes @AndreMarinho #CiroPresidente12   \n",
       "\n",
       "                                       texto_tratado sentimento  \\\n",
       "0     e aí ele vai lá e debate, conversa, se expõ...   Negative   \n",
       "1                                  que fase, hein...   Negative   \n",
       "2              alckmin e lula. versão \"ninguém liga\"    Neutral   \n",
       "3    foi muito bom. não precisava nem ter partici...   Positive   \n",
       "4                          concordo muito com ciro12   Positive   \n",
       "\n",
       "   sentimento_score  \n",
       "0             0.454  \n",
       "1             0.836  \n",
       "2             0.548  \n",
       "3             0.836  \n",
       "4             0.540  "
      ]
     },
     "execution_count": 108,
     "metadata": {},
     "output_type": "execute_result"
    }
   ],
   "source": [
    "ciro_sentimentos = analisa_sentimentos(replies_ciro, apoio_ciro, negacao_ciro)\n",
    "ciro_model = pd.DataFrame.from_records(ciro_sentimentos)\n",
    "# retira respostas feitas apenas com links\n",
    "ciro_model = ciro_model[ciro_model.texto_tratado != ' http'].reset_index().drop(columns='index')\n",
    "ciro_model.head()"
   ]
  },
  {
   "cell_type": "markdown",
   "metadata": {},
   "source": [
    "### 6.2.1 Visualização da análise de sentimentos para Ciro"
   ]
  },
  {
   "cell_type": "code",
   "execution_count": 109,
   "metadata": {
    "scrolled": false
   },
   "outputs": [
    {
     "data": {
      "text/plain": [
       "<AxesSubplot:xlabel='sentimento', ylabel='count'>"
      ]
     },
     "execution_count": 109,
     "metadata": {},
     "output_type": "execute_result"
    },
    {
     "data": {
      "image/png": "[encoded data removed]",
      "text/plain": [
       "<Figure size 432x288 with 1 Axes>"
      ]
     },
     "metadata": {
      "needs_background": "light"
     },
     "output_type": "display_data"
    }
   ],
   "source": [
    "sns.countplot(x = ciro_model['sentimento'])"
   ]
  },
  {
   "cell_type": "markdown",
   "metadata": {},
   "source": [
    "### 6.2.2 Taxas de aprovação e rejeição: Ciro Gomes"
   ]
  },
  {
   "cell_type": "code",
   "execution_count": 110,
   "metadata": {},
   "outputs": [
    {
     "name": "stdout",
     "output_type": "stream",
     "text": [
      "Taxa de aprovação do candidato: 19.8%\n",
      "Taxa de rejeição do candidato: 45.4%\n"
     ]
    }
   ],
   "source": [
    "calcula_taxas(ciro_model)"
   ]
  },
  {
   "cell_type": "markdown",
   "metadata": {},
   "source": [
    "### 6.3 Bolsonaro"
   ]
  },
  {
   "cell_type": "code",
   "execution_count": 125,
   "metadata": {},
   "outputs": [
    {
     "data": {
      "text/html": [
       "<div>\n",
       "<style scoped>\n",
       "    .dataframe tbody tr th:only-of-type {\n",
       "        vertical-align: middle;\n",
       "    }\n",
       "\n",
       "    .dataframe tbody tr th {\n",
       "        vertical-align: top;\n",
       "    }\n",
       "\n",
       "    .dataframe thead th {\n",
       "        text-align: right;\n",
       "    }\n",
       "</style>\n",
       "<table border=\"1\" class=\"dataframe\">\n",
       "  <thead>\n",
       "    <tr style=\"text-align: right;\">\n",
       "      <th></th>\n",
       "      <th>author_id</th>\n",
       "      <th>conversation_id</th>\n",
       "      <th>created_at</th>\n",
       "      <th>candidato</th>\n",
       "      <th>id</th>\n",
       "      <th>texto_original</th>\n",
       "      <th>texto_tratado</th>\n",
       "      <th>sentimento</th>\n",
       "      <th>sentimento_score</th>\n",
       "    </tr>\n",
       "  </thead>\n",
       "  <tbody>\n",
       "    <tr>\n",
       "      <th>0</th>\n",
       "      <td>1400878201191141390</td>\n",
       "      <td>1560437395681689600</td>\n",
       "      <td>2022-08-19T01:42:37.000Z</td>\n",
       "      <td>bolsonaro</td>\n",
       "      <td>1560442076352987138</td>\n",
       "      <td>@MarceloPoa4 @jairbolsonaro AMÉM 🙏🙏</td>\n",
       "      <td>amém 🙏🙏</td>\n",
       "      <td>Positive</td>\n",
       "      <td>0.694</td>\n",
       "    </tr>\n",
       "    <tr>\n",
       "      <th>1</th>\n",
       "      <td>1545575382031769600</td>\n",
       "      <td>1560437395681689600</td>\n",
       "      <td>2022-08-19T01:42:31.000Z</td>\n",
       "      <td>bolsonaro</td>\n",
       "      <td>1560442052441243648</td>\n",
       "      <td>@gagacatolica @Doprimido2 @jairbolsonaro Tem s...</td>\n",
       "      <td>tem sempre um f..d@pu_ta para estragar e vc...</td>\n",
       "      <td>Negative</td>\n",
       "      <td>0.570</td>\n",
       "    </tr>\n",
       "    <tr>\n",
       "      <th>2</th>\n",
       "      <td>1067157182897098767</td>\n",
       "      <td>1560437395681689600</td>\n",
       "      <td>2022-08-19T01:42:31.000Z</td>\n",
       "      <td>bolsonaro</td>\n",
       "      <td>1560442051568836611</td>\n",
       "      <td>@hleplr @jairbolsonaro Carluxo e seus Bots</td>\n",
       "      <td>carluxo e seus bots</td>\n",
       "      <td>Negative</td>\n",
       "      <td>0.760</td>\n",
       "    </tr>\n",
       "    <tr>\n",
       "      <th>3</th>\n",
       "      <td>785643305702944768</td>\n",
       "      <td>1560437395681689600</td>\n",
       "      <td>2022-08-19T01:42:16.000Z</td>\n",
       "      <td>bolsonaro</td>\n",
       "      <td>1560441987626565637</td>\n",
       "      <td>@jairbolsonaro 💚💛💚💛💚💛💚💛</td>\n",
       "      <td>💚💛💚💛💚💛💚💛</td>\n",
       "      <td>Positive</td>\n",
       "      <td>0.458</td>\n",
       "    </tr>\n",
       "    <tr>\n",
       "      <th>4</th>\n",
       "      <td>1328552409765965825</td>\n",
       "      <td>1560437395681689600</td>\n",
       "      <td>2022-08-19T01:42:09.000Z</td>\n",
       "      <td>bolsonaro</td>\n",
       "      <td>1560441958870536193</td>\n",
       "      <td>@jairbolsonaro A tchutchuca está desesperada m...</td>\n",
       "      <td>a tchutchuca está desesperada mesmo, até fing...</td>\n",
       "      <td>Negative</td>\n",
       "      <td>0.922</td>\n",
       "    </tr>\n",
       "  </tbody>\n",
       "</table>\n",
       "</div>"
      ],
      "text/plain": [
       "             author_id      conversation_id                created_at  \\\n",
       "0  1400878201191141390  1560437395681689600  2022-08-19T01:42:37.000Z   \n",
       "1  1545575382031769600  1560437395681689600  2022-08-19T01:42:31.000Z   \n",
       "2  1067157182897098767  1560437395681689600  2022-08-19T01:42:31.000Z   \n",
       "3   785643305702944768  1560437395681689600  2022-08-19T01:42:16.000Z   \n",
       "4  1328552409765965825  1560437395681689600  2022-08-19T01:42:09.000Z   \n",
       "\n",
       "   candidato                   id  \\\n",
       "0  bolsonaro  1560442076352987138   \n",
       "1  bolsonaro  1560442052441243648   \n",
       "2  bolsonaro  1560442051568836611   \n",
       "3  bolsonaro  1560441987626565637   \n",
       "4  bolsonaro  1560441958870536193   \n",
       "\n",
       "                                      texto_original  \\\n",
       "0                @MarceloPoa4 @jairbolsonaro AMÉM 🙏🙏   \n",
       "1  @gagacatolica @Doprimido2 @jairbolsonaro Tem s...   \n",
       "2         @hleplr @jairbolsonaro Carluxo e seus Bots   \n",
       "3                            @jairbolsonaro 💚💛💚💛💚💛💚💛   \n",
       "4  @jairbolsonaro A tchutchuca está desesperada m...   \n",
       "\n",
       "                                       texto_tratado sentimento  \\\n",
       "0                                            amém 🙏🙏   Positive   \n",
       "1     tem sempre um f..d@pu_ta para estragar e vc...   Negative   \n",
       "2                                carluxo e seus bots   Negative   \n",
       "3                                           💚💛💚💛💚💛💚💛   Positive   \n",
       "4   a tchutchuca está desesperada mesmo, até fing...   Negative   \n",
       "\n",
       "   sentimento_score  \n",
       "0             0.694  \n",
       "1             0.570  \n",
       "2             0.760  \n",
       "3             0.458  \n",
       "4             0.922  "
      ]
     },
     "execution_count": 125,
     "metadata": {},
     "output_type": "execute_result"
    }
   ],
   "source": [
    "bolsonaro_sentimentos = analisa_sentimentos(replies_bolsonaro, apoio_bolsonaro, negacao_bolsonaro)\n",
    "bolsonaro_model = pd.DataFrame.from_records(bolsonaro_sentimentos)\n",
    "# retira respostas feitas apenas com links\n",
    "bolsonaro_model = bolsonaro_model[bolsonaro_model.texto_tratado != ' http'].reset_index().drop(columns='index')\n",
    "bolsonaro_model.head()"
   ]
  },
  {
   "cell_type": "markdown",
   "metadata": {},
   "source": [
    "### 6.3.1 Visualização da análise de sentimentos para Bolsonaro"
   ]
  },
  {
   "cell_type": "code",
   "execution_count": 126,
   "metadata": {
    "scrolled": true
   },
   "outputs": [
    {
     "data": {
      "text/plain": [
       "<AxesSubplot:xlabel='sentimento', ylabel='count'>"
      ]
     },
     "execution_count": 126,
     "metadata": {},
     "output_type": "execute_result"
    },
    {
     "data": {
      "image/png": "[encoded data removed]",
      "text/plain": [
       "<Figure size 432x288 with 1 Axes>"
      ]
     },
     "metadata": {
      "needs_background": "light"
     },
     "output_type": "display_data"
    }
   ],
   "source": [
    "sns.countplot(x = bolsonaro_model['sentimento'])"
   ]
  },
  {
   "cell_type": "markdown",
   "metadata": {},
   "source": [
    "### 6.2.2 Taxas de aprovação e rejeição: Ciro Gomes"
   ]
  },
  {
   "cell_type": "code",
   "execution_count": 127,
   "metadata": {},
   "outputs": [
    {
     "name": "stdout",
     "output_type": "stream",
     "text": [
      "Taxa de aprovação do candidato: 17.9%\n",
      "Taxa de rejeição do candidato: 49.3%\n"
     ]
    }
   ],
   "source": [
    "calcula_taxas(bolsonaro_model)"
   ]
  },
  {
   "cell_type": "markdown",
   "metadata": {},
   "source": [
    "## 7. Conclusão da Análise de Sentimentos"
   ]
  },
  {
   "cell_type": "markdown",
   "metadata": {},
   "source": [
    "<p>A interpretação de texto não é uma tarefa trivial para humanos, assim como não é para algoritmos de PLN. Sendo assim, não é uma tarefa simples classificar tweets em positivos ou negativos, pois estamos lidando com vícios de linguagem, sarcasmo, ironias, diferentes interpretações e, neste caso, um contexto socio-político muito forte da situação brasileira da última década.\n",
    "<p>Considerando os resultados que extraímos, é possível notar a forte rejeição a todos os candidatos que apresentamos. Reflexo dos acontecimentos dos últimos anos que corroboram com a imagem de desconfiança para com políticos. \n",
    "<p>Dentro os 3 presidenciáveis, <b>Ciro Gomes possui a maior taxa de aprovação</b> e a <b>menor taxa de rejeição</b>, mas isso não necessariamente reflete os resultados das eleições, pois Ciro possui o menor número de eleitores entre os três candidatos. Apenas enfatiza que dentro desta bolha social (Twitter), os usuários que interagem com seus posts o fazem mais positivamente do que os usuários dos demais políticos."
   ]
  },
  {
   "cell_type": "markdown",
   "metadata": {},
   "source": [
    "## 8. Possíveis melhorias na Análise de Sentimentos\n",
    "### Tratamento para falsos positivos\n",
    "<p>Ao responder o tweet de um candidato, é comum que os eleitores afirmem apoio a outro presidenciável. Nesses casos, a classificação de sentimento daquela resposta em si pode ser positiva para o candidato que ele apoia, mas negativa para o dono do tweet.\n",
    "<p>Sendo assim, optamos por inverter o sentimento. O tratamento fica nítido no caso abaixo, em que o usuário responde ao Ciro Gomes:"
   ]
  },
  {
   "cell_type": "code",
   "execution_count": 128,
   "metadata": {},
   "outputs": [
    {
     "data": {
      "text/plain": [
       "[{'label': 'Positive', 'score': 0.8678022027015686}]"
      ]
     },
     "execution_count": 128,
     "metadata": {},
     "output_type": "execute_result"
    }
   ],
   "source": [
    "sentiment_task(\"Lula vai trazer amor e paz e todos vão amanhecer felizes por voltarem a sonhar\")"
   ]
  },
  {
   "cell_type": "markdown",
   "metadata": {},
   "source": [
    "É claramente um sentimento positivo, mas direcionado ao Lula. Como se trata de outro candidato, a classificação se tornaria negativa através de um possível tratamento."
   ]
  }
 ],
 "metadata": {
  "colab": {
   "collapsed_sections": [],
   "name": "Projeto2-PLN.ipynb",
   "provenance": []
  },
  "interpreter": {
   "hash": "916dbcbb3f70747c44a77c7bcd40155683ae19c65e1c03b4aa3499c5328201f1"
  },
  "kernelspec": {
   "display_name": "Python 3 (ipykernel)",
   "language": "python",
   "name": "python3"
  },
  "language_info": {
   "codemirror_mode": {
    "name": "ipython",
    "version": 3
   },
   "file_extension": ".py",
   "mimetype": "text/x-python",
   "name": "python",
   "nbconvert_exporter": "python",
   "pygments_lexer": "ipython3",
   "version": "3.9.12"
  }
 },
 "nbformat": 4,
 "nbformat_minor": 1
}
