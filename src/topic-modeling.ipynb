{
 "cells": [
  {
   "cell_type": "code",
   "execution_count": 2,
   "metadata": {},
   "outputs": [
    {
     "name": "stderr",
     "output_type": "stream",
     "text": [
      "/home/rodrigo98rm/.local/lib/python3.10/site-packages/tqdm/auto.py:22: TqdmWarning: IProgress not found. Please update jupyter and ipywidgets. See https://ipywidgets.readthedocs.io/en/stable/user_install.html\n",
      "  from .autonotebook import tqdm as notebook_tqdm\n"
     ]
    }
   ],
   "source": [
    "import re\n",
    "import pandas as pd\n",
    "import json\n",
    "import numpy as np\n",
    "import seaborn as sns\n",
    "from bertopic import BERTopic"
   ]
  },
  {
   "cell_type": "code",
   "execution_count": 52,
   "metadata": {},
   "outputs": [
    {
     "name": "stdout",
     "output_type": "stream",
     "text": [
      "Número de tweets: 300\n",
      "\n",
      "      author_id      conversation_id                created_at  \\\n",
      "8    2670726740  1560216543895719936 2022-08-18 10:46:26+00:00   \n",
      "225   128372940  1559476614760628224 2022-08-16 09:46:13+00:00   \n",
      "145    33374761  1559633242550050816 2022-08-16 20:08:38+00:00   \n",
      "138    33374761  1559975507726372864 2022-08-17 18:48:38+00:00   \n",
      "264   128372940  1557122679328620544 2022-08-09 21:52:31+00:00   \n",
      "\n",
      "                                                  text                   id  \\\n",
      "8    RT @alexandrekalil: Bom dia, gente. Hoje tem @...  1560216543895719936   \n",
      "225  . Cornélio Procópio/PR: 343,7 kg do entorpecen...  1559476616320925696   \n",
      "145  🤷‍♂️ Afinal, nada mais justo que eles paguem u...  1559633252889026560   \n",
      "138  Quando o discurso da esquerda se assemelha ao ...  1559975507726372864   \n",
      "264  - Só os investimentos já garantidos nos último...  1557122681648054272   \n",
      "\n",
      "     candidato  \n",
      "8         lula  \n",
      "225  bolsonaro  \n",
      "145       ciro  \n",
      "138       ciro  \n",
      "264  bolsonaro  \n"
     ]
    }
   ],
   "source": [
    "def df_tweets_candidatos(json_filename):\n",
    "    df = pd.read_json(json_filename).drop(columns = ['replies'])\n",
    "    return df\n",
    "\n",
    "tweets = df_tweets_candidatos('./datasets/dataset.json')\n",
    "\n",
    "\n",
    "# Adicionar nomes dos candidatos no dataframe\n",
    "for index, row in tweets.iterrows():\n",
    "    candidato = ''\n",
    "    match row.author_id:\n",
    "        case 2670726740:\n",
    "            candidato = 'lula'\n",
    "        case 128372940:\n",
    "            candidato = 'bolsonaro'\n",
    "        case 33374761:\n",
    "            candidato = 'ciro'\n",
    "        case _:\n",
    "            candidato: 'n/d'\n",
    "    tweets.at[index, 'candidato'] = candidato\n",
    "\n",
    "# Embaralhar tweets\n",
    "tweets = tweets.sample(frac=1)\n",
    "        \n",
    "\n",
    "print(f'Número de tweets: {len(tweets)}\\n')\n",
    "print(tweets.head())"
   ]
  },
  {
   "cell_type": "code",
   "execution_count": 53,
   "metadata": {},
   "outputs": [
    {
     "name": "stderr",
     "output_type": "stream",
     "text": [
      "Batches: 100%|██████████| 10/10 [00:07<00:00,  1.38it/s]\n",
      "2022-08-23 18:00:00,790 - BERTopic - Transformed documents to Embeddings\n",
      "2022-08-23 18:00:02,148 - BERTopic - Reduced dimensionality\n",
      "2022-08-23 18:00:02,175 - BERTopic - Clustered reduced embeddings\n"
     ]
    }
   ],
   "source": [
    "# create model \n",
    "model = BERTopic(language=\"multilingual\", verbose=True, min_topic_size=3, top_n_words=10, calculate_probabilities=True)\n",
    "\n",
    "# convert to list \n",
    "docs = tweets.text.to_list()\n",
    " \n",
    "tweets_topic, probabilities = model.fit_transform(docs)"
   ]
  },
  {
   "cell_type": "markdown",
   "metadata": {},
   "source": [
    "Adicionar no dataframe o tópico identificado para cada tweet"
   ]
  },
  {
   "cell_type": "code",
   "execution_count": 55,
   "metadata": {},
   "outputs": [
    {
     "name": "stdout",
     "output_type": "stream",
     "text": [
      "[-1, 22, -1, 9, 13, -1, 1, 6, 23, 19, 2, 10, 6, 21, 20, 2, 0, 9, -1, -1, -1, -1, 6, 9, 11, 0, -1, 15, 0, 9, 7, 17, 7, 13, 15, 5, 19, 1, 18, 16, 14, -1, 3, -1, 10, 4, -1, 0, 16, 21, 0, 10, 13, 0, 6, 3, 2, 17, 10, -1, -1, 17, 12, -1, -1, 18, 0, 3, 9, 13, 9, 0, 10, 7, 3, 2, 0, -1, 7, 4, 5, 2, 3, 7, 7, -1, 17, 10, 21, 2, -1, -1, 0, -1, 18, -1, 2, -1, 19, 18, 14, 1, -1, 13, -1, 9, 6, 17, 18, 1, -1, 12, -1, 2, -1, -1, -1, -1, 4, -1, 15, 1, 10, 4, 0, 1, 3, 5, 1, -1, 11, 0, 14, 5, -1, 3, 4, 2, -1, 17, -1, 7, 12, 8, 20, 7, -1, 2, 14, 20, 12, 21, 20, 12, 0, 1, 6, -1, 2, 11, 8, 12, 2, 3, 4, 5, 4, 11, 5, 0, 5, -1, 6, 0, 12, 1, 0, 8, 8, -1, 3, 10, 5, 8, 1, -1, 6, 0, 8, 19, 14, 3, 6, 16, 6, 22, -1, 11, 5, 0, -1, 0, 11, -1, 22, 15, -1, 12, 3, 1, 19, 6, 11, 4, 23, 0, 16, 13, 4, 10, 6, -1, 17, -1, 1, -1, 2, 15, 5, 4, 19, -1, 4, 7, 13, 20, 3, 22, 5, 9, 16, 20, -1, -1, 23, -1, -1, 12, -1, -1, 11, 5, -1, 9, 4, 8, 0, 0, 16, 7, -1, -1, 4, 8, 0, -1, -1, -1, 1, 8, 1, 15, 13, -1, 3, 3, 14, -1, 7, -1, 8, -1, -1, 7, 2, 18, -1, -1, 14, 5, 4, 5, 2, 1, 11, 16, 3, 15, -1, 21]\n",
      "['-1_que_ciro_de_não', '0_https_co_disponível_tiktok', '1_08_2022_giro_https', '2_redução_de_em_país', '3_programa_renda_de_mínima', '4_brasildaesperança_co_https_brasil', '5_brasil_país_vamos_esperança', '6_lula_equipelula_co_https', '7_recuperar_brasil_para_empregos', '8_governador_estarei_nosso_em', '9_deus_se_você_cristãos', '10_eu_voto_eleição_falar', '11_gente_seja_que_gerar', '12_audiência_espectadores_veio_cirocomandrémarinho', '13_ano_ton_safra_de', '14_melhor_pais_dia_jô', '15_bolsonaro_jair_pai_teu', '16_sobre_ciro_cironorodaviva_responde', '17_reeleição_que_um_democracia', '18_app_cirão_yogabrlelinhell_mr78gncvzo', '19_ele_bolsonaro_mentiras_porque', '20_está_corrupção_errado_melhora', '21_saudades_carta_democracia_cuba', '22_kg_maconha_de_vidas', '23_ao_servir_povo_fome']\n"
     ]
    },
    {
     "data": {
      "text/html": [
       "<div>\n",
       "<style scoped>\n",
       "    .dataframe tbody tr th:only-of-type {\n",
       "        vertical-align: middle;\n",
       "    }\n",
       "\n",
       "    .dataframe tbody tr th {\n",
       "        vertical-align: top;\n",
       "    }\n",
       "\n",
       "    .dataframe thead th {\n",
       "        text-align: right;\n",
       "    }\n",
       "</style>\n",
       "<table border=\"1\" class=\"dataframe\">\n",
       "  <thead>\n",
       "    <tr style=\"text-align: right;\">\n",
       "      <th></th>\n",
       "      <th>author_id</th>\n",
       "      <th>conversation_id</th>\n",
       "      <th>created_at</th>\n",
       "      <th>text</th>\n",
       "      <th>id</th>\n",
       "      <th>candidato</th>\n",
       "      <th>topico</th>\n",
       "    </tr>\n",
       "  </thead>\n",
       "  <tbody>\n",
       "    <tr>\n",
       "      <th>8</th>\n",
       "      <td>2670726740</td>\n",
       "      <td>1560216543895719936</td>\n",
       "      <td>2022-08-18 10:46:26+00:00</td>\n",
       "      <td>RT @alexandrekalil: Bom dia, gente. Hoje tem @...</td>\n",
       "      <td>1560216543895719936</td>\n",
       "      <td>lula</td>\n",
       "      <td>23_ao_servir_povo_fome</td>\n",
       "    </tr>\n",
       "    <tr>\n",
       "      <th>225</th>\n",
       "      <td>128372940</td>\n",
       "      <td>1559476614760628224</td>\n",
       "      <td>2022-08-16 09:46:13+00:00</td>\n",
       "      <td>. Cornélio Procópio/PR: 343,7 kg do entorpecen...</td>\n",
       "      <td>1559476616320925696</td>\n",
       "      <td>bolsonaro</td>\n",
       "      <td>-1_que_ciro_de_não</td>\n",
       "    </tr>\n",
       "    <tr>\n",
       "      <th>145</th>\n",
       "      <td>33374761</td>\n",
       "      <td>1559633242550050816</td>\n",
       "      <td>2022-08-16 20:08:38+00:00</td>\n",
       "      <td>🤷‍♂️ Afinal, nada mais justo que eles paguem u...</td>\n",
       "      <td>1559633252889026560</td>\n",
       "      <td>ciro</td>\n",
       "      <td>7_recuperar_brasil_para_empregos</td>\n",
       "    </tr>\n",
       "    <tr>\n",
       "      <th>138</th>\n",
       "      <td>33374761</td>\n",
       "      <td>1559975507726372864</td>\n",
       "      <td>2022-08-17 18:48:38+00:00</td>\n",
       "      <td>Quando o discurso da esquerda se assemelha ao ...</td>\n",
       "      <td>1559975507726372864</td>\n",
       "      <td>ciro</td>\n",
       "      <td>-1_que_ciro_de_não</td>\n",
       "    </tr>\n",
       "    <tr>\n",
       "      <th>264</th>\n",
       "      <td>128372940</td>\n",
       "      <td>1557122679328620544</td>\n",
       "      <td>2022-08-09 21:52:31+00:00</td>\n",
       "      <td>- Só os investimentos já garantidos nos último...</td>\n",
       "      <td>1557122681648054272</td>\n",
       "      <td>bolsonaro</td>\n",
       "      <td>0_https_co_disponível_tiktok</td>\n",
       "    </tr>\n",
       "  </tbody>\n",
       "</table>\n",
       "</div>"
      ],
      "text/plain": [
       "      author_id      conversation_id                created_at  \\\n",
       "8    2670726740  1560216543895719936 2022-08-18 10:46:26+00:00   \n",
       "225   128372940  1559476614760628224 2022-08-16 09:46:13+00:00   \n",
       "145    33374761  1559633242550050816 2022-08-16 20:08:38+00:00   \n",
       "138    33374761  1559975507726372864 2022-08-17 18:48:38+00:00   \n",
       "264   128372940  1557122679328620544 2022-08-09 21:52:31+00:00   \n",
       "\n",
       "                                                  text                   id  \\\n",
       "8    RT @alexandrekalil: Bom dia, gente. Hoje tem @...  1560216543895719936   \n",
       "225  . Cornélio Procópio/PR: 343,7 kg do entorpecen...  1559476616320925696   \n",
       "145  🤷‍♂️ Afinal, nada mais justo que eles paguem u...  1559633252889026560   \n",
       "138  Quando o discurso da esquerda se assemelha ao ...  1559975507726372864   \n",
       "264  - Só os investimentos já garantidos nos último...  1557122681648054272   \n",
       "\n",
       "     candidato                            topico  \n",
       "8         lula            23_ao_servir_povo_fome  \n",
       "225  bolsonaro                -1_que_ciro_de_não  \n",
       "145       ciro  7_recuperar_brasil_para_empregos  \n",
       "138       ciro                -1_que_ciro_de_não  \n",
       "264  bolsonaro      0_https_co_disponível_tiktok  "
      ]
     },
     "execution_count": 55,
     "metadata": {},
     "output_type": "execute_result"
    }
   ],
   "source": [
    "print(tweets_topic)\n",
    "\n",
    "topic_names = model.generate_topic_labels(nr_words=4)\n",
    "print(topic_names)\n",
    "\n",
    "for index, tweet_topic in enumerate(tweets_topic):\n",
    "    tweets.at[index, 'topico'] = topic_names[tweet_topic + 1]\n",
    "\n",
    "tweets.head()\n"
   ]
  },
  {
   "cell_type": "code",
   "execution_count": 16,
   "metadata": {},
   "outputs": [
    {
     "data": {
      "text/html": [
       "<div>\n",
       "<style scoped>\n",
       "    .dataframe tbody tr th:only-of-type {\n",
       "        vertical-align: middle;\n",
       "    }\n",
       "\n",
       "    .dataframe tbody tr th {\n",
       "        vertical-align: top;\n",
       "    }\n",
       "\n",
       "    .dataframe thead th {\n",
       "        text-align: right;\n",
       "    }\n",
       "</style>\n",
       "<table border=\"1\" class=\"dataframe\">\n",
       "  <thead>\n",
       "    <tr style=\"text-align: right;\">\n",
       "      <th></th>\n",
       "      <th>Topic</th>\n",
       "      <th>Count</th>\n",
       "      <th>Name</th>\n",
       "    </tr>\n",
       "  </thead>\n",
       "  <tbody>\n",
       "    <tr>\n",
       "      <th>0</th>\n",
       "      <td>-1</td>\n",
       "      <td>43</td>\n",
       "      <td>-1_que_de_não_do</td>\n",
       "    </tr>\n",
       "    <tr>\n",
       "      <th>1</th>\n",
       "      <td>0</td>\n",
       "      <td>67</td>\n",
       "      <td>0_brasil_para_de_vamos</td>\n",
       "    </tr>\n",
       "    <tr>\n",
       "      <th>2</th>\n",
       "      <td>1</td>\n",
       "      <td>23</td>\n",
       "      <td>1_https_co_tiktok_disponível</td>\n",
       "    </tr>\n",
       "    <tr>\n",
       "      <th>3</th>\n",
       "      <td>2</td>\n",
       "      <td>20</td>\n",
       "      <td>2_ciro_https_co_todos</td>\n",
       "    </tr>\n",
       "    <tr>\n",
       "      <th>4</th>\n",
       "      <td>3</td>\n",
       "      <td>18</td>\n",
       "      <td>3_ano_de_mais_ton</td>\n",
       "    </tr>\n",
       "    <tr>\n",
       "      <th>5</th>\n",
       "      <td>4</td>\n",
       "      <td>16</td>\n",
       "      <td>4_bolsonaro_ele_ou_que</td>\n",
       "    </tr>\n",
       "    <tr>\n",
       "      <th>6</th>\n",
       "      <td>5</td>\n",
       "      <td>14</td>\n",
       "      <td>5_programa_renda_de_mínima</td>\n",
       "    </tr>\n",
       "    <tr>\n",
       "      <th>7</th>\n",
       "      <td>6</td>\n",
       "      <td>12</td>\n",
       "      <td>6_lula_equipelula_co_https</td>\n",
       "    </tr>\n",
       "    <tr>\n",
       "      <th>8</th>\n",
       "      <td>7</td>\n",
       "      <td>12</td>\n",
       "      <td>7_que_está_política_reeleição</td>\n",
       "    </tr>\n",
       "    <tr>\n",
       "      <th>9</th>\n",
       "      <td>8</td>\n",
       "      <td>12</td>\n",
       "      <td>8_de_em_menor_era</td>\n",
       "    </tr>\n",
       "    <tr>\n",
       "      <th>10</th>\n",
       "      <td>9</td>\n",
       "      <td>10</td>\n",
       "      <td>9_08_2022_giro_18</td>\n",
       "    </tr>\n",
       "    <tr>\n",
       "      <th>11</th>\n",
       "      <td>10</td>\n",
       "      <td>9</td>\n",
       "      <td>10_eu_voto_eleição_não</td>\n",
       "    </tr>\n",
       "    <tr>\n",
       "      <th>12</th>\n",
       "      <td>11</td>\n",
       "      <td>8</td>\n",
       "      <td>11_ciro_sobre_cironorodaviva_responde</td>\n",
       "    </tr>\n",
       "    <tr>\n",
       "      <th>13</th>\n",
       "      <td>12</td>\n",
       "      <td>7</td>\n",
       "      <td>12_deus_se_você_os</td>\n",
       "    </tr>\n",
       "    <tr>\n",
       "      <th>14</th>\n",
       "      <td>13</td>\n",
       "      <td>6</td>\n",
       "      <td>13_saudades_carta_democracia_que</td>\n",
       "    </tr>\n",
       "    <tr>\n",
       "      <th>15</th>\n",
       "      <td>14</td>\n",
       "      <td>5</td>\n",
       "      <td>14_marcelosampaio_dual_360_fabiofaria_realizamos</td>\n",
       "    </tr>\n",
       "    <tr>\n",
       "      <th>16</th>\n",
       "      <td>15</td>\n",
       "      <td>4</td>\n",
       "      <td>15_kg_maconha_de_vidas</td>\n",
       "    </tr>\n",
       "    <tr>\n",
       "      <th>17</th>\n",
       "      <td>16</td>\n",
       "      <td>4</td>\n",
       "      <td>16_gente_gerar_coisas_país</td>\n",
       "    </tr>\n",
       "    <tr>\n",
       "      <th>18</th>\n",
       "      <td>17</td>\n",
       "      <td>4</td>\n",
       "      <td>17_redução_litro_preço_reduzirá</td>\n",
       "    </tr>\n",
       "    <tr>\n",
       "      <th>19</th>\n",
       "      <td>18</td>\n",
       "      <td>3</td>\n",
       "      <td>18_ba_transposição_francisco_rio</td>\n",
       "    </tr>\n",
       "    <tr>\n",
       "      <th>20</th>\n",
       "      <td>19</td>\n",
       "      <td>3</td>\n",
       "      <td>19_podem_que_não_mim</td>\n",
       "    </tr>\n",
       "  </tbody>\n",
       "</table>\n",
       "</div>"
      ],
      "text/plain": [
       "    Topic  Count                                              Name\n",
       "0      -1     43                                  -1_que_de_não_do\n",
       "1       0     67                            0_brasil_para_de_vamos\n",
       "2       1     23                      1_https_co_tiktok_disponível\n",
       "3       2     20                             2_ciro_https_co_todos\n",
       "4       3     18                                 3_ano_de_mais_ton\n",
       "5       4     16                            4_bolsonaro_ele_ou_que\n",
       "6       5     14                        5_programa_renda_de_mínima\n",
       "7       6     12                        6_lula_equipelula_co_https\n",
       "8       7     12                     7_que_está_política_reeleição\n",
       "9       8     12                                 8_de_em_menor_era\n",
       "10      9     10                                 9_08_2022_giro_18\n",
       "11     10      9                            10_eu_voto_eleição_não\n",
       "12     11      8             11_ciro_sobre_cironorodaviva_responde\n",
       "13     12      7                                12_deus_se_você_os\n",
       "14     13      6                  13_saudades_carta_democracia_que\n",
       "15     14      5  14_marcelosampaio_dual_360_fabiofaria_realizamos\n",
       "16     15      4                            15_kg_maconha_de_vidas\n",
       "17     16      4                        16_gente_gerar_coisas_país\n",
       "18     17      4                   17_redução_litro_preço_reduzirá\n",
       "19     18      3                  18_ba_transposição_francisco_rio\n",
       "20     19      3                              19_podem_que_não_mim"
      ]
     },
     "execution_count": 16,
     "metadata": {},
     "output_type": "execute_result"
    }
   ],
   "source": [
    "freq = model.get_topic_info()\n",
    "freq"
   ]
  },
  {
   "cell_type": "code",
   "execution_count": null,
   "metadata": {},
   "outputs": [],
   "source": []
  },
  {
   "cell_type": "code",
   "execution_count": 8,
   "metadata": {},
   "outputs": [
    {
     "data": {
      "application/vnd.plotly.v1+json": {
       "config": {
        "plotlyServerURL": "https://plot.ly"
       },
       "data": [
        {
         "customdata": [
          [
           0,
           "co | https | ffiohik8ms | foto | crime",
           23
          ],
          [
           1,
           "que | carta | democracia | uma | de",
           19
          ],
          [
           2,
           "co | https | brasil | brasildaesperança | equipelula",
           18
          ],
          [
           3,
           "de | redução | em | menor | era",
           16
          ],
          [
           4,
           "programa | renda | de | mínima | um",
           15
          ],
          [
           5,
           "recuperar | brasil | para | empregos | mais",
           13
          ],
          [
           6,
           "obrigado | todos | vivo | espectadores | veio",
           12
          ],
          [
           7,
           "lula | equipelula | https | co | presença",
           12
          ],
          [
           8,
           "08 | 2022 | giro | 18 | gerais",
           11
          ],
          [
           9,
           "vamos | brasil | país | nós | juntos",
           10
          ],
          [
           10,
           "eu | voto | eleição | falar | não",
           9
          ],
          [
           11,
           "governador | estarei | na | alexandre | nosso",
           9
          ],
          [
           12,
           "melhor | pais | dia | jô | amor",
           7
          ],
          [
           13,
           "ele | bolsonaro | porque | mentiras | ou",
           7
          ],
          [
           14,
           "gente | gerar | quer | país | que",
           7
          ],
          [
           15,
           "sobre | ciro | cironorodaviva | responde | pergunta",
           6
          ],
          [
           16,
           "deus | se | irmão | adorar | os",
           6
          ],
          [
           17,
           "ano | ton | safra | milhões | saneamento",
           6
          ],
          [
           18,
           "bolsonaro | jair | pr | semana | co",
           5
          ],
          [
           19,
           "cirão | app | jéssica | jfernandabrasil | baixar",
           5
          ],
          [
           20,
           "francisco | entenda | transposição | rio | ba",
           4
          ],
          [
           21,
           "maconha | kg | de | prejuízo | br",
           4
          ],
          [
           22,
           "de | você | governo | carente | patrocinadas",
           4
          ],
          [
           23,
           "podem | mim | que | não | por",
           3
          ],
          [
           24,
           "política | ao | servir | pra | essa",
           3
          ]
         ],
         "hovertemplate": "<b>Topic %{customdata[0]}</b><br>Words: %{customdata[1]}<br>Size: %{customdata[2]}",
         "legendgroup": "",
         "marker": {
          "color": "#B0BEC5",
          "line": {
           "color": "DarkSlateGrey",
           "width": 2
          },
          "size": [
           23,
           19,
           18,
           16,
           15,
           13,
           12,
           12,
           11,
           10,
           9,
           9,
           7,
           7,
           7,
           6,
           6,
           6,
           5,
           5,
           4,
           4,
           4,
           3,
           3
          ],
          "sizemode": "area",
          "sizeref": 0.014375,
          "symbol": "circle"
         },
         "mode": "markers",
         "name": "",
         "orientation": "v",
         "showlegend": false,
         "type": "scatter",
         "x": [
          12.720949172973633,
          16.907583236694336,
          15.129036903381348,
          -2.1021101474761963,
          -1.7603728771209717,
          15.848505973815918,
          12.693756103515625,
          12.990735054016113,
          13.039185523986816,
          15.46891975402832,
          16.361103057861328,
          12.909982681274414,
          15.377707481384277,
          16.915586471557617,
          15.623454093933105,
          15.519370079040527,
          17.113046646118164,
          -2.003514051437378,
          12.383257865905762,
          14.85456657409668,
          -1.1675753593444824,
          -1.2162410020828247,
          -1.6288771629333496,
          16.086017608642578,
          15.422224998474121
         ],
         "xaxis": "x",
         "y": [
          -5.600903511047363,
          -3.5774130821228027,
          -2.4292964935302734,
          22.630565643310547,
          22.968080520629883,
          -2.251249074935913,
          -5.213454723358154,
          -4.27962064743042,
          -3.9914255142211914,
          -2.1958372592926025,
          -3.2273526191711426,
          -4.641796112060547,
          -2.899953603744507,
          -3.3722970485687256,
          -1.653075933456421,
          -2.464548110961914,
          -3.240450382232666,
          22.416704177856445,
          -5.564253807067871,
          -1.9756648540496826,
          7.22667932510376,
          7.208110809326172,
          23.09453582763672,
          -3.455270767211914,
          -1.2753921747207642
         ],
         "yaxis": "y"
        }
       ],
       "layout": {
        "annotations": [
         {
          "showarrow": false,
          "text": "D1",
          "x": -2.4174266695976256,
          "y": 10.058838582038879,
          "yshift": 10
         },
         {
          "showarrow": false,
          "text": "D2",
          "x": 8.631288486719132,
          "xshift": 10,
          "y": 26.558716201782225
         }
        ],
        "height": 650,
        "hoverlabel": {
         "bgcolor": "white",
         "font": {
          "family": "Rockwell",
          "size": 16
         }
        },
        "legend": {
         "itemsizing": "constant",
         "tracegroupgap": 0
        },
        "margin": {
         "t": 60
        },
        "shapes": [
         {
          "line": {
           "color": "#CFD8DC",
           "width": 2
          },
          "type": "line",
          "x0": 8.631288486719132,
          "x1": 8.631288486719132,
          "y0": -6.441039037704468,
          "y1": 26.558716201782225
         },
         {
          "line": {
           "color": "#9E9E9E",
           "width": 2
          },
          "type": "line",
          "x0": -2.4174266695976256,
          "x1": 19.68000364303589,
          "y0": 10.058838582038879,
          "y1": 10.058838582038879
         }
        ],
        "sliders": [
         {
          "active": 0,
          "pad": {
           "t": 50
          },
          "steps": [
           {
            "args": [
             {
              "marker.color": [
               [
                "red",
                "#B0BEC5",
                "#B0BEC5",
                "#B0BEC5",
                "#B0BEC5",
                "#B0BEC5",
                "#B0BEC5",
                "#B0BEC5",
                "#B0BEC5",
                "#B0BEC5",
                "#B0BEC5",
                "#B0BEC5",
                "#B0BEC5",
                "#B0BEC5",
                "#B0BEC5",
                "#B0BEC5",
                "#B0BEC5",
                "#B0BEC5",
                "#B0BEC5",
                "#B0BEC5",
                "#B0BEC5",
                "#B0BEC5",
                "#B0BEC5",
                "#B0BEC5",
                "#B0BEC5"
               ]
              ]
             }
            ],
            "label": "Topic 0",
            "method": "update"
           },
           {
            "args": [
             {
              "marker.color": [
               [
                "#B0BEC5",
                "red",
                "#B0BEC5",
                "#B0BEC5",
                "#B0BEC5",
                "#B0BEC5",
                "#B0BEC5",
                "#B0BEC5",
                "#B0BEC5",
                "#B0BEC5",
                "#B0BEC5",
                "#B0BEC5",
                "#B0BEC5",
                "#B0BEC5",
                "#B0BEC5",
                "#B0BEC5",
                "#B0BEC5",
                "#B0BEC5",
                "#B0BEC5",
                "#B0BEC5",
                "#B0BEC5",
                "#B0BEC5",
                "#B0BEC5",
                "#B0BEC5",
                "#B0BEC5"
               ]
              ]
             }
            ],
            "label": "Topic 1",
            "method": "update"
           },
           {
            "args": [
             {
              "marker.color": [
               [
                "#B0BEC5",
                "#B0BEC5",
                "red",
                "#B0BEC5",
                "#B0BEC5",
                "#B0BEC5",
                "#B0BEC5",
                "#B0BEC5",
                "#B0BEC5",
                "#B0BEC5",
                "#B0BEC5",
                "#B0BEC5",
                "#B0BEC5",
                "#B0BEC5",
                "#B0BEC5",
                "#B0BEC5",
                "#B0BEC5",
                "#B0BEC5",
                "#B0BEC5",
                "#B0BEC5",
                "#B0BEC5",
                "#B0BEC5",
                "#B0BEC5",
                "#B0BEC5",
                "#B0BEC5"
               ]
              ]
             }
            ],
            "label": "Topic 2",
            "method": "update"
           },
           {
            "args": [
             {
              "marker.color": [
               [
                "#B0BEC5",
                "#B0BEC5",
                "#B0BEC5",
                "red",
                "#B0BEC5",
                "#B0BEC5",
                "#B0BEC5",
                "#B0BEC5",
                "#B0BEC5",
                "#B0BEC5",
                "#B0BEC5",
                "#B0BEC5",
                "#B0BEC5",
                "#B0BEC5",
                "#B0BEC5",
                "#B0BEC5",
                "#B0BEC5",
                "#B0BEC5",
                "#B0BEC5",
                "#B0BEC5",
                "#B0BEC5",
                "#B0BEC5",
                "#B0BEC5",
                "#B0BEC5",
                "#B0BEC5"
               ]
              ]
             }
            ],
            "label": "Topic 3",
            "method": "update"
           },
           {
            "args": [
             {
              "marker.color": [
               [
                "#B0BEC5",
                "#B0BEC5",
                "#B0BEC5",
                "#B0BEC5",
                "red",
                "#B0BEC5",
                "#B0BEC5",
                "#B0BEC5",
                "#B0BEC5",
                "#B0BEC5",
                "#B0BEC5",
                "#B0BEC5",
                "#B0BEC5",
                "#B0BEC5",
                "#B0BEC5",
                "#B0BEC5",
                "#B0BEC5",
                "#B0BEC5",
                "#B0BEC5",
                "#B0BEC5",
                "#B0BEC5",
                "#B0BEC5",
                "#B0BEC5",
                "#B0BEC5",
                "#B0BEC5"
               ]
              ]
             }
            ],
            "label": "Topic 4",
            "method": "update"
           },
           {
            "args": [
             {
              "marker.color": [
               [
                "#B0BEC5",
                "#B0BEC5",
                "#B0BEC5",
                "#B0BEC5",
                "#B0BEC5",
                "red",
                "#B0BEC5",
                "#B0BEC5",
                "#B0BEC5",
                "#B0BEC5",
                "#B0BEC5",
                "#B0BEC5",
                "#B0BEC5",
                "#B0BEC5",
                "#B0BEC5",
                "#B0BEC5",
                "#B0BEC5",
                "#B0BEC5",
                "#B0BEC5",
                "#B0BEC5",
                "#B0BEC5",
                "#B0BEC5",
                "#B0BEC5",
                "#B0BEC5",
                "#B0BEC5"
               ]
              ]
             }
            ],
            "label": "Topic 5",
            "method": "update"
           },
           {
            "args": [
             {
              "marker.color": [
               [
                "#B0BEC5",
                "#B0BEC5",
                "#B0BEC5",
                "#B0BEC5",
                "#B0BEC5",
                "#B0BEC5",
                "red",
                "#B0BEC5",
                "#B0BEC5",
                "#B0BEC5",
                "#B0BEC5",
                "#B0BEC5",
                "#B0BEC5",
                "#B0BEC5",
                "#B0BEC5",
                "#B0BEC5",
                "#B0BEC5",
                "#B0BEC5",
                "#B0BEC5",
                "#B0BEC5",
                "#B0BEC5",
                "#B0BEC5",
                "#B0BEC5",
                "#B0BEC5",
                "#B0BEC5"
               ]
              ]
             }
            ],
            "label": "Topic 6",
            "method": "update"
           },
           {
            "args": [
             {
              "marker.color": [
               [
                "#B0BEC5",
                "#B0BEC5",
                "#B0BEC5",
                "#B0BEC5",
                "#B0BEC5",
                "#B0BEC5",
                "#B0BEC5",
                "red",
                "#B0BEC5",
                "#B0BEC5",
                "#B0BEC5",
                "#B0BEC5",
                "#B0BEC5",
                "#B0BEC5",
                "#B0BEC5",
                "#B0BEC5",
                "#B0BEC5",
                "#B0BEC5",
                "#B0BEC5",
                "#B0BEC5",
                "#B0BEC5",
                "#B0BEC5",
                "#B0BEC5",
                "#B0BEC5",
                "#B0BEC5"
               ]
              ]
             }
            ],
            "label": "Topic 7",
            "method": "update"
           },
           {
            "args": [
             {
              "marker.color": [
               [
                "#B0BEC5",
                "#B0BEC5",
                "#B0BEC5",
                "#B0BEC5",
                "#B0BEC5",
                "#B0BEC5",
                "#B0BEC5",
                "#B0BEC5",
                "red",
                "#B0BEC5",
                "#B0BEC5",
                "#B0BEC5",
                "#B0BEC5",
                "#B0BEC5",
                "#B0BEC5",
                "#B0BEC5",
                "#B0BEC5",
                "#B0BEC5",
                "#B0BEC5",
                "#B0BEC5",
                "#B0BEC5",
                "#B0BEC5",
                "#B0BEC5",
                "#B0BEC5",
                "#B0BEC5"
               ]
              ]
             }
            ],
            "label": "Topic 8",
            "method": "update"
           },
           {
            "args": [
             {
              "marker.color": [
               [
                "#B0BEC5",
                "#B0BEC5",
                "#B0BEC5",
                "#B0BEC5",
                "#B0BEC5",
                "#B0BEC5",
                "#B0BEC5",
                "#B0BEC5",
                "#B0BEC5",
                "red",
                "#B0BEC5",
                "#B0BEC5",
                "#B0BEC5",
                "#B0BEC5",
                "#B0BEC5",
                "#B0BEC5",
                "#B0BEC5",
                "#B0BEC5",
                "#B0BEC5",
                "#B0BEC5",
                "#B0BEC5",
                "#B0BEC5",
                "#B0BEC5",
                "#B0BEC5",
                "#B0BEC5"
               ]
              ]
             }
            ],
            "label": "Topic 9",
            "method": "update"
           },
           {
            "args": [
             {
              "marker.color": [
               [
                "#B0BEC5",
                "#B0BEC5",
                "#B0BEC5",
                "#B0BEC5",
                "#B0BEC5",
                "#B0BEC5",
                "#B0BEC5",
                "#B0BEC5",
                "#B0BEC5",
                "#B0BEC5",
                "red",
                "#B0BEC5",
                "#B0BEC5",
                "#B0BEC5",
                "#B0BEC5",
                "#B0BEC5",
                "#B0BEC5",
                "#B0BEC5",
                "#B0BEC5",
                "#B0BEC5",
                "#B0BEC5",
                "#B0BEC5",
                "#B0BEC5",
                "#B0BEC5",
                "#B0BEC5"
               ]
              ]
             }
            ],
            "label": "Topic 10",
            "method": "update"
           },
           {
            "args": [
             {
              "marker.color": [
               [
                "#B0BEC5",
                "#B0BEC5",
                "#B0BEC5",
                "#B0BEC5",
                "#B0BEC5",
                "#B0BEC5",
                "#B0BEC5",
                "#B0BEC5",
                "#B0BEC5",
                "#B0BEC5",
                "#B0BEC5",
                "red",
                "#B0BEC5",
                "#B0BEC5",
                "#B0BEC5",
                "#B0BEC5",
                "#B0BEC5",
                "#B0BEC5",
                "#B0BEC5",
                "#B0BEC5",
                "#B0BEC5",
                "#B0BEC5",
                "#B0BEC5",
                "#B0BEC5",
                "#B0BEC5"
               ]
              ]
             }
            ],
            "label": "Topic 11",
            "method": "update"
           },
           {
            "args": [
             {
              "marker.color": [
               [
                "#B0BEC5",
                "#B0BEC5",
                "#B0BEC5",
                "#B0BEC5",
                "#B0BEC5",
                "#B0BEC5",
                "#B0BEC5",
                "#B0BEC5",
                "#B0BEC5",
                "#B0BEC5",
                "#B0BEC5",
                "#B0BEC5",
                "red",
                "#B0BEC5",
                "#B0BEC5",
                "#B0BEC5",
                "#B0BEC5",
                "#B0BEC5",
                "#B0BEC5",
                "#B0BEC5",
                "#B0BEC5",
                "#B0BEC5",
                "#B0BEC5",
                "#B0BEC5",
                "#B0BEC5"
               ]
              ]
             }
            ],
            "label": "Topic 12",
            "method": "update"
           },
           {
            "args": [
             {
              "marker.color": [
               [
                "#B0BEC5",
                "#B0BEC5",
                "#B0BEC5",
                "#B0BEC5",
                "#B0BEC5",
                "#B0BEC5",
                "#B0BEC5",
                "#B0BEC5",
                "#B0BEC5",
                "#B0BEC5",
                "#B0BEC5",
                "#B0BEC5",
                "#B0BEC5",
                "red",
                "#B0BEC5",
                "#B0BEC5",
                "#B0BEC5",
                "#B0BEC5",
                "#B0BEC5",
                "#B0BEC5",
                "#B0BEC5",
                "#B0BEC5",
                "#B0BEC5",
                "#B0BEC5",
                "#B0BEC5"
               ]
              ]
             }
            ],
            "label": "Topic 13",
            "method": "update"
           },
           {
            "args": [
             {
              "marker.color": [
               [
                "#B0BEC5",
                "#B0BEC5",
                "#B0BEC5",
                "#B0BEC5",
                "#B0BEC5",
                "#B0BEC5",
                "#B0BEC5",
                "#B0BEC5",
                "#B0BEC5",
                "#B0BEC5",
                "#B0BEC5",
                "#B0BEC5",
                "#B0BEC5",
                "#B0BEC5",
                "red",
                "#B0BEC5",
                "#B0BEC5",
                "#B0BEC5",
                "#B0BEC5",
                "#B0BEC5",
                "#B0BEC5",
                "#B0BEC5",
                "#B0BEC5",
                "#B0BEC5",
                "#B0BEC5"
               ]
              ]
             }
            ],
            "label": "Topic 14",
            "method": "update"
           },
           {
            "args": [
             {
              "marker.color": [
               [
                "#B0BEC5",
                "#B0BEC5",
                "#B0BEC5",
                "#B0BEC5",
                "#B0BEC5",
                "#B0BEC5",
                "#B0BEC5",
                "#B0BEC5",
                "#B0BEC5",
                "#B0BEC5",
                "#B0BEC5",
                "#B0BEC5",
                "#B0BEC5",
                "#B0BEC5",
                "#B0BEC5",
                "red",
                "#B0BEC5",
                "#B0BEC5",
                "#B0BEC5",
                "#B0BEC5",
                "#B0BEC5",
                "#B0BEC5",
                "#B0BEC5",
                "#B0BEC5",
                "#B0BEC5"
               ]
              ]
             }
            ],
            "label": "Topic 15",
            "method": "update"
           },
           {
            "args": [
             {
              "marker.color": [
               [
                "#B0BEC5",
                "#B0BEC5",
                "#B0BEC5",
                "#B0BEC5",
                "#B0BEC5",
                "#B0BEC5",
                "#B0BEC5",
                "#B0BEC5",
                "#B0BEC5",
                "#B0BEC5",
                "#B0BEC5",
                "#B0BEC5",
                "#B0BEC5",
                "#B0BEC5",
                "#B0BEC5",
                "#B0BEC5",
                "red",
                "#B0BEC5",
                "#B0BEC5",
                "#B0BEC5",
                "#B0BEC5",
                "#B0BEC5",
                "#B0BEC5",
                "#B0BEC5",
                "#B0BEC5"
               ]
              ]
             }
            ],
            "label": "Topic 16",
            "method": "update"
           },
           {
            "args": [
             {
              "marker.color": [
               [
                "#B0BEC5",
                "#B0BEC5",
                "#B0BEC5",
                "#B0BEC5",
                "#B0BEC5",
                "#B0BEC5",
                "#B0BEC5",
                "#B0BEC5",
                "#B0BEC5",
                "#B0BEC5",
                "#B0BEC5",
                "#B0BEC5",
                "#B0BEC5",
                "#B0BEC5",
                "#B0BEC5",
                "#B0BEC5",
                "#B0BEC5",
                "red",
                "#B0BEC5",
                "#B0BEC5",
                "#B0BEC5",
                "#B0BEC5",
                "#B0BEC5",
                "#B0BEC5",
                "#B0BEC5"
               ]
              ]
             }
            ],
            "label": "Topic 17",
            "method": "update"
           },
           {
            "args": [
             {
              "marker.color": [
               [
                "#B0BEC5",
                "#B0BEC5",
                "#B0BEC5",
                "#B0BEC5",
                "#B0BEC5",
                "#B0BEC5",
                "#B0BEC5",
                "#B0BEC5",
                "#B0BEC5",
                "#B0BEC5",
                "#B0BEC5",
                "#B0BEC5",
                "#B0BEC5",
                "#B0BEC5",
                "#B0BEC5",
                "#B0BEC5",
                "#B0BEC5",
                "#B0BEC5",
                "red",
                "#B0BEC5",
                "#B0BEC5",
                "#B0BEC5",
                "#B0BEC5",
                "#B0BEC5",
                "#B0BEC5"
               ]
              ]
             }
            ],
            "label": "Topic 18",
            "method": "update"
           },
           {
            "args": [
             {
              "marker.color": [
               [
                "#B0BEC5",
                "#B0BEC5",
                "#B0BEC5",
                "#B0BEC5",
                "#B0BEC5",
                "#B0BEC5",
                "#B0BEC5",
                "#B0BEC5",
                "#B0BEC5",
                "#B0BEC5",
                "#B0BEC5",
                "#B0BEC5",
                "#B0BEC5",
                "#B0BEC5",
                "#B0BEC5",
                "#B0BEC5",
                "#B0BEC5",
                "#B0BEC5",
                "#B0BEC5",
                "red",
                "#B0BEC5",
                "#B0BEC5",
                "#B0BEC5",
                "#B0BEC5",
                "#B0BEC5"
               ]
              ]
             }
            ],
            "label": "Topic 19",
            "method": "update"
           },
           {
            "args": [
             {
              "marker.color": [
               [
                "#B0BEC5",
                "#B0BEC5",
                "#B0BEC5",
                "#B0BEC5",
                "#B0BEC5",
                "#B0BEC5",
                "#B0BEC5",
                "#B0BEC5",
                "#B0BEC5",
                "#B0BEC5",
                "#B0BEC5",
                "#B0BEC5",
                "#B0BEC5",
                "#B0BEC5",
                "#B0BEC5",
                "#B0BEC5",
                "#B0BEC5",
                "#B0BEC5",
                "#B0BEC5",
                "#B0BEC5",
                "red",
                "#B0BEC5",
                "#B0BEC5",
                "#B0BEC5",
                "#B0BEC5"
               ]
              ]
             }
            ],
            "label": "Topic 20",
            "method": "update"
           },
           {
            "args": [
             {
              "marker.color": [
               [
                "#B0BEC5",
                "#B0BEC5",
                "#B0BEC5",
                "#B0BEC5",
                "#B0BEC5",
                "#B0BEC5",
                "#B0BEC5",
                "#B0BEC5",
                "#B0BEC5",
                "#B0BEC5",
                "#B0BEC5",
                "#B0BEC5",
                "#B0BEC5",
                "#B0BEC5",
                "#B0BEC5",
                "#B0BEC5",
                "#B0BEC5",
                "#B0BEC5",
                "#B0BEC5",
                "#B0BEC5",
                "#B0BEC5",
                "red",
                "#B0BEC5",
                "#B0BEC5",
                "#B0BEC5"
               ]
              ]
             }
            ],
            "label": "Topic 21",
            "method": "update"
           },
           {
            "args": [
             {
              "marker.color": [
               [
                "#B0BEC5",
                "#B0BEC5",
                "#B0BEC5",
                "#B0BEC5",
                "#B0BEC5",
                "#B0BEC5",
                "#B0BEC5",
                "#B0BEC5",
                "#B0BEC5",
                "#B0BEC5",
                "#B0BEC5",
                "#B0BEC5",
                "#B0BEC5",
                "#B0BEC5",
                "#B0BEC5",
                "#B0BEC5",
                "#B0BEC5",
                "#B0BEC5",
                "#B0BEC5",
                "#B0BEC5",
                "#B0BEC5",
                "#B0BEC5",
                "red",
                "#B0BEC5",
                "#B0BEC5"
               ]
              ]
             }
            ],
            "label": "Topic 22",
            "method": "update"
           },
           {
            "args": [
             {
              "marker.color": [
               [
                "#B0BEC5",
                "#B0BEC5",
                "#B0BEC5",
                "#B0BEC5",
                "#B0BEC5",
                "#B0BEC5",
                "#B0BEC5",
                "#B0BEC5",
                "#B0BEC5",
                "#B0BEC5",
                "#B0BEC5",
                "#B0BEC5",
                "#B0BEC5",
                "#B0BEC5",
                "#B0BEC5",
                "#B0BEC5",
                "#B0BEC5",
                "#B0BEC5",
                "#B0BEC5",
                "#B0BEC5",
                "#B0BEC5",
                "#B0BEC5",
                "#B0BEC5",
                "red",
                "#B0BEC5"
               ]
              ]
             }
            ],
            "label": "Topic 23",
            "method": "update"
           },
           {
            "args": [
             {
              "marker.color": [
               [
                "#B0BEC5",
                "#B0BEC5",
                "#B0BEC5",
                "#B0BEC5",
                "#B0BEC5",
                "#B0BEC5",
                "#B0BEC5",
                "#B0BEC5",
                "#B0BEC5",
                "#B0BEC5",
                "#B0BEC5",
                "#B0BEC5",
                "#B0BEC5",
                "#B0BEC5",
                "#B0BEC5",
                "#B0BEC5",
                "#B0BEC5",
                "#B0BEC5",
                "#B0BEC5",
                "#B0BEC5",
                "#B0BEC5",
                "#B0BEC5",
                "#B0BEC5",
                "#B0BEC5",
                "red"
               ]
              ]
             }
            ],
            "label": "Topic 24",
            "method": "update"
           }
          ]
         }
        ],
        "template": {
         "data": {
          "bar": [
           {
            "error_x": {
             "color": "rgb(36,36,36)"
            },
            "error_y": {
             "color": "rgb(36,36,36)"
            },
            "marker": {
             "line": {
              "color": "white",
              "width": 0.5
             },
             "pattern": {
              "fillmode": "overlay",
              "size": 10,
              "solidity": 0.2
             }
            },
            "type": "bar"
           }
          ],
          "barpolar": [
           {
            "marker": {
             "line": {
              "color": "white",
              "width": 0.5
             },
             "pattern": {
              "fillmode": "overlay",
              "size": 10,
              "solidity": 0.2
             }
            },
            "type": "barpolar"
           }
          ],
          "carpet": [
           {
            "aaxis": {
             "endlinecolor": "rgb(36,36,36)",
             "gridcolor": "white",
             "linecolor": "white",
             "minorgridcolor": "white",
             "startlinecolor": "rgb(36,36,36)"
            },
            "baxis": {
             "endlinecolor": "rgb(36,36,36)",
             "gridcolor": "white",
             "linecolor": "white",
             "minorgridcolor": "white",
             "startlinecolor": "rgb(36,36,36)"
            },
            "type": "carpet"
           }
          ],
          "choropleth": [
           {
            "colorbar": {
             "outlinewidth": 1,
             "tickcolor": "rgb(36,36,36)",
             "ticks": "outside"
            },
            "type": "choropleth"
           }
          ],
          "contour": [
           {
            "colorbar": {
             "outlinewidth": 1,
             "tickcolor": "rgb(36,36,36)",
             "ticks": "outside"
            },
            "colorscale": [
             [
              0,
              "#440154"
             ],
             [
              0.1111111111111111,
              "#482878"
             ],
             [
              0.2222222222222222,
              "#3e4989"
             ],
             [
              0.3333333333333333,
              "#31688e"
             ],
             [
              0.4444444444444444,
              "#26828e"
             ],
             [
              0.5555555555555556,
              "#1f9e89"
             ],
             [
              0.6666666666666666,
              "#35b779"
             ],
             [
              0.7777777777777778,
              "#6ece58"
             ],
             [
              0.8888888888888888,
              "#b5de2b"
             ],
             [
              1,
              "#fde725"
             ]
            ],
            "type": "contour"
           }
          ],
          "contourcarpet": [
           {
            "colorbar": {
             "outlinewidth": 1,
             "tickcolor": "rgb(36,36,36)",
             "ticks": "outside"
            },
            "type": "contourcarpet"
           }
          ],
          "heatmap": [
           {
            "colorbar": {
             "outlinewidth": 1,
             "tickcolor": "rgb(36,36,36)",
             "ticks": "outside"
            },
            "colorscale": [
             [
              0,
              "#440154"
             ],
             [
              0.1111111111111111,
              "#482878"
             ],
             [
              0.2222222222222222,
              "#3e4989"
             ],
             [
              0.3333333333333333,
              "#31688e"
             ],
             [
              0.4444444444444444,
              "#26828e"
             ],
             [
              0.5555555555555556,
              "#1f9e89"
             ],
             [
              0.6666666666666666,
              "#35b779"
             ],
             [
              0.7777777777777778,
              "#6ece58"
             ],
             [
              0.8888888888888888,
              "#b5de2b"
             ],
             [
              1,
              "#fde725"
             ]
            ],
            "type": "heatmap"
           }
          ],
          "heatmapgl": [
           {
            "colorbar": {
             "outlinewidth": 1,
             "tickcolor": "rgb(36,36,36)",
             "ticks": "outside"
            },
            "colorscale": [
             [
              0,
              "#440154"
             ],
             [
              0.1111111111111111,
              "#482878"
             ],
             [
              0.2222222222222222,
              "#3e4989"
             ],
             [
              0.3333333333333333,
              "#31688e"
             ],
             [
              0.4444444444444444,
              "#26828e"
             ],
             [
              0.5555555555555556,
              "#1f9e89"
             ],
             [
              0.6666666666666666,
              "#35b779"
             ],
             [
              0.7777777777777778,
              "#6ece58"
             ],
             [
              0.8888888888888888,
              "#b5de2b"
             ],
             [
              1,
              "#fde725"
             ]
            ],
            "type": "heatmapgl"
           }
          ],
          "histogram": [
           {
            "marker": {
             "line": {
              "color": "white",
              "width": 0.6
             }
            },
            "type": "histogram"
           }
          ],
          "histogram2d": [
           {
            "colorbar": {
             "outlinewidth": 1,
             "tickcolor": "rgb(36,36,36)",
             "ticks": "outside"
            },
            "colorscale": [
             [
              0,
              "#440154"
             ],
             [
              0.1111111111111111,
              "#482878"
             ],
             [
              0.2222222222222222,
              "#3e4989"
             ],
             [
              0.3333333333333333,
              "#31688e"
             ],
             [
              0.4444444444444444,
              "#26828e"
             ],
             [
              0.5555555555555556,
              "#1f9e89"
             ],
             [
              0.6666666666666666,
              "#35b779"
             ],
             [
              0.7777777777777778,
              "#6ece58"
             ],
             [
              0.8888888888888888,
              "#b5de2b"
             ],
             [
              1,
              "#fde725"
             ]
            ],
            "type": "histogram2d"
           }
          ],
          "histogram2dcontour": [
           {
            "colorbar": {
             "outlinewidth": 1,
             "tickcolor": "rgb(36,36,36)",
             "ticks": "outside"
            },
            "colorscale": [
             [
              0,
              "#440154"
             ],
             [
              0.1111111111111111,
              "#482878"
             ],
             [
              0.2222222222222222,
              "#3e4989"
             ],
             [
              0.3333333333333333,
              "#31688e"
             ],
             [
              0.4444444444444444,
              "#26828e"
             ],
             [
              0.5555555555555556,
              "#1f9e89"
             ],
             [
              0.6666666666666666,
              "#35b779"
             ],
             [
              0.7777777777777778,
              "#6ece58"
             ],
             [
              0.8888888888888888,
              "#b5de2b"
             ],
             [
              1,
              "#fde725"
             ]
            ],
            "type": "histogram2dcontour"
           }
          ],
          "mesh3d": [
           {
            "colorbar": {
             "outlinewidth": 1,
             "tickcolor": "rgb(36,36,36)",
             "ticks": "outside"
            },
            "type": "mesh3d"
           }
          ],
          "parcoords": [
           {
            "line": {
             "colorbar": {
              "outlinewidth": 1,
              "tickcolor": "rgb(36,36,36)",
              "ticks": "outside"
             }
            },
            "type": "parcoords"
           }
          ],
          "pie": [
           {
            "automargin": true,
            "type": "pie"
           }
          ],
          "scatter": [
           {
            "fillpattern": {
             "fillmode": "overlay",
             "size": 10,
             "solidity": 0.2
            },
            "type": "scatter"
           }
          ],
          "scatter3d": [
           {
            "line": {
             "colorbar": {
              "outlinewidth": 1,
              "tickcolor": "rgb(36,36,36)",
              "ticks": "outside"
             }
            },
            "marker": {
             "colorbar": {
              "outlinewidth": 1,
              "tickcolor": "rgb(36,36,36)",
              "ticks": "outside"
             }
            },
            "type": "scatter3d"
           }
          ],
          "scattercarpet": [
           {
            "marker": {
             "colorbar": {
              "outlinewidth": 1,
              "tickcolor": "rgb(36,36,36)",
              "ticks": "outside"
             }
            },
            "type": "scattercarpet"
           }
          ],
          "scattergeo": [
           {
            "marker": {
             "colorbar": {
              "outlinewidth": 1,
              "tickcolor": "rgb(36,36,36)",
              "ticks": "outside"
             }
            },
            "type": "scattergeo"
           }
          ],
          "scattergl": [
           {
            "marker": {
             "colorbar": {
              "outlinewidth": 1,
              "tickcolor": "rgb(36,36,36)",
              "ticks": "outside"
             }
            },
            "type": "scattergl"
           }
          ],
          "scattermapbox": [
           {
            "marker": {
             "colorbar": {
              "outlinewidth": 1,
              "tickcolor": "rgb(36,36,36)",
              "ticks": "outside"
             }
            },
            "type": "scattermapbox"
           }
          ],
          "scatterpolar": [
           {
            "marker": {
             "colorbar": {
              "outlinewidth": 1,
              "tickcolor": "rgb(36,36,36)",
              "ticks": "outside"
             }
            },
            "type": "scatterpolar"
           }
          ],
          "scatterpolargl": [
           {
            "marker": {
             "colorbar": {
              "outlinewidth": 1,
              "tickcolor": "rgb(36,36,36)",
              "ticks": "outside"
             }
            },
            "type": "scatterpolargl"
           }
          ],
          "scatterternary": [
           {
            "marker": {
             "colorbar": {
              "outlinewidth": 1,
              "tickcolor": "rgb(36,36,36)",
              "ticks": "outside"
             }
            },
            "type": "scatterternary"
           }
          ],
          "surface": [
           {
            "colorbar": {
             "outlinewidth": 1,
             "tickcolor": "rgb(36,36,36)",
             "ticks": "outside"
            },
            "colorscale": [
             [
              0,
              "#440154"
             ],
             [
              0.1111111111111111,
              "#482878"
             ],
             [
              0.2222222222222222,
              "#3e4989"
             ],
             [
              0.3333333333333333,
              "#31688e"
             ],
             [
              0.4444444444444444,
              "#26828e"
             ],
             [
              0.5555555555555556,
              "#1f9e89"
             ],
             [
              0.6666666666666666,
              "#35b779"
             ],
             [
              0.7777777777777778,
              "#6ece58"
             ],
             [
              0.8888888888888888,
              "#b5de2b"
             ],
             [
              1,
              "#fde725"
             ]
            ],
            "type": "surface"
           }
          ],
          "table": [
           {
            "cells": {
             "fill": {
              "color": "rgb(237,237,237)"
             },
             "line": {
              "color": "white"
             }
            },
            "header": {
             "fill": {
              "color": "rgb(217,217,217)"
             },
             "line": {
              "color": "white"
             }
            },
            "type": "table"
           }
          ]
         },
         "layout": {
          "annotationdefaults": {
           "arrowhead": 0,
           "arrowwidth": 1
          },
          "autotypenumbers": "strict",
          "coloraxis": {
           "colorbar": {
            "outlinewidth": 1,
            "tickcolor": "rgb(36,36,36)",
            "ticks": "outside"
           }
          },
          "colorscale": {
           "diverging": [
            [
             0,
             "rgb(103,0,31)"
            ],
            [
             0.1,
             "rgb(178,24,43)"
            ],
            [
             0.2,
             "rgb(214,96,77)"
            ],
            [
             0.3,
             "rgb(244,165,130)"
            ],
            [
             0.4,
             "rgb(253,219,199)"
            ],
            [
             0.5,
             "rgb(247,247,247)"
            ],
            [
             0.6,
             "rgb(209,229,240)"
            ],
            [
             0.7,
             "rgb(146,197,222)"
            ],
            [
             0.8,
             "rgb(67,147,195)"
            ],
            [
             0.9,
             "rgb(33,102,172)"
            ],
            [
             1,
             "rgb(5,48,97)"
            ]
           ],
           "sequential": [
            [
             0,
             "#440154"
            ],
            [
             0.1111111111111111,
             "#482878"
            ],
            [
             0.2222222222222222,
             "#3e4989"
            ],
            [
             0.3333333333333333,
             "#31688e"
            ],
            [
             0.4444444444444444,
             "#26828e"
            ],
            [
             0.5555555555555556,
             "#1f9e89"
            ],
            [
             0.6666666666666666,
             "#35b779"
            ],
            [
             0.7777777777777778,
             "#6ece58"
            ],
            [
             0.8888888888888888,
             "#b5de2b"
            ],
            [
             1,
             "#fde725"
            ]
           ],
           "sequentialminus": [
            [
             0,
             "#440154"
            ],
            [
             0.1111111111111111,
             "#482878"
            ],
            [
             0.2222222222222222,
             "#3e4989"
            ],
            [
             0.3333333333333333,
             "#31688e"
            ],
            [
             0.4444444444444444,
             "#26828e"
            ],
            [
             0.5555555555555556,
             "#1f9e89"
            ],
            [
             0.6666666666666666,
             "#35b779"
            ],
            [
             0.7777777777777778,
             "#6ece58"
            ],
            [
             0.8888888888888888,
             "#b5de2b"
            ],
            [
             1,
             "#fde725"
            ]
           ]
          },
          "colorway": [
           "#1F77B4",
           "#FF7F0E",
           "#2CA02C",
           "#D62728",
           "#9467BD",
           "#8C564B",
           "#E377C2",
           "#7F7F7F",
           "#BCBD22",
           "#17BECF"
          ],
          "font": {
           "color": "rgb(36,36,36)"
          },
          "geo": {
           "bgcolor": "white",
           "lakecolor": "white",
           "landcolor": "white",
           "showlakes": true,
           "showland": true,
           "subunitcolor": "white"
          },
          "hoverlabel": {
           "align": "left"
          },
          "hovermode": "closest",
          "mapbox": {
           "style": "light"
          },
          "paper_bgcolor": "white",
          "plot_bgcolor": "white",
          "polar": {
           "angularaxis": {
            "gridcolor": "rgb(232,232,232)",
            "linecolor": "rgb(36,36,36)",
            "showgrid": false,
            "showline": true,
            "ticks": "outside"
           },
           "bgcolor": "white",
           "radialaxis": {
            "gridcolor": "rgb(232,232,232)",
            "linecolor": "rgb(36,36,36)",
            "showgrid": false,
            "showline": true,
            "ticks": "outside"
           }
          },
          "scene": {
           "xaxis": {
            "backgroundcolor": "white",
            "gridcolor": "rgb(232,232,232)",
            "gridwidth": 2,
            "linecolor": "rgb(36,36,36)",
            "showbackground": true,
            "showgrid": false,
            "showline": true,
            "ticks": "outside",
            "zeroline": false,
            "zerolinecolor": "rgb(36,36,36)"
           },
           "yaxis": {
            "backgroundcolor": "white",
            "gridcolor": "rgb(232,232,232)",
            "gridwidth": 2,
            "linecolor": "rgb(36,36,36)",
            "showbackground": true,
            "showgrid": false,
            "showline": true,
            "ticks": "outside",
            "zeroline": false,
            "zerolinecolor": "rgb(36,36,36)"
           },
           "zaxis": {
            "backgroundcolor": "white",
            "gridcolor": "rgb(232,232,232)",
            "gridwidth": 2,
            "linecolor": "rgb(36,36,36)",
            "showbackground": true,
            "showgrid": false,
            "showline": true,
            "ticks": "outside",
            "zeroline": false,
            "zerolinecolor": "rgb(36,36,36)"
           }
          },
          "shapedefaults": {
           "fillcolor": "black",
           "line": {
            "width": 0
           },
           "opacity": 0.3
          },
          "ternary": {
           "aaxis": {
            "gridcolor": "rgb(232,232,232)",
            "linecolor": "rgb(36,36,36)",
            "showgrid": false,
            "showline": true,
            "ticks": "outside"
           },
           "baxis": {
            "gridcolor": "rgb(232,232,232)",
            "linecolor": "rgb(36,36,36)",
            "showgrid": false,
            "showline": true,
            "ticks": "outside"
           },
           "bgcolor": "white",
           "caxis": {
            "gridcolor": "rgb(232,232,232)",
            "linecolor": "rgb(36,36,36)",
            "showgrid": false,
            "showline": true,
            "ticks": "outside"
           }
          },
          "title": {
           "x": 0.05
          },
          "xaxis": {
           "automargin": true,
           "gridcolor": "rgb(232,232,232)",
           "linecolor": "rgb(36,36,36)",
           "showgrid": false,
           "showline": true,
           "ticks": "outside",
           "title": {
            "standoff": 15
           },
           "zeroline": false,
           "zerolinecolor": "rgb(36,36,36)"
          },
          "yaxis": {
           "automargin": true,
           "gridcolor": "rgb(232,232,232)",
           "linecolor": "rgb(36,36,36)",
           "showgrid": false,
           "showline": true,
           "ticks": "outside",
           "title": {
            "standoff": 15
           },
           "zeroline": false,
           "zerolinecolor": "rgb(36,36,36)"
          }
         }
        },
        "title": {
         "font": {
          "color": "Black",
          "size": 22
         },
         "text": "<b>Intertopic Distance Map",
         "x": 0.5,
         "xanchor": "center",
         "y": 0.95,
         "yanchor": "top"
        },
        "width": 650,
        "xaxis": {
         "anchor": "y",
         "domain": [
          0,
          1
         ],
         "range": [
          -2.4174266695976256,
          19.68000364303589
         ],
         "title": {
          "text": ""
         },
         "visible": false
        },
        "yaxis": {
         "anchor": "x",
         "domain": [
          0,
          1
         ],
         "range": [
          -6.441039037704468,
          26.558716201782225
         ],
         "title": {
          "text": ""
         },
         "visible": false
        }
       }
      }
     },
     "metadata": {},
     "output_type": "display_data"
    }
   ],
   "source": [
    "model.visualize_topics()"
   ]
  },
  {
   "cell_type": "code",
   "execution_count": 9,
   "metadata": {},
   "outputs": [
    {
     "data": {
      "application/vnd.plotly.v1+json": {
       "config": {
        "plotlyServerURL": "https://plot.ly"
       },
       "data": [
        {
         "marker": {
          "color": "#D55E00"
         },
         "orientation": "h",
         "type": "bar",
         "x": [
          0.04055785892167579,
          0.042694473992328605,
          0.04545758472936135,
          0.14318130387060723,
          0.14318130387060723
         ],
         "xaxis": "x",
         "y": [
          "crime  ",
          "foto  ",
          "ffiohik8ms  ",
          "https  ",
          "co  "
         ],
         "yaxis": "y"
        },
        {
         "marker": {
          "color": "#0072B2"
         },
         "orientation": "h",
         "type": "bar",
         "x": [
          0.028389795985861044,
          0.03104389681357853,
          0.0320500737604863,
          0.03331833918057665,
          0.04081668431231023
         ],
         "xaxis": "x2",
         "y": [
          "de  ",
          "uma  ",
          "democracia  ",
          "carta  ",
          "que  "
         ],
         "yaxis": "y2"
        },
        {
         "marker": {
          "color": "#CC79A7"
         },
         "orientation": "h",
         "type": "bar",
         "x": [
          0.03736407562750993,
          0.04112789122033429,
          0.04949898387613771,
          0.050941880133583924,
          0.050941880133583924
         ],
         "xaxis": "x3",
         "y": [
          "equipelula  ",
          "brasildaesperança  ",
          "brasil  ",
          "https  ",
          "co  "
         ],
         "yaxis": "y3"
        },
        {
         "marker": {
          "color": "#E69F00"
         },
         "orientation": "h",
         "type": "bar",
         "x": [
          0.026594749260003835,
          0.02989237544853386,
          0.03342936389986721,
          0.03441058550383569,
          0.039994569479187066
         ],
         "xaxis": "x4",
         "y": [
          "era  ",
          "menor  ",
          "em  ",
          "redução  ",
          "de  "
         ],
         "yaxis": "y4"
        },
        {
         "marker": {
          "color": "#56B4E9"
         },
         "orientation": "h",
         "type": "bar",
         "x": [
          0.03270756471432917,
          0.03984367341951667,
          0.046635892742260675,
          0.05105321483971269,
          0.05953206407708236
         ],
         "xaxis": "x5",
         "y": [
          "um  ",
          "mínima  ",
          "de  ",
          "renda  ",
          "programa  "
         ],
         "yaxis": "y5"
        }
       ],
       "layout": {
        "annotations": [
         {
          "font": {
           "size": 16
          },
          "showarrow": false,
          "text": "Topic 0",
          "x": 0.0875,
          "xanchor": "center",
          "xref": "paper",
          "y": 1,
          "yanchor": "bottom",
          "yref": "paper"
         },
         {
          "font": {
           "size": 16
          },
          "showarrow": false,
          "text": "Topic 1",
          "x": 0.36250000000000004,
          "xanchor": "center",
          "xref": "paper",
          "y": 1,
          "yanchor": "bottom",
          "yref": "paper"
         },
         {
          "font": {
           "size": 16
          },
          "showarrow": false,
          "text": "Topic 2",
          "x": 0.6375000000000001,
          "xanchor": "center",
          "xref": "paper",
          "y": 1,
          "yanchor": "bottom",
          "yref": "paper"
         },
         {
          "font": {
           "size": 16
          },
          "showarrow": false,
          "text": "Topic 3",
          "x": 0.9125,
          "xanchor": "center",
          "xref": "paper",
          "y": 1,
          "yanchor": "bottom",
          "yref": "paper"
         },
         {
          "font": {
           "size": 16
          },
          "showarrow": false,
          "text": "Topic 4",
          "x": 0.0875,
          "xanchor": "center",
          "xref": "paper",
          "y": 0.4,
          "yanchor": "bottom",
          "yref": "paper"
         }
        ],
        "height": 500,
        "hoverlabel": {
         "bgcolor": "white",
         "font": {
          "family": "Rockwell",
          "size": 16
         }
        },
        "showlegend": false,
        "template": {
         "data": {
          "bar": [
           {
            "error_x": {
             "color": "#2a3f5f"
            },
            "error_y": {
             "color": "#2a3f5f"
            },
            "marker": {
             "line": {
              "color": "white",
              "width": 0.5
             },
             "pattern": {
              "fillmode": "overlay",
              "size": 10,
              "solidity": 0.2
             }
            },
            "type": "bar"
           }
          ],
          "barpolar": [
           {
            "marker": {
             "line": {
              "color": "white",
              "width": 0.5
             },
             "pattern": {
              "fillmode": "overlay",
              "size": 10,
              "solidity": 0.2
             }
            },
            "type": "barpolar"
           }
          ],
          "carpet": [
           {
            "aaxis": {
             "endlinecolor": "#2a3f5f",
             "gridcolor": "#C8D4E3",
             "linecolor": "#C8D4E3",
             "minorgridcolor": "#C8D4E3",
             "startlinecolor": "#2a3f5f"
            },
            "baxis": {
             "endlinecolor": "#2a3f5f",
             "gridcolor": "#C8D4E3",
             "linecolor": "#C8D4E3",
             "minorgridcolor": "#C8D4E3",
             "startlinecolor": "#2a3f5f"
            },
            "type": "carpet"
           }
          ],
          "choropleth": [
           {
            "colorbar": {
             "outlinewidth": 0,
             "ticks": ""
            },
            "type": "choropleth"
           }
          ],
          "contour": [
           {
            "colorbar": {
             "outlinewidth": 0,
             "ticks": ""
            },
            "colorscale": [
             [
              0,
              "#0d0887"
             ],
             [
              0.1111111111111111,
              "#46039f"
             ],
             [
              0.2222222222222222,
              "#7201a8"
             ],
             [
              0.3333333333333333,
              "#9c179e"
             ],
             [
              0.4444444444444444,
              "#bd3786"
             ],
             [
              0.5555555555555556,
              "#d8576b"
             ],
             [
              0.6666666666666666,
              "#ed7953"
             ],
             [
              0.7777777777777778,
              "#fb9f3a"
             ],
             [
              0.8888888888888888,
              "#fdca26"
             ],
             [
              1,
              "#f0f921"
             ]
            ],
            "type": "contour"
           }
          ],
          "contourcarpet": [
           {
            "colorbar": {
             "outlinewidth": 0,
             "ticks": ""
            },
            "type": "contourcarpet"
           }
          ],
          "heatmap": [
           {
            "colorbar": {
             "outlinewidth": 0,
             "ticks": ""
            },
            "colorscale": [
             [
              0,
              "#0d0887"
             ],
             [
              0.1111111111111111,
              "#46039f"
             ],
             [
              0.2222222222222222,
              "#7201a8"
             ],
             [
              0.3333333333333333,
              "#9c179e"
             ],
             [
              0.4444444444444444,
              "#bd3786"
             ],
             [
              0.5555555555555556,
              "#d8576b"
             ],
             [
              0.6666666666666666,
              "#ed7953"
             ],
             [
              0.7777777777777778,
              "#fb9f3a"
             ],
             [
              0.8888888888888888,
              "#fdca26"
             ],
             [
              1,
              "#f0f921"
             ]
            ],
            "type": "heatmap"
           }
          ],
          "heatmapgl": [
           {
            "colorbar": {
             "outlinewidth": 0,
             "ticks": ""
            },
            "colorscale": [
             [
              0,
              "#0d0887"
             ],
             [
              0.1111111111111111,
              "#46039f"
             ],
             [
              0.2222222222222222,
              "#7201a8"
             ],
             [
              0.3333333333333333,
              "#9c179e"
             ],
             [
              0.4444444444444444,
              "#bd3786"
             ],
             [
              0.5555555555555556,
              "#d8576b"
             ],
             [
              0.6666666666666666,
              "#ed7953"
             ],
             [
              0.7777777777777778,
              "#fb9f3a"
             ],
             [
              0.8888888888888888,
              "#fdca26"
             ],
             [
              1,
              "#f0f921"
             ]
            ],
            "type": "heatmapgl"
           }
          ],
          "histogram": [
           {
            "marker": {
             "pattern": {
              "fillmode": "overlay",
              "size": 10,
              "solidity": 0.2
             }
            },
            "type": "histogram"
           }
          ],
          "histogram2d": [
           {
            "colorbar": {
             "outlinewidth": 0,
             "ticks": ""
            },
            "colorscale": [
             [
              0,
              "#0d0887"
             ],
             [
              0.1111111111111111,
              "#46039f"
             ],
             [
              0.2222222222222222,
              "#7201a8"
             ],
             [
              0.3333333333333333,
              "#9c179e"
             ],
             [
              0.4444444444444444,
              "#bd3786"
             ],
             [
              0.5555555555555556,
              "#d8576b"
             ],
             [
              0.6666666666666666,
              "#ed7953"
             ],
             [
              0.7777777777777778,
              "#fb9f3a"
             ],
             [
              0.8888888888888888,
              "#fdca26"
             ],
             [
              1,
              "#f0f921"
             ]
            ],
            "type": "histogram2d"
           }
          ],
          "histogram2dcontour": [
           {
            "colorbar": {
             "outlinewidth": 0,
             "ticks": ""
            },
            "colorscale": [
             [
              0,
              "#0d0887"
             ],
             [
              0.1111111111111111,
              "#46039f"
             ],
             [
              0.2222222222222222,
              "#7201a8"
             ],
             [
              0.3333333333333333,
              "#9c179e"
             ],
             [
              0.4444444444444444,
              "#bd3786"
             ],
             [
              0.5555555555555556,
              "#d8576b"
             ],
             [
              0.6666666666666666,
              "#ed7953"
             ],
             [
              0.7777777777777778,
              "#fb9f3a"
             ],
             [
              0.8888888888888888,
              "#fdca26"
             ],
             [
              1,
              "#f0f921"
             ]
            ],
            "type": "histogram2dcontour"
           }
          ],
          "mesh3d": [
           {
            "colorbar": {
             "outlinewidth": 0,
             "ticks": ""
            },
            "type": "mesh3d"
           }
          ],
          "parcoords": [
           {
            "line": {
             "colorbar": {
              "outlinewidth": 0,
              "ticks": ""
             }
            },
            "type": "parcoords"
           }
          ],
          "pie": [
           {
            "automargin": true,
            "type": "pie"
           }
          ],
          "scatter": [
           {
            "fillpattern": {
             "fillmode": "overlay",
             "size": 10,
             "solidity": 0.2
            },
            "type": "scatter"
           }
          ],
          "scatter3d": [
           {
            "line": {
             "colorbar": {
              "outlinewidth": 0,
              "ticks": ""
             }
            },
            "marker": {
             "colorbar": {
              "outlinewidth": 0,
              "ticks": ""
             }
            },
            "type": "scatter3d"
           }
          ],
          "scattercarpet": [
           {
            "marker": {
             "colorbar": {
              "outlinewidth": 0,
              "ticks": ""
             }
            },
            "type": "scattercarpet"
           }
          ],
          "scattergeo": [
           {
            "marker": {
             "colorbar": {
              "outlinewidth": 0,
              "ticks": ""
             }
            },
            "type": "scattergeo"
           }
          ],
          "scattergl": [
           {
            "marker": {
             "colorbar": {
              "outlinewidth": 0,
              "ticks": ""
             }
            },
            "type": "scattergl"
           }
          ],
          "scattermapbox": [
           {
            "marker": {
             "colorbar": {
              "outlinewidth": 0,
              "ticks": ""
             }
            },
            "type": "scattermapbox"
           }
          ],
          "scatterpolar": [
           {
            "marker": {
             "colorbar": {
              "outlinewidth": 0,
              "ticks": ""
             }
            },
            "type": "scatterpolar"
           }
          ],
          "scatterpolargl": [
           {
            "marker": {
             "colorbar": {
              "outlinewidth": 0,
              "ticks": ""
             }
            },
            "type": "scatterpolargl"
           }
          ],
          "scatterternary": [
           {
            "marker": {
             "colorbar": {
              "outlinewidth": 0,
              "ticks": ""
             }
            },
            "type": "scatterternary"
           }
          ],
          "surface": [
           {
            "colorbar": {
             "outlinewidth": 0,
             "ticks": ""
            },
            "colorscale": [
             [
              0,
              "#0d0887"
             ],
             [
              0.1111111111111111,
              "#46039f"
             ],
             [
              0.2222222222222222,
              "#7201a8"
             ],
             [
              0.3333333333333333,
              "#9c179e"
             ],
             [
              0.4444444444444444,
              "#bd3786"
             ],
             [
              0.5555555555555556,
              "#d8576b"
             ],
             [
              0.6666666666666666,
              "#ed7953"
             ],
             [
              0.7777777777777778,
              "#fb9f3a"
             ],
             [
              0.8888888888888888,
              "#fdca26"
             ],
             [
              1,
              "#f0f921"
             ]
            ],
            "type": "surface"
           }
          ],
          "table": [
           {
            "cells": {
             "fill": {
              "color": "#EBF0F8"
             },
             "line": {
              "color": "white"
             }
            },
            "header": {
             "fill": {
              "color": "#C8D4E3"
             },
             "line": {
              "color": "white"
             }
            },
            "type": "table"
           }
          ]
         },
         "layout": {
          "annotationdefaults": {
           "arrowcolor": "#2a3f5f",
           "arrowhead": 0,
           "arrowwidth": 1
          },
          "autotypenumbers": "strict",
          "coloraxis": {
           "colorbar": {
            "outlinewidth": 0,
            "ticks": ""
           }
          },
          "colorscale": {
           "diverging": [
            [
             0,
             "#8e0152"
            ],
            [
             0.1,
             "#c51b7d"
            ],
            [
             0.2,
             "#de77ae"
            ],
            [
             0.3,
             "#f1b6da"
            ],
            [
             0.4,
             "#fde0ef"
            ],
            [
             0.5,
             "#f7f7f7"
            ],
            [
             0.6,
             "#e6f5d0"
            ],
            [
             0.7,
             "#b8e186"
            ],
            [
             0.8,
             "#7fbc41"
            ],
            [
             0.9,
             "#4d9221"
            ],
            [
             1,
             "#276419"
            ]
           ],
           "sequential": [
            [
             0,
             "#0d0887"
            ],
            [
             0.1111111111111111,
             "#46039f"
            ],
            [
             0.2222222222222222,
             "#7201a8"
            ],
            [
             0.3333333333333333,
             "#9c179e"
            ],
            [
             0.4444444444444444,
             "#bd3786"
            ],
            [
             0.5555555555555556,
             "#d8576b"
            ],
            [
             0.6666666666666666,
             "#ed7953"
            ],
            [
             0.7777777777777778,
             "#fb9f3a"
            ],
            [
             0.8888888888888888,
             "#fdca26"
            ],
            [
             1,
             "#f0f921"
            ]
           ],
           "sequentialminus": [
            [
             0,
             "#0d0887"
            ],
            [
             0.1111111111111111,
             "#46039f"
            ],
            [
             0.2222222222222222,
             "#7201a8"
            ],
            [
             0.3333333333333333,
             "#9c179e"
            ],
            [
             0.4444444444444444,
             "#bd3786"
            ],
            [
             0.5555555555555556,
             "#d8576b"
            ],
            [
             0.6666666666666666,
             "#ed7953"
            ],
            [
             0.7777777777777778,
             "#fb9f3a"
            ],
            [
             0.8888888888888888,
             "#fdca26"
            ],
            [
             1,
             "#f0f921"
            ]
           ]
          },
          "colorway": [
           "#636efa",
           "#EF553B",
           "#00cc96",
           "#ab63fa",
           "#FFA15A",
           "#19d3f3",
           "#FF6692",
           "#B6E880",
           "#FF97FF",
           "#FECB52"
          ],
          "font": {
           "color": "#2a3f5f"
          },
          "geo": {
           "bgcolor": "white",
           "lakecolor": "white",
           "landcolor": "white",
           "showlakes": true,
           "showland": true,
           "subunitcolor": "#C8D4E3"
          },
          "hoverlabel": {
           "align": "left"
          },
          "hovermode": "closest",
          "mapbox": {
           "style": "light"
          },
          "paper_bgcolor": "white",
          "plot_bgcolor": "white",
          "polar": {
           "angularaxis": {
            "gridcolor": "#EBF0F8",
            "linecolor": "#EBF0F8",
            "ticks": ""
           },
           "bgcolor": "white",
           "radialaxis": {
            "gridcolor": "#EBF0F8",
            "linecolor": "#EBF0F8",
            "ticks": ""
           }
          },
          "scene": {
           "xaxis": {
            "backgroundcolor": "white",
            "gridcolor": "#DFE8F3",
            "gridwidth": 2,
            "linecolor": "#EBF0F8",
            "showbackground": true,
            "ticks": "",
            "zerolinecolor": "#EBF0F8"
           },
           "yaxis": {
            "backgroundcolor": "white",
            "gridcolor": "#DFE8F3",
            "gridwidth": 2,
            "linecolor": "#EBF0F8",
            "showbackground": true,
            "ticks": "",
            "zerolinecolor": "#EBF0F8"
           },
           "zaxis": {
            "backgroundcolor": "white",
            "gridcolor": "#DFE8F3",
            "gridwidth": 2,
            "linecolor": "#EBF0F8",
            "showbackground": true,
            "ticks": "",
            "zerolinecolor": "#EBF0F8"
           }
          },
          "shapedefaults": {
           "line": {
            "color": "#2a3f5f"
           }
          },
          "ternary": {
           "aaxis": {
            "gridcolor": "#DFE8F3",
            "linecolor": "#A2B1C6",
            "ticks": ""
           },
           "baxis": {
            "gridcolor": "#DFE8F3",
            "linecolor": "#A2B1C6",
            "ticks": ""
           },
           "bgcolor": "white",
           "caxis": {
            "gridcolor": "#DFE8F3",
            "linecolor": "#A2B1C6",
            "ticks": ""
           }
          },
          "title": {
           "x": 0.05
          },
          "xaxis": {
           "automargin": true,
           "gridcolor": "#EBF0F8",
           "linecolor": "#EBF0F8",
           "ticks": "",
           "title": {
            "standoff": 15
           },
           "zerolinecolor": "#EBF0F8",
           "zerolinewidth": 2
          },
          "yaxis": {
           "automargin": true,
           "gridcolor": "#EBF0F8",
           "linecolor": "#EBF0F8",
           "ticks": "",
           "title": {
            "standoff": 15
           },
           "zerolinecolor": "#EBF0F8",
           "zerolinewidth": 2
          }
         }
        },
        "title": {
         "font": {
          "color": "Black",
          "size": 22
         },
         "text": "<b>Topic Word Scores",
         "x": 0.5,
         "xanchor": "center",
         "yanchor": "top"
        },
        "width": 1000,
        "xaxis": {
         "anchor": "y",
         "domain": [
          0,
          0.175
         ],
         "showgrid": true
        },
        "xaxis2": {
         "anchor": "y2",
         "domain": [
          0.275,
          0.45
         ],
         "showgrid": true
        },
        "xaxis3": {
         "anchor": "y3",
         "domain": [
          0.55,
          0.7250000000000001
         ],
         "showgrid": true
        },
        "xaxis4": {
         "anchor": "y4",
         "domain": [
          0.825,
          1
         ],
         "showgrid": true
        },
        "xaxis5": {
         "anchor": "y5",
         "domain": [
          0,
          0.175
         ],
         "showgrid": true
        },
        "xaxis6": {
         "anchor": "y6",
         "domain": [
          0.275,
          0.45
         ],
         "showgrid": true
        },
        "xaxis7": {
         "anchor": "y7",
         "domain": [
          0.55,
          0.7250000000000001
         ],
         "showgrid": true
        },
        "xaxis8": {
         "anchor": "y8",
         "domain": [
          0.825,
          1
         ],
         "showgrid": true
        },
        "yaxis": {
         "anchor": "x",
         "domain": [
          0.6000000000000001,
          1
         ],
         "showgrid": true
        },
        "yaxis2": {
         "anchor": "x2",
         "domain": [
          0.6000000000000001,
          1
         ],
         "showgrid": true
        },
        "yaxis3": {
         "anchor": "x3",
         "domain": [
          0.6000000000000001,
          1
         ],
         "showgrid": true
        },
        "yaxis4": {
         "anchor": "x4",
         "domain": [
          0.6000000000000001,
          1
         ],
         "showgrid": true
        },
        "yaxis5": {
         "anchor": "x5",
         "domain": [
          0,
          0.4
         ],
         "showgrid": true
        },
        "yaxis6": {
         "anchor": "x6",
         "domain": [
          0,
          0.4
         ],
         "showgrid": true
        },
        "yaxis7": {
         "anchor": "x7",
         "domain": [
          0,
          0.4
         ],
         "showgrid": true
        },
        "yaxis8": {
         "anchor": "x8",
         "domain": [
          0,
          0.4
         ],
         "showgrid": true
        }
       }
      }
     },
     "metadata": {},
     "output_type": "display_data"
    }
   ],
   "source": [
    "model.visualize_barchart(top_n_topics=5)"
   ]
  },
  {
   "cell_type": "code",
   "execution_count": 11,
   "metadata": {},
   "outputs": [
    {
     "data": {
      "application/vnd.plotly.v1+json": {
       "config": {
        "plotlyServerURL": "https://plot.ly"
       },
       "data": [
        {
         "coloraxis": "coloraxis",
         "hovertemplate": "x: %{x}<br>y: %{y}<br>Similarity Score: %{z}<extra></extra>",
         "name": "0",
         "type": "heatmap",
         "x": [
          "0_co_https_ffiohik8ms",
          "1_que_carta_democracia",
          "2_co_https_brasil",
          "3_de_redução_em",
          "4_programa_renda_de",
          "5_recuperar_brasil_para",
          "6_obrigado_todos_vivo",
          "7_lula_equipelula_https",
          "8_08_2022_giro",
          "9_vamos_brasil_país",
          "10_eu_voto_eleição",
          "11_governador_estarei_na",
          "12_melhor_pais_dia",
          "13_ele_bolsonaro_porque",
          "14_gente_gerar_quer",
          "15_sobre_ciro_cironorodaviva",
          "16_deus_se_irmão",
          "17_ano_ton_safra",
          "18_bolsonaro_jair_pr",
          "19_cirão_app_jéssica",
          "20_francisco_entenda_transp...",
          "21_maconha_kg_de",
          "22_de_você_governo",
          "23_podem_mim_que",
          "24_política_ao_servir"
         ],
         "xaxis": "x",
         "y": [
          "0_co_https_ffiohik8ms",
          "1_que_carta_democracia",
          "2_co_https_brasil",
          "3_de_redução_em",
          "4_programa_renda_de",
          "5_recuperar_brasil_para",
          "6_obrigado_todos_vivo",
          "7_lula_equipelula_https",
          "8_08_2022_giro",
          "9_vamos_brasil_país",
          "10_eu_voto_eleição",
          "11_governador_estarei_na",
          "12_melhor_pais_dia",
          "13_ele_bolsonaro_porque",
          "14_gente_gerar_quer",
          "15_sobre_ciro_cironorodaviva",
          "16_deus_se_irmão",
          "17_ano_ton_safra",
          "18_bolsonaro_jair_pr",
          "19_cirão_app_jéssica",
          "20_francisco_entenda_transp...",
          "21_maconha_kg_de",
          "22_de_você_governo",
          "23_podem_mim_que",
          "24_política_ao_servir"
         ],
         "yaxis": "y",
         "z": [
          [
           1.0000000000000002,
           0.89472850480613,
           0.9430308203102105,
           0.9100816206513842,
           0.9240287557523201,
           0.9381120460063421,
           0.8600015278978305,
           0.9068124711272629,
           0.9639780051180091,
           0.8773647604024408,
           0.8696184805251914,
           0.8078670353033874,
           0.8464821057642602,
           0.9250151487278242,
           0.9318933646574181,
           0.9224325799815574,
           0.9739738082336016,
           0.9258303583857689,
           0.9007313232997964,
           0.9141617936448194,
           0.8877013478292491,
           0.9252268490782936,
           0.8910232857288487,
           0.8724897802392122,
           0.9499442604054911
          ],
          [
           0.89472850480613,
           1,
           0.8332927024205621,
           0.8378116798499421,
           0.8062976939213472,
           0.8098607140043614,
           0.6966560130983117,
           0.8597246776172481,
           0.9209748373556973,
           0.7992629815218624,
           0.7205035703990036,
           0.7047438627338476,
           0.7127732778389058,
           0.7877128654019186,
           0.8003032990560013,
           0.8197240142658909,
           0.8801347067834675,
           0.798586333406705,
           0.7946008718683215,
           0.8793991562203872,
           0.7756370450509036,
           0.7979907018485033,
           0.8059481689006541,
           0.7910851311833356,
           0.821990979925177
          ],
          [
           0.9430308203102105,
           0.8332927024205621,
           0.9999999999999998,
           0.8768908169348677,
           0.9135032194736572,
           0.9153348588751571,
           0.8435964592936013,
           0.9052384576411343,
           0.903296048208758,
           0.8655549480192409,
           0.8836726684120177,
           0.8858711261523429,
           0.8851770156934249,
           0.9335879036015378,
           0.9478803795365617,
           0.9310991935673497,
           0.9401922683882842,
           0.9193644159226866,
           0.8824544140101014,
           0.8910694459971459,
           0.8776185650722128,
           0.904118701319414,
           0.8733919611465814,
           0.888293914259784,
           0.944086401892839
          ],
          [
           0.9100816206513842,
           0.8378116798499421,
           0.8768908169348677,
           1.0000000000000004,
           0.8412631653519635,
           0.853568106995334,
           0.9167877391076515,
           0.8454164471679352,
           0.9053435300110212,
           0.822312722591588,
           0.9271465077728513,
           0.7641990794475803,
           0.8012214291046975,
           0.8492296428918799,
           0.8718803751194264,
           0.8679013786273315,
           0.9039265367282276,
           0.8357948277383652,
           0.84117916471469,
           0.8605381694053527,
           0.8256077981178989,
           0.8600860599586171,
           0.824734173263967,
           0.8087899374565538,
           0.8781719591774704
          ],
          [
           0.9240287557523201,
           0.8062976939213472,
           0.9135032194736572,
           0.8412631653519635,
           1.0000000000000004,
           0.9488389069262702,
           0.8603260403284358,
           0.8508714587225101,
           0.8908599249602294,
           0.891377384750657,
           0.8417734900784224,
           0.801415545997859,
           0.8230883495490735,
           0.8982562309373232,
           0.895208232903933,
           0.9180021803926792,
           0.9122656303785166,
           0.9014670572740431,
           0.901161206962998,
           0.9033901830498285,
           0.8797017033868637,
           0.9152564680914701,
           0.910626766525213,
           0.8823395646969225,
           0.9152248785826732
          ],
          [
           0.9381120460063421,
           0.8098607140043614,
           0.9153348588751571,
           0.853568106995334,
           0.9488389069262702,
           0.9999999999999999,
           0.8624001404994288,
           0.8606151660088286,
           0.9134840270936413,
           0.8887810640490825,
           0.8460805601552474,
           0.791270391505739,
           0.8308379000554669,
           0.9092238085364703,
           0.9021607743881276,
           0.933594768431948,
           0.9322039717235895,
           0.9255691864611266,
           0.9165140935643128,
           0.9056950229735508,
           0.912380434842145,
           0.9183154017670597,
           0.9194204834274328,
           0.8738370114004088,
           0.928799108350149
          ],
          [
           0.8600015278978305,
           0.6966560130983117,
           0.8435964592936013,
           0.9167877391076515,
           0.8603260403284358,
           0.8624001404994288,
           0.9999999999999991,
           0.7761236020681661,
           0.8167022377791642,
           0.7818194758624198,
           0.934623039908635,
           0.7332800690098111,
           0.7882072758223833,
           0.8373670519550414,
           0.8485186320630878,
           0.8599750718454524,
           0.8566997060878505,
           0.8171125325891689,
           0.8448969005237414,
           0.8210486415605596,
           0.8285956478724836,
           0.8677821453155556,
           0.8336547425144576,
           0.8109251634530306,
           0.8557791838348007
          ],
          [
           0.9068124711272629,
           0.8597246776172481,
           0.9052384576411343,
           0.8454164471679352,
           0.8508714587225101,
           0.8606151660088286,
           0.7761236020681661,
           0.9999999999999998,
           0.8971250852515111,
           0.8314958426397588,
           0.8203039817839242,
           0.8103692399487832,
           0.8007468270149796,
           0.8893656623279012,
           0.8846573166358047,
           0.8667697154724079,
           0.9075708859444575,
           0.8700513442529472,
           0.8198099366890312,
           0.8629214884946066,
           0.8210087675917784,
           0.8530665193653575,
           0.8167647517493717,
           0.8096782745357376,
           0.899563635590288
          ],
          [
           0.9639780051180091,
           0.9209748373556973,
           0.903296048208758,
           0.9053435300110212,
           0.8908599249602294,
           0.9134840270936413,
           0.8167022377791642,
           0.8971250852515111,
           1,
           0.862669728209266,
           0.8284976385888825,
           0.7714279687016774,
           0.8204742506425167,
           0.8837824934378912,
           0.8826404331314757,
           0.9124077472092604,
           0.9548155699175527,
           0.889849846339212,
           0.8948303696028646,
           0.9048485764779672,
           0.8884420126821968,
           0.890945396427703,
           0.8686646654056658,
           0.852027785994656,
           0.9232697484823231
          ],
          [
           0.8773647604024408,
           0.7992629815218624,
           0.8655549480192409,
           0.822312722591588,
           0.891377384750657,
           0.8887810640490825,
           0.7818194758624198,
           0.8314958426397588,
           0.862669728209266,
           0.9999999999999998,
           0.8056487198035134,
           0.7727424948332776,
           0.7962612729680623,
           0.846641272358331,
           0.8589930149431768,
           0.892748623887655,
           0.8846195435341214,
           0.8413894024933636,
           0.8651894592085545,
           0.911828836054049,
           0.8383951509893501,
           0.8583104263864418,
           0.8345498919955241,
           0.8242939652047108,
           0.8653995783516519
          ],
          [
           0.8696184805251914,
           0.7205035703990036,
           0.8836726684120177,
           0.9271465077728513,
           0.8417734900784224,
           0.8460805601552474,
           0.934623039908635,
           0.8203039817839242,
           0.8284976385888825,
           0.8056487198035134,
           1,
           0.7764800083461297,
           0.8378390329485833,
           0.8814184052333474,
           0.8770040317165784,
           0.8969911815378695,
           0.8758478054617163,
           0.8478795079949987,
           0.8495388199622183,
           0.8141584621794133,
           0.8151774209640822,
           0.87423277004288,
           0.8108934295241174,
           0.8078331858275176,
           0.8787291963710935
          ],
          [
           0.8078670353033874,
           0.7047438627338476,
           0.8858711261523429,
           0.7641990794475803,
           0.801415545997859,
           0.791270391505739,
           0.7332800690098111,
           0.8103692399487832,
           0.7714279687016774,
           0.7727424948332776,
           0.7764800083461297,
           0.9999999999999991,
           0.8293374681227881,
           0.805199628935156,
           0.86499914076863,
           0.8217827558696044,
           0.8085124306315137,
           0.7793912614312468,
           0.7648249056558458,
           0.7831859070735518,
           0.766852944086576,
           0.7763103331774869,
           0.7414036968924392,
           0.7960208825103869,
           0.815722083162306
          ],
          [
           0.8464821057642602,
           0.7127732778389058,
           0.8851770156934249,
           0.8012214291046975,
           0.8230883495490735,
           0.8308379000554669,
           0.7882072758223833,
           0.8007468270149796,
           0.8204742506425167,
           0.7962612729680623,
           0.8378390329485833,
           0.8293374681227881,
           1,
           0.8759909252535487,
           0.8936206586985345,
           0.8674300494897285,
           0.8373050975735601,
           0.8653674617124356,
           0.8312137360753094,
           0.8195445390810562,
           0.823445194575951,
           0.8234026158447036,
           0.7912939939572879,
           0.8393274009728225,
           0.8631306136861994
          ],
          [
           0.9250151487278242,
           0.7877128654019186,
           0.9335879036015378,
           0.8492296428918799,
           0.8982562309373232,
           0.9092238085364703,
           0.8373670519550414,
           0.8893656623279012,
           0.8837824934378912,
           0.846641272358331,
           0.8814184052333474,
           0.805199628935156,
           0.8759909252535487,
           1.0000000000000004,
           0.9337321760940016,
           0.9098649584895606,
           0.9154680164285716,
           0.9590724866817342,
           0.8723649684378474,
           0.8533447262419865,
           0.8738761818847232,
           0.9019471284435667,
           0.8578980660199064,
           0.8453696177810592,
           0.9349017811813036
          ],
          [
           0.9318933646574181,
           0.8003032990560013,
           0.9478803795365617,
           0.8718803751194264,
           0.895208232903933,
           0.9021607743881276,
           0.8485186320630878,
           0.8846573166358047,
           0.8826404331314757,
           0.8589930149431768,
           0.8770040317165784,
           0.86499914076863,
           0.8936206586985345,
           0.9337321760940016,
           0.9999999999999997,
           0.9070706995722835,
           0.9186927003094739,
           0.9326478666441893,
           0.8681065200679647,
           0.8831454490111466,
           0.8633529868032905,
           0.897405232907349,
           0.8530465875507514,
           0.8474070250269832,
           0.9496082371386264
          ],
          [
           0.9224325799815574,
           0.8197240142658909,
           0.9310991935673497,
           0.8679013786273315,
           0.9180021803926792,
           0.933594768431948,
           0.8599750718454524,
           0.8667697154724079,
           0.9124077472092604,
           0.892748623887655,
           0.8969911815378695,
           0.8217827558696044,
           0.8674300494897285,
           0.9098649584895606,
           0.9070706995722835,
           0.9999999999999998,
           0.9285210547706637,
           0.8974441440798029,
           0.9364210500291164,
           0.8923145072428086,
           0.8934894732072299,
           0.9025946710399906,
           0.8847074951033351,
           0.8997604430560371,
           0.9248963847334135
          ],
          [
           0.9739738082336016,
           0.8801347067834675,
           0.9401922683882842,
           0.9039265367282276,
           0.9122656303785166,
           0.9322039717235895,
           0.8566997060878505,
           0.9075708859444575,
           0.9548155699175527,
           0.8846195435341214,
           0.8758478054617163,
           0.8085124306315137,
           0.8373050975735601,
           0.9154680164285716,
           0.9186927003094739,
           0.9285210547706637,
           1.0000000000000004,
           0.9105565200359409,
           0.9015813856770112,
           0.9065164130813919,
           0.8870940917434336,
           0.9332206437421761,
           0.8845148243351524,
           0.8554107527096537,
           0.9426762777861146
          ],
          [
           0.9258303583857689,
           0.798586333406705,
           0.9193644159226866,
           0.8357948277383652,
           0.9014670572740431,
           0.9255691864611266,
           0.8171125325891689,
           0.8700513442529472,
           0.889849846339212,
           0.8413894024933636,
           0.8478795079949987,
           0.7793912614312468,
           0.8653674617124356,
           0.9590724866817342,
           0.9326478666441893,
           0.8974441440798029,
           0.9105565200359409,
           0.9999999999999999,
           0.8798858642111894,
           0.860554676020143,
           0.8733529372272923,
           0.9019069386876171,
           0.876465022546673,
           0.837169459275676,
           0.9390677180301988
          ],
          [
           0.9007313232997964,
           0.7946008718683215,
           0.8824544140101014,
           0.84117916471469,
           0.901161206962998,
           0.9165140935643128,
           0.8448969005237414,
           0.8198099366890312,
           0.8948303696028646,
           0.8651894592085545,
           0.8495388199622183,
           0.7648249056558458,
           0.8312137360753094,
           0.8723649684378474,
           0.8681065200679647,
           0.9364210500291164,
           0.9015813856770112,
           0.8798858642111894,
           1,
           0.8732550270155446,
           0.8662633939419937,
           0.8914499604450651,
           0.88115354042909,
           0.8852513092948318,
           0.8972251324403779
          ],
          [
           0.9141617936448194,
           0.8793991562203872,
           0.8910694459971459,
           0.8605381694053527,
           0.9033901830498285,
           0.9056950229735508,
           0.8210486415605596,
           0.8629214884946066,
           0.9048485764779672,
           0.911828836054049,
           0.8141584621794133,
           0.7831859070735518,
           0.8195445390810562,
           0.8533447262419865,
           0.8831454490111466,
           0.8923145072428086,
           0.9065164130813919,
           0.860554676020143,
           0.8732550270155446,
           1.0000000000000002,
           0.8356945995947187,
           0.8778528720452974,
           0.87990673947131,
           0.8680721563213707,
           0.8795389275769135
          ],
          [
           0.8877013478292491,
           0.7756370450509036,
           0.8776185650722128,
           0.8256077981178989,
           0.8797017033868637,
           0.912380434842145,
           0.8285956478724836,
           0.8210087675917784,
           0.8884420126821968,
           0.8383951509893501,
           0.8151774209640822,
           0.766852944086576,
           0.823445194575951,
           0.8738761818847232,
           0.8633529868032905,
           0.8934894732072299,
           0.8870940917434336,
           0.8733529372272923,
           0.8662633939419937,
           0.8356945995947187,
           1.0000000000000002,
           0.8707531940620498,
           0.8534021248866265,
           0.8112723865420024,
           0.8934867732792018
          ],
          [
           0.9252268490782936,
           0.7979907018485033,
           0.904118701319414,
           0.8600860599586171,
           0.9152564680914701,
           0.9183154017670597,
           0.8677821453155556,
           0.8530665193653575,
           0.890945396427703,
           0.8583104263864418,
           0.87423277004288,
           0.7763103331774869,
           0.8234026158447036,
           0.9019471284435667,
           0.897405232907349,
           0.9025946710399906,
           0.9332206437421761,
           0.9019069386876171,
           0.8914499604450651,
           0.8778528720452974,
           0.8707531940620498,
           1.0000000000000002,
           0.880838272040102,
           0.8445742080911254,
           0.9239415940480007
          ],
          [
           0.8910232857288487,
           0.8059481689006541,
           0.8733919611465814,
           0.824734173263967,
           0.910626766525213,
           0.9194204834274328,
           0.8336547425144576,
           0.8167647517493717,
           0.8686646654056658,
           0.8345498919955241,
           0.8108934295241174,
           0.7414036968924392,
           0.7912939939572879,
           0.8578980660199064,
           0.8530465875507514,
           0.8847074951033351,
           0.8845148243351524,
           0.876465022546673,
           0.88115354042909,
           0.87990673947131,
           0.8534021248866265,
           0.880838272040102,
           0.9999999999999996,
           0.8472031245821255,
           0.8997315697601479
          ],
          [
           0.8724897802392122,
           0.7910851311833356,
           0.888293914259784,
           0.8087899374565538,
           0.8823395646969225,
           0.8738370114004088,
           0.8109251634530306,
           0.8096782745357376,
           0.852027785994656,
           0.8242939652047108,
           0.8078331858275176,
           0.7960208825103869,
           0.8393274009728225,
           0.8453696177810592,
           0.8474070250269832,
           0.8997604430560371,
           0.8554107527096537,
           0.837169459275676,
           0.8852513092948318,
           0.8680721563213707,
           0.8112723865420024,
           0.8445742080911254,
           0.8472031245821255,
           0.9999999999999996,
           0.8588439990382234
          ],
          [
           0.9499442604054911,
           0.821990979925177,
           0.944086401892839,
           0.8781719591774704,
           0.9152248785826732,
           0.928799108350149,
           0.8557791838348007,
           0.899563635590288,
           0.9232697484823231,
           0.8653995783516519,
           0.8787291963710935,
           0.815722083162306,
           0.8631306136861994,
           0.9349017811813036,
           0.9496082371386264,
           0.9248963847334135,
           0.9426762777861146,
           0.9390677180301988,
           0.8972251324403779,
           0.8795389275769135,
           0.8934867732792018,
           0.9239415940480007,
           0.8997315697601479,
           0.8588439990382234,
           0.9999999999999998
          ]
         ]
        }
       ],
       "layout": {
        "coloraxis": {
         "colorbar": {
          "title": {
           "text": "Similarity Score"
          }
         },
         "colorscale": [
          [
           0,
           "rgb(247,252,240)"
          ],
          [
           0.125,
           "rgb(224,243,219)"
          ],
          [
           0.25,
           "rgb(204,235,197)"
          ],
          [
           0.375,
           "rgb(168,221,181)"
          ],
          [
           0.5,
           "rgb(123,204,196)"
          ],
          [
           0.625,
           "rgb(78,179,211)"
          ],
          [
           0.75,
           "rgb(43,140,190)"
          ],
          [
           0.875,
           "rgb(8,104,172)"
          ],
          [
           1,
           "rgb(8,64,129)"
          ]
         ]
        },
        "height": 750,
        "hoverlabel": {
         "bgcolor": "white",
         "font": {
          "family": "Rockwell",
          "size": 16
         }
        },
        "legend": {
         "title": {
          "text": "Trend"
         }
        },
        "margin": {
         "t": 60
        },
        "showlegend": true,
        "template": {
         "data": {
          "bar": [
           {
            "error_x": {
             "color": "#2a3f5f"
            },
            "error_y": {
             "color": "#2a3f5f"
            },
            "marker": {
             "line": {
              "color": "#E5ECF6",
              "width": 0.5
             },
             "pattern": {
              "fillmode": "overlay",
              "size": 10,
              "solidity": 0.2
             }
            },
            "type": "bar"
           }
          ],
          "barpolar": [
           {
            "marker": {
             "line": {
              "color": "#E5ECF6",
              "width": 0.5
             },
             "pattern": {
              "fillmode": "overlay",
              "size": 10,
              "solidity": 0.2
             }
            },
            "type": "barpolar"
           }
          ],
          "carpet": [
           {
            "aaxis": {
             "endlinecolor": "#2a3f5f",
             "gridcolor": "white",
             "linecolor": "white",
             "minorgridcolor": "white",
             "startlinecolor": "#2a3f5f"
            },
            "baxis": {
             "endlinecolor": "#2a3f5f",
             "gridcolor": "white",
             "linecolor": "white",
             "minorgridcolor": "white",
             "startlinecolor": "#2a3f5f"
            },
            "type": "carpet"
           }
          ],
          "choropleth": [
           {
            "colorbar": {
             "outlinewidth": 0,
             "ticks": ""
            },
            "type": "choropleth"
           }
          ],
          "contour": [
           {
            "colorbar": {
             "outlinewidth": 0,
             "ticks": ""
            },
            "colorscale": [
             [
              0,
              "#0d0887"
             ],
             [
              0.1111111111111111,
              "#46039f"
             ],
             [
              0.2222222222222222,
              "#7201a8"
             ],
             [
              0.3333333333333333,
              "#9c179e"
             ],
             [
              0.4444444444444444,
              "#bd3786"
             ],
             [
              0.5555555555555556,
              "#d8576b"
             ],
             [
              0.6666666666666666,
              "#ed7953"
             ],
             [
              0.7777777777777778,
              "#fb9f3a"
             ],
             [
              0.8888888888888888,
              "#fdca26"
             ],
             [
              1,
              "#f0f921"
             ]
            ],
            "type": "contour"
           }
          ],
          "contourcarpet": [
           {
            "colorbar": {
             "outlinewidth": 0,
             "ticks": ""
            },
            "type": "contourcarpet"
           }
          ],
          "heatmap": [
           {
            "colorbar": {
             "outlinewidth": 0,
             "ticks": ""
            },
            "colorscale": [
             [
              0,
              "#0d0887"
             ],
             [
              0.1111111111111111,
              "#46039f"
             ],
             [
              0.2222222222222222,
              "#7201a8"
             ],
             [
              0.3333333333333333,
              "#9c179e"
             ],
             [
              0.4444444444444444,
              "#bd3786"
             ],
             [
              0.5555555555555556,
              "#d8576b"
             ],
             [
              0.6666666666666666,
              "#ed7953"
             ],
             [
              0.7777777777777778,
              "#fb9f3a"
             ],
             [
              0.8888888888888888,
              "#fdca26"
             ],
             [
              1,
              "#f0f921"
             ]
            ],
            "type": "heatmap"
           }
          ],
          "heatmapgl": [
           {
            "colorbar": {
             "outlinewidth": 0,
             "ticks": ""
            },
            "colorscale": [
             [
              0,
              "#0d0887"
             ],
             [
              0.1111111111111111,
              "#46039f"
             ],
             [
              0.2222222222222222,
              "#7201a8"
             ],
             [
              0.3333333333333333,
              "#9c179e"
             ],
             [
              0.4444444444444444,
              "#bd3786"
             ],
             [
              0.5555555555555556,
              "#d8576b"
             ],
             [
              0.6666666666666666,
              "#ed7953"
             ],
             [
              0.7777777777777778,
              "#fb9f3a"
             ],
             [
              0.8888888888888888,
              "#fdca26"
             ],
             [
              1,
              "#f0f921"
             ]
            ],
            "type": "heatmapgl"
           }
          ],
          "histogram": [
           {
            "marker": {
             "pattern": {
              "fillmode": "overlay",
              "size": 10,
              "solidity": 0.2
             }
            },
            "type": "histogram"
           }
          ],
          "histogram2d": [
           {
            "colorbar": {
             "outlinewidth": 0,
             "ticks": ""
            },
            "colorscale": [
             [
              0,
              "#0d0887"
             ],
             [
              0.1111111111111111,
              "#46039f"
             ],
             [
              0.2222222222222222,
              "#7201a8"
             ],
             [
              0.3333333333333333,
              "#9c179e"
             ],
             [
              0.4444444444444444,
              "#bd3786"
             ],
             [
              0.5555555555555556,
              "#d8576b"
             ],
             [
              0.6666666666666666,
              "#ed7953"
             ],
             [
              0.7777777777777778,
              "#fb9f3a"
             ],
             [
              0.8888888888888888,
              "#fdca26"
             ],
             [
              1,
              "#f0f921"
             ]
            ],
            "type": "histogram2d"
           }
          ],
          "histogram2dcontour": [
           {
            "colorbar": {
             "outlinewidth": 0,
             "ticks": ""
            },
            "colorscale": [
             [
              0,
              "#0d0887"
             ],
             [
              0.1111111111111111,
              "#46039f"
             ],
             [
              0.2222222222222222,
              "#7201a8"
             ],
             [
              0.3333333333333333,
              "#9c179e"
             ],
             [
              0.4444444444444444,
              "#bd3786"
             ],
             [
              0.5555555555555556,
              "#d8576b"
             ],
             [
              0.6666666666666666,
              "#ed7953"
             ],
             [
              0.7777777777777778,
              "#fb9f3a"
             ],
             [
              0.8888888888888888,
              "#fdca26"
             ],
             [
              1,
              "#f0f921"
             ]
            ],
            "type": "histogram2dcontour"
           }
          ],
          "mesh3d": [
           {
            "colorbar": {
             "outlinewidth": 0,
             "ticks": ""
            },
            "type": "mesh3d"
           }
          ],
          "parcoords": [
           {
            "line": {
             "colorbar": {
              "outlinewidth": 0,
              "ticks": ""
             }
            },
            "type": "parcoords"
           }
          ],
          "pie": [
           {
            "automargin": true,
            "type": "pie"
           }
          ],
          "scatter": [
           {
            "fillpattern": {
             "fillmode": "overlay",
             "size": 10,
             "solidity": 0.2
            },
            "type": "scatter"
           }
          ],
          "scatter3d": [
           {
            "line": {
             "colorbar": {
              "outlinewidth": 0,
              "ticks": ""
             }
            },
            "marker": {
             "colorbar": {
              "outlinewidth": 0,
              "ticks": ""
             }
            },
            "type": "scatter3d"
           }
          ],
          "scattercarpet": [
           {
            "marker": {
             "colorbar": {
              "outlinewidth": 0,
              "ticks": ""
             }
            },
            "type": "scattercarpet"
           }
          ],
          "scattergeo": [
           {
            "marker": {
             "colorbar": {
              "outlinewidth": 0,
              "ticks": ""
             }
            },
            "type": "scattergeo"
           }
          ],
          "scattergl": [
           {
            "marker": {
             "colorbar": {
              "outlinewidth": 0,
              "ticks": ""
             }
            },
            "type": "scattergl"
           }
          ],
          "scattermapbox": [
           {
            "marker": {
             "colorbar": {
              "outlinewidth": 0,
              "ticks": ""
             }
            },
            "type": "scattermapbox"
           }
          ],
          "scatterpolar": [
           {
            "marker": {
             "colorbar": {
              "outlinewidth": 0,
              "ticks": ""
             }
            },
            "type": "scatterpolar"
           }
          ],
          "scatterpolargl": [
           {
            "marker": {
             "colorbar": {
              "outlinewidth": 0,
              "ticks": ""
             }
            },
            "type": "scatterpolargl"
           }
          ],
          "scatterternary": [
           {
            "marker": {
             "colorbar": {
              "outlinewidth": 0,
              "ticks": ""
             }
            },
            "type": "scatterternary"
           }
          ],
          "surface": [
           {
            "colorbar": {
             "outlinewidth": 0,
             "ticks": ""
            },
            "colorscale": [
             [
              0,
              "#0d0887"
             ],
             [
              0.1111111111111111,
              "#46039f"
             ],
             [
              0.2222222222222222,
              "#7201a8"
             ],
             [
              0.3333333333333333,
              "#9c179e"
             ],
             [
              0.4444444444444444,
              "#bd3786"
             ],
             [
              0.5555555555555556,
              "#d8576b"
             ],
             [
              0.6666666666666666,
              "#ed7953"
             ],
             [
              0.7777777777777778,
              "#fb9f3a"
             ],
             [
              0.8888888888888888,
              "#fdca26"
             ],
             [
              1,
              "#f0f921"
             ]
            ],
            "type": "surface"
           }
          ],
          "table": [
           {
            "cells": {
             "fill": {
              "color": "#EBF0F8"
             },
             "line": {
              "color": "white"
             }
            },
            "header": {
             "fill": {
              "color": "#C8D4E3"
             },
             "line": {
              "color": "white"
             }
            },
            "type": "table"
           }
          ]
         },
         "layout": {
          "annotationdefaults": {
           "arrowcolor": "#2a3f5f",
           "arrowhead": 0,
           "arrowwidth": 1
          },
          "autotypenumbers": "strict",
          "coloraxis": {
           "colorbar": {
            "outlinewidth": 0,
            "ticks": ""
           }
          },
          "colorscale": {
           "diverging": [
            [
             0,
             "#8e0152"
            ],
            [
             0.1,
             "#c51b7d"
            ],
            [
             0.2,
             "#de77ae"
            ],
            [
             0.3,
             "#f1b6da"
            ],
            [
             0.4,
             "#fde0ef"
            ],
            [
             0.5,
             "#f7f7f7"
            ],
            [
             0.6,
             "#e6f5d0"
            ],
            [
             0.7,
             "#b8e186"
            ],
            [
             0.8,
             "#7fbc41"
            ],
            [
             0.9,
             "#4d9221"
            ],
            [
             1,
             "#276419"
            ]
           ],
           "sequential": [
            [
             0,
             "#0d0887"
            ],
            [
             0.1111111111111111,
             "#46039f"
            ],
            [
             0.2222222222222222,
             "#7201a8"
            ],
            [
             0.3333333333333333,
             "#9c179e"
            ],
            [
             0.4444444444444444,
             "#bd3786"
            ],
            [
             0.5555555555555556,
             "#d8576b"
            ],
            [
             0.6666666666666666,
             "#ed7953"
            ],
            [
             0.7777777777777778,
             "#fb9f3a"
            ],
            [
             0.8888888888888888,
             "#fdca26"
            ],
            [
             1,
             "#f0f921"
            ]
           ],
           "sequentialminus": [
            [
             0,
             "#0d0887"
            ],
            [
             0.1111111111111111,
             "#46039f"
            ],
            [
             0.2222222222222222,
             "#7201a8"
            ],
            [
             0.3333333333333333,
             "#9c179e"
            ],
            [
             0.4444444444444444,
             "#bd3786"
            ],
            [
             0.5555555555555556,
             "#d8576b"
            ],
            [
             0.6666666666666666,
             "#ed7953"
            ],
            [
             0.7777777777777778,
             "#fb9f3a"
            ],
            [
             0.8888888888888888,
             "#fdca26"
            ],
            [
             1,
             "#f0f921"
            ]
           ]
          },
          "colorway": [
           "#636efa",
           "#EF553B",
           "#00cc96",
           "#ab63fa",
           "#FFA15A",
           "#19d3f3",
           "#FF6692",
           "#B6E880",
           "#FF97FF",
           "#FECB52"
          ],
          "font": {
           "color": "#2a3f5f"
          },
          "geo": {
           "bgcolor": "white",
           "lakecolor": "white",
           "landcolor": "#E5ECF6",
           "showlakes": true,
           "showland": true,
           "subunitcolor": "white"
          },
          "hoverlabel": {
           "align": "left"
          },
          "hovermode": "closest",
          "mapbox": {
           "style": "light"
          },
          "paper_bgcolor": "white",
          "plot_bgcolor": "#E5ECF6",
          "polar": {
           "angularaxis": {
            "gridcolor": "white",
            "linecolor": "white",
            "ticks": ""
           },
           "bgcolor": "#E5ECF6",
           "radialaxis": {
            "gridcolor": "white",
            "linecolor": "white",
            "ticks": ""
           }
          },
          "scene": {
           "xaxis": {
            "backgroundcolor": "#E5ECF6",
            "gridcolor": "white",
            "gridwidth": 2,
            "linecolor": "white",
            "showbackground": true,
            "ticks": "",
            "zerolinecolor": "white"
           },
           "yaxis": {
            "backgroundcolor": "#E5ECF6",
            "gridcolor": "white",
            "gridwidth": 2,
            "linecolor": "white",
            "showbackground": true,
            "ticks": "",
            "zerolinecolor": "white"
           },
           "zaxis": {
            "backgroundcolor": "#E5ECF6",
            "gridcolor": "white",
            "gridwidth": 2,
            "linecolor": "white",
            "showbackground": true,
            "ticks": "",
            "zerolinecolor": "white"
           }
          },
          "shapedefaults": {
           "line": {
            "color": "#2a3f5f"
           }
          },
          "ternary": {
           "aaxis": {
            "gridcolor": "white",
            "linecolor": "white",
            "ticks": ""
           },
           "baxis": {
            "gridcolor": "white",
            "linecolor": "white",
            "ticks": ""
           },
           "bgcolor": "#E5ECF6",
           "caxis": {
            "gridcolor": "white",
            "linecolor": "white",
            "ticks": ""
           }
          },
          "title": {
           "x": 0.05
          },
          "xaxis": {
           "automargin": true,
           "gridcolor": "white",
           "linecolor": "white",
           "ticks": "",
           "title": {
            "standoff": 15
           },
           "zerolinecolor": "white",
           "zerolinewidth": 2
          },
          "yaxis": {
           "automargin": true,
           "gridcolor": "white",
           "linecolor": "white",
           "ticks": "",
           "title": {
            "standoff": 15
           },
           "zerolinecolor": "white",
           "zerolinewidth": 2
          }
         }
        },
        "title": {
         "font": {
          "color": "Black",
          "size": 22
         },
         "text": "<b>Similarity Matrix",
         "x": 0.55,
         "xanchor": "center",
         "y": 0.95,
         "yanchor": "top"
        },
        "width": 750,
        "xaxis": {
         "anchor": "y",
         "constrain": "domain",
         "domain": [
          0,
          1
         ],
         "scaleanchor": "y"
        },
        "yaxis": {
         "anchor": "x",
         "autorange": "reversed",
         "constrain": "domain",
         "domain": [
          0,
          1
         ]
        }
       }
      }
     },
     "metadata": {},
     "output_type": "display_data"
    }
   ],
   "source": [
    "model.visualize_heatmap(width=750, height=750)"
   ]
  },
  {
   "cell_type": "code",
   "execution_count": 12,
   "metadata": {},
   "outputs": [
    {
     "data": {
      "application/vnd.plotly.v1+json": {
       "config": {
        "plotlyServerURL": "https://plot.ly"
       },
       "data": [
        {
         "hovertext": "<b>Topic -1</b>:ciro_não_de_que_da_para_mais_em_ht",
         "line": {
          "color": "black",
          "width": 1.5
         },
         "mode": "lines+lines",
         "name": "",
         "opacity": 0.1,
         "type": "scatter",
         "x": [
          1,
          2,
          3,
          4,
          5,
          6,
          7,
          8,
          9,
          10
         ],
         "y": [
          0.03215694769329717,
          0.024069449423040082,
          0.023974416404512474,
          0.02201672637455794,
          0.020265065066285472,
          0.02016883954436621,
          0.020006652402094517,
          0.019954494338172663,
          0.01797298210254295,
          0.01797298210254295
         ]
        },
        {
         "hovertext": "<b>Topic 0</b>:co_https_ffiohik8ms_foto_crime_vivo",
         "line": {
          "color": "black",
          "width": 1.5
         },
         "mode": "lines+lines",
         "name": "",
         "opacity": 0.1,
         "type": "scatter",
         "x": [
          1,
          2,
          3,
          4,
          5,
          6,
          7,
          8,
          9,
          10
         ],
         "y": [
          0.14318130387060723,
          0.14318130387060723,
          0.04545758472936135,
          0.042694473992328605,
          0.04055785892167579,
          0.03307999704969046,
          0.03151642364577829,
          0.028031803619147613,
          0.028031803619147613,
          0.028031803619147613
         ]
        },
        {
         "hovertext": "<b>Topic 1</b>:que_carta_democracia_uma_de_está_um",
         "line": {
          "color": "black",
          "width": 1.5
         },
         "mode": "lines+lines",
         "name": "",
         "opacity": 0.1,
         "type": "scatter",
         "x": [
          1,
          2,
          3,
          4,
          5,
          6,
          7,
          8,
          9,
          10
         ],
         "y": [
          0.04081668431231023,
          0.03331833918057665,
          0.0320500737604863,
          0.03104389681357853,
          0.028389795985861044,
          0.02590884132384162,
          0.02509598946908096,
          0.02443072678449915,
          0.022886887371567875,
          0.02207844926745981
         ]
        },
        {
         "hovertext": "<b>Topic 2</b>:co_https_brasil_brasildaesperança_e",
         "line": {
          "color": "black",
          "width": 1.5
         },
         "mode": "lines+lines",
         "name": "",
         "opacity": 0.1,
         "type": "scatter",
         "x": [
          1,
          2,
          3,
          4,
          5,
          6,
          7,
          8,
          9,
          10
         ],
         "y": [
          0.050941880133583924,
          0.050941880133583924,
          0.04949898387613771,
          0.04112789122033429,
          0.03736407562750993,
          0.03646886709282498,
          0.03369485427535082,
          0.03363929155974263,
          0.03363929155974263,
          0.03311354421982053
         ]
        },
        {
         "hovertext": "<b>Topic 3</b>:de_redução_em_menor_era_custou_litr",
         "line": {
          "color": "black",
          "width": 1.5
         },
         "mode": "lines+lines",
         "name": "",
         "opacity": 0.1,
         "type": "scatter",
         "x": [
          1,
          2,
          3,
          4,
          5,
          6,
          7,
          8,
          9,
          10
         ],
         "y": [
          0.039994569479187066,
          0.03441058550383569,
          0.03342936389986721,
          0.02989237544853386,
          0.026594749260003835,
          0.025127716782419783,
          0.025127716782419783,
          0.025127716782419783,
          0.025127716782419783,
          0.025127716782419783
         ]
        },
        {
         "hovertext": "<b>Topic 4</b>:programa_renda_de_mínima_um_bndes_m",
         "line": {
          "color": "black",
          "width": 1.5
         },
         "mode": "lines+lines",
         "name": "",
         "opacity": 0.1,
         "type": "scatter",
         "x": [
          1,
          2,
          3,
          4,
          5,
          6,
          7,
          8,
          9,
          10
         ],
         "y": [
          0.05953206407708236,
          0.05105321483971269,
          0.046635892742260675,
          0.03984367341951667,
          0.03270756471432917,
          0.03107609221542624,
          0.03107609221542624,
          0.03107609221542624,
          0.03015256368246122,
          0.028929493299256842
         ]
        },
        {
         "hovertext": "<b>Topic 5</b>:recuperar_brasil_para_empregos_mais",
         "line": {
          "color": "black",
          "width": 1.5
         },
         "mode": "lines+lines",
         "name": "",
         "opacity": 0.1,
         "type": "scatter",
         "x": [
          1,
          2,
          3,
          4,
          5,
          6,
          7,
          8,
          9,
          10
         ],
         "y": [
          0.048894136793542625,
          0.04682992102007146,
          0.03615823043838738,
          0.032596091195695086,
          0.03201393576476663,
          0.03177917122482502,
          0.030348820369500776,
          0.030074532490429354,
          0.029847494261605295,
          0.026111561941145906
         ]
        },
        {
         "hovertext": "<b>Topic 6</b>:obrigado_todos_vivo_espectadores_ve",
         "line": {
          "color": "black",
          "width": 1.5
         },
         "mode": "lines+lines",
         "name": "",
         "opacity": 0.1,
         "type": "scatter",
         "x": [
          1,
          2,
          3,
          4,
          5,
          6,
          7,
          8,
          9,
          10
         ],
         "y": [
          0.05452091865912543,
          0.05244557524443212,
          0.04646235949251979,
          0.046222774024206464,
          0.046222774024206464,
          0.046222774024206464,
          0.046222774024206464,
          0.044689922117189536,
          0.044689922117189536,
          0.04256482933749291
         ]
        },
        {
         "hovertext": "<b>Topic 7</b>:lula_equipelula_https_co_presença_s",
         "line": {
          "color": "black",
          "width": 1.5
         },
         "mode": "lines+lines",
         "name": "",
         "opacity": 0.1,
         "type": "scatter",
         "x": [
          1,
          2,
          3,
          4,
          5,
          6,
          7,
          8,
          9,
          10
         ],
         "y": [
          0.12419848611786517,
          0.07237113429787229,
          0.06656324520839858,
          0.06656324520839858,
          0.044918919020780726,
          0.042864982816154876,
          0.04136670386375087,
          0.0391591527771087,
          0.0364480655388008,
          0.0355527514064701
         ]
        },
        {
         "hovertext": "<b>Topic 8</b>:08_2022_giro_18_gerais_minas_ciro_1",
         "line": {
          "color": "black",
          "width": 1.5
         },
         "mode": "lines+lines",
         "name": "",
         "opacity": 0.1,
         "type": "scatter",
         "x": [
          1,
          2,
          3,
          4,
          5,
          6,
          7,
          8,
          9,
          10
         ],
         "y": [
          0.18349154945847848,
          0.1620899088672305,
          0.10791486677815575,
          0.07688575709691915,
          0.07080558514102142,
          0.06629205049922036,
          0.06615746061292892,
          0.06238656616764063,
          0.06238656616764063,
          0.06238656616764063
         ]
        },
        {
         "hovertext": "<b>Topic 9</b>:vamos_brasil_país_nós_juntos_recons",
         "line": {
          "color": "black",
          "width": 1.5
         },
         "mode": "lines+lines",
         "name": "",
         "opacity": 0.1,
         "type": "scatter",
         "x": [
          1,
          2,
          3,
          4,
          5,
          6,
          7,
          8,
          9,
          10
         ],
         "y": [
          0.0585456378581434,
          0.052754188137068454,
          0.046860833425432416,
          0.04202241414667443,
          0.04003898602641499,
          0.03973672428804078,
          0.03825389400252781,
          0.03825389400252781,
          0.036022078932853044,
          0.03476298306622437
         ]
        },
        {
         "hovertext": "<b>Topic 10</b>:eu_voto_eleição_falar_não_café_foi",
         "line": {
          "color": "black",
          "width": 1.5
         },
         "mode": "lines+lines",
         "name": "",
         "opacity": 0.1,
         "type": "scatter",
         "x": [
          1,
          2,
          3,
          4,
          5,
          6,
          7,
          8,
          9,
          10
         ],
         "y": [
          0.07444705182296066,
          0.06554427379785571,
          0.04920584804814626,
          0.04204484655004186,
          0.04126130718122066,
          0.03837812481249361,
          0.038118692613923255,
          0.034412192862837664,
          0.033305947629645685,
          0.032772136898927856
         ]
        },
        {
         "hovertext": "<b>Topic 11</b>:governador_estarei_na_alexandre_no",
         "line": {
          "color": "black",
          "width": 1.5
         },
         "mode": "lines+lines",
         "name": "",
         "opacity": 0.1,
         "type": "scatter",
         "x": [
          1,
          2,
          3,
          4,
          5,
          6,
          7,
          8,
          9,
          10
         ],
         "y": [
          0.05989189202770763,
          0.050345497065851834,
          0.04568567823996015,
          0.044918919020780726,
          0.03715022569068641,
          0.0364480655388008,
          0.0364480655388008,
          0.03573371871174671,
          0.03356366471056788,
          0.0315235184316118
         ]
        },
        {
         "hovertext": "<b>Topic 12</b>:melhor_pais_dia_jô_amor_fraternida",
         "line": {
          "color": "black",
          "width": 1.5
         },
         "mode": "lines+lines",
         "name": "",
         "opacity": 0.1,
         "type": "scatter",
         "x": [
          1,
          2,
          3,
          4,
          5,
          6,
          7,
          8,
          9,
          10
         ],
         "y": [
          0.09421477859580808,
          0.07584931038950073,
          0.05520709064171936,
          0.05384731617807975,
          0.05115256492570539,
          0.04150616442989968,
          0.04150616442989968,
          0.04150616442989968,
          0.04150616442989968,
          0.04150616442989968
         ]
        },
        {
         "hovertext": "<b>Topic 13</b>:ele_bolsonaro_porque_mentiras_ou_m",
         "line": {
          "color": "black",
          "width": 1.5
         },
         "mode": "lines+lines",
         "name": "",
         "opacity": 0.1,
         "type": "scatter",
         "x": [
          1,
          2,
          3,
          4,
          5,
          6,
          7,
          8,
          9,
          10
         ],
         "y": [
          0.10121075924364094,
          0.08707478695660824,
          0.06325672452727558,
          0.06160698983058184,
          0.055703038635259786,
          0.047393001014793504,
          0.04107132655372123,
          0.04107132655372123,
          0.04050979194905978,
          0.036644381306426374
         ]
        },
        {
         "hovertext": "<b>Topic 14</b>:gente_gerar_quer_país_que_merecemo",
         "line": {
          "color": "black",
          "width": 1.5
         },
         "mode": "lines+lines",
         "name": "",
         "opacity": 0.1,
         "type": "scatter",
         "x": [
          1,
          2,
          3,
          4,
          5,
          6,
          7,
          8,
          9,
          10
         ],
         "y": [
          0.10225462455080582,
          0.05770655188993245,
          0.05574924313628304,
          0.05556355963301273,
          0.05457773788046054,
          0.05084505142662711,
          0.0468213122712422,
          0.041774594689326074,
          0.04043365415055287,
          0.03716616209085536
         ]
        },
        {
         "hovertext": "<b>Topic 15</b>:sobre_ciro_cironorodaviva_responde",
         "line": {
          "color": "black",
          "width": 1.5
         },
         "mode": "lines+lines",
         "name": "",
         "opacity": 0.1,
         "type": "scatter",
         "x": [
          1,
          2,
          3,
          4,
          5,
          6,
          7,
          8,
          9,
          10
         ],
         "y": [
          0.14351196246848652,
          0.12077706009496302,
          0.11344600814918103,
          0.11237114945098128,
          0.08135208228260338,
          0.08135208228260338,
          0.06117553783153056,
          0.06117553783153056,
          0.05762988923398891,
          0.05694694444001506
         ]
        },
        {
         "hovertext": "<b>Topic 16</b>:deus_se_irmão_adorar_os_usa_maiore",
         "line": {
          "color": "black",
          "width": 1.5
         },
         "mode": "lines+lines",
         "name": "",
         "opacity": 0.1,
         "type": "scatter",
         "x": [
          1,
          2,
          3,
          4,
          5,
          6,
          7,
          8,
          9,
          10
         ],
         "y": [
          0.09740849067026512,
          0.056896450727821235,
          0.04643383691929416,
          0.04643383691929416,
          0.046157139441270395,
          0.042759189288805656,
          0.042759189288805656,
          0.04252588604599798,
          0.040160098823834214,
          0.040160098823834214
         ]
        },
        {
         "hovertext": "<b>Topic 17</b>:ano_ton_safra_milhões_saneamento_i",
         "line": {
          "color": "black",
          "width": 1.5
         },
         "mode": "lines+lines",
         "name": "",
         "opacity": 0.1,
         "type": "scatter",
         "x": [
          1,
          2,
          3,
          4,
          5,
          6,
          7,
          8,
          9,
          10
         ],
         "y": [
          0.1003964466257423,
          0.08560367764206162,
          0.07209066920016143,
          0.05321625631992072,
          0.049158205348391784,
          0.049158205348391784,
          0.041676271661169766,
          0.041676271661169766,
          0.041676271661169766,
          0.041676271661169766
         ]
        },
        {
         "hovertext": "<b>Topic 18</b>:bolsonaro_jair_pr_semana_co_https_",
         "line": {
          "color": "black",
          "width": 1.5
         },
         "mode": "lines+lines",
         "name": "",
         "opacity": 0.1,
         "type": "scatter",
         "x": [
          1,
          2,
          3,
          4,
          5,
          6,
          7,
          8,
          9,
          10
         ],
         "y": [
          0.12224785360903129,
          0.12108960070148844,
          0.08072640046765896,
          0.06893449485636549,
          0.06592191576673552,
          0.06592191576673552,
          0.06088137527412144,
          0.0572971696584904,
          0.051548837093565565,
          0.050614281887660095
         ]
        },
        {
         "hovertext": "<b>Topic 19</b>:cirão_app_jéssica_jfernandabrasil_",
         "line": {
          "color": "black",
          "width": 1.5
         },
         "mode": "lines+lines",
         "name": "",
         "opacity": 0.1,
         "type": "scatter",
         "x": [
          1,
          2,
          3,
          4,
          5,
          6,
          7,
          8,
          9,
          10
         ],
         "y": [
          0.1883150052838041,
          0.1883150052838041,
          0.10693613973230386,
          0.10693613973230386,
          0.10693613973230386,
          0.10693613973230386,
          0.10693613973230386,
          0.10693613973230386,
          0.10693613973230386,
          0.10693613973230386
         ]
        },
        {
         "hovertext": "<b>Topic 20</b>:francisco_entenda_transposição_rio",
         "line": {
          "color": "black",
          "width": 1.5
         },
         "mode": "lines+lines",
         "name": "",
         "opacity": 0.1,
         "type": "scatter",
         "x": [
          1,
          2,
          3,
          4,
          5,
          6,
          7,
          8,
          9,
          10
         ],
         "y": [
          0.1418827644583097,
          0.1418827644583097,
          0.1418827644583097,
          0.12115759702027874,
          0.10271727560934771,
          0.10271727560934771,
          0.10271727560934771,
          0.08455419088906613,
          0.0702903839200793,
          0.05832880349034757
         ]
        },
        {
         "hovertext": "<b>Topic 21</b>:maconha_kg_de_prejuízo_br_droga_ms",
         "line": {
          "color": "black",
          "width": 1.5
         },
         "mode": "lines+lines",
         "name": "",
         "opacity": 0.1,
         "type": "scatter",
         "x": [
          1,
          2,
          3,
          4,
          5,
          6,
          7,
          8,
          9,
          10
         ],
         "y": [
          0.10105319195232129,
          0.10105319195232129,
          0.07352752917201422,
          0.07315834737644189,
          0.07315834737644189,
          0.07315834737644189,
          0.07315834737644189,
          0.07315834737644189,
          0.07315834737644189,
          0.07315834737644189
         ]
        },
        {
         "hovertext": "<b>Topic 22</b>:de_você_governo_carente_patrocinad",
         "line": {
          "color": "black",
          "width": 1.5
         },
         "mode": "lines+lines",
         "name": "",
         "opacity": 0.1,
         "type": "scatter",
         "x": [
          1,
          2,
          3,
          4,
          5,
          6,
          7,
          8,
          9,
          10
         ],
         "y": [
          0.06806569939233077,
          0.04901364838404595,
          0.04901364838404595,
          0.04733238971757712,
          0.04733238971757712,
          0.04733238971757712,
          0.04733238971757712,
          0.04733238971757712,
          0.04733238971757712,
          0.04733238971757712
         ]
        },
        {
         "hovertext": "<b>Topic 23</b>:podem_mim_que_não_por_história_min",
         "line": {
          "color": "black",
          "width": 1.5
         },
         "mode": "lines+lines",
         "name": "",
         "opacity": 0.1,
         "type": "scatter",
         "x": [
          1,
          2,
          3,
          4,
          5,
          6,
          7,
          8,
          9,
          10
         ],
         "y": [
          0.08538894798465721,
          0.07470103804521999,
          0.07336813157940925,
          0.07330892440935322,
          0.06756066027269758,
          0.06615999409938092,
          0.060370115706038716,
          0.056063607238295225,
          0.056063607238295225,
          0.056063607238295225
         ]
        },
        {
         "hovertext": "<b>Topic 24</b>:política_ao_servir_pra_essa_impuls",
         "line": {
          "color": "black",
          "width": 1.5
         },
         "mode": "lines+lines",
         "name": "",
         "opacity": 0.1,
         "type": "scatter",
         "x": [
          1,
          2,
          3,
          4,
          5,
          6,
          7,
          8,
          9,
          10
         ],
         "y": [
          0.08162930914587269,
          0.07937651376144675,
          0.07852733609303297,
          0.05667074249100617,
          0.05551894569394632,
          0.05155849594236079,
          0.05155849594236079,
          0.05155849594236079,
          0.05155849594236079,
          0.05155849594236079
         ]
        }
       ],
       "layout": {
        "height": 500,
        "hoverlabel": {
         "bgcolor": "white",
         "font": {
          "family": "Rockwell",
          "size": 16
         }
        },
        "showlegend": false,
        "template": {
         "data": {
          "bar": [
           {
            "error_x": {
             "color": "#2a3f5f"
            },
            "error_y": {
             "color": "#2a3f5f"
            },
            "marker": {
             "line": {
              "color": "white",
              "width": 0.5
             },
             "pattern": {
              "fillmode": "overlay",
              "size": 10,
              "solidity": 0.2
             }
            },
            "type": "bar"
           }
          ],
          "barpolar": [
           {
            "marker": {
             "line": {
              "color": "white",
              "width": 0.5
             },
             "pattern": {
              "fillmode": "overlay",
              "size": 10,
              "solidity": 0.2
             }
            },
            "type": "barpolar"
           }
          ],
          "carpet": [
           {
            "aaxis": {
             "endlinecolor": "#2a3f5f",
             "gridcolor": "#C8D4E3",
             "linecolor": "#C8D4E3",
             "minorgridcolor": "#C8D4E3",
             "startlinecolor": "#2a3f5f"
            },
            "baxis": {
             "endlinecolor": "#2a3f5f",
             "gridcolor": "#C8D4E3",
             "linecolor": "#C8D4E3",
             "minorgridcolor": "#C8D4E3",
             "startlinecolor": "#2a3f5f"
            },
            "type": "carpet"
           }
          ],
          "choropleth": [
           {
            "colorbar": {
             "outlinewidth": 0,
             "ticks": ""
            },
            "type": "choropleth"
           }
          ],
          "contour": [
           {
            "colorbar": {
             "outlinewidth": 0,
             "ticks": ""
            },
            "colorscale": [
             [
              0,
              "#0d0887"
             ],
             [
              0.1111111111111111,
              "#46039f"
             ],
             [
              0.2222222222222222,
              "#7201a8"
             ],
             [
              0.3333333333333333,
              "#9c179e"
             ],
             [
              0.4444444444444444,
              "#bd3786"
             ],
             [
              0.5555555555555556,
              "#d8576b"
             ],
             [
              0.6666666666666666,
              "#ed7953"
             ],
             [
              0.7777777777777778,
              "#fb9f3a"
             ],
             [
              0.8888888888888888,
              "#fdca26"
             ],
             [
              1,
              "#f0f921"
             ]
            ],
            "type": "contour"
           }
          ],
          "contourcarpet": [
           {
            "colorbar": {
             "outlinewidth": 0,
             "ticks": ""
            },
            "type": "contourcarpet"
           }
          ],
          "heatmap": [
           {
            "colorbar": {
             "outlinewidth": 0,
             "ticks": ""
            },
            "colorscale": [
             [
              0,
              "#0d0887"
             ],
             [
              0.1111111111111111,
              "#46039f"
             ],
             [
              0.2222222222222222,
              "#7201a8"
             ],
             [
              0.3333333333333333,
              "#9c179e"
             ],
             [
              0.4444444444444444,
              "#bd3786"
             ],
             [
              0.5555555555555556,
              "#d8576b"
             ],
             [
              0.6666666666666666,
              "#ed7953"
             ],
             [
              0.7777777777777778,
              "#fb9f3a"
             ],
             [
              0.8888888888888888,
              "#fdca26"
             ],
             [
              1,
              "#f0f921"
             ]
            ],
            "type": "heatmap"
           }
          ],
          "heatmapgl": [
           {
            "colorbar": {
             "outlinewidth": 0,
             "ticks": ""
            },
            "colorscale": [
             [
              0,
              "#0d0887"
             ],
             [
              0.1111111111111111,
              "#46039f"
             ],
             [
              0.2222222222222222,
              "#7201a8"
             ],
             [
              0.3333333333333333,
              "#9c179e"
             ],
             [
              0.4444444444444444,
              "#bd3786"
             ],
             [
              0.5555555555555556,
              "#d8576b"
             ],
             [
              0.6666666666666666,
              "#ed7953"
             ],
             [
              0.7777777777777778,
              "#fb9f3a"
             ],
             [
              0.8888888888888888,
              "#fdca26"
             ],
             [
              1,
              "#f0f921"
             ]
            ],
            "type": "heatmapgl"
           }
          ],
          "histogram": [
           {
            "marker": {
             "pattern": {
              "fillmode": "overlay",
              "size": 10,
              "solidity": 0.2
             }
            },
            "type": "histogram"
           }
          ],
          "histogram2d": [
           {
            "colorbar": {
             "outlinewidth": 0,
             "ticks": ""
            },
            "colorscale": [
             [
              0,
              "#0d0887"
             ],
             [
              0.1111111111111111,
              "#46039f"
             ],
             [
              0.2222222222222222,
              "#7201a8"
             ],
             [
              0.3333333333333333,
              "#9c179e"
             ],
             [
              0.4444444444444444,
              "#bd3786"
             ],
             [
              0.5555555555555556,
              "#d8576b"
             ],
             [
              0.6666666666666666,
              "#ed7953"
             ],
             [
              0.7777777777777778,
              "#fb9f3a"
             ],
             [
              0.8888888888888888,
              "#fdca26"
             ],
             [
              1,
              "#f0f921"
             ]
            ],
            "type": "histogram2d"
           }
          ],
          "histogram2dcontour": [
           {
            "colorbar": {
             "outlinewidth": 0,
             "ticks": ""
            },
            "colorscale": [
             [
              0,
              "#0d0887"
             ],
             [
              0.1111111111111111,
              "#46039f"
             ],
             [
              0.2222222222222222,
              "#7201a8"
             ],
             [
              0.3333333333333333,
              "#9c179e"
             ],
             [
              0.4444444444444444,
              "#bd3786"
             ],
             [
              0.5555555555555556,
              "#d8576b"
             ],
             [
              0.6666666666666666,
              "#ed7953"
             ],
             [
              0.7777777777777778,
              "#fb9f3a"
             ],
             [
              0.8888888888888888,
              "#fdca26"
             ],
             [
              1,
              "#f0f921"
             ]
            ],
            "type": "histogram2dcontour"
           }
          ],
          "mesh3d": [
           {
            "colorbar": {
             "outlinewidth": 0,
             "ticks": ""
            },
            "type": "mesh3d"
           }
          ],
          "parcoords": [
           {
            "line": {
             "colorbar": {
              "outlinewidth": 0,
              "ticks": ""
             }
            },
            "type": "parcoords"
           }
          ],
          "pie": [
           {
            "automargin": true,
            "type": "pie"
           }
          ],
          "scatter": [
           {
            "fillpattern": {
             "fillmode": "overlay",
             "size": 10,
             "solidity": 0.2
            },
            "type": "scatter"
           }
          ],
          "scatter3d": [
           {
            "line": {
             "colorbar": {
              "outlinewidth": 0,
              "ticks": ""
             }
            },
            "marker": {
             "colorbar": {
              "outlinewidth": 0,
              "ticks": ""
             }
            },
            "type": "scatter3d"
           }
          ],
          "scattercarpet": [
           {
            "marker": {
             "colorbar": {
              "outlinewidth": 0,
              "ticks": ""
             }
            },
            "type": "scattercarpet"
           }
          ],
          "scattergeo": [
           {
            "marker": {
             "colorbar": {
              "outlinewidth": 0,
              "ticks": ""
             }
            },
            "type": "scattergeo"
           }
          ],
          "scattergl": [
           {
            "marker": {
             "colorbar": {
              "outlinewidth": 0,
              "ticks": ""
             }
            },
            "type": "scattergl"
           }
          ],
          "scattermapbox": [
           {
            "marker": {
             "colorbar": {
              "outlinewidth": 0,
              "ticks": ""
             }
            },
            "type": "scattermapbox"
           }
          ],
          "scatterpolar": [
           {
            "marker": {
             "colorbar": {
              "outlinewidth": 0,
              "ticks": ""
             }
            },
            "type": "scatterpolar"
           }
          ],
          "scatterpolargl": [
           {
            "marker": {
             "colorbar": {
              "outlinewidth": 0,
              "ticks": ""
             }
            },
            "type": "scatterpolargl"
           }
          ],
          "scatterternary": [
           {
            "marker": {
             "colorbar": {
              "outlinewidth": 0,
              "ticks": ""
             }
            },
            "type": "scatterternary"
           }
          ],
          "surface": [
           {
            "colorbar": {
             "outlinewidth": 0,
             "ticks": ""
            },
            "colorscale": [
             [
              0,
              "#0d0887"
             ],
             [
              0.1111111111111111,
              "#46039f"
             ],
             [
              0.2222222222222222,
              "#7201a8"
             ],
             [
              0.3333333333333333,
              "#9c179e"
             ],
             [
              0.4444444444444444,
              "#bd3786"
             ],
             [
              0.5555555555555556,
              "#d8576b"
             ],
             [
              0.6666666666666666,
              "#ed7953"
             ],
             [
              0.7777777777777778,
              "#fb9f3a"
             ],
             [
              0.8888888888888888,
              "#fdca26"
             ],
             [
              1,
              "#f0f921"
             ]
            ],
            "type": "surface"
           }
          ],
          "table": [
           {
            "cells": {
             "fill": {
              "color": "#EBF0F8"
             },
             "line": {
              "color": "white"
             }
            },
            "header": {
             "fill": {
              "color": "#C8D4E3"
             },
             "line": {
              "color": "white"
             }
            },
            "type": "table"
           }
          ]
         },
         "layout": {
          "annotationdefaults": {
           "arrowcolor": "#2a3f5f",
           "arrowhead": 0,
           "arrowwidth": 1
          },
          "autotypenumbers": "strict",
          "coloraxis": {
           "colorbar": {
            "outlinewidth": 0,
            "ticks": ""
           }
          },
          "colorscale": {
           "diverging": [
            [
             0,
             "#8e0152"
            ],
            [
             0.1,
             "#c51b7d"
            ],
            [
             0.2,
             "#de77ae"
            ],
            [
             0.3,
             "#f1b6da"
            ],
            [
             0.4,
             "#fde0ef"
            ],
            [
             0.5,
             "#f7f7f7"
            ],
            [
             0.6,
             "#e6f5d0"
            ],
            [
             0.7,
             "#b8e186"
            ],
            [
             0.8,
             "#7fbc41"
            ],
            [
             0.9,
             "#4d9221"
            ],
            [
             1,
             "#276419"
            ]
           ],
           "sequential": [
            [
             0,
             "#0d0887"
            ],
            [
             0.1111111111111111,
             "#46039f"
            ],
            [
             0.2222222222222222,
             "#7201a8"
            ],
            [
             0.3333333333333333,
             "#9c179e"
            ],
            [
             0.4444444444444444,
             "#bd3786"
            ],
            [
             0.5555555555555556,
             "#d8576b"
            ],
            [
             0.6666666666666666,
             "#ed7953"
            ],
            [
             0.7777777777777778,
             "#fb9f3a"
            ],
            [
             0.8888888888888888,
             "#fdca26"
            ],
            [
             1,
             "#f0f921"
            ]
           ],
           "sequentialminus": [
            [
             0,
             "#0d0887"
            ],
            [
             0.1111111111111111,
             "#46039f"
            ],
            [
             0.2222222222222222,
             "#7201a8"
            ],
            [
             0.3333333333333333,
             "#9c179e"
            ],
            [
             0.4444444444444444,
             "#bd3786"
            ],
            [
             0.5555555555555556,
             "#d8576b"
            ],
            [
             0.6666666666666666,
             "#ed7953"
            ],
            [
             0.7777777777777778,
             "#fb9f3a"
            ],
            [
             0.8888888888888888,
             "#fdca26"
            ],
            [
             1,
             "#f0f921"
            ]
           ]
          },
          "colorway": [
           "#636efa",
           "#EF553B",
           "#00cc96",
           "#ab63fa",
           "#FFA15A",
           "#19d3f3",
           "#FF6692",
           "#B6E880",
           "#FF97FF",
           "#FECB52"
          ],
          "font": {
           "color": "#2a3f5f"
          },
          "geo": {
           "bgcolor": "white",
           "lakecolor": "white",
           "landcolor": "white",
           "showlakes": true,
           "showland": true,
           "subunitcolor": "#C8D4E3"
          },
          "hoverlabel": {
           "align": "left"
          },
          "hovermode": "closest",
          "mapbox": {
           "style": "light"
          },
          "paper_bgcolor": "white",
          "plot_bgcolor": "white",
          "polar": {
           "angularaxis": {
            "gridcolor": "#EBF0F8",
            "linecolor": "#EBF0F8",
            "ticks": ""
           },
           "bgcolor": "white",
           "radialaxis": {
            "gridcolor": "#EBF0F8",
            "linecolor": "#EBF0F8",
            "ticks": ""
           }
          },
          "scene": {
           "xaxis": {
            "backgroundcolor": "white",
            "gridcolor": "#DFE8F3",
            "gridwidth": 2,
            "linecolor": "#EBF0F8",
            "showbackground": true,
            "ticks": "",
            "zerolinecolor": "#EBF0F8"
           },
           "yaxis": {
            "backgroundcolor": "white",
            "gridcolor": "#DFE8F3",
            "gridwidth": 2,
            "linecolor": "#EBF0F8",
            "showbackground": true,
            "ticks": "",
            "zerolinecolor": "#EBF0F8"
           },
           "zaxis": {
            "backgroundcolor": "white",
            "gridcolor": "#DFE8F3",
            "gridwidth": 2,
            "linecolor": "#EBF0F8",
            "showbackground": true,
            "ticks": "",
            "zerolinecolor": "#EBF0F8"
           }
          },
          "shapedefaults": {
           "line": {
            "color": "#2a3f5f"
           }
          },
          "ternary": {
           "aaxis": {
            "gridcolor": "#DFE8F3",
            "linecolor": "#A2B1C6",
            "ticks": ""
           },
           "baxis": {
            "gridcolor": "#DFE8F3",
            "linecolor": "#A2B1C6",
            "ticks": ""
           },
           "bgcolor": "white",
           "caxis": {
            "gridcolor": "#DFE8F3",
            "linecolor": "#A2B1C6",
            "ticks": ""
           }
          },
          "title": {
           "x": 0.05
          },
          "xaxis": {
           "automargin": true,
           "gridcolor": "#EBF0F8",
           "linecolor": "#EBF0F8",
           "ticks": "",
           "title": {
            "standoff": 15
           },
           "zerolinecolor": "#EBF0F8",
           "zerolinewidth": 2
          },
          "yaxis": {
           "automargin": true,
           "gridcolor": "#EBF0F8",
           "linecolor": "#EBF0F8",
           "ticks": "",
           "title": {
            "standoff": 15
           },
           "zerolinecolor": "#EBF0F8",
           "zerolinewidth": 2
          }
         }
        },
        "title": {
         "font": {
          "color": "Black",
          "size": 22
         },
         "text": "<b>Term score decline per Topic</b>",
         "x": 0.5,
         "xanchor": "center",
         "y": 0.9,
         "yanchor": "top"
        },
        "width": 800,
        "xaxis": {
         "dtick": 2,
         "range": [
          0,
          10
         ],
         "tick0": 1,
         "title": {
          "text": "Term Rank"
         }
        },
        "yaxis": {
         "title": {
          "text": "c-TF-IDF score"
         }
        }
       }
      }
     },
     "metadata": {},
     "output_type": "display_data"
    }
   ],
   "source": [
    "model.visualize_term_rank()"
   ]
  },
  {
   "cell_type": "code",
   "execution_count": 14,
   "metadata": {},
   "outputs": [
    {
     "data": {
      "text/plain": [
       "[('que', 0.04081668431231023),\n",
       " ('carta', 0.03331833918057665),\n",
       " ('democracia', 0.0320500737604863),\n",
       " ('uma', 0.03104389681357853),\n",
       " ('de', 0.028389795985861044),\n",
       " ('está', 0.02590884132384162),\n",
       " ('um', 0.02509598946908096),\n",
       " ('saudades', 0.02443072678449915),\n",
       " ('do', 0.022886887371567875),\n",
       " ('com', 0.02207844926745981)]"
      ]
     },
     "execution_count": 14,
     "metadata": {},
     "output_type": "execute_result"
    }
   ],
   "source": [
    "model.get_topic(1)"
   ]
  },
  {
   "cell_type": "code",
   "execution_count": 22,
   "metadata": {},
   "outputs": [
    {
     "data": {
      "application/vnd.plotly.v1+json": {
       "config": {
        "plotlyServerURL": "https://plot.ly"
       },
       "data": [
        {
         "hoverinfo": "text",
         "hovertext": [
          "👍 GARANTIA – O programa será um direito constitucional, ou seja, ele estará garantido seja qual que for o governo. Exatamente por isso, vai acabar com as chantagens e ameaças que aparecem em toda eleição.",
          "- Sequer participei do almoço em Belo Horizonte. A mesma imprensa já havia divulgado que eu estava em uma churrascaria de SP na mesma data e hora. Quem propagou a mentira, já sabia da verdade, mas não se preocupou com a dor que poderia causar até à família de Daniella Perez.",
          "Isso, por si só, vai distensionar o ambiente porque eu não vou precisar fazer conchavo e muito menos vender o Brasil pros ladrões da economia.",
          "Dia 13, #LulaDay! https://t.co/erAdGyngjy",
          "Precisamos restaurar o principal motor de ativação da nossa economia, que é o consumo das famílias. E aqui temos duas equações muito básicas 👇",
          "- Esses trilhos são um importante avanço para a infraestrutura do Brasil, pois conectarão o futuro porto de Ilhéus, no litoral baiano, a Figueirópolis, no Tocantins, cidade em que a FIOL se ligará à Ferrovia Norte Sul.",
          "Entre desalento, desemprego aberto e informalidade, são aproximadamente 50 milhões de brasileiros que estão sendo mandados à velhice – em 15, 20 anos – sem nenhum tipo de cobertura previdenciária. E lá não terá solução para essa equação. Precisamos resolver isso agora.",
          "Sei como resolver isso, em curto prazo, melhorando a vida do povo e a economia do país. Você já conhece o nosso projeto que vai LIMPAR O NOME DE TODO MUNDO que tá no SPC/Serasa? Veja os detalhes dessa e de outras propostas no site oficial👇\nhttps://t.co/1DguBNIVUU",
          "- A própria pessoa envolvida nesse crime cruel e covarde nega ter estado presente no evento. Sua esposa, que não tem envolvimento com o crime, já se manifestou explicando que não conhece Michelle e que, assim como dezenas de mulheres, fez fila para tirar foto com a Primeira-Dama.",
          "- Lula e Dilma deixaram para os brasileiros um país devastado, com 15 milhões de desempregados, prejuízos bilionários nas estatais e obras inacabadas, além do maior esquema de corrupção, o maior número de assassinatos e a pior década para a economia de toda a nossa História.",
          "Junto com a ex-presidenta @dilmabr, levei nossos cumprimentos democráticos ao novo presidente do @TSEjusbr, ministro Alexandre de Moraes.\n\n📸: @ricardostuckert https://t.co/Wgwd1LW9q1",
          "- Temos o privilégio de não precisar enganar o povo sobre quais são nossos valores neste período: somos a favor da família, do livre mercado e do direito à legítima defesa. Somos contra as drogas e o narcotráfico, o controle da mídia e internet, a ideologia de gênero e o aborto.",
          "Como está na lei que o auxílio emergencial acaba em dezembro, só gente comprometida com o povo como nós pode garantir a continuidade do auxílio. Obrigado @AndreJanonesAdv pelo apoio nesta causa.",
          "RT @verdadenarede: Damares condenada! No final da noite desta quarta (17), a justiça eleitoral concedeu liminar contra Damares Alves por fa…",
          "- Curso de formação de medicina ganha novo estímulo: https://t.co/9t4ZKK6eOf",
          "Está nas nossas mãos a responsabilidade de dizer que país a gente quer. Que futuro a gente quer, que educação a gente quer. Que trabalho merecemos, que política de desenvolvimento merecemos. Se nós nos omitirmos, o Brasil irá repetir o último resultado.",
          "Auxílio eleitoreiro de R$600?! Aqui não! No meu governo, o PROGRAMA DE RENDA MÍNIMA será de R$1.000! E digo mais: o projeto vai entrar na Constituição, ou seja, o valor estará garantido seja qual que for o governo! #CiroPresidente12 https://t.co/OljZ5pB53a",
          "O povo pobre tem que ser muito respeitado. Não só em época eleição. Porque essa é a gente que gosta, trabalha e produz as coisas no Brasil. E quando melhora para o pobre, melhora a vida para todos.",
          "As pessoas pensam que o sucesso dos nossos governos foi o Bolsa Família. Mas não foi só isso, foi a junção de diversas políticas públicas, muitas delas deliberadas em conferências nacionais. E vamos voltar a fazer isso. #BrasilDaEsperança",
          "🌽🌽🌽🌽 #LulaDay https://t.co/BiA9sPJzck",
          "Milhões de brasileiros vivem penando, há anos, aprisionados por dívidas e juros impagáveis. É roubo, falta de piedade e burrice da dupla infernal: o governo e a banqueirada. Sofrem as pessoas e a economia. #CiroPresidente12 https://t.co/BOzlWyEfVC",
          "Quem nasce na terra que eu nasci, se não morresse até 1 ano de idade, ficava resistente. E eu to aqui pra dizer pra vocês que nós não temos tempo de desanimar. Acreditem em vocês, não desanimem da vida ou da luta.",
          "Não dá pra me chamar de ladrão, porque não sou; não dá pra me chamar de incompetente, porque tenho uma história, então inventaram essa de destemperado. Mas na verdade sou um homem livre, não sou um carreirista, nunca fiz da política meio de vida, estou aqui para servir ao Brasil.",
          "Bolsonaro entregou o cadastro dos miseráveis e famintos brasileiros para o sistema financeiro cobrar 80% a 100% de juros, antecipando os valores do Auxílio Brasil. A pessoa recebe R$ 3 mil e fica devendo R$ 5 mil. Isso será criminalizado. #CiroNoRodaViva",
          "Nós temos que começar a perguntar quanto nos custou não fazer as coisas nesse país. Quanto custou não alfabetizar o povo na década de 30 ou 40? Quanto custou a esse país não fazer a reforma agrária quando já tinha sido feita no mundo inteiro?",
          "É por não ter tido oportunidade de entrar na universidade que eu quero que os iguais a mim tenham acesso à universidade. Pela minha experiência, sei que o povo pobre precisa apenas de uma oportunidade.",
          "- Alimentos, combustíveis, gás de cozinha, energia, medicamentos, eletrodomésticos, games, carros, motos, suplementos e mais centenas de itens: nunca tantos impostos foram reduzidos como nos últimos anos. Nosso compromisso é seguir reduzindo e zerando sempre que for possível!",
          "Enquanto não acabar a fome e a miséria você não tem como acabar com o auxílio.",
          "- Entenda por que a conclusão da ponte Abunã é preocupante... para os balseiros.\n\n- Entenda por que a conclusão da Transposição do Rio São Francisco preocupa... caminhões-pipa.\n\n- Entenda por que apreensões recordes de drogas e bens do crime organizado preocupa... traficantes.",
          "- Graças à política constante de diminuição de impostos do Governo Federal iniciada em 2019 e redução do ICMS dos combustíveis, energia elétrica, telefonia celular e internet, mesmo contra a vontade do PT e de seus parlamentares.",
          "- Jô sempre fez bom uso do seu direito de livre expressão. Por muitas vezes teceu duras críticas contra mim, inclusive. Mas foi por viver num país livre, não em um regime autoritário, que ele pode exercê-lo integralmente. Essa é a beleza da democracia.",
          "Fiz questão de começar a campanha apresentando o Programa de Renda Mínima 'Eduardo Suplicy’, em mais uma visita às periferias abandonadas do nosso Brasil. A ideia é que o projeto se torne um DIREITO constitucional das famílias mais carentes. Confira! #CiroPresidente12 https://t.co/TOw1m3IBRJ",
          "RT @alexandrekalil: Olha o recado do presidente @LulaOficial ! #lulaekalil #colanokalil #Kalil55 https://t.co/PhEWo1suSr",
          "RT @alexandrekalil: Bom dia, gente. Hoje tem @LulaOficial e Kalil em BH! Iniciamos nossa corrida eleitoral e vamos com tudo. Convoque seus…",
          "Em relação a empresários golpistas, a sociedade tem uma excelente arma nas mãos: seu poder de compra. Está na hora de boicotar os produtos e serviços de facínoras que querem o fim do nosso estado democrático de direito.",
          "🤷‍♂️ Afinal, nada mais justo que eles paguem um pouquinho dessa fortuna pra tirar a fome, a miséria e a humilhação da maioria esmagadora, né?\n\n🫂 QUEM VAI TER DIREITO? Todas as famílias que se encontram abaixo da linha da pobreza.",
          "Ciro confirma que vai à posse de Alexandre de Moraes na presidência do TSE e diz o que acha da presença de Bolsonaro nesse ato. #CiroNoRodaViva https://t.co/YnGfQhz5eY",
          "@simonetebetbr Minha querida @simonetebetbr, isto é o que mais tenho feito na vida e em todas as campanhas que tenho participado. Saúdo sua chegada e disposição. Nos juntemos para cobrar a presença dos demais nos debates já marcados. Bem-vinda!",
          "RT @maritegon: O povo tá com @LulaOficial! Coisa mais linda a aula aberta na USP. 2023 será lindo! https://t.co/VTe9NIpxgN",
          "Um país com a riqueza do Brasil pode acabar com a fome. A ONU já reconheceu isso. Se hoje 33 milhões de brasileiros passam fome é pela irresponsabilidade do governo. Eu quero cuidar do nosso povo, e é para isso que vou dedicar os próximos 4 anos da minha vida. Boa noite.",
          "Eu quero pra mim a referência histórica de presidente da República que zerou toda a demanda por regularização fundiária das comunidades tradicionais brasileiras. #CiroNoRodaViva",
          "Tudo que eu vivi na vida, que aprendi na política, nas vitórias e nas derrotas, eu devo aos metalúrgicos do ABC. Foi na porta da Volkswagen, da Ford, que a gente conseguiu fazer que a classe trabalhadora brasileira se politizasse e fizesse as greves pela democracia.",
          "- É estranho o PT esconder dos brasileiros essas relações e suas pautas mais íntimas, como a liberação das drogas e do aborto, durante o período eleitoral. Se julgam ser bandeiras tão benéficas para o Brasil, deveriam premiar, não banir, aqueles que fazem o favor de divulgá-las.",
          null
         ],
         "marker": {
          "color": "#CFD8DC",
          "opacity": 0.5,
          "size": 5
         },
         "mode": "markers+text",
         "name": "other",
         "showlegend": false,
         "type": "scattergl",
         "x": [
          -0.4565139710903168,
          1.547959327697754,
          -0.8810955882072449,
          5.78057336807251,
          -0.3786463439464569,
          1.492805004119873,
          -0.9720393419265747,
          0.056138914078474045,
          6.467935085296631,
          -0.6423015594482422,
          3.6915199756622314,
          0.11636605858802795,
          -0.14731335639953613,
          4.485319137573242,
          -1.1121644973754883,
          0.17295336723327637,
          -0.6098684072494507,
          -0.3034040331840515,
          -0.7028546929359436,
          5.82689905166626,
          -0.6556528806686401,
          0.12737701833248138,
          0.1710251271724701,
          -1.5911002159118652,
          -1.1151586771011353,
          -0.4426884055137634,
          -0.880397379398346,
          -0.37062302231788635,
          -1.7146915197372437,
          -0.8598899841308594,
          1.0412904024124146,
          -0.45458099246025085,
          4.359735012054443,
          4.031503677368164,
          0.20295388996601105,
          -0.47871094942092896,
          3.4267773628234863,
          4.004570007324219,
          4.834799289703369,
          -0.5845514535903931,
          1.8491709232330322,
          2.1477231979370117,
          1.0766956806182861,
          0.9664615392684937
         ],
         "y": [
          -0.033527519553899765,
          2.3738512992858887,
          1.247878074645996,
          3.339463472366333,
          0.41255947947502136,
          -0.20337766408920288,
          0.8512790203094482,
          0.18499091267585754,
          3.707664728164673,
          1.3642284870147705,
          1.458829641342163,
          0.5082148313522339,
          1.6810590028762817,
          0.45305413007736206,
          -0.5476422905921936,
          0.40430977940559387,
          -0.1369916945695877,
          1.1918538808822632,
          0.7117998003959656,
          3.259787082672119,
          1.2495970726013184,
          1.8594874143600464,
          1.6133840084075928,
          1.1961157321929932,
          0.8126377463340759,
          1.2665770053863525,
          0.561347246170044,
          1.5236783027648926,
          1.835452675819397,
          0.2064163237810135,
          2.3648757934570312,
          0.5507022738456726,
          1.8326261043548584,
          1.8096418380737305,
          0.6048709154129028,
          1.2967220544815063,
          1.3160746097564697,
          1.7852187156677246,
          2.793407917022705,
          1.0547035932540894,
          0.3507102429866791,
          0.8474887609481812,
          0.9803236722946167,
          1.207938313484192
         ]
        },
        {
         "hoverinfo": "text",
         "hovertext": [
          "Quero percorrer todos os caminhos, de Norte a Sul e de Leste a Oeste, para dizer a cada brasileiro e cada brasileira: nós vamos juntos reconstruir o Brasil. Mas este país é imenso, por isso peço a vocês: onde minhas pernas não puderem alcançar, eu andarei com as pernas de vocês.",
          "A cartilha \"Lula Play\", sugere o fortalecimento do mercado nacional de jogos digitais e criação de cursos técnicos e de Ensino Superior para, cada vez mais, desenvolver esse setor. A América Latina é onde mais cresce o número de jogadores, e o Brasil é líder no continente.",
          "Desenhistas pelo #BrasilDaEsperança. Lula 13 presidente, por @crisvector. Quer participar também? Nos envie seu desenho! #EquipeLula https://t.co/ezq7jAmwgG",
          "Vim com @Haddad_Fernando para uma aula pública onde ele trabalha, na USP. O professor que será nosso governador de São Paulo. Lotou.\n\n📸: @ricardostuckert https://t.co/KxkDjhphie",
          "@babidewet Obrigado, @babidewet. Vamos juntos pelo Brasil da esperança!",
          "Minas Gerais é um estado importante e sabe o que aconteceu quando eu fui presidente. Minas respira democracia, desenvolvimento e é para reconstruirmos juntos nosso Brasil que eu espero o povo mineiro amanhã no ato em Belo Horizonte. https://t.co/JuZ3nNIres #BrasilDaEsperança",
          "- Em instantes, às 10h30, estarei ao vivo com Rica Perrone.\n- Mais tarde, às 15h, participarei da Marcha pra Jesus aqui no nosso Rio de Janeiro. https://t.co/wcy4ChRYL2",
          "Videogame não é apenas entretenimento, é também cultura, emprego e desenvolvimento tecnológico. Ontem gamers apresentaram propostas para o nosso Programa de Governo, pedindo políticas públicas que fortaleçam o setor de jogos eletrônicos no Brasil.\n\n📸: @ricardostuckert https://t.co/4kxlkrZltb",
          "Ative as notificações aqui no Twitter para não perder nenhuma atualização da nossa campanha. Faltam 47 dias para recuperarmos o Brasil da esperança! #EquipeLula",
          "Quero pegar experiências de governo bem sucedidas para construirmos um novo Brasil. Um Brasil sem fome, com mais jovens na universidade, mais empregos qualificados, investimentos no SUS. E por isso nós não temos tempo a perder para recuperar nosso país. Bom dia!",
          "- Conselho de quem também apanha bastante: siga firme na sua missão e que se exploda os que querem o teu mal! Que eles virem combustível para que você e seus companheiros cresçam ainda mais! Vocês têm a total confianca do povo brasileiro e é isso que importa. Um forte abraço! 👍",
          "Hoje é o aniversário de @robertoclaudio, este grande prefeito que transformou Fortaleza e vai fazer muito mais pelo Ceará como nosso governador. Seu preparo e humanismo são ímpares, meu querido amigo. Estamos juntos! https://t.co/v1dtU9AvKm",
          "Muitas famílias hoje enfrentam a fome e o desemprego, mas queria trazer uma mensagem de esperança. Não vamos perder a fé no nosso país, em sermos capazes de fazer um Brasil melhor. Feliz dia dos pais, com muito carinho e amor.",
          "- Na contramão de outros governos, o estímulo à prática de esportes e sua profissionalização são destaque para o Brasil desde 2019, formando mais campeões internacionais e nacionais, cidadãos longe dos perigos de escolhas erradas e estímulo para novas carreiras direcionadas.",
          "O melhor pai é o que aprende a ser ao mesmo tempo o melhor filho, o melhor esposo, o mais humilde membro da família e o mais temente filho de Deus. Neste dia, viva os heróicos pais brasileiros.",
          "Um feliz dia dos pais. Com muito carinho, fraternidade, amor e esperança de dias melhores para o Brasil. \n\n🎥: @ricardostuckert https://t.co/9FoOlyYsMS",
          "Hoje convido vocês pro início oficial da nossa campanha. É hora de mostrar que o Brasil tem solução e que aqui tem projeto, experiência, ficha limpa e uma alternativa viável pra mudar o país. Vamos juntos? 🌹 #CiroPresidente12 \n\nhttps://t.co/cNFB7gBEqa",
          "Quem assiste esta cena, e não derrama lágrimas, tem uma pedra de gelo no peito. E quem não entende a imensa tragédia social que ela concentra, vai continuar sem buscar as verdadeiras saídas para o drama brasileiro. https://t.co/HklbF4LK5o",
          "- BRASIL ACIMA DE TUDO! DEUS ACIMA DE TODOS! 🇧🇷👍. https://t.co/TuReiy1mYr",
          "A fórmula para quebrar a polarização é ter humildade, disciplina, frequentar os debates, as sabatinas e tentar mostrar ao povo brasileiro a necessidade de construir uma alternativa. É o que estou fazendo. #CiroNoRodaViva",
          "COMEÇOU! Entrevista ao vivo para o SBT Brasil. Assista e compartilhe #CiroNoSBT: https://t.co/Z6EjnVETjF https://t.co/LHXjzU33GE",
          "Vou voltar no ABC com @Haddad_Fernando como governador. Vai ser a primeira vez que vamos governar ao mesmo tempo o Brasil e São Paulo. E se preparem: nós vamos fazer a maior transformação que esse país já viu. Vai ser a volta do emprego, do salário digno e do Brasil da esperança.",
          "Já em Belo Horizonte para o primeiro comício da nossa campanha, com @alexandrekalil, nosso próximo governador de Minas Gerais! #BrasilDaEsperança\n\n📸: @ricardostuckert https://t.co/sNITPc62ej",
          "Artes pelo #BrasilDaEsperança!🇧🇷 Desenho da @artevillar1. Faça parte desse movimento e envie seu desenho. #EquipeLula https://t.co/uFNoDV5naF",
          "Gente boa, hoje temos entrevista AO VIVO no SBT Brasil. Espero vocês às 19h50!\n\nCompartilhe e participe com a hashtag #CiroNoSBT https://t.co/vwGkOej8C0",
          "Bom dia! Hoje em BH daremos uma grande demonstração de democracia e do desejo de um Brasil melhor, com o primeiro comício da campanha. Estão todos convidados para a Praça da Estação, a partir de 16 horas. #BrasilDaEsperanca\n  https://t.co/BTQ5a4FxF4",
          "AVISO IMPORTANTE: \n\nPessoal, amanhã à noite estarei na posse do ministro Alexandre de Moraes na presidência do TSE. Por isso, a #CIROGAMES não será transmitida nesta terça-feira. Em seu lugar, teremos um #GiroDoCiro em Brasília. Fiquem ligados aqui nas redes!",
          "Vamos trabalhar e fazer o Brasil retomar o crescimento, gerar novas indústrias, mais empregos, aumento de salários, melhorias na educação e saúde. Nós vamos voltar a ter orgulho de ser brasileiro. Quando viajarem, as pessoas vão mostrar o passaporte com muito orgulho.",
          "- Após quase 14 anos de espera pelo título da terra, Antônia Francisca e Manuel Lopes receberam o documento.\n\n- Assim como eles, mais de 370 mil famílias brasileiras receberam o título desde o início de 2019. Mais um recorde histórico. https://t.co/s8HALlKlYk",
          "Onde minha voz não puder ser ouvida, eu falarei pela voz de vocês. Vamos ocupar as ruas e redes. Somos uma ideia, e ninguém pode aprisionar uma ideia. Eles mataram muitas flores, mas não impedirão a primavera. Estamos vivos e fortes. Com amor venceremos o ódio. #BrasilDaEsperança",
          "- No fim das contas, as divergências pouca diferença fazem na hora de nossa partida para perto de Deus. O que fica são as nossas obras, e Jô Soares deixa para o Brasil um exemplo de postura, elegância e bom humor, e, por isso, tem o meu respeito.",
          "Bora salvar o Brasil dessa polarização e, finalmente, trazer paz pro nosso país? Ainda dá tempo de você votar no Ciro! #CiroPresidente12 https://t.co/GfxaL3LiFM",
          "Amanhã é dia dos pais. É triste saber que muitos pais não vão ter um feijão para colocar no fogo. Eu quero dar uma mensagem de esperança, não podemos desistir de construir um dia melhor para o Brasil. Temos que acreditar que pode ser melhor. Com muita fraternidade e muito amor.",
          "Precisamos recuperar a economia no Brasil, resolver a questão da fome e da miséria. E também recuperar o prestígio e o protagonismo que o Brasil tinha, para, inclusive, ajudar estados como Minas Gerais a exportar e crescer mais.",
          "Deixe seu perfil sem medo de ser feliz! No link você pode criar sua foto com a marca do #BrasilDaEsperança! 🇧🇷🦑 #EquipeLula https://t.co/XES4xH4ueH",
          "A nossa luta é em busca da primavera. Boa noite. #BrasilDaEsperança https://t.co/GT53JjyKu5",
          "Eu não vou chegar aos estados falando mal das pessoas do estado. Em Minas eu vou falar bem do @alexandrekalil. Que é um cara que parece brabo, mas cheio de garra, que tem bom sentimento e que foi um grande prefeito de Belo Horizonte.",
          "Vim ao ABC hoje, nesse dia tão marcante da minha vida, para dizer que nós vamos ganhar as eleições e recuperar o Brasil. Porque esse país precisa de nós! #BrasilDaEsperança 🇧🇷\n\n📸: @ricardostuckert https://t.co/kP9CRYY1Sc",
          "Hoje eu me encontrei com o ator @mserradoator. Grande profissional com personagens memoráveis no cinema e na televisão. Vamos juntos pelo futuro do Brasil.\n\n📸: @ricardostuckert https://t.co/yttHh3CIBy",
          "#BrasilDaEsperança https://t.co/cLrbAIxco6",
          "A democracia vai restabelecer a dignidade nesse país. Muito respeito às instituições, muita conversa com a sociedade brasileira. É preciso envolver o povo na tomada de decisões. É assim que queremos recuperar o Brasil. Boa noite.",
          "Bom dia! Amanhã começa a campanha. Hoje estarei com @Haddad_Fernando em uma aula pública pela democracia na USP. Nos acompanhe também na transmissão nas redes. Uma boa semana pra nós e vamos juntos pelo Brasil!",
          "- Independentemente de preferências ideológicas, Jô Soares foi uma grande personalidade brasileira que conquistou a todos com seu modo cômico de discutir assuntos profundos. Que Deus conforte a família e o acolha com a cordialidade que o próprio Jô recebia a todos.",
          "\"Sou um homem livre. Eu estou aqui para servir ao Brasil\". Veja aqui os instantes finais da participação de Ciro no @rodaviva. #CiroNoRodaViva https://t.co/0dtuDYiiD0",
          "Pessoal, só pra lembrar que hoje temos encontro marcado às 22h na @tvcultura! \n\nJá que os fujões não vão aos debates, toda oportunidade é preciosa pra mostrar o que está acontecendo com o Brasil e como resolver essa crise. \n\nBora subir a hashtag: #CiroNoRodaViva https://t.co/jc8QS0SsDq",
          "Atenção, turma! Hoje nós temos um encontro no @rodaviva, da TV Cultura. Todo mundo pronto pra debater o Brasil? Começa 22h!\n\nAssista AO VIVO e participe com a hashtag #CiroNoRodaViva https://t.co/dZJcjNJQu4",
          "O @AndreJanonesAdv pode contribuir muito para nossa candidatura, fazendo as denúncias que tem que ser feitas contra o aumento dos alimentos, contra a fome. Ele vai ser um grande parceiro nesse processo eleitoral. E vamos precisar de muita gente para reconstruir o Brasil.",
          "Ação! À meia-noite começa nossa campanha. O Brasil vai voltar a ser um país de esperança! 🇧🇷 #EquipeLula https://t.co/kWiSWxkpG9",
          "@foquinha Obrigado pelo apoio, @foquinha. Nós vamos reconstruir o Brasil da esperança pro nosso povo.",
          "Espero que Deus ilumine a minha palavra para mostrar que o Brasil precisa dar um passo adiante. Eles já tiveram oportunidade e sabemos no que deu.",
          "A juventude tinha direito de sonhar com Lula e Dilma. Os governos do PT investiram em renda, emprego e educação de jovens da cidade e do campo. Relembre o legado de quem mais cuidou do futuro do Brasil. #EquipeLula https://t.co/AHWeXcsobT https://t.co/chAgx3I0wR",
          "Faz 11 anos que o Brasil não cresce e vou fazer o País voltar a crescer. Para isso precisamos restaurar o consumo das famílias, recuperar as empresas, retomar o investimento público e iniciar um amplo processo de reindustrialização.",
          "Vamos de 12 pra livrar o Brasil dessa onda de ódio e de paixões despolitizadas, gente boa! #CiroPresidente12 https://t.co/1DnMIryR79",
          "A reconstrução do Brasil é uma responsabilidade nossa. Precisamos, juntos, defender o país que sonhamos, sem fome e com vida digna pro nosso povo. #BrasilDaEsperança \n \n🎥: @ricardostuckert https://t.co/1eVmic0CnE",
          "É AMANHÃ! Com muita alegria, convido vocês pro início oficial da nossa campanha! 🌹\n\nVamos mostrar aos brasileiros que aqui tem projeto, experiência, ficha limpa e uma alternativa viável pra mudar o país.\n\nNesta terça, às 7h, estaremos AO VIVO nas redes. Acompanhe! #PrefiroCiro https://t.co/YYhmrfrOoD",
          "Aos 50 anos de vida pública, 8 dos quais presidindo o país, volto ao lugar onde tudo começou: a porta da fábrica. Como primeiro ato de campanha, visito a Volkswagen, levando aos trabalhadores uma mensagem de esperança: vamos juntos consertar o Brasil. Bom dia! #BrasilDaEsperança",
          "O primeiro passo para reconstruirmos nosso país é vencer as eleições. O Brasil é imenso, por isso eu conto com a ajuda de vocês, nas redes e nas ruas, para levarmos uma mensagem de fé e esperança ao nosso povo. #BrasilDaEsperança https://t.co/SrmlSTbJSy",
          "Brasil da esperança. Boa noite! https://t.co/CbNbjbS9GV",
          "RT @ElvisGov12: É com muito orgulho que inicio essa caminhada para ser governador de São Paulo ao lado do amigo @cirogomes. Juntos vamos tr…",
          "- Mais um estímulo à prática ao esporte de jovens: Assinado o decreto que atualiza o rol das ENTIDADES ESPORTIVAS detentoras do direito de indicarem competições elegíveis para o recebimento da BOLSA-ATLETA NA CATEGORIA ESTUDANTIL! DECRETO 11.168/2022.",
          "Credibilidade, estabilidade e previsibilidade devem guiar qualquer governo. Temos muitas coisas urgentes para fazer no Brasil e essas três palavras vão guiar nosso trabalho. Vamos trazer de volta a normalidade no país, gerar empregos e acabar com a miséria e a fome. Boa noite.",
          "- Brasília, DF, 10/agosto.\n- Confederação Nacional da Agricultura.\n- Término do evento. https://t.co/YSyL2m7eL0",
          "Volta, Lula! Pro Brasil da esperança voltar também! Boa noite 🇧🇷 #EquipeLula\n\n📸: @ricardostuckert https://t.co/UmBhxa6gmx",
          "- Agora, além do Comitê Olímpico do Brasil e do Comitê Paralímpico Brasileiro (CPB) a Confederação Brasileira de Desporto Escolar (CBDE) e a Confederação Brasileira de Desporto Universitário (CBDU) indicarão competições estudantis e universitárias para concessão do benefício.",
          "A gente vai ter que decidir o Brasil que a gente quer. Esse país já provou que pode ser bom. Se um cara que tem apenas diploma de torneiro mecânico, junto com vocês, provou que é possível, o que vocês não podem fazer?",
          "Precisamos apoiar micro e pequenas empresas e reestabelecer políticas de incentivo ao setor. Agradeço os empresários que estiveram hoje comigo e com o @geraldoalckmin. Vamos gerar oportunidades, empregos e recuperar a economia brasileira. #BrasilDaEsperança\n\n📸: @ricardostuckert https://t.co/Gh76eFJDQM",
          "Estivemos na posse do ministro Alexandre de Moraes (@alexandre) na Presidência do TSE. Aproveito a oportunidade pra reiterar minha confiança de que o novo presidente saberá conduzir a eleição mais tensa dos últimos anos. https://t.co/BbS1bUMXkN",
          null
         ],
         "marker": {
          "opacity": 0.5,
          "size": 5
         },
         "mode": "markers+text",
         "name": "0_brasil_para_de",
         "text": [
          "",
          "",
          "",
          "",
          "",
          "",
          "",
          "",
          "",
          "",
          "",
          "",
          "",
          "",
          "",
          "",
          "",
          "",
          "",
          "",
          "",
          "",
          "",
          "",
          "",
          "",
          "",
          "",
          "",
          "",
          "",
          "",
          "",
          "",
          "",
          "",
          "",
          "",
          "",
          "",
          "",
          "",
          "",
          "",
          "",
          "",
          "",
          "",
          "",
          "",
          "",
          "",
          "",
          "",
          "",
          "",
          "",
          "",
          "",
          "",
          "",
          "",
          "",
          "",
          "",
          "",
          "",
          "0_brasil_para_de"
         ],
         "textfont": {
          "size": 12
         },
         "type": "scattergl",
         "x": [
          2.189206838607788,
          0.49103057384490967,
          3.6505823135375977,
          3.7385449409484863,
          3.0635197162628174,
          1.968414545059204,
          3.350925922393799,
          0.5146180987358093,
          2.672863483428955,
          1.0809718370437622,
          2.093580484390259,
          3.7484333515167236,
          2.5142157077789307,
          0.7021204233169556,
          2.453788995742798,
          2.5455589294433594,
          2.3728132247924805,
          3.0130975246429443,
          3.4168076515197754,
          1.8513180017471313,
          3.2978761196136475,
          1.750667929649353,
          3.156994581222534,
          3.491189479827881,
          3.3347573280334473,
          3.005045175552368,
          3.3717563152313232,
          1.2817083597183228,
          2.3079206943511963,
          2.681030511856079,
          2.0440335273742676,
          2.1677074432373047,
          2.5055155754089355,
          1.123450756072998,
          3.503711223602295,
          2.8602733612060547,
          3.707984447479248,
          2.3046977519989014,
          3.350496768951416,
          3.0871634483337402,
          1.1983295679092407,
          3.157038688659668,
          2.214062213897705,
          3.653602361679077,
          3.089730978012085,
          3.154529571533203,
          2.446923017501831,
          2.560422658920288,
          2.441257953643799,
          2.0030739307403564,
          3.002291202545166,
          0.9502285718917847,
          2.253966808319092,
          2.243976354598999,
          2.773547887802124,
          2.214132070541382,
          2.259791851043701,
          2.9291160106658936,
          3.55788254737854,
          0.6615980267524719,
          1.1472586393356323,
          3.0967020988464355,
          3.0577685832977295,
          0.6910149455070496,
          1.7996937036514282,
          1.1446681022644043,
          3.3768341541290283,
          2.46038556098938
         ],
         "y": [
          0.13557542860507965,
          -0.313954621553421,
          0.25666120648384094,
          0.9570391774177551,
          -0.0937739685177803,
          0.34582921862602234,
          0.8582335710525513,
          -0.2656475007534027,
          0.301079660654068,
          -0.05524861812591553,
          0.05146314948797226,
          0.9426727294921875,
          -0.4597071707248688,
          -0.37186744809150696,
          -0.48689889907836914,
          -0.47652411460876465,
          0.5761264562606812,
          0.378277450799942,
          -0.06778793036937714,
          -0.02674729935824871,
          0.16892215609550476,
          0.38933685421943665,
          0.8543509244918823,
          0.1293451189994812,
          0.29824134707450867,
          0.7502778172492981,
          1.089539647102356,
          -0.21779610216617584,
          -0.5969787836074829,
          0.1532198190689087,
          -0.18881353735923767,
          0.10445050150156021,
          -0.44302237033843994,
          -0.048059143126010895,
          0.129166379570961,
          0.06303425133228302,
          1.009171962738037,
          0.16700170934200287,
          0.055028438568115234,
          0.12200896441936493,
          0.1734793335199356,
          0.977059543132782,
          -0.30488601326942444,
          0.2163754552602768,
          0.5030890703201294,
          0.48989805579185486,
          0.5174988508224487,
          0.19592560827732086,
          0.0681808590888977,
          -0.12110971659421921,
          -0.16281840205192566,
          0.024900175631046295,
          0.09723005443811417,
          0.13289904594421387,
          0.8490116000175476,
          0.7016922831535339,
          0.12858015298843384,
          -0.04351590573787689,
          0.8735899925231934,
          -0.3720379173755646,
          0.1301279515028,
          0.42391520738601685,
          -0.12617579102516174,
          -0.37170863151550293,
          -0.12084835767745972,
          -0.07955368608236313,
          1.413475513458252,
          0.1848880648612976
         ]
        },
        {
         "hoverinfo": "text",
         "hovertext": [
          "❤️🎮 https://t.co/VPUGpSCJo8",
          "https://t.co/0EaVIJ0DoJ",
          "Todo mundo ligado? 😄 #CiroNoRodaViva \n\n⏯️ https://t.co/FFioHIk8Ms https://t.co/fSsczPn3Ls",
          "- Boa noite a todos! 👍.\n\nobs: autor desconhecido. https://t.co/9vZHuNF45H",
          "Dois lados. #EquipeLula https://t.co/zEZu6Udbeq",
          "- O selo está disponível para quem desejar usá-lo na foto de perfil. Basta acessar o link: https://t.co/h59nlM5Q6D",
          "Vai um cafezinho? ☕ https://t.co/og8lYxazXR",
          "Linda noite na USP.\n\n📸: @ricardostuckert https://t.co/jilQ4hLzZn",
          "https://t.co/sfYTzKc9IP",
          "https://t.co/wozxydPoME https://t.co/eRuDTw9y5G",
          "https://t.co/Rk0jEJtvBQ",
          "https://t.co/0GTMMCkibQ",
          "Pra quem não viu (ou pra quem quer rever), segue o link do #CiroNoRodaViva 👇\n\nhttps://t.co/FFioHIk8Ms",
          "https://t.co/vZai5NvfnB",
          "https://t.co/po7r8q2nLi",
          "Temos pacote de figurinhas dos Dia dos Pais sim senhor! Já disponível para Whatsapp, Telegram, Tiktok e Instagram. Baixe e compartilhe! 🦑 #EquipeLula\nhttps://t.co/BcgGGj7vYU https://t.co/caaBt3AzTW",
          "Nove. https://t.co/hfMesT3LHq",
          "- Informações atualizadas em nosso GETTR: https://t.co/rVeSExaSVV https://t.co/LQ3mfxV27X",
          "E aí, gostaram da nova foto de perfil? 😄 #CiroPresidente12 https://t.co/0rbm11zFqg",
          "- Via: tiktok /conservadoresbr https://t.co/4UlGiYQgDl",
          "Acompanhe, no horário, ao vivo, pelo Canal do Flow Podcast: https://t.co/eZTLTeqVEU https://t.co/mMHJnptC7M",
          "https://t.co/o0VsJIXXiG",
          "- Um velho amor...\n- Morram de ciúmes...\n- Gota Serena kkkkk 👍 https://t.co/42xVorsueu",
          null
         ],
         "marker": {
          "opacity": 0.5,
          "size": 5
         },
         "mode": "markers+text",
         "name": "1_https_co_tiktok",
         "text": [
          "",
          "",
          "",
          "",
          "",
          "",
          "",
          "",
          "",
          "",
          "",
          "",
          "",
          "",
          "",
          "",
          "",
          "",
          "",
          "",
          "",
          "",
          "",
          "1_https_co_tiktok"
         ],
         "textfont": {
          "size": 12
         },
         "type": "scattergl",
         "x": [
          6.5052313804626465,
          6.240464210510254,
          6.045403003692627,
          6.130311012268066,
          6.191172122955322,
          6.588573932647705,
          6.090717315673828,
          6.432226657867432,
          6.30118989944458,
          6.078656196594238,
          6.239908695220947,
          6.224912643432617,
          6.291703701019287,
          6.23464298248291,
          6.138329029083252,
          6.4707207679748535,
          6.250057697296143,
          6.164499759674072,
          6.581193447113037,
          6.223245143890381,
          5.936500072479248,
          6.1024627685546875,
          6.206366539001465,
          6.246455192565918
         ],
         "y": [
          3.419276237487793,
          3.5145180225372314,
          2.963463544845581,
          3.5071098804473877,
          3.461266279220581,
          3.271061658859253,
          3.4538044929504395,
          3.563143730163574,
          3.3493854999542236,
          3.2639148235321045,
          3.463060140609741,
          3.2546398639678955,
          3.3631534576416016,
          3.450918674468994,
          3.5011091232299805,
          3.005695343017578,
          3.359924554824829,
          3.2837603092193604,
          3.3182144165039062,
          3.163952350616455,
          2.9357852935791016,
          3.331348180770874,
          3.5228278636932373,
          3.335710048675537
         ]
        },
        {
         "hoverinfo": "text",
         "hovertext": [
          "Bom dia! Hoje é dia 1️⃣3️⃣⭐\nFaltam 50 dias para...",
          "Atenção BH: amanhã tem ato na cidade! O evento é aberto e para todos. Chame seus amigos, familiares e vamos juntos recuperar a esperança, com Lula, @geraldoalckmin, @alexandrekalil, @AndreJanonesAdv e @asilveiramg! #EquipeLula https://t.co/JuZ3nO0260 https://t.co/7hzPN7FJ7w",
          "Vocês já conhecem o Desafio do App do Cirão? A Jéssica Fernanda @jfernandaBrasil, de Rondonópolis no Mato Grosso, é a grande vencedora da semana!\n\nNossa vice @AnaPaulaMatosBA resolveu fazer uma surpresa maravilhosa. Confira! https://t.co/NURTEdgHOr",
          "- Ultrapassamos Beonce. Obrigado a todos! 👍. https://t.co/6rUCl6akW8",
          "RT @AndreJanonesAdv: Daqui a pouco, às 11:00 da manhã, @LulaOficial e eu entraremos ao vivo em uma live no meu face, pra um importante comu…",
          "Reunir a família é sempre um momento de muitas bênçãos e alegria! ❤️ https://t.co/aQyIwQjWLF",
          "- Valeu pelo presente, @neymarjr ! Parabéns pelo jogão de hoje! Com a graça de Deus, este será o seu ano. Estamos todos na torcida! https://t.co/gkENKXKwDK",
          "Repare bem: hoje vai ser épico! 😁 Venha assistir minha conversa com @AndreMarinho a partir das 18h e bora subir a hashtag: #CiroComAndréMarinho https://t.co/j4HqcK3KwC",
          "COMEÇOU! Bate-papo ao vivo com @AndreMarinho. Repare bem na hashtag: #CiroComAndréMarinho\n\n➡️ https://t.co/kLvss0wm0p https://t.co/WzW0uWtc6L",
          "Obrigado, @tiamaoficial. https://t.co/0DmzYe1BFM",
          "@tiamaoficial Um abraço pra você e sua família.",
          "Esta @AnaPaulaMatosBA não veio só pra somar, veio pra multiplicar! Êta baiana retada!! 😄 #MilitaQueVira12 https://t.co/LQ0zzHv74X",
          "- Aos quase 600 mil expectadores que nos aguentaram por mais de 5 horas ininterruptas, o meu muito obrigado pela audiência e, principalmente, pela paciência! Kkkk. Um bate papo com muita informação, descontração, embates, bom humor e seriedade. Boa noite a todos! https://t.co/PjMzrZmcWC",
          "Todo mundo viu esse papo de altíssimo nível com o querido @AndreMarinho? Fiquei muito feliz com o convite! Repare bem, esse cara é dos bons! #CiroComAndréMarinho https://t.co/vY5eRzl4Zn",
          "Veja aqui as dicas da nossa querida @gisellebezerra pra você também baixar o App do Cirão 😁👇\nhttps://t.co/mR78gncvzO",
          "Já viram que hora é essa? 👀👇\n\nciro         ciro ciro ciro\nciro      ciro             ciro\nciro       ciro           ciro\nciro                     ciro\nciro                  ciro\nciro               ciro\nciro            ciro\nciro         ciro\nciro     ciro ciro ciro ciro",
          "VAI COMEÇAR! Assista minha entrevista no Roda Viva, na @tvcultura a partir das 22h. Ao vivo também no YouTube: https://t.co/FFioHIk8Ms\n\n#CiroNoRodaViva",
          "- Espectadores*. 👍. Um forte abraço a todos!",
          "12 é o número da torcida! Pessoal, faltam 45 dias para o apito final e jogo tá só começando. Vai ser de virada e vai ser histórico! https://t.co/0eYgK18SRp",
          "- Agradeço aos mais de 450 mil espectadores que nos acompanharam ao vivo nessa entrevista de quase 3 horas. Grande audiência! 👍. https://t.co/PxJYHScnft",
          null
         ],
         "marker": {
          "opacity": 0.5,
          "size": 5
         },
         "mode": "markers+text",
         "name": "2_ciro_https_co",
         "text": [
          "",
          "",
          "",
          "",
          "",
          "",
          "",
          "",
          "",
          "",
          "",
          "",
          "",
          "",
          "",
          "",
          "",
          "",
          "",
          "",
          "2_ciro_https_co"
         ],
         "textfont": {
          "size": 12
         },
         "type": "scattergl",
         "x": [
          5.789538383483887,
          5.036656379699707,
          5.133609294891357,
          5.510056972503662,
          5.403561115264893,
          5.1396098136901855,
          5.7479634284973145,
          5.6722540855407715,
          5.838162422180176,
          5.072025775909424,
          5.145358562469482,
          5.8399248123168945,
          5.390926837921143,
          5.771941184997559,
          5.139586448669434,
          5.789023399353027,
          5.670062065124512,
          5.234861850738525,
          5.765199184417725,
          5.436166763305664,
          5.476324081420898
         ],
         "y": [
          2.0368614196777344,
          2.5814857482910156,
          1.871980905532837,
          2.372647285461426,
          2.503345489501953,
          2.2690882682800293,
          2.2848551273345947,
          2.429542064666748,
          2.625383138656616,
          2.240701675415039,
          2.283090829849243,
          2.513421058654785,
          2.3923659324645996,
          2.444211006164551,
          1.9222240447998047,
          2.0615274906158447,
          2.6056292057037354,
          2.3104043006896973,
          2.112337827682495,
          2.5029354095458984,
          2.318202257156372
         ]
        },
        {
         "hoverinfo": "text",
         "hovertext": [
          "Você já conhece o nosso Programa de Renda Mínima ‘Eduardo Suplicy’, que vai garantir R$1.000 aos lares de toda a população carente no Brasil? #CiroPresidente12 https://t.co/HDR4T1OwUZ",
          "- Com 838,4 hectares de terras, o Salubrinho também produz aipim, feijão, laranja, limão e manga. Atualmente, ocorre a introdução do cultivo do maracujá no assentamento, que produz frutos quatro vezes ao ano e, com isso, tem potencial de aumentar a rentabilidade das famílias.",
          "Você tem ideia de quanto o governo pagou de juros pra banco e pras famílias mais abastadas do Brasil em um ano? R$500 bilhões! Quase o dobro do que gastou com o SUS e com Educação. #CiroNoRodaViva",
          "💰 DE ONDE VEM O DINHEIRO? De programas de transferência de renda já existentes (como o Auxílio Brasil, antigo Bolsa Família) + imposto sobre grandes fortunas e taxação de lucros e dividendos –",
          "O consumo das famílias – nosso principal impulso pra reativar a economia – depende de três variáveis: emprego, renda e crédito. Os dois primeiros vêm depois que o país cresce. Então, onde a política pode agir pra melhorar a vida brasileira a curto prazo? 🤔👇",
          "1️⃣ Se as famílias aumentam o seu consumo, o comércio vende mais, contrata mais gente e encomenda mais da indústria.\n\n2️⃣ Se a indústria recebe mais encomendas, contrata mais gente e compra mais matéria-prima.",
          "Não tem explicação para um país como o Brasil ter gente passando fome. E o pequeno e médio produtor agrícola não estão recebendo o auxílio necessário para produzir mais feijão, arroz.",
          "- Só os investimentos já garantidos nos últimos dois anos beneficiam cerca de 20 milhões de pessoas em todo o país. Além de qualidade de vida e dignidade para os brasileiros, o Marco do Saneamento também deverá gerar economia de R$ 1,45 BILHÃO nos custos anuais com saúde.",
          "-Além do início dos investimentos históricos com a sanção do Marco do Saneamento Básico, derivando em mais saúde para o povo. Passos gigantescos são dados em obras que jamais renderam votos, pois não possuem visibilidade direta ou devido a interesses que sempre estiveram por trás",
          "- São mais de 370 mil títulos entregues à famílias de assentados, garantindo além da posse, políticas governamentais no incremento da produção do agricultor familiar. O Governo Federal faz história e liberta o Brasileiro das mãos de facções patrocinadas por partidos de esquerda.",
          "- Ao contrário do que diziam, mostramos que é possível, sim, reduzir essa carga super-pesada. Basta uma política econômica eficiente e respeito com o dinheiro dos brasileiros. Essa tem sido nossa grande diferença: ao invés de se servir do povo, nós passamos a servir ao povo.",
          "- Fora as ações já realizados desde 2019, privatizações e concessões devem atrair R$ 3 trilhões em 10 anos.\n\n- Brasil deve receber R$ 203 bilhões de investimentos no próximo ano com projetos que estão sendo implementados.\n\n. Infraestrutura, empregos e desenvolvimento.",
          "- Acertou, Bruno! O esgoto só aumenta... graças ao Marco do Saneamento que sancionamos em 2020, que elevou os investimentos de R$ 4,5 para 50 BILHÕES/ano e que finalmente tornará realidade a universalização do saneamento básico no Brasil. Fico feliz que tenha reconhecido isso. https://t.co/riB2tqdRBW",
          "- O assentamento Salubrinho, em Andaraí, na Bahia, se programa para colher 100 ton de abacaxi no biênio de 2022 e 2023. A safra inicia este mês. Dentre as 40 famílias beneficiárias da reforma agrária nessa área, 13 se dedicam ao cultivo da fruta, que leva 14 meses para produzir.",
          "Produção de trigo no Brasil:\n\n- Safra 2020: 6,2 milhões de ton/ano.\n- Safra 2021: 7,8 milhões de ton/ano.\n- Safra 2022: 9,2 milhões de ton/ano.\n\nConsumo nacional: 12,8 mi/ton/ano. Em 2025 o Brasil deverá ser autossuficiente em trigo.\n\nParabéns aos triticultores e à EMBRAPA.",
          "- Saneamento Básico: em mais uma etapa desde 2019, destinados mais recursos para continuidade de obras de esgotamento sanitário, abastecimento de água e manejo de águas pluviais nos estados do Ceará, Goiás, Mato Grosso, Mato Grosso do Sul, Paraná, Rondônia e Rio Grande do Sul.",
          "A solução para a carestia no Brasil é mudar o modelo econômico, que vinculou muitas coisas ao dólar – como combustíveis e energia elétrica –, e estabelecer novamente uma política de abastecimento e preços, em que o governo deve entrar comprando pra proteger o produtor. #CiroNoSBT",
          "- Preservação ao meio ambiente, empregos diretos e indiretos e desenvolvimento regional.",
          null
         ],
         "marker": {
          "opacity": 0.5,
          "size": 5
         },
         "mode": "markers+text",
         "name": "3_ano_de_mais",
         "text": [
          "",
          "",
          "",
          "",
          "",
          "",
          "",
          "",
          "",
          "",
          "",
          "",
          "",
          "",
          "",
          "",
          "",
          "",
          "3_ano_de_mais"
         ],
         "textfont": {
          "size": 12
         },
         "type": "scattergl",
         "x": [
          -1.564082145690918,
          -1.5440852642059326,
          -1.5431675910949707,
          -1.3986481428146362,
          -0.7471470832824707,
          -0.6382721662521362,
          -0.7683132886886597,
          -1.36375892162323,
          -1.31696617603302,
          -1.3248320817947388,
          -0.9349879026412964,
          -1.4420336484909058,
          -1.6185989379882812,
          -1.6096409559249878,
          -1.4832971096038818,
          -1.4315413236618042,
          -0.6505560278892517,
          -0.6867111325263977,
          -1.2259243726730347
         ],
         "y": [
          0.5537341237068176,
          0.4602583050727844,
          0.7600930333137512,
          0.6247515082359314,
          0.608154833316803,
          0.4608188271522522,
          1.0655953884124756,
          0.3781699240207672,
          0.24037958681583405,
          0.5845895409584045,
          1.2561460733413696,
          0.5136204361915588,
          0.41991695761680603,
          0.47300535440444946,
          0.5362190008163452,
          0.26928094029426575,
          0.9990174174308777,
          0.24447953701019287,
          0.5804572701454163
         ]
        },
        {
         "hoverinfo": "text",
         "hovertext": [
          "Alguém disse TCHUTCHUCA DO CENTRÃO? Me ajudem aqui porque a agenda tá corrida: vocês tão falando de Bolsonaro ou de Lula? 👀 /ADM",
          "Bolsonaro mente para os evangélicos. Ele é um fariseu, tenta manipular a fé de homens e mulheres evangélicas que vão à igreja pela sua religiosidade. E conta mentiras todos os dias. Mas quero que ele me ouça: não haverá mentiras ou fake news que nos impeçam de mudar o Brasil.",
          "Eu não sou candidato porque é fácil. Eu sou candidato porque é necessário. O Brasil não aguenta mais isso. Será que é razoável que a resposta pra tudo que Bolsonaro representa seja voltar ao que deu causa a ele?",
          "E aí, gente boa, o que acharam do último react sobre a participação de Bolsonaro no @flowpdc? Pra quem não viu (ou pra quem quer rever) segue o link do #ReactDoCirão completo no Youtube: https://t.co/qbzudHvRDG e comente o que achou. 👀 https://t.co/Lxgzi5p9YT",
          "- Live da semana / PR Jair Bolsonaro (18/08/2022). https://t.co/EnilvCvHjG",
          "Em três anos e meio, Bolsonaro prepara um legado de desemprego, aumento de dívidas, famílias com baixo poder de compra e carrinhos de supermercado cada vez mais vazios. Vamos recuperar o Brasil e trazer qualidade de vida pro povo brasileiro. #EquipeLula https://t.co/nKTuDC2e7d https://t.co/mrp7EYr6ae",
          "- Thiago Gagliasso fala sobre quando conheceu Jair Bolsonaro. https://t.co/5nQ9TKwWMJ",
          "Bolsonaro estava muito incomodado ontem no TSE, porque ouviu tantas vezes a palavra democracia e críticas às mentiras. Era visível o desconforto. E eu compreendo isso, porque ele não gosta de democracia, e ontem foi um ato em defesa do Estado Democrático no Brasil.",
          "O Bolsonaro colocou o auxílio emergencial na lei até dezembro. Ele percebeu a bobagem e agora está dizendo que vai continuar. Agora se ele quisesse que continuasse ele fazia sem colocar o fim em dezembro.",
          "Bolsonaro tenta se aproveitar do PIX, mas na realidade ele nem sabia como o sistema funcionava na semana do seu lançamento. E agora até funcionários do Banco Central afirmam que ele mais atrapalhou do que ajudou. Compartilhe @verdadenarede! #EquipeLula https://t.co/RgBUhQfOPd https://t.co/KKEz0485cr",
          "\"Honra a teu pai e a tua mãe, para que se prolonguem os teus dias na terra que o Senhor teu Deus te dá\" - Êxodo 20:12\n\n- Cada pai continua vivendo um pouco em seu filho.\n- Sr. Percy Geraldo Bolsonaro, meu pai e meu herói.\n- Feliz Dia dos Pais a todos! https://t.co/PttTAsCYi1",
          "- Em respeito à Glória Perez, não alimentarei essa exploração leviana em cima de sua perda irreparável. As ilações com base em informações falsas divulgadas por parte da mídia só expõem sua falta de escrúpulos e o desprezo pela dor das pessoas, tratando-as como meras ferramentas.",
          "Pare pra pensar e me responda: se Bolsonaro ou Lula vencerem as eleições, você acha que o Brasil vai amanhecer mais ou menos dividido e suscetível aos ódios, paixões irracionais e violência política?",
          "-Pronunciamento à nação (11/08/2022) PR Jair Bolsonaro. https://t.co/d8i69uus01",
          "Bolsonaro não caiu de Marte, minha gente. Ele foi eleito por um protesto magoado da população brasileira pela crise econômica mais grave da nossa história e pela corrupção generalizada – que Lula e o PT promoveram.",
          "Conversando com @caiofabiovvtv, perguntei qual seria o papel dos cristãos no período eleitoral e ele foi categórico: nós, cristãos, precisamos cultivar as pautas de Jesus. Veja quais são e porquê Bolsonaro não representa nenhuma delas. https://t.co/tehSkQC6Rv",
          null
         ],
         "marker": {
          "opacity": 0.5,
          "size": 5
         },
         "mode": "markers+text",
         "name": "4_bolsonaro_ele_ou",
         "text": [
          "",
          "",
          "",
          "",
          "",
          "",
          "",
          "",
          "",
          "",
          "",
          "",
          "",
          "",
          "",
          "",
          "4_bolsonaro_ele_ou"
         ],
         "textfont": {
          "size": 12
         },
         "type": "scattergl",
         "x": [
          1.3236621618270874,
          1.266235589981079,
          1.2520546913146973,
          1.7388378381729126,
          1.7237486839294434,
          1.1884740591049194,
          1.7431988716125488,
          1.2765413522720337,
          1.013389229774475,
          1.7661991119384766,
          1.8490182161331177,
          1.448925495147705,
          1.2469896078109741,
          1.7175272703170776,
          1.2529640197753906,
          1.3314895629882812,
          1.4462034702301025
         ],
         "y": [
          2.9272961616516113,
          2.763256549835205,
          2.8453943729400635,
          3.1864795684814453,
          3.155672073364258,
          2.8740744590759277,
          3.1326708793640137,
          2.693737030029297,
          2.8029239177703857,
          3.2900383472442627,
          3.0718235969543457,
          2.338921308517456,
          2.8799777030944824,
          3.1258294582366943,
          2.8597264289855957,
          2.6303136348724365,
          2.9111335277557373
         ]
        },
        {
         "hoverinfo": "text",
         "hovertext": [
          "Estamos propondo um novo sistema previdenciário que tem 3 pernas:\n\n1) o programa de Renda Mínima – que vai entrar como elemento de seguridade social;",
          "O Bolsa família não era só para distribuir dinheiro. Era para cuidar das pessoas. Para a criança ir na escola, a mulher poder cuidar da sua saúde.",
          "No crédito. Com um programa de reestruturação de dívidas casado com um projeto de educação financeira. Ainda ficou alguma dúvida? Pois fique ligado porque vamos falar bastante sobre isso hoje aqui nas redes.",
          "- Entre os planos aplicados pela atual gestão também está a carteira de desestatização classificada como a maior do mundo.",
          "🤔 O QUE É? O Programa de Renda Mínima ‘Eduardo Suplicy’ será o maior programa de transferência de renda da nossa história. Ele vai garantir uma renda de R$ 1 mil, em média, para 24,2 milhões de famílias carentes.",
          "2) um regime de repartição transitório – com um teto que vai valer pra todo mundo que entrar no sistema;\n \nE 3) um regime de capitalização público controlado por um coletivo de trabalhadores com contribuição patronal.",
          "CHEGA DE CHANTAGEM E ESTELIONATO ELEITORAL! AQUI, O DIREITO É PRA SEMPRE. Conheça o Programa de Renda Mínima Eduardo Suplicy – o maior programa de transferência de renda da nossa história e que será um direito constitucional, garantido seja qual for o governo! #CiroPresidente12 https://t.co/cqkHWPKmoG",
          "- Recentemente priorizando o saneamento básico e infraestrutura, o BNDES anunciou também pareceria com o Sebrae para criar um fundo garantidor voltado para empreendedores individuais, além de micros e pequenos empresários.",
          "- Oferta de bolsas do Prouni para Medicina é 40% maior do que em 2021.\n\n- Esse número só é possível devido as alterações no Programa pela nova lei sancionada pelo Governo Federal. https://t.co/sTl5oeu3kW",
          "- Longe do PT,  BNDES que patrocinava obras em ditaduras socialistas deixando de fora investimentos no 🇧🇷 além de outras movimentações sombrias, hoje o órgão recebeu a premiação de “transformação bancária” da América Latina do Euromoney Awards for Excellence em 2022.",
          "Não podemos deixar micro e pequenos empresários fecharem seus negócios por dívidas que contraíram durante a pandemia. O BNDES precisa ajudar os pequenos. O futuro pode até esperar algo novo, mas não podemos deixar que vocês morram, vamos levar à sério a renegociação de dívidas.",
          "Ciro dá mais detalhes sobre a implantação do Programa de Renda Mínima Eduardo Suplicy, que vai distribuir 1 mil ao mês às famílias mais carentes. #CiroNoRodaViva https://t.co/Xli6wcdilq",
          "- Também, a ampliação do Teto do financiamento para o curso de medicina foi aumentado em mais de 20%, em 2022, sendo mais uma novidade aos estudantes da área de saúde.\n \n- Implemento de 22,8% passando do atual valor, R$ 42.983,70, para R$ 52.805,66.",
          "Aqui tem projeto com início, meio e fim! Veja detalhes do nosso Programa de Renda Mínima – o que é, de onde vem o dinheiro e como será sua estruturação com base no tamanho e formação das famílias. E veja também a análise dos comentaristas da @GloboNews. https://t.co/ycn96SfLuV",
          null
         ],
         "marker": {
          "opacity": 0.5,
          "size": 5
         },
         "mode": "markers+text",
         "name": "5_programa_renda_de",
         "text": [
          "",
          "",
          "",
          "",
          "",
          "",
          "",
          "",
          "",
          "",
          "",
          "",
          "",
          "",
          "5_programa_renda_de"
         ],
         "textfont": {
          "size": 12
         },
         "type": "scattergl",
         "x": [
          -1.0545002222061157,
          -0.9088797569274902,
          -0.765267550945282,
          -1.1258471012115479,
          -0.937188446521759,
          -1.1467063426971436,
          -0.7951027750968933,
          -1.162598729133606,
          -1.0897969007492065,
          -1.2534198760986328,
          -0.7756586670875549,
          -0.9836435914039612,
          -1.1624128818511963,
          -0.8685010671615601,
          -1.0021088123321533
         ],
         "y": [
          -0.25361448526382446,
          -0.07380231469869614,
          -0.09364940971136093,
          -0.17704708874225616,
          -0.23504838347434998,
          -0.11614465713500977,
          -0.1630268692970276,
          0.07950634509325027,
          -0.3162696659564972,
          0.13038602471351624,
          0.22469104826450348,
          -0.24884948134422302,
          -0.4251161515712738,
          -0.19820746779441833,
          -0.13329948484897614
         ]
        },
        {
         "hoverinfo": "text",
         "hovertext": [
          "Recado do Lula e da @gleisi para o povo de São Paulo: sábado teremos um grande ato no Vale do Anhangabaú.  Chegue cedo, a partir das 8h, e registre sua presença no link: https://t.co/85gf1HXiKn #EquipeLula https://t.co/7rPy4KDsnt",
          "Ontem Lula recebeu a visita de representantes do Partido da Social-Democracia Alemão para discutir os principais desafios ambientais, as parcerias entre os dois países e as estratégias comerciais entre as organizações do Mercosul e União Europeia. #EquipeLula \n📷:@ricardostuckert https://t.co/tfx0RnytA3",
          "Lula teve hoje sua 26ª vitória na justiça. O ex-presidente obteve vitórias em todos os processos movidos contra ele. Sextou! #LulaInocente #EquipeLula https://t.co/aApKvnbxNk https://t.co/To2yx2gDIH",
          "Lula dá início a campanha em porta de fábrica no ABC https://t.co/xrEMsi6Jfs",
          "Dia 15 tem encontro em defesa da democracia! Lula e @Haddad_Fernando na USP. Registre sua presença no link https://t.co/IlFBiD1EAa #EquipeLula https://t.co/p2CiUrbXgs",
          "Lula e André Janones com uma mensagem importante. #Compartilhem #VamosJuntosPeloBrasil https://t.co/zc31FDphfF",
          "Lula fala com a Rádio Super, de Minas Gerais. Amanhã Grande Comício na Praça da Estação em Belo Horizonte https://t.co/50QjwSQGAO",
          "Que tal ouvir o Lula quando quiser no seu Spotify? Hoje lançamos o primeiro programa do canal do Lula na plataforma. A programação terá podcasts, músicas, playlists e muita história boa pra escutar e compartilhar 🎙️🎧 #EquipeLula https://t.co/hoUlOreGKh https://t.co/80pX14ISd7",
          "Encontro de Lula com empresários de pequenas e médias empresas https://t.co/TQNJZrfi6P",
          "Bom dia! Logo mais, 8h, tem entrevista com Lula ao vivo! Acompanhe nas redes sociais. #EquipeLula https://t.co/TRcMDLQR4G",
          "Lula e Haddad em aula aberta na USP https://t.co/FFxZsk9ir3",
          "Beagá, semana que vem tem Lula na cidade! Já registrou sua presença? Preencha o formulário no link pra não perder nenhuma novidade! 🦑 #EquipeLula https://t.co/JuZ3nNIres https://t.co/76PMWlbGeP",
          null
         ],
         "marker": {
          "opacity": 0.5,
          "size": 5
         },
         "mode": "markers+text",
         "name": "6_lula_equipelula_co",
         "text": [
          "",
          "",
          "",
          "",
          "",
          "",
          "",
          "",
          "",
          "",
          "",
          "",
          "6_lula_equipelula_co"
         ],
         "textfont": {
          "size": 12
         },
         "type": "scattergl",
         "x": [
          4.432112216949463,
          4.252511978149414,
          4.442484378814697,
          4.444846153259277,
          4.206457138061523,
          4.306946754455566,
          4.369017601013184,
          4.4030632972717285,
          4.39889669418335,
          4.46757173538208,
          4.557925701141357,
          4.401270866394043,
          4.390258312225342
         ],
         "y": [
          2.5229811668395996,
          2.7455124855041504,
          2.9447085857391357,
          3.0957741737365723,
          2.119940996170044,
          2.8514020442962646,
          2.891916513442993,
          3.0590105056762695,
          3.0275330543518066,
          3.0029449462890625,
          3.0170187950134277,
          2.889430522918701,
          2.8473479747772217
         ]
        },
        {
         "hoverinfo": "text",
         "hovertext": [
          "O que está fracassando no Brasil é a política e o que tá errado, está errado pra proteger uma minoria de privilegiados que têm conseguido engessar as instituições pra eternizar a miséria, a informalidade selvagem e uma das maiores concentrações de renda do mundo. #CiroNoRodaViva",
          "O país está vivenciando uma devastadora crise social e estamos sendo impedidos de refletir sobre isso por conta de ódios e paixões despolitizadas. E pra completar, os dois que lideram as pesquisas estão simplificando a questão brasileira a um jogo de personalidades.",
          "- O Brasil já tem sua carta pela democracia: a Constituição. Essa é a única carta que importa na garantia do estado democrático de direito, mas foi justamente ela que foi atacada pelos que agora promovem um texto paralelo que, para efeitos legais, vale menos que papel higiênico.",
          "O que está acontecendo no Brasil é que está se relativizando de uma forma absolutamente chocante de que corrupção é uma inerência da política. Isso destrói uma nação. #CiroNoRodaViva",
          "Vou acabar com a molecagem política de humilhar nosso povo na véspera de cada eleição e criar o programa de Renda Mínima Eduardo Suplicy, que vai ter status constitucional e será um direito previdenciário dos brasileiros.",
          "Se a gente não conseguir salvar o Brasil dessa absurda e despolitizada polarização, o aprofundamento dos ódios e paixões vai produzir o maior estelionato eleitoral da história – com uma crise tão grave que aí sim nós vamos ver que valor tem a democracia para a nossa sociedade.",
          "Eu sou candidato do povo brasileiro, e quero tratar todas as religiões com respeito. Religião é para cuidar da fé, não para fazer política. Eu faço campanha eleitoral respeitando religião, e não uso o nome de Deus em vão.",
          "É contra este sistema que botou a corrupção no centro da vida pública brasileira, que eu venho lutando com todas as minhas forças. E não vou desistir! https://t.co/MtmT1lHPmm",
          "Repito: eu começo meu governo anunciando o fim da reeleição porque considero um crime na vida política brasileira. Hoje, quando um presidente se elege, ele já está lá cuidando da reeleição. Então fica claro que o conchavo que essa turma faz com ladrão não é pra reformar o país.",
          "- Soube que o PT agora reza o Pai Nosso e usa bandeiras do Brasil em seus eventos. É um bom começo. Só falta parar de defender aborto, drogas, ideologia de gênero, desencarceramento, controle da mídia/internet, ladrões de celular, financiamento de ditaduras e diálogos cabulosos.",
          "A democracia não pode se basear em ser um regime que chama o povo pra votar e pronto acabou. Democracia tem que ser entendida como um REGIME DE OPORTUNIDADES. E o Brasil tem fechado a porta de oportunidades para a maioria esmagadora do povo brasileiro.",
          "Esse modelo de governança política só produz desastre e crise. Sem exceção. Aí me perguntam: como eu pretendo resolver isso? Pra começar, vou abrir mão da minha reeleição em troca das reformas que o Brasil precisa.",
          null
         ],
         "marker": {
          "opacity": 0.5,
          "size": 5
         },
         "mode": "markers+text",
         "name": "7_que_está_política",
         "text": [
          "",
          "",
          "",
          "",
          "",
          "",
          "",
          "",
          "",
          "",
          "",
          "",
          "7_que_está_política"
         ],
         "textfont": {
          "size": 12
         },
         "type": "scattergl",
         "x": [
          -0.16787025332450867,
          0.34196874499320984,
          0.7056073546409607,
          0.07312118262052536,
          0.6391098499298096,
          0.41228339076042175,
          1.0171301364898682,
          0.12829630076885223,
          0.6398040056228638,
          1.0368318557739258,
          0.5112186074256897,
          0.4928424656391144,
          0.48586198687553406
         ],
         "y": [
          1.23043954372406,
          1.0465059280395508,
          1.2877044677734375,
          1.2884879112243652,
          1.1376638412475586,
          1.0928561687469482,
          1.2167153358459473,
          1.348399043083191,
          1.1971938610076904,
          1.000744104385376,
          1.1529699563980103,
          1.111640214920044,
          1.175943374633789
         ]
        },
        {
         "hoverinfo": "text",
         "hovertext": [
          "- Antes de nossa chegada, o Brasil era marcado pelos altos impostos. Não se ouvia falar em redução, porque governos sempre repassaram a conta de suas políticas e práticas nefastas para o povo. Diziam que menos impostos era menos arrecadação, o que provamos ser uma grande mentira.",
          "- Após registrarmos a maior queda de preços em quase MEIO SÉCULO no país, os que me atacavam por conta da inflação gerada pelo fecha tudo e pela guerra agora alertam para o risco de baixarmos o índice. Não adianta, se zerássemos os assaltos, lamentariam o desemprego dos bandidos. https://t.co/c7EVUACZgG",
          "Hoje vendemos metade dos carros que vendíamos em 2010, estamos licenciando metade dos carros que tínhamos em 2010. Tudo caiu pela metade. A única coisa que não diminuiu foi a grosseria e o desrespeito do atual presidente da República com os trabalhadores.",
          "- DESBUROCRATIZAÇÃO: Mais de 1,3 milhão de empresas são criadas no 🇧🇷 em 4 meses.\n\n- Tempo médio de abertura de empresas cai para 1 dia e 2 horas em julho de 2022, representando redução de 5 horas em relação ao mês anterior (1 dia e 7 horas).\n\n- O menor tempo médio já registrado.",
          "Quando eu era presidente, reajustei várias vezes a tabela do Imposto de Renda. O Bolsonaro prometeu e não fez. Nós vamos reajustar a tabela, escolher uma faixa maior para isentar do imposto, penso que por volta de R$ 5 mil. Vamos ter que estudar e discutir sobre isso.",
          "O Brasil é o país que mais destruiu indústrias no capitalismo global. Em 1980, nossa indústria nacional era 6x maior do que a chinesa e representava 34% do PIB. Já hoje…",
          "Entre 2010 e 2020, o Brasil cresceu zero pela primeira vez em 120 anos. A população está empobrecendo de forma generalizada, sendo que, nesse mesmo período, o país patrocinou a mais perversa concentração de renda do mundo.",
          "A indústria de transformação está abaixo de 10% do PIB e, só nos últimos anos, fechamos aproximadamente 38 mil indústrias, 400 mil pontos de comércio e 1.2 milhões de empregos com carteira assinada.",
          "Hoje 5 famílias acumulam a renda dos 100 milhões de brasileiros mais pobres. Uma economia como essa não tem saída, não tem viabilidade.",
          "- Sem guerra e pandemia, o PT entregou o país à pior recessão de nossa história. Em meu governo, mesmo com pandemia e guerra, benefícios sociais foram ampliados, milhões de empregos foram gerados e a economia voltou a crescer. Eles quebraram o Brasil. Nós quebramos paradigmas.",
          "- Em 4 anos de Bolsonaro, as estatais dão lucro, as obras abandonadas são concluídas e temos o menor número de homicídios em uma década. Nossa economia voltou a crescer, o desemprego é o menor desde o desastre petista e o número de brasileiros trabalhando bateu todos os recordes.",
          "- O Índice de Preços ao Consumidor Amplo, o IPCA, apresentou uma retração de 0,68% no mês de julho, segundo dados divulgados nesta semana.\n\n- É a menor taxa mensal já registrada desde o início da série histórica em 1980 - Instituto Brasileiro de Geografia e Estatística (IBGE).",
          null
         ],
         "marker": {
          "opacity": 0.5,
          "size": 5
         },
         "mode": "markers+text",
         "name": "8_de_em_menor",
         "text": [
          "",
          "",
          "",
          "",
          "",
          "",
          "",
          "",
          "",
          "",
          "",
          "",
          "8_de_em_menor"
         ],
         "textfont": {
          "size": 12
         },
         "type": "scattergl",
         "x": [
          -1.3181099891662598,
          -1.2081562280654907,
          -1.237281084060669,
          -1.1270579099655151,
          -1.5203970670700073,
          -1.1207753419876099,
          -1.046605110168457,
          -1.1216171979904175,
          -0.9186646342277527,
          -0.865764319896698,
          -1.173138976097107,
          -1.291446328163147,
          -1.1624178886413574
         ],
         "y": [
          1.0918710231781006,
          1.2393884658813477,
          1.1768375635147095,
          0.7515606880187988,
          0.9991101622581482,
          1.0110074281692505,
          0.9652146100997925,
          0.8110944032669067,
          0.961021363735199,
          0.8369869589805603,
          1.0296651124954224,
          1.0630801916122437,
          0.9947364330291748
         ]
        },
        {
         "hoverinfo": "text",
         "hovertext": [
          "GIRO DO CIRO - CIRO FAZ BALANÇO DE ENCONTRO NA ACSP | 18/08/2022\n https://t.co/V6yi134Pa1",
          "- Visita ao Parque Tecnológico de São José dos Campos/SP e cidade. (18/08/2022) https://t.co/cMPQPgQr8X",
          "- Montes Claros / Minas Gerais (05/08/2022) https://t.co/QOmuY4XLIR",
          "GIRO DO CIRO - CAMINHADA EM SANTANA DO PARNAÍBA/SP | 17/08/2022 https://t.co/fpAPrWhIeu",
          "- São Power Rangers. https://t.co/NrvZpKjdkr https://t.co/DBnYjeLUMZ",
          "- Hoje, em Recife / Pernambuco (06/08/2022). 🇧🇷 https://t.co/h6fA2MpSvr",
          "- Juiz de Fora / Minas Gerais (16/08/2022)\n- Deus, Pátria, Família e Liberdade!!! https://t.co/DDpAF1s0Ry",
          "RT @AndreJanonesAdv: AGORA É OFICIAL! AUXÍLIO EMERGENCIAL DE R$ 600,00 SE LULA FOR ELEITO, MÃES SOLTEIRAS E TODOS DO CADUNICO TAMBÉM! \n\nBol…",
          "GIRO DO CIRO - PALESTRA NA ASSOCIAÇÃO COMERCIAL DE SÃO PAULO | 18/08/2022 https://t.co/G3BIoQgoBV",
          "- Montes Claros / Minas Gerais (05/08/2022) https://t.co/tYUmZOzc20",
          null
         ],
         "marker": {
          "opacity": 0.5,
          "size": 5
         },
         "mode": "markers+text",
         "name": "9_08_2022_giro",
         "text": [
          "",
          "",
          "",
          "",
          "",
          "",
          "",
          "",
          "",
          "",
          "9_08_2022_giro"
         ],
         "textfont": {
          "size": 12
         },
         "type": "scattergl",
         "x": [
          4.764776229858398,
          4.818955898284912,
          4.752492904663086,
          4.7093610763549805,
          4.605737209320068,
          4.852890491485596,
          4.624246597290039,
          4.735641956329346,
          4.706266403198242,
          4.8292131423950195,
          4.739957809448242
         ],
         "y": [
          0.37978383898735046,
          0.11073698103427887,
          0.16518378257751465,
          0.33231282234191895,
          0.18273963034152985,
          0.26266559958457947,
          0.34969544410705566,
          0.4082058072090149,
          0.1639019250869751,
          0.22718234360218048,
          0.25824078917503357
         ]
        },
        {
         "hoverinfo": "text",
         "hovertext": [
          "Cansei de fazer atos que a gente não podia falar a palavra voto, não podia pedir voto. E à meia-noite do primeiro dia de campanha eu já acordei pra pedir voto pra @JanjaLula. E ela disse que vai votar em mim, então eu ganhei meu primeiro voto.",
          "Eu não posso falar de eleição aqui na USP, mas eu sei que nos corredores tá todo o mundo falando de eleição. E se vocês querem falar sobre candidaturas, vão ter que ir no Vale do Anhangabaú, sábado às 8h. https://t.co/85gf1HXiKn",
          "Demos início a nossa campanha de rua em Guaianases, periferia de SP! E já quero abrir o dia pedindo seu voto e oportunidade de mudar – porque não dá pra repetir as mesmas coisas e esperar resultados diferentes. https://t.co/IrMhmFsJXs",
          "Nós vamos disputar as eleições para cuidar do povo. Eu comi pão pela primeira vez com 7 anos. Meu café da manhã era uma cuia de farinha com café preto. 72 anos depois temos mais uma vez crianças que não podem tomar um bom café da manhã.",
          "Meus amigos e minhas amigas. Nossa campanha rumo à vitória começa oficialmente agora. Dizem que basta um passo para não estarmos mais no mesmo lugar. Já caminhamos muito, e se chegamos até aqui foi porque não conseguiram tirar de nós a esperança. Agora é hora de irmos além. https://t.co/PMU6uCyjjb",
          "Nós nordestinos, quando a gente se perde, a gente fala que tá ariado. Minha mãe falava isso. E eu to ariado, porque estamos há 48 dias das eleições mais importantes do país. Você liga a televisão e só se fala em eleição, mas eu ainda não posso falar de eleição.",
          "Dizer que eu não votei em 2018 é picaretagem absoluta. O que eu não fiz foi fazer campanha e subir em palanque com corrupto e com quem desastrou a economia. Mas meu voto de cidadão eu dei. É só botar no Google.",
          "Resolvi fazer o lançamento da candidatura na porta de fábrica no ABC porque foi aqui que tudo aconteceu na minha vida. Foi aqui que eu aprendi a ser gente e que eu tomei consciência política.",
          "Temos que construir um clima de paz e cordialidade. Depois das eleições quem ganha governa, quem perde se prepara para a próxima eleição. Você tem que conversar com quem foi eleito. Eu já perdi e já ganhei, e a pessoa tem que saber ganhar e perder com humildade.",
          null
         ],
         "marker": {
          "opacity": 0.5,
          "size": 5
         },
         "mode": "markers+text",
         "name": "10_eu_voto_eleição",
         "text": [
          "",
          "",
          "",
          "",
          "",
          "",
          "",
          "",
          "",
          "10_eu_voto_eleição"
         ],
         "textfont": {
          "size": 12
         },
         "type": "scattergl",
         "x": [
          2.550690174102783,
          2.6024222373962402,
          2.729919195175171,
          2.2100419998168945,
          2.5856237411499023,
          2.4897384643554688,
          2.2049596309661865,
          2.325312376022339,
          2.489408016204834,
          2.465346336364746
         ],
         "y": [
          1.6155329942703247,
          1.592257022857666,
          1.3473378419876099,
          1.5441935062408447,
          1.5173159837722778,
          1.5939161777496338,
          1.5468361377716064,
          1.3241244554519653,
          1.6144795417785645,
          1.5217770338058472
         ]
        },
        {
         "hoverinfo": "text",
         "hovertext": [
          "GIRO DO CIRO - LANÇAMENTO OFICIAL DA CAMPANHA #CiroPresidente | 16/08/2022 https://t.co/9IIFaPJcc3",
          "Relação amistosa com os Estados Unidos, tudo bem. Vassalagem, não. É assim que Ciro explica a relação que terá com os EUA. #CiroNoRodaViva https://t.co/3A4TSAGm1r",
          "Veja como Ciro responde à primeira pergunta do @rodaviva sobre a viabilidade de sua candidatura. #CiroNoRodaViva https://t.co/Y4h9Fniy9f",
          "Ciro explica porque vai desdolarizar o preço dos combustíveis e retomar o controle do Estado sobre a Eletrobras. #CiroNoRodaViva https://t.co/yU12T5uFMb",
          "Mais uma vez confirmado: onde Ciro vai, o povo acompanha. A rota do 12 é a rota da vitória! #CiroPresidente12 https://t.co/hvXlxykuFG https://t.co/HXoRPqeowG",
          "Vinícius Torres Freire questionou Ciro sobre de onde virão os recursos para viabilizar os seus projetos. Veja o que Ciro respondeu. #CiroNoRodaViva https://t.co/zS9Z9AIoJk",
          "Ciro responde sobre a valorização de mulheres e negros num governo seu e sobre a ameaça de golpe que paira sobre o país. #CiroNoRodaViva https://t.co/N6YcUbXlsc",
          "O que vai ser colocado no lugar da autonomia do Banco Central? Aqui, Ciro responde a essa pergunta de @veramagalhaes. #CiroNoRodaViva https://t.co/i4cPrMu3Yk",
          null
         ],
         "marker": {
          "opacity": 0.5,
          "size": 5
         },
         "mode": "markers+text",
         "name": "11_ciro_sobre_cironorodaviva",
         "text": [
          "",
          "",
          "",
          "",
          "",
          "",
          "",
          "",
          "11_ciro_sobre_cironorodaviva"
         ],
         "textfont": {
          "size": 12
         },
         "type": "scattergl",
         "x": [
          4.601897239685059,
          4.520418167114258,
          4.431824684143066,
          4.547820568084717,
          4.5072855949401855,
          4.4657769203186035,
          4.481301307678223,
          4.509373188018799,
          4.508212089538574
         ],
         "y": [
          0.4567480981349945,
          1.123657464981079,
          0.8588860630989075,
          1.039381504058838,
          1.1184793710708618,
          0.7780399918556213,
          0.903632640838623,
          0.8888109922409058,
          0.8959544897079468
         ]
        },
        {
         "hoverinfo": "text",
         "hovertext": [
          "Meu irmão cristão, não deixe que usem o nome de Deus em vão. Esse é um dos maiores pecados que existem! https://t.co/aLwG0uAqjl",
          "Questionar a fé alheia já é uma postura condenável. Mentir sobre ela, pior ainda. Tenho uma sólida formação religiosa, este é um dos meus maiores patrimônios, e nenhuma fake news vai roubar isso de mim. https://t.co/c4SPSw2ExK",
          "Ninguém tem direito de explorar o jeito do povo adorar a Deus. Ontem vimos a presidente do PT postando: \"Bolsonaro usa Deus, Deus usa Lula\". Veja, agora estamos disputando quem é o autorreferido intérprete de Deus em uma disputa eleitoral. Isso é de uma violência absurda.",
          "É uma forma muito grave de corrupção os políticos invadirem a religiosidade do povo. Onde se misturou política corrupta com religião, deu em genocídio. Se proteja, meu irmão! Você tem direito de adorar a Deus da forma que você desejar e o papel do seu presidente é respeitar.",
          "- Valeu pelo apoio e divulgação. E não se preocupe, por mais que você já tenha me associado a coisas abomináveis como nazismo, racismo e genocídio, não tenho nada contra você. Quem deve estar chateado é o Ladrão, por você ter se limpado com a toalha dele Kkkkkk. Forte abraço! 👍. https://t.co/Lw5NqrTsHC",
          "Quando o discurso da esquerda se assemelha ao fascismo da pior das direitas, o uso em vão do Nome de Deus já traz em si um forte castigo. O de mostrar que os dois lados – e seus dois líderes – estão se tornando iguais. https://t.co/kUMynaAAoU",
          "- É preciso estar atento. A partir de hoje, mais do que nunca, os que amam o vermelho passarão a usar verde e a amarelo, os que perseguiram e defenderam fechar igrejas se julgarão grandes cristãos, os que apoiam e louvam ditaduras socialistas se dirão defensores da democracia.",
          null
         ],
         "marker": {
          "opacity": 0.5,
          "size": 5
         },
         "mode": "markers+text",
         "name": "12_deus_se_você",
         "text": [
          "",
          "",
          "",
          "",
          "",
          "",
          "",
          "12_deus_se_você"
         ],
         "textfont": {
          "size": 12
         },
         "type": "scattergl",
         "x": [
          1.0588195323944092,
          1.012877345085144,
          1.0856107473373413,
          0.8995246291160583,
          0.9141767024993896,
          0.9910741448402405,
          1.0554331541061401,
          1.0025023221969604
         ],
         "y": [
          2.107466220855713,
          2.104454517364502,
          2.1189651489257812,
          1.9524697065353394,
          2.227268934249878,
          1.9676096439361572,
          1.8922119140625,
          2.0529208183288574
         ]
        },
        {
         "hoverinfo": "text",
         "hovertext": [
          "- Acredito que a \"carta pela democracia\", que foi lida na micareta do PT, teve algumas de suas páginas rasgadas, principalmente nas partes em que deveriam repudiar o apoio, inclusive financeiro, a ditaduras como Cuba, Nicarágua e Venezuela, bem como o controle da mídia/internet.",
          "- Do contrário, assinar uma carta pela democracia enquanto apoia regimes que a desprezam e atacam os seus pilares tem a mesma relevância que uma carta contra as drogas assinada pelo Zé Pequeno, ou um manifesto em defesa das mulheres assinado pelo Maníaco do Parque.",
          "- O aliado do descondenado na Nicarágua persegue cristãos. Na Venezuela, fecha jornais e deixa o país mais pobre que o Haiti. Em Cuba, prende opositores e proíbe cidadãos de deixarem o país. Outros aumentam impostos e liberam drogas. Mas há quem diga que ele não apoia nada disso.",
          "- Uma carta \"pela democracia\" que reúne artistas com saudades da lei rouanet, sindicatos com saudades do imposto sindical, bancos com saudades das taxas de transferência e defensores de ditaduras socialistas, todos com saudades do Ladrão, vale menos que esse pastelzinho de vento. https://t.co/axpsa8SaCL",
          "- Das duas uma, ou a esquerda repentinamente se arrependeu de suas ameaças crônicas à nossa democracia, como os esquemas de corrupção, os ataques à propriedade privada e a promoção de atos violentos, ou trata-se de uma jogada eleitoral desesperada. O golpe tá aí, cai quem quer. https://t.co/lm8oatJXPP",
          "Assim como existe um pequeno grupo golpista nas Forças Armadas, há, também, um grupelho de amantes da ditadura no empresariado. E as autoridades têm que identificá-los e puni-los para que fiquem ainda menores. Sejam reduzidos a pó.\n\nhttps://t.co/oR2JDh9F9R",
          null
         ],
         "marker": {
          "opacity": 0.5,
          "size": 5
         },
         "mode": "markers+text",
         "name": "13_saudades_carta_democracia",
         "text": [
          "",
          "",
          "",
          "",
          "",
          "",
          "13_saudades_carta_democracia"
         ],
         "textfont": {
          "size": 12
         },
         "type": "scattergl",
         "x": [
          0.8235872983932495,
          0.8425905704498291,
          0.8617687225341797,
          0.7860981822013855,
          0.8962734937667847,
          1.0746575593948364,
          0.8808292746543884
         ],
         "y": [
          1.5746219158172607,
          1.4031764268875122,
          1.652821660041809,
          1.362882375717163,
          1.68194580078125,
          1.4576611518859863,
          1.52218496799469
         ]
        },
        {
         "hoverinfo": "text",
         "hovertext": [
          "@tarcisiogdf @yoGABRlELinHeLL 🇧🇷",
          "@marcelosampaio 🇧🇷",
          "@DanielODFerr 🇧🇷",
          "@marcelosampaio 🇧🇷, Ministro!",
          "RT @fabiofaria: Realizamos a 1ª reunião do Gov. Federal no ambiente virtual com o apoio da @Dual_360. \nDiretamente da Califórnia 🇺🇸, nos re…",
          null
         ],
         "marker": {
          "opacity": 0.5,
          "size": 5
         },
         "mode": "markers+text",
         "name": "14_marcelosampaio_dual_360_fabiofaria",
         "text": [
          "",
          "",
          "",
          "",
          "",
          "14_marcelosampaio_dual_360_fabiofaria"
         ],
         "textfont": {
          "size": 12
         },
         "type": "scattergl",
         "x": [
          4.938414096832275,
          4.92997932434082,
          4.911401271820068,
          4.5218186378479,
          4.564977645874023,
          4.773318290710449
         ],
         "y": [
          1.939079761505127,
          1.8947046995162964,
          1.9168694019317627,
          1.7086962461471558,
          1.7813198566436768,
          1.8481340408325195
         ]
        },
        {
         "hoverinfo": "text",
         "hovertext": [
          "-Apreensão de 4 toneladas de maconha nas últimas 24 horas pela PRF:\n\n. Campo Grande/MS: em conjunto com a Polícia Civil, Policiais fecharam oficina que armazenava 2,6 t da droga. \n\n. Bataguassu/MS: policiais encontraram 620 kg de maconha em veículo abordado em trecho da BR-267.",
          ". Cornélio Procópio/PR: 343,7 kg do entorpecente foram apreendidos após condutor desobedecer ordem de parada. \n\n. Rio Verde/GO: 397,5 kg de maconha no interior de um automóvel que trafegava na BR-060\n\nMais um Prejuízo milionário ao crime organizado, vidas e famílias preservadas!",
          "- A operação representa mais de R$ 20 milhões de prejuízo ao tráfico de drogas, vidas e famílias salvas deste mau.\n\n- A droga tinha como destino o porto de Hamburgo, na Alemanha.",
          "- Mesmo que a Polícia esteja impedida de realizar certas operações, os recordes de apreensões de drogas não param de ser batidos.\n\n- A PF apreendeu 605kg de cocaína no Porto de Santos.",
          null
         ],
         "marker": {
          "opacity": 0.5,
          "size": 5
         },
         "mode": "markers+text",
         "name": "15_kg_maconha_de",
         "text": [
          "",
          "",
          "",
          "",
          "15_kg_maconha_de"
         ],
         "textfont": {
          "size": 12
         },
         "type": "scattergl",
         "x": [
          -1.8111088275909424,
          -1.7612555027008057,
          -1.7922366857528687,
          -1.7514159679412842,
          -1.7790043354034424
         ],
         "y": [
          1.7623469829559326,
          1.7954795360565186,
          1.8050751686096191,
          1.8431094884872437,
          1.8015028238296509
         ]
        },
        {
         "hoverinfo": "text",
         "hovertext": [
          "Um mandato tem 4 anos. Se a gente começa a deixar as coisas pra amanhã, a gente não faz mais. Por isso digo que a primeira coisa que quero fazer é reunir os governadores eleitos, unir o país para trabalharmos juntos e a gente começar a gerar empregos e reduzir a pobreza.",
          "Uma das primeiras coisas que quero fazer é reconstruir o pacto federativo. E discutir com os estados as propostas de infraestrutura, para que a gente possa gerar condições melhores para a economia e salários para o povo.",
          "É isso que a gente necessita: desarmar. Precisamos reconciliar o país em torno de um projeto concreto que responda objetivamente os anseios do nosso povo.",
          "Eu e o @geraldoalckmin queremos cuidar desse país, gerar oportunidades. Vamos recriar alguns ministérios. O Ministério da Pequena e Média Empresa precisa funcionar.",
          null
         ],
         "marker": {
          "opacity": 0.5,
          "size": 5
         },
         "mode": "markers+text",
         "name": "16_gente_gerar_coisas",
         "text": [
          "",
          "",
          "",
          "",
          "16_gente_gerar_coisas"
         ],
         "textfont": {
          "size": 12
         },
         "type": "scattergl",
         "x": [
          0.3024665117263794,
          0.17049956321716309,
          0.2340618073940277,
          0.2993018925189972,
          0.25158244371414185
         ],
         "y": [
          0.14349105954170227,
          0.09270502626895905,
          0.20969843864440918,
          0.1501900553703308,
          0.14902114868164062
         ]
        },
        {
         "hoverinfo": "text",
         "hovertext": [
          "- Após intensa negociação com o Paraguai, foi aprovada a redução de 8,2% da tarifa utilizada na comercialização da energia de Itaipu Binacional, a primeira em quase 15 anos, que reduzirá custos de energia, produtos e serviços, beneficiando a região e, consequentemente, o Brasil!",
          "- A partir de amanhã, 16/08, a Petrobras reduzirá em R$0,18 o preço médio de venda de gasolina para as distribuidoras, passando de R$3,71 para R$3,53 o litro.\n\n- É a terceira redução anunciada nas últimas semanas. Brevemente teremos uma das \"gasolinas\" mais baratas do mundo.",
          "- Hoje, aconteceu um ato muito importante em prol do Brasil e de grande relevância para o povo brasileiro: a Petrobrás reduziu, mais uma vez, o preço do diesel.",
          "- A redução representa queda de R$ 0,22 por litro.\n- O presente mês acumula redução de R$ 0,42 por litro de diesel.\n- Já estamos entre os países com o menor preço médio de combustíveis do mundo, no cenário atual.",
          null
         ],
         "marker": {
          "opacity": 0.5,
          "size": 5
         },
         "mode": "markers+text",
         "name": "17_redução_litro_preço",
         "text": [
          "",
          "",
          "",
          "",
          "17_redução_litro_preço"
         ],
         "textfont": {
          "size": 12
         },
         "type": "scattergl",
         "x": [
          -1.4125583171844482,
          -1.4487133026123047,
          -1.237418532371521,
          -1.3717389106750488,
          -1.3676072359085083
         ],
         "y": [
          1.4683703184127808,
          1.504717230796814,
          1.4391570091247559,
          1.3658499717712402,
          1.4445236921310425
         ]
        },
        {
         "hoverinfo": "text",
         "hovertext": [
          "- Agosto de 2022, Barragem da Transposição do Rio São Francisco - Eixo Norte em Jati/Ceará.\n- Feliz Dia dos Pais a todos! https://t.co/XfyioY20jI",
          "- A verdade sobre a transposição do Rio São Francisco. https://t.co/Pumokvzc51",
          "- A Segunda etapa da Ferrovia de Integração Oeste-Leste (FIOL), que conecta as cidades de Caetité/BA a Barreiras/BA, alcançou 159 km de trilhos lançados em grade. https://t.co/zuP9rrhvpX",
          null
         ],
         "marker": {
          "opacity": 0.5,
          "size": 5
         },
         "mode": "markers+text",
         "name": "18_ba_transposição_francisco",
         "text": [
          "",
          "",
          "",
          "18_ba_transposição_francisco"
         ],
         "textfont": {
          "size": 12
         },
         "type": "scattergl",
         "x": [
          4.837863445281982,
          4.744172096252441,
          4.581011772155762,
          4.721015453338623
         ],
         "y": [
          0.11114197224378586,
          0.06691686064004898,
          -0.021011177450418472,
          0.05234922096133232
         ]
        },
        {
         "hoverinfo": "text",
         "hovertext": [
          "- Aos que embarcaram nesse verdadeiro vale-tudo, podem bater em mim à vontade, só peço que tenham respeito pelo menos por aquelas pessoas que não podem se defender e que deveriam ser preservadas. O sofrimento dos familiares e amigos diante de uma perda não basta para vocês?",
          "Eu não aceito essa história de que corrupção “é uma coisa normal”, que “é isso mesmo” e que “todo mundo é corrupto” porque eu não sou.",
          "- Minha história de luta por leis mais duras para assassinos covardes, estupradores e demais crimes violentos fala por mim e mostra de que lado sempre estive. Enquanto viver, serão as vítimas, não seus algozes, que contarão com a minha eterna solidariedade.",
          null
         ],
         "marker": {
          "opacity": 0.5,
          "size": 5
         },
         "mode": "markers+text",
         "name": "19_podem_que_não",
         "text": [
          "",
          "",
          "",
          "19_podem_que_não"
         ],
         "textfont": {
          "size": 12
         },
         "type": "scattergl",
         "x": [
          0.18503378331661224,
          0.22885628044605255,
          0.20961163938045502,
          0.2078339010477066
         ],
         "y": [
          1.9025510549545288,
          1.7406291961669922,
          1.8795604705810547,
          1.8409136533737183
         ]
        }
       ],
       "layout": {
        "annotations": [
         {
          "showarrow": false,
          "text": "D1",
          "x": -2.082775151729584,
          "y": 1.7886444181203842,
          "yshift": 10
         },
         {
          "showarrow": false,
          "text": "D2",
          "x": 2.7470424354076384,
          "xshift": 10,
          "y": 4.263814437389374
         }
        ],
        "height": 750,
        "shapes": [
         {
          "line": {
           "color": "#CFD8DC",
           "width": 2
          },
          "type": "line",
          "x0": 2.7470424354076384,
          "x1": 2.7470424354076384,
          "y0": -0.6865256011486054,
          "y1": 4.263814437389374
         },
         {
          "line": {
           "color": "#9E9E9E",
           "width": 2
          },
          "type": "line",
          "x0": -2.082775151729584,
          "x1": 7.576860022544861,
          "y0": 1.7886444181203842,
          "y1": 1.7886444181203842
         }
        ],
        "template": {
         "data": {
          "bar": [
           {
            "error_x": {
             "color": "rgb(36,36,36)"
            },
            "error_y": {
             "color": "rgb(36,36,36)"
            },
            "marker": {
             "line": {
              "color": "white",
              "width": 0.5
             },
             "pattern": {
              "fillmode": "overlay",
              "size": 10,
              "solidity": 0.2
             }
            },
            "type": "bar"
           }
          ],
          "barpolar": [
           {
            "marker": {
             "line": {
              "color": "white",
              "width": 0.5
             },
             "pattern": {
              "fillmode": "overlay",
              "size": 10,
              "solidity": 0.2
             }
            },
            "type": "barpolar"
           }
          ],
          "carpet": [
           {
            "aaxis": {
             "endlinecolor": "rgb(36,36,36)",
             "gridcolor": "white",
             "linecolor": "white",
             "minorgridcolor": "white",
             "startlinecolor": "rgb(36,36,36)"
            },
            "baxis": {
             "endlinecolor": "rgb(36,36,36)",
             "gridcolor": "white",
             "linecolor": "white",
             "minorgridcolor": "white",
             "startlinecolor": "rgb(36,36,36)"
            },
            "type": "carpet"
           }
          ],
          "choropleth": [
           {
            "colorbar": {
             "outlinewidth": 1,
             "tickcolor": "rgb(36,36,36)",
             "ticks": "outside"
            },
            "type": "choropleth"
           }
          ],
          "contour": [
           {
            "colorbar": {
             "outlinewidth": 1,
             "tickcolor": "rgb(36,36,36)",
             "ticks": "outside"
            },
            "colorscale": [
             [
              0,
              "#440154"
             ],
             [
              0.1111111111111111,
              "#482878"
             ],
             [
              0.2222222222222222,
              "#3e4989"
             ],
             [
              0.3333333333333333,
              "#31688e"
             ],
             [
              0.4444444444444444,
              "#26828e"
             ],
             [
              0.5555555555555556,
              "#1f9e89"
             ],
             [
              0.6666666666666666,
              "#35b779"
             ],
             [
              0.7777777777777778,
              "#6ece58"
             ],
             [
              0.8888888888888888,
              "#b5de2b"
             ],
             [
              1,
              "#fde725"
             ]
            ],
            "type": "contour"
           }
          ],
          "contourcarpet": [
           {
            "colorbar": {
             "outlinewidth": 1,
             "tickcolor": "rgb(36,36,36)",
             "ticks": "outside"
            },
            "type": "contourcarpet"
           }
          ],
          "heatmap": [
           {
            "colorbar": {
             "outlinewidth": 1,
             "tickcolor": "rgb(36,36,36)",
             "ticks": "outside"
            },
            "colorscale": [
             [
              0,
              "#440154"
             ],
             [
              0.1111111111111111,
              "#482878"
             ],
             [
              0.2222222222222222,
              "#3e4989"
             ],
             [
              0.3333333333333333,
              "#31688e"
             ],
             [
              0.4444444444444444,
              "#26828e"
             ],
             [
              0.5555555555555556,
              "#1f9e89"
             ],
             [
              0.6666666666666666,
              "#35b779"
             ],
             [
              0.7777777777777778,
              "#6ece58"
             ],
             [
              0.8888888888888888,
              "#b5de2b"
             ],
             [
              1,
              "#fde725"
             ]
            ],
            "type": "heatmap"
           }
          ],
          "heatmapgl": [
           {
            "colorbar": {
             "outlinewidth": 1,
             "tickcolor": "rgb(36,36,36)",
             "ticks": "outside"
            },
            "colorscale": [
             [
              0,
              "#440154"
             ],
             [
              0.1111111111111111,
              "#482878"
             ],
             [
              0.2222222222222222,
              "#3e4989"
             ],
             [
              0.3333333333333333,
              "#31688e"
             ],
             [
              0.4444444444444444,
              "#26828e"
             ],
             [
              0.5555555555555556,
              "#1f9e89"
             ],
             [
              0.6666666666666666,
              "#35b779"
             ],
             [
              0.7777777777777778,
              "#6ece58"
             ],
             [
              0.8888888888888888,
              "#b5de2b"
             ],
             [
              1,
              "#fde725"
             ]
            ],
            "type": "heatmapgl"
           }
          ],
          "histogram": [
           {
            "marker": {
             "line": {
              "color": "white",
              "width": 0.6
             }
            },
            "type": "histogram"
           }
          ],
          "histogram2d": [
           {
            "colorbar": {
             "outlinewidth": 1,
             "tickcolor": "rgb(36,36,36)",
             "ticks": "outside"
            },
            "colorscale": [
             [
              0,
              "#440154"
             ],
             [
              0.1111111111111111,
              "#482878"
             ],
             [
              0.2222222222222222,
              "#3e4989"
             ],
             [
              0.3333333333333333,
              "#31688e"
             ],
             [
              0.4444444444444444,
              "#26828e"
             ],
             [
              0.5555555555555556,
              "#1f9e89"
             ],
             [
              0.6666666666666666,
              "#35b779"
             ],
             [
              0.7777777777777778,
              "#6ece58"
             ],
             [
              0.8888888888888888,
              "#b5de2b"
             ],
             [
              1,
              "#fde725"
             ]
            ],
            "type": "histogram2d"
           }
          ],
          "histogram2dcontour": [
           {
            "colorbar": {
             "outlinewidth": 1,
             "tickcolor": "rgb(36,36,36)",
             "ticks": "outside"
            },
            "colorscale": [
             [
              0,
              "#440154"
             ],
             [
              0.1111111111111111,
              "#482878"
             ],
             [
              0.2222222222222222,
              "#3e4989"
             ],
             [
              0.3333333333333333,
              "#31688e"
             ],
             [
              0.4444444444444444,
              "#26828e"
             ],
             [
              0.5555555555555556,
              "#1f9e89"
             ],
             [
              0.6666666666666666,
              "#35b779"
             ],
             [
              0.7777777777777778,
              "#6ece58"
             ],
             [
              0.8888888888888888,
              "#b5de2b"
             ],
             [
              1,
              "#fde725"
             ]
            ],
            "type": "histogram2dcontour"
           }
          ],
          "mesh3d": [
           {
            "colorbar": {
             "outlinewidth": 1,
             "tickcolor": "rgb(36,36,36)",
             "ticks": "outside"
            },
            "type": "mesh3d"
           }
          ],
          "parcoords": [
           {
            "line": {
             "colorbar": {
              "outlinewidth": 1,
              "tickcolor": "rgb(36,36,36)",
              "ticks": "outside"
             }
            },
            "type": "parcoords"
           }
          ],
          "pie": [
           {
            "automargin": true,
            "type": "pie"
           }
          ],
          "scatter": [
           {
            "fillpattern": {
             "fillmode": "overlay",
             "size": 10,
             "solidity": 0.2
            },
            "type": "scatter"
           }
          ],
          "scatter3d": [
           {
            "line": {
             "colorbar": {
              "outlinewidth": 1,
              "tickcolor": "rgb(36,36,36)",
              "ticks": "outside"
             }
            },
            "marker": {
             "colorbar": {
              "outlinewidth": 1,
              "tickcolor": "rgb(36,36,36)",
              "ticks": "outside"
             }
            },
            "type": "scatter3d"
           }
          ],
          "scattercarpet": [
           {
            "marker": {
             "colorbar": {
              "outlinewidth": 1,
              "tickcolor": "rgb(36,36,36)",
              "ticks": "outside"
             }
            },
            "type": "scattercarpet"
           }
          ],
          "scattergeo": [
           {
            "marker": {
             "colorbar": {
              "outlinewidth": 1,
              "tickcolor": "rgb(36,36,36)",
              "ticks": "outside"
             }
            },
            "type": "scattergeo"
           }
          ],
          "scattergl": [
           {
            "marker": {
             "colorbar": {
              "outlinewidth": 1,
              "tickcolor": "rgb(36,36,36)",
              "ticks": "outside"
             }
            },
            "type": "scattergl"
           }
          ],
          "scattermapbox": [
           {
            "marker": {
             "colorbar": {
              "outlinewidth": 1,
              "tickcolor": "rgb(36,36,36)",
              "ticks": "outside"
             }
            },
            "type": "scattermapbox"
           }
          ],
          "scatterpolar": [
           {
            "marker": {
             "colorbar": {
              "outlinewidth": 1,
              "tickcolor": "rgb(36,36,36)",
              "ticks": "outside"
             }
            },
            "type": "scatterpolar"
           }
          ],
          "scatterpolargl": [
           {
            "marker": {
             "colorbar": {
              "outlinewidth": 1,
              "tickcolor": "rgb(36,36,36)",
              "ticks": "outside"
             }
            },
            "type": "scatterpolargl"
           }
          ],
          "scatterternary": [
           {
            "marker": {
             "colorbar": {
              "outlinewidth": 1,
              "tickcolor": "rgb(36,36,36)",
              "ticks": "outside"
             }
            },
            "type": "scatterternary"
           }
          ],
          "surface": [
           {
            "colorbar": {
             "outlinewidth": 1,
             "tickcolor": "rgb(36,36,36)",
             "ticks": "outside"
            },
            "colorscale": [
             [
              0,
              "#440154"
             ],
             [
              0.1111111111111111,
              "#482878"
             ],
             [
              0.2222222222222222,
              "#3e4989"
             ],
             [
              0.3333333333333333,
              "#31688e"
             ],
             [
              0.4444444444444444,
              "#26828e"
             ],
             [
              0.5555555555555556,
              "#1f9e89"
             ],
             [
              0.6666666666666666,
              "#35b779"
             ],
             [
              0.7777777777777778,
              "#6ece58"
             ],
             [
              0.8888888888888888,
              "#b5de2b"
             ],
             [
              1,
              "#fde725"
             ]
            ],
            "type": "surface"
           }
          ],
          "table": [
           {
            "cells": {
             "fill": {
              "color": "rgb(237,237,237)"
             },
             "line": {
              "color": "white"
             }
            },
            "header": {
             "fill": {
              "color": "rgb(217,217,217)"
             },
             "line": {
              "color": "white"
             }
            },
            "type": "table"
           }
          ]
         },
         "layout": {
          "annotationdefaults": {
           "arrowhead": 0,
           "arrowwidth": 1
          },
          "autotypenumbers": "strict",
          "coloraxis": {
           "colorbar": {
            "outlinewidth": 1,
            "tickcolor": "rgb(36,36,36)",
            "ticks": "outside"
           }
          },
          "colorscale": {
           "diverging": [
            [
             0,
             "rgb(103,0,31)"
            ],
            [
             0.1,
             "rgb(178,24,43)"
            ],
            [
             0.2,
             "rgb(214,96,77)"
            ],
            [
             0.3,
             "rgb(244,165,130)"
            ],
            [
             0.4,
             "rgb(253,219,199)"
            ],
            [
             0.5,
             "rgb(247,247,247)"
            ],
            [
             0.6,
             "rgb(209,229,240)"
            ],
            [
             0.7,
             "rgb(146,197,222)"
            ],
            [
             0.8,
             "rgb(67,147,195)"
            ],
            [
             0.9,
             "rgb(33,102,172)"
            ],
            [
             1,
             "rgb(5,48,97)"
            ]
           ],
           "sequential": [
            [
             0,
             "#440154"
            ],
            [
             0.1111111111111111,
             "#482878"
            ],
            [
             0.2222222222222222,
             "#3e4989"
            ],
            [
             0.3333333333333333,
             "#31688e"
            ],
            [
             0.4444444444444444,
             "#26828e"
            ],
            [
             0.5555555555555556,
             "#1f9e89"
            ],
            [
             0.6666666666666666,
             "#35b779"
            ],
            [
             0.7777777777777778,
             "#6ece58"
            ],
            [
             0.8888888888888888,
             "#b5de2b"
            ],
            [
             1,
             "#fde725"
            ]
           ],
           "sequentialminus": [
            [
             0,
             "#440154"
            ],
            [
             0.1111111111111111,
             "#482878"
            ],
            [
             0.2222222222222222,
             "#3e4989"
            ],
            [
             0.3333333333333333,
             "#31688e"
            ],
            [
             0.4444444444444444,
             "#26828e"
            ],
            [
             0.5555555555555556,
             "#1f9e89"
            ],
            [
             0.6666666666666666,
             "#35b779"
            ],
            [
             0.7777777777777778,
             "#6ece58"
            ],
            [
             0.8888888888888888,
             "#b5de2b"
            ],
            [
             1,
             "#fde725"
            ]
           ]
          },
          "colorway": [
           "#1F77B4",
           "#FF7F0E",
           "#2CA02C",
           "#D62728",
           "#9467BD",
           "#8C564B",
           "#E377C2",
           "#7F7F7F",
           "#BCBD22",
           "#17BECF"
          ],
          "font": {
           "color": "rgb(36,36,36)"
          },
          "geo": {
           "bgcolor": "white",
           "lakecolor": "white",
           "landcolor": "white",
           "showlakes": true,
           "showland": true,
           "subunitcolor": "white"
          },
          "hoverlabel": {
           "align": "left"
          },
          "hovermode": "closest",
          "mapbox": {
           "style": "light"
          },
          "paper_bgcolor": "white",
          "plot_bgcolor": "white",
          "polar": {
           "angularaxis": {
            "gridcolor": "rgb(232,232,232)",
            "linecolor": "rgb(36,36,36)",
            "showgrid": false,
            "showline": true,
            "ticks": "outside"
           },
           "bgcolor": "white",
           "radialaxis": {
            "gridcolor": "rgb(232,232,232)",
            "linecolor": "rgb(36,36,36)",
            "showgrid": false,
            "showline": true,
            "ticks": "outside"
           }
          },
          "scene": {
           "xaxis": {
            "backgroundcolor": "white",
            "gridcolor": "rgb(232,232,232)",
            "gridwidth": 2,
            "linecolor": "rgb(36,36,36)",
            "showbackground": true,
            "showgrid": false,
            "showline": true,
            "ticks": "outside",
            "zeroline": false,
            "zerolinecolor": "rgb(36,36,36)"
           },
           "yaxis": {
            "backgroundcolor": "white",
            "gridcolor": "rgb(232,232,232)",
            "gridwidth": 2,
            "linecolor": "rgb(36,36,36)",
            "showbackground": true,
            "showgrid": false,
            "showline": true,
            "ticks": "outside",
            "zeroline": false,
            "zerolinecolor": "rgb(36,36,36)"
           },
           "zaxis": {
            "backgroundcolor": "white",
            "gridcolor": "rgb(232,232,232)",
            "gridwidth": 2,
            "linecolor": "rgb(36,36,36)",
            "showbackground": true,
            "showgrid": false,
            "showline": true,
            "ticks": "outside",
            "zeroline": false,
            "zerolinecolor": "rgb(36,36,36)"
           }
          },
          "shapedefaults": {
           "fillcolor": "black",
           "line": {
            "width": 0
           },
           "opacity": 0.3
          },
          "ternary": {
           "aaxis": {
            "gridcolor": "rgb(232,232,232)",
            "linecolor": "rgb(36,36,36)",
            "showgrid": false,
            "showline": true,
            "ticks": "outside"
           },
           "baxis": {
            "gridcolor": "rgb(232,232,232)",
            "linecolor": "rgb(36,36,36)",
            "showgrid": false,
            "showline": true,
            "ticks": "outside"
           },
           "bgcolor": "white",
           "caxis": {
            "gridcolor": "rgb(232,232,232)",
            "linecolor": "rgb(36,36,36)",
            "showgrid": false,
            "showline": true,
            "ticks": "outside"
           }
          },
          "title": {
           "x": 0.05
          },
          "xaxis": {
           "automargin": true,
           "gridcolor": "rgb(232,232,232)",
           "linecolor": "rgb(36,36,36)",
           "showgrid": false,
           "showline": true,
           "ticks": "outside",
           "title": {
            "standoff": 15
           },
           "zeroline": false,
           "zerolinecolor": "rgb(36,36,36)"
          },
          "yaxis": {
           "automargin": true,
           "gridcolor": "rgb(232,232,232)",
           "linecolor": "rgb(36,36,36)",
           "showgrid": false,
           "showline": true,
           "ticks": "outside",
           "title": {
            "standoff": 15
           },
           "zeroline": false,
           "zerolinecolor": "rgb(36,36,36)"
          }
         }
        },
        "title": {
         "font": {
          "color": "Black",
          "size": 22
         },
         "text": "<b>Documents and Topics",
         "x": 0.5,
         "xanchor": "center",
         "yanchor": "top"
        },
        "width": 1200,
        "xaxis": {
         "visible": false
        },
        "yaxis": {
         "visible": false
        }
       }
      }
     },
     "metadata": {},
     "output_type": "display_data"
    }
   ],
   "source": [
    "model.visualize_documents(docs)"
   ]
  },
  {
   "cell_type": "markdown",
   "metadata": {},
   "source": [
    "TODO:\n",
    "- Normalize, remove stop words, lower case, etc\n",
    "\n",
    "Adicionar tópico do tweet no DF original\n",
    "Adicionar nome do candidato no DF original"
   ]
  }
 ],
 "metadata": {
  "kernelspec": {
   "display_name": "Python 3.10.4 64-bit",
   "language": "python",
   "name": "python3"
  },
  "language_info": {
   "codemirror_mode": {
    "name": "ipython",
    "version": 3
   },
   "file_extension": ".py",
   "mimetype": "text/x-python",
   "name": "python",
   "nbconvert_exporter": "python",
   "pygments_lexer": "ipython3",
   "version": "3.10.4"
  },
  "orig_nbformat": 4,
  "vscode": {
   "interpreter": {
    "hash": "916dbcbb3f70747c44a77c7bcd40155683ae19c65e1c03b4aa3499c5328201f1"
   }
  }
 },
 "nbformat": 4,
 "nbformat_minor": 2
}
