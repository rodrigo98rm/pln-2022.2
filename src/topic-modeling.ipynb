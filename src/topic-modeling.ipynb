{
 "cells": [
  {
   "cell_type": "code",
   "execution_count": null,
   "metadata": {},
   "outputs": [],
   "source": [
    "pip install pandas\n",
    "pip install numpy\n",
    "pip install seaborn\n",
    "pip install bertopic"
   ]
  },
  {
   "cell_type": "code",
   "execution_count": 1,
   "metadata": {},
   "outputs": [
    {
     "name": "stderr",
     "output_type": "stream",
     "text": [
      "/home/rodrigo98rm/.local/lib/python3.10/site-packages/tqdm/auto.py:22: TqdmWarning: IProgress not found. Please update jupyter and ipywidgets. See https://ipywidgets.readthedocs.io/en/stable/user_install.html\n",
      "  from .autonotebook import tqdm as notebook_tqdm\n",
      "2022-08-23 21:09:03.501598: W tensorflow/stream_executor/platform/default/dso_loader.cc:64] Could not load dynamic library 'libcudart.so.11.0'; dlerror: libcudart.so.11.0: cannot open shared object file: No such file or directory\n",
      "2022-08-23 21:09:03.501614: I tensorflow/stream_executor/cuda/cudart_stub.cc:29] Ignore above cudart dlerror if you do not have a GPU set up on your machine.\n"
     ]
    }
   ],
   "source": [
    "import re\n",
    "import pandas as pd\n",
    "import json\n",
    "import numpy as np\n",
    "import seaborn as sns\n",
    "from bertopic import BERTopic"
   ]
  },
  {
   "cell_type": "code",
   "execution_count": 2,
   "metadata": {},
   "outputs": [
    {
     "name": "stdout",
     "output_type": "stream",
     "text": [
      "Número de tweets: 300\n",
      "\n",
      "      author_id      conversation_id                created_at  \\\n",
      "279   128372940  1556574838508208128 2022-08-08 09:35:36+00:00   \n",
      "27   2670726740  1559863217819713536 2022-08-17 11:22:26+00:00   \n",
      "253   128372940  1557892369990795264 2022-08-12 00:51:00+00:00   \n",
      "144    33374761  1559701528994258944 2022-08-17 00:39:57+00:00   \n",
      "75   2670726740  1558795209391095808 2022-08-14 12:38:33+00:00   \n",
      "\n",
      "                                                  text                   id  \\\n",
      "279  - Também, a ampliação do Teto do financiamento...  1556574840429187072   \n",
      "27   Uma das primeiras coisas que quero fazer é rec...  1559863217819713536   \n",
      "253  - Do contrário, assinar uma carta pela democra...  1557892371613900800   \n",
      "144  RT @ElvisGov12: É com muito orgulho que inicio...  1559701528994258944   \n",
      "75   Um feliz dia dos pais. Com muito carinho, frat...  1558795209391095808   \n",
      "\n",
      "     candidato  \n",
      "279  bolsonaro  \n",
      "27        lula  \n",
      "253  bolsonaro  \n",
      "144       ciro  \n",
      "75        lula  \n"
     ]
    }
   ],
   "source": [
    "def df_tweets_candidatos(json_filename):\n",
    "    df = pd.read_json(json_filename).drop(columns = ['replies'])\n",
    "    return df\n",
    "\n",
    "tweets = df_tweets_candidatos('./datasets/dataset.json')\n",
    "\n",
    "\n",
    "# Adicionar nomes dos candidatos no dataframe\n",
    "for index, row in tweets.iterrows():\n",
    "    candidato = ''\n",
    "    match row.author_id:\n",
    "        case 2670726740:\n",
    "            candidato = 'lula'\n",
    "        case 128372940:\n",
    "            candidato = 'bolsonaro'\n",
    "        case 33374761:\n",
    "            candidato = 'ciro'\n",
    "        case _:\n",
    "            candidato: 'n/d'\n",
    "    tweets.at[index, 'candidato'] = candidato\n",
    "\n",
    "# Embaralhar tweets\n",
    "tweets = tweets.sample(frac=1)\n",
    "        \n",
    "\n",
    "print(f'Número de tweets: {len(tweets)}\\n')\n",
    "print(tweets.head())"
   ]
  },
  {
   "cell_type": "code",
   "execution_count": 3,
   "metadata": {},
   "outputs": [
    {
     "name": "stderr",
     "output_type": "stream",
     "text": [
      "Batches: 100%|██████████| 10/10 [00:05<00:00,  1.82it/s]\n",
      "2022-08-23 21:09:25,308 - BERTopic - Transformed documents to Embeddings\n",
      "2022-08-23 21:09:29,661 - BERTopic - Reduced dimensionality\n",
      "2022-08-23 21:09:29,688 - BERTopic - Clustered reduced embeddings\n"
     ]
    }
   ],
   "source": [
    "# create model \n",
    "model = BERTopic(language=\"multilingual\", verbose=True, min_topic_size=3, top_n_words=10, calculate_probabilities=True)\n",
    "\n",
    "# convert to list \n",
    "docs = tweets.text.to_list()\n",
    " \n",
    "tweets_topic, probabilities = model.fit_transform(docs)"
   ]
  },
  {
   "cell_type": "markdown",
   "metadata": {},
   "source": [
    "Adicionar no dataframe o tópico identificado para cada tweet"
   ]
  },
  {
   "cell_type": "code",
   "execution_count": 4,
   "metadata": {},
   "outputs": [
    {
     "data": {
      "text/html": [
       "<div>\n",
       "<style scoped>\n",
       "    .dataframe tbody tr th:only-of-type {\n",
       "        vertical-align: middle;\n",
       "    }\n",
       "\n",
       "    .dataframe tbody tr th {\n",
       "        vertical-align: top;\n",
       "    }\n",
       "\n",
       "    .dataframe thead th {\n",
       "        text-align: right;\n",
       "    }\n",
       "</style>\n",
       "<table border=\"1\" class=\"dataframe\">\n",
       "  <thead>\n",
       "    <tr style=\"text-align: right;\">\n",
       "      <th></th>\n",
       "      <th>author_id</th>\n",
       "      <th>conversation_id</th>\n",
       "      <th>created_at</th>\n",
       "      <th>text</th>\n",
       "      <th>id</th>\n",
       "      <th>candidato</th>\n",
       "      <th>topico</th>\n",
       "    </tr>\n",
       "  </thead>\n",
       "  <tbody>\n",
       "    <tr>\n",
       "      <th>279</th>\n",
       "      <td>1.283729e+08</td>\n",
       "      <td>1.556575e+18</td>\n",
       "      <td>2022-08-08 09:35:36+00:00</td>\n",
       "      <td>- Também, a ampliação do Teto do financiamento...</td>\n",
       "      <td>1.556575e+18</td>\n",
       "      <td>bolsonaro</td>\n",
       "      <td>0_https_co_ciro_rt</td>\n",
       "    </tr>\n",
       "    <tr>\n",
       "      <th>27</th>\n",
       "      <td>2.670727e+09</td>\n",
       "      <td>1.559863e+18</td>\n",
       "      <td>2022-08-17 11:22:26+00:00</td>\n",
       "      <td>Uma das primeiras coisas que quero fazer é rec...</td>\n",
       "      <td>1.559863e+18</td>\n",
       "      <td>lula</td>\n",
       "      <td>0_https_co_ciro_rt</td>\n",
       "    </tr>\n",
       "    <tr>\n",
       "      <th>253</th>\n",
       "      <td>1.283729e+08</td>\n",
       "      <td>1.557892e+18</td>\n",
       "      <td>2022-08-12 00:51:00+00:00</td>\n",
       "      <td>- Do contrário, assinar uma carta pela democra...</td>\n",
       "      <td>1.557892e+18</td>\n",
       "      <td>bolsonaro</td>\n",
       "      <td>8_ele_bolsonaro_porque_mentiras</td>\n",
       "    </tr>\n",
       "    <tr>\n",
       "      <th>144</th>\n",
       "      <td>3.337476e+07</td>\n",
       "      <td>1.559702e+18</td>\n",
       "      <td>2022-08-17 00:39:57+00:00</td>\n",
       "      <td>RT @ElvisGov12: É com muito orgulho que inicio...</td>\n",
       "      <td>1.559702e+18</td>\n",
       "      <td>ciro</td>\n",
       "      <td>12_não_sou_que_eu</td>\n",
       "    </tr>\n",
       "    <tr>\n",
       "      <th>75</th>\n",
       "      <td>2.670727e+09</td>\n",
       "      <td>1.558795e+18</td>\n",
       "      <td>2022-08-14 12:38:33+00:00</td>\n",
       "      <td>Um feliz dia dos pais. Com muito carinho, frat...</td>\n",
       "      <td>1.558795e+18</td>\n",
       "      <td>lula</td>\n",
       "      <td>14_bolsonaro_jair_pai_pr</td>\n",
       "    </tr>\n",
       "  </tbody>\n",
       "</table>\n",
       "</div>"
      ],
      "text/plain": [
       "        author_id  conversation_id                created_at  \\\n",
       "279  1.283729e+08     1.556575e+18 2022-08-08 09:35:36+00:00   \n",
       "27   2.670727e+09     1.559863e+18 2022-08-17 11:22:26+00:00   \n",
       "253  1.283729e+08     1.557892e+18 2022-08-12 00:51:00+00:00   \n",
       "144  3.337476e+07     1.559702e+18 2022-08-17 00:39:57+00:00   \n",
       "75   2.670727e+09     1.558795e+18 2022-08-14 12:38:33+00:00   \n",
       "\n",
       "                                                  text            id  \\\n",
       "279  - Também, a ampliação do Teto do financiamento...  1.556575e+18   \n",
       "27   Uma das primeiras coisas que quero fazer é rec...  1.559863e+18   \n",
       "253  - Do contrário, assinar uma carta pela democra...  1.557892e+18   \n",
       "144  RT @ElvisGov12: É com muito orgulho que inicio...  1.559702e+18   \n",
       "75   Um feliz dia dos pais. Com muito carinho, frat...  1.558795e+18   \n",
       "\n",
       "     candidato                           topico  \n",
       "279  bolsonaro               0_https_co_ciro_rt  \n",
       "27        lula               0_https_co_ciro_rt  \n",
       "253  bolsonaro  8_ele_bolsonaro_porque_mentiras  \n",
       "144       ciro                12_não_sou_que_eu  \n",
       "75        lula         14_bolsonaro_jair_pai_pr  "
      ]
     },
     "execution_count": 4,
     "metadata": {},
     "output_type": "execute_result"
    }
   ],
   "source": [
    "\n",
    "topic_names = model.generate_topic_labels(nr_words=4)\n",
    "\n",
    "# Array indicando o tópico de cada tweet (numérico -> índice do array \"topic_names\" + 1)\n",
    "# print(tweets_topic)\n",
    "# Array com todos os tópicos nomeados\n",
    "# print(topic_names)\n",
    "\n",
    "for index, tweet_topic in enumerate(tweets_topic):\n",
    "    tweets.at[index + 1, 'topico'] = topic_names[tweet_topic + 1]\n",
    "\n",
    "tweets.head()\n"
   ]
  },
  {
   "cell_type": "markdown",
   "metadata": {},
   "source": [
    "Abaixo, os tópicos identificados entre todos os tweets"
   ]
  },
  {
   "cell_type": "code",
   "execution_count": 5,
   "metadata": {},
   "outputs": [
    {
     "name": "stdout",
     "output_type": "stream",
     "text": [
      "    Topic  Count                                     Name\n",
      "0      -1     45                         -1_de_que_em_não\n",
      "1       0     55                       0_https_co_ciro_rt\n",
      "2       1     51                1_brasil_que_esperança_de\n",
      "3       2     16               2_programa_de_renda_mínima\n",
      "4       3     15                     3_08_2022_giro_https\n",
      "5       4     15                    4_de_em_redução_menor\n",
      "6       5     10               5_lula_https_co_equipelula\n",
      "7       6     10                       6_ano_ton_safra_de\n",
      "8       7      9                    7_eu_voto_eleição_não\n",
      "9       8      8          8_ele_bolsonaro_porque_mentiras\n",
      "10      9      7     9_sobre_ciro_cironorodaviva_responde\n",
      "11     10      7                       10_deus_se_você_os\n",
      "12     11      6        11_saudades_carta_democracia_cuba\n",
      "13     12      6                        12_não_sou_que_eu\n",
      "14     13      6             13_reeleição_política_um_que\n",
      "15     14      6                 14_bolsonaro_jair_pai_pr\n",
      "16     15      6                  15_gente_que_gerar_país\n",
      "17     16      5      16_estímulo_prática_desporto_comitê\n",
      "18     17      5                 17_entenda_kg_maconha_de\n",
      "19     18      5  18_recuperar_precisamos_empregos_brasil\n",
      "20     19      4             19_melhora_pobre_coisas_isso\n",
      "21     20      3                   20_está_uma_errado_pra\n"
     ]
    }
   ],
   "source": [
    "freq = model.get_topic_info()\n",
    "print(freq)"
   ]
  },
  {
   "cell_type": "markdown",
   "metadata": {},
   "source": [
    "Visualização de tweets com tópicos semelhantes:"
   ]
  },
  {
   "cell_type": "code",
   "execution_count": 6,
   "metadata": {},
   "outputs": [
    {
     "data": {
      "application/vnd.plotly.v1+json": {
       "config": {
        "plotlyServerURL": "https://plot.ly"
       },
       "data": [
        {
         "hoverinfo": "text",
         "hovertext": [
          "Eu quero pra mim a referência histórica de presidente da República que zerou toda a demanda por regularização fundiária das comunidades tradicionais brasileiras. #CiroNoRodaViva",
          "Em relação a empresários golpistas, a sociedade tem uma excelente arma nas mãos: seu poder de compra. Está na hora de boicotar os produtos e serviços de facínoras que querem o fim do nosso estado democrático de direito.",
          "- Ao contrário do que diziam, mostramos que é possível, sim, reduzir essa carga super-pesada. Basta uma política econômica eficiente e respeito com o dinheiro dos brasileiros. Essa tem sido nossa grande diferença: ao invés de se servir do povo, nós passamos a servir ao povo.",
          "- Alimentos, combustíveis, gás de cozinha, energia, medicamentos, eletrodomésticos, games, carros, motos, suplementos e mais centenas de itens: nunca tantos impostos foram reduzidos como nos últimos anos. Nosso compromisso é seguir reduzindo e zerando sempre que for possível!",
          "- Em respeito à Glória Perez, não alimentarei essa exploração leviana em cima de sua perda irreparável. As ilações com base em informações falsas divulgadas por parte da mídia só expõem sua falta de escrúpulos e o desprezo pela dor das pessoas, tratando-as como meras ferramentas.",
          "👍 GARANTIA – O programa será um direito constitucional, ou seja, ele estará garantido seja qual que for o governo. Exatamente por isso, vai acabar com as chantagens e ameaças que aparecem em toda eleição.",
          "É AMANHÃ! Com muita alegria, convido vocês pro início oficial da nossa campanha! 🌹\n\nVamos mostrar aos brasileiros que aqui tem projeto, experiência, ficha limpa e uma alternativa viável pra mudar o país.\n\nNesta terça, às 7h, estaremos AO VIVO nas redes. Acompanhe! #PrefiroCiro https://t.co/YYhmrfrOoD",
          "Enquanto não acabar a fome e a miséria você não tem como acabar com o auxílio.",
          "Como está na lei que o auxílio emergencial acaba em dezembro, só gente comprometida com o povo como nós pode garantir a continuidade do auxílio. Obrigado @AndreJanonesAdv pelo apoio nesta causa.",
          "Entre desalento, desemprego aberto e informalidade, são aproximadamente 50 milhões de brasileiros que estão sendo mandados à velhice – em 15, 20 anos – sem nenhum tipo de cobertura previdenciária. E lá não terá solução para essa equação. Precisamos resolver isso agora.",
          "É por não ter tido oportunidade de entrar na universidade que eu quero que os iguais a mim tenham acesso à universidade. Pela minha experiência, sei que o povo pobre precisa apenas de uma oportunidade.",
          "Credibilidade, estabilidade e previsibilidade devem guiar qualquer governo. Temos muitas coisas urgentes para fazer no Brasil e essas três palavras vão guiar nosso trabalho. Vamos trazer de volta a normalidade no país, gerar empregos e acabar com a miséria e a fome. Boa noite.",
          "Milhões de brasileiros vivem penando, há anos, aprisionados por dívidas e juros impagáveis. É roubo, falta de piedade e burrice da dupla infernal: o governo e a banqueirada. Sofrem as pessoas e a economia. #CiroPresidente12 https://t.co/BOzlWyEfVC",
          "Não tem explicação para um país como o Brasil ter gente passando fome. E o pequeno e médio produtor agrícola não estão recebendo o auxílio necessário para produzir mais feijão, arroz.",
          "Auxílio eleitoreiro de R$600?! Aqui não! No meu governo, o PROGRAMA DE RENDA MÍNIMA será de R$1.000! E digo mais: o projeto vai entrar na Constituição, ou seja, o valor estará garantido seja qual que for o governo! #CiroPresidente12 https://t.co/OljZ5pB53a",
          "Junto com a ex-presidenta @dilmabr, levei nossos cumprimentos democráticos ao novo presidente do @TSEjusbr, ministro Alexandre de Moraes.\n\n📸: @ricardostuckert https://t.co/Wgwd1LW9q1",
          "Nós temos que começar a perguntar quanto nos custou não fazer as coisas nesse país. Quanto custou não alfabetizar o povo na década de 30 ou 40? Quanto custou a esse país não fazer a reforma agrária quando já tinha sido feita no mundo inteiro?",
          "- Lula e Dilma deixaram para os brasileiros um país devastado, com 15 milhões de desempregados, prejuízos bilionários nas estatais e obras inacabadas, além do maior esquema de corrupção, o maior número de assassinatos e a pior década para a economia de toda a nossa História.",
          "- Soube que o PT agora reza o Pai Nosso e usa bandeiras do Brasil em seus eventos. É um bom começo. Só falta parar de defender aborto, drogas, ideologia de gênero, desencarceramento, controle da mídia/internet, ladrões de celular, financiamento de ditaduras e diálogos cabulosos.",
          "- Jô sempre fez bom uso do seu direito de livre expressão. Por muitas vezes teceu duras críticas contra mim, inclusive. Mas foi por viver num país livre, não em um regime autoritário, que ele pode exercê-lo integralmente. Essa é a beleza da democracia.",
          "Recado do Lula e da @gleisi para o povo de São Paulo: sábado teremos um grande ato no Vale do Anhangabaú.  Chegue cedo, a partir das 8h, e registre sua presença no link: https://t.co/85gf1HXiKn #EquipeLula https://t.co/7rPy4KDsnt",
          "- Sequer participei do almoço em Belo Horizonte. A mesma imprensa já havia divulgado que eu estava em uma churrascaria de SP na mesma data e hora. Quem propagou a mentira, já sabia da verdade, mas não se preocupou com a dor que poderia causar até à família de Daniella Perez.",
          "Precisamos restaurar o principal motor de ativação da nossa economia, que é o consumo das famílias. E aqui temos duas equações muito básicas 👇",
          "Quando eu era presidente, reajustei várias vezes a tabela do Imposto de Renda. O Bolsonaro prometeu e não fez. Nós vamos reajustar a tabela, escolher uma faixa maior para isentar do imposto, penso que por volta de R$ 5 mil. Vamos ter que estudar e discutir sobre isso.",
          "Fiz questão de começar a campanha apresentando o Programa de Renda Mínima 'Eduardo Suplicy’, em mais uma visita às periferias abandonadas do nosso Brasil. A ideia é que o projeto se torne um DIREITO constitucional das famílias mais carentes. Confira! #CiroPresidente12 https://t.co/TOw1m3IBRJ",
          "Minas Gerais é um estado importante e sabe o que aconteceu quando eu fui presidente. Minas respira democracia, desenvolvimento e é para reconstruirmos juntos nosso Brasil que eu espero o povo mineiro amanhã no ato em Belo Horizonte. https://t.co/JuZ3nNIres #BrasilDaEsperança",
          "💰 DE ONDE VEM O DINHEIRO? De programas de transferência de renda já existentes (como o Auxílio Brasil, antigo Bolsa Família) + imposto sobre grandes fortunas e taxação de lucros e dividendos –",
          "Em três anos e meio, Bolsonaro prepara um legado de desemprego, aumento de dívidas, famílias com baixo poder de compra e carrinhos de supermercado cada vez mais vazios. Vamos recuperar o Brasil e trazer qualidade de vida pro povo brasileiro. #EquipeLula https://t.co/nKTuDC2e7d https://t.co/mrp7EYr6ae",
          "-Além do início dos investimentos históricos com a sanção do Marco do Saneamento Básico, derivando em mais saúde para o povo. Passos gigantescos são dados em obras que jamais renderam votos, pois não possuem visibilidade direta ou devido a interesses que sempre estiveram por trás",
          "Desenhistas pelo #BrasilDaEsperança. Lula 13 presidente, por @crisvector. Quer participar também? Nos envie seu desenho! #EquipeLula https://t.co/ezq7jAmwgG",
          "- DESBUROCRATIZAÇÃO: Mais de 1,3 milhão de empresas são criadas no 🇧🇷 em 4 meses.\n\n- Tempo médio de abertura de empresas cai para 1 dia e 2 horas em julho de 2022, representando redução de 5 horas em relação ao mês anterior (1 dia e 7 horas).\n\n- O menor tempo médio já registrado.",
          "Dia 15 tem encontro em defesa da democracia! Lula e @Haddad_Fernando na USP. Registre sua presença no link https://t.co/IlFBiD1EAa #EquipeLula https://t.co/p2CiUrbXgs",
          "Bolsonaro entregou o cadastro dos miseráveis e famintos brasileiros para o sistema financeiro cobrar 80% a 100% de juros, antecipando os valores do Auxílio Brasil. A pessoa recebe R$ 3 mil e fica devendo R$ 5 mil. Isso será criminalizado. #CiroNoRodaViva",
          "A democracia vai restabelecer a dignidade nesse país. Muito respeito às instituições, muita conversa com a sociedade brasileira. É preciso envolver o povo na tomada de decisões. É assim que queremos recuperar o Brasil. Boa noite.",
          "🤷‍♂️ Afinal, nada mais justo que eles paguem um pouquinho dessa fortuna pra tirar a fome, a miséria e a humilhação da maioria esmagadora, né?\n\n🫂 QUEM VAI TER DIREITO? Todas as famílias que se encontram abaixo da linha da pobreza.",
          "- É estranho o PT esconder dos brasileiros essas relações e suas pautas mais íntimas, como a liberação das drogas e do aborto, durante o período eleitoral. Se julgam ser bandeiras tão benéficas para o Brasil, deveriam premiar, não banir, aqueles que fazem o favor de divulgá-las.",
          "- Preservação ao meio ambiente, empregos diretos e indiretos e desenvolvimento regional.",
          "As pessoas pensam que o sucesso dos nossos governos foi o Bolsa Família. Mas não foi só isso, foi a junção de diversas políticas públicas, muitas delas deliberadas em conferências nacionais. E vamos voltar a fazer isso. #BrasilDaEsperança",
          "- Esses trilhos são um importante avanço para a infraestrutura do Brasil, pois conectarão o futuro porto de Ilhéus, no litoral baiano, a Figueirópolis, no Tocantins, cidade em que a FIOL se ligará à Ferrovia Norte Sul.",
          "Tudo que eu vivi na vida, que aprendi na política, nas vitórias e nas derrotas, eu devo aos metalúrgicos do ABC. Foi na porta da Volkswagen, da Ford, que a gente conseguiu fazer que a classe trabalhadora brasileira se politizasse e fizesse as greves pela democracia.",
          "Se a gente não conseguir salvar o Brasil dessa absurda e despolitizada polarização, o aprofundamento dos ódios e paixões vai produzir o maior estelionato eleitoral da história – com uma crise tão grave que aí sim nós vamos ver que valor tem a democracia para a nossa sociedade.",
          "\"Sou um homem livre. Eu estou aqui para servir ao Brasil\". Veja aqui os instantes finais da participação de Ciro no @rodaviva. #CiroNoRodaViva https://t.co/0dtuDYiiD0",
          "- Temos o privilégio de não precisar enganar o povo sobre quais são nossos valores neste período: somos a favor da família, do livre mercado e do direito à legítima defesa. Somos contra as drogas e o narcotráfico, o controle da mídia e internet, a ideologia de gênero e o aborto.",
          "Ciro confirma que vai à posse de Alexandre de Moraes na presidência do TSE e diz o que acha da presença de Bolsonaro nesse ato. #CiroNoRodaViva https://t.co/YnGfQhz5eY",
          "Você já conhece o nosso Programa de Renda Mínima ‘Eduardo Suplicy’, que vai garantir R$1.000 aos lares de toda a população carente no Brasil? #CiroPresidente12 https://t.co/HDR4T1OwUZ",
          null
         ],
         "marker": {
          "color": "#CFD8DC",
          "opacity": 0.5,
          "size": 5
         },
         "mode": "markers+text",
         "name": "other",
         "showlegend": false,
         "type": "scattergl",
         "x": [
          0.9583720564842224,
          1.4115079641342163,
          1.7254667282104492,
          1.1870708465576172,
          2.552123785018921,
          0.41641852259635925,
          1.6824805736541748,
          1.5042390823364258,
          1.5917494297027588,
          1.621881127357483,
          1.5411838293075562,
          1.0521323680877686,
          2.035720109939575,
          1.5658280849456787,
          0.36763375997543335,
          2.3311474323272705,
          1.3512691259384155,
          2.057090997695923,
          1.9185757637023926,
          3.0732007026672363,
          2.560650587081909,
          2.6343350410461426,
          1.1264125108718872,
          1.578194499015808,
          0.7857586741447449,
          1.154542326927185,
          1.0959910154342651,
          3.2885448932647705,
          1.0183929204940796,
          1.0670958757400513,
          1.4907890558242798,
          2.5953712463378906,
          1.9387575387954712,
          1.0258265733718872,
          1.5458524227142334,
          1.9558587074279785,
          0.6916235685348511,
          1.6557937860488892,
          0.7994343042373657,
          1.7976374626159668,
          2.2955150604248047,
          1.1954089403152466,
          1.1056759357452393,
          2.214980363845825,
          0.9484261870384216,
          1.5891547203063965
         ],
         "y": [
          1.5004796981811523,
          3.9824001789093018,
          4.88780403137207,
          5.007914066314697,
          3.0088460445404053,
          5.038603782653809,
          1.1351475715637207,
          4.4477410316467285,
          3.898461103439331,
          5.108211517333984,
          4.475165843963623,
          2.5959999561309814,
          4.667201519012451,
          4.785029411315918,
          5.124005317687988,
          0.41123464703559875,
          5.5331573486328125,
          4.622303009033203,
          3.1653835773468018,
          3.2823524475097656,
          -1.0071287155151367,
          2.827890157699585,
          4.519399642944336,
          5.473302364349365,
          5.401811122894287,
          1.5598622560501099,
          5.333315372467041,
          2.8438446521759033,
          5.729658603668213,
          0.30883148312568665,
          5.927473068237305,
          -0.5347287058830261,
          5.473008632659912,
          2.624872922897339,
          4.580665111541748,
          3.1684834957122803,
          4.388841152191162,
          4.923030853271484,
          2.2008674144744873,
          1.9120616912841797,
          4.0230584144592285,
          0.31148502230644226,
          3.892526626586914,
          0.5720735788345337,
          5.391016960144043,
          3.5227322578430176
         ]
        },
        {
         "hoverinfo": "text",
         "hovertext": [
          "Pra quem não viu (ou pra quem quer rever), segue o link do #CiroNoRodaViva 👇\n\nhttps://t.co/FFioHIk8Ms",
          "Obrigado, @tiamaoficial. https://t.co/0DmzYe1BFM",
          "https://t.co/vZai5NvfnB",
          "- Valeu pelo presente, @neymarjr ! Parabéns pelo jogão de hoje! Com a graça de Deus, este será o seu ano. Estamos todos na torcida! https://t.co/gkENKXKwDK",
          "@simonetebetbr Minha querida @simonetebetbr, isto é o que mais tenho feito na vida e em todas as campanhas que tenho participado. Saúdo sua chegada e disposição. Nos juntemos para cobrar a presença dos demais nos debates já marcados. Bem-vinda!",
          "Esta @AnaPaulaMatosBA não veio só pra somar, veio pra multiplicar! Êta baiana retada!! 😄 #MilitaQueVira12 https://t.co/LQ0zzHv74X",
          "RT @alexandrekalil: Olha o recado do presidente @LulaOficial ! #lulaekalil #colanokalil #Kalil55 https://t.co/PhEWo1suSr",
          "Vocês já conhecem o Desafio do App do Cirão? A Jéssica Fernanda @jfernandaBrasil, de Rondonópolis no Mato Grosso, é a grande vencedora da semana!\n\nNossa vice @AnaPaulaMatosBA resolveu fazer uma surpresa maravilhosa. Confira! https://t.co/NURTEdgHOr",
          "Vai um cafezinho? ☕ https://t.co/og8lYxazXR",
          "- Via: tiktok /conservadoresbr https://t.co/4UlGiYQgDl",
          "@marcelosampaio 🇧🇷, Ministro!",
          "- Ultrapassamos Beonce. Obrigado a todos! 👍. https://t.co/6rUCl6akW8",
          "Dia 13, #LulaDay! https://t.co/erAdGyngjy",
          "https://t.co/o0VsJIXXiG",
          "COMEÇOU! Bate-papo ao vivo com @AndreMarinho. Repare bem na hashtag: #CiroComAndréMarinho\n\n➡️ https://t.co/kLvss0wm0p https://t.co/WzW0uWtc6L",
          "🌽🌽🌽🌽 #LulaDay https://t.co/BiA9sPJzck",
          "Bom dia! Hoje é dia 1️⃣3️⃣⭐\nFaltam 50 dias para...",
          "- Um velho amor...\n- Morram de ciúmes...\n- Gota Serena kkkkk 👍 https://t.co/42xVorsueu",
          "- Informações atualizadas em nosso GETTR: https://t.co/rVeSExaSVV https://t.co/LQ3mfxV27X",
          "Reunir a família é sempre um momento de muitas bênçãos e alegria! ❤️ https://t.co/aQyIwQjWLF",
          "RT @alexandrekalil: Bom dia, gente. Hoje tem @LulaOficial e Kalil em BH! Iniciamos nossa corrida eleitoral e vamos com tudo. Convoque seus…",
          "Todo mundo viu esse papo de altíssimo nível com o querido @AndreMarinho? Fiquei muito feliz com o convite! Repare bem, esse cara é dos bons! #CiroComAndréMarinho https://t.co/vY5eRzl4Zn",
          "- A própria pessoa envolvida nesse crime cruel e covarde nega ter estado presente no evento. Sua esposa, que não tem envolvimento com o crime, já se manifestou explicando que não conhece Michelle e que, assim como dezenas de mulheres, fez fila para tirar foto com a Primeira-Dama.",
          "Dois lados. #EquipeLula https://t.co/zEZu6Udbeq",
          "https://t.co/Rk0jEJtvBQ",
          "@marcelosampaio 🇧🇷",
          "- Agradeço aos mais de 450 mil espectadores que nos acompanharam ao vivo nessa entrevista de quase 3 horas. Grande audiência! 👍. https://t.co/PxJYHScnft",
          "Já viram que hora é essa? 👀👇\n\nciro         ciro ciro ciro\nciro      ciro             ciro\nciro       ciro           ciro\nciro                     ciro\nciro                  ciro\nciro               ciro\nciro            ciro\nciro         ciro\nciro     ciro ciro ciro ciro",
          "RT @fabiofaria: Realizamos a 1ª reunião do Gov. Federal no ambiente virtual com o apoio da @Dual_360. \nDiretamente da Califórnia 🇺🇸, nos re…",
          "RT @maritegon: O povo tá com @LulaOficial! Coisa mais linda a aula aberta na USP. 2023 será lindo! https://t.co/VTe9NIpxgN",
          "https://t.co/0EaVIJ0DoJ",
          "Repare bem: hoje vai ser épico! 😁 Venha assistir minha conversa com @AndreMarinho a partir das 18h e bora subir a hashtag: #CiroComAndréMarinho https://t.co/j4HqcK3KwC",
          "RT @AndreJanonesAdv: Daqui a pouco, às 11:00 da manhã, @LulaOficial e eu entraremos ao vivo em uma live no meu face, pra um importante comu…",
          "- Espectadores*. 👍. Um forte abraço a todos!",
          "- Boa noite a todos! 👍.\n\nobs: autor desconhecido. https://t.co/9vZHuNF45H",
          "VAI COMEÇAR! Assista minha entrevista no Roda Viva, na @tvcultura a partir das 22h. Ao vivo também no YouTube: https://t.co/FFioHIk8Ms\n\n#CiroNoRodaViva",
          "❤️🎮 https://t.co/VPUGpSCJo8",
          "@tarcisiogdf @yoGABRlELinHeLL 🇧🇷",
          "- Aos quase 600 mil expectadores que nos aguentaram por mais de 5 horas ininterruptas, o meu muito obrigado pela audiência e, principalmente, pela paciência! Kkkk. Um bate papo com muita informação, descontração, embates, bom humor e seriedade. Boa noite a todos! https://t.co/PjMzrZmcWC",
          "@tiamaoficial Um abraço pra você e sua família.",
          "https://t.co/po7r8q2nLi",
          "https://t.co/sfYTzKc9IP",
          "https://t.co/wozxydPoME https://t.co/eRuDTw9y5G",
          "@DanielODFerr 🇧🇷",
          "Todo mundo ligado? 😄 #CiroNoRodaViva \n\n⏯️ https://t.co/FFioHIk8Ms https://t.co/fSsczPn3Ls",
          "- O selo está disponível para quem desejar usá-lo na foto de perfil. Basta acessar o link: https://t.co/h59nlM5Q6D",
          "Acompanhe, no horário, ao vivo, pelo Canal do Flow Podcast: https://t.co/eZTLTeqVEU https://t.co/mMHJnptC7M",
          "E aí, gostaram da nova foto de perfil? 😄 #CiroPresidente12 https://t.co/0rbm11zFqg",
          "Nove. https://t.co/hfMesT3LHq",
          "Atenção BH: amanhã tem ato na cidade! O evento é aberto e para todos. Chame seus amigos, familiares e vamos juntos recuperar a esperança, com Lula, @geraldoalckmin, @alexandrekalil, @AndreJanonesAdv e @asilveiramg! #EquipeLula https://t.co/JuZ3nO0260 https://t.co/7hzPN7FJ7w",
          "Linda noite na USP.\n\n📸: @ricardostuckert https://t.co/jilQ4hLzZn",
          "12 é o número da torcida! Pessoal, faltam 45 dias para o apito final e jogo tá só começando. Vai ser de virada e vai ser histórico! https://t.co/0eYgK18SRp",
          "Temos pacote de figurinhas dos Dia dos Pais sim senhor! Já disponível para Whatsapp, Telegram, Tiktok e Instagram. Baixe e compartilhe! 🦑 #EquipeLula\nhttps://t.co/BcgGGj7vYU https://t.co/caaBt3AzTW",
          "https://t.co/0GTMMCkibQ",
          "Veja aqui as dicas da nossa querida @gisellebezerra pra você também baixar o App do Cirão 😁👇\nhttps://t.co/mR78gncvzO",
          null
         ],
         "marker": {
          "opacity": 0.5,
          "size": 5
         },
         "mode": "markers+text",
         "name": "0_https_co_ciro",
         "text": [
          "",
          "",
          "",
          "",
          "",
          "",
          "",
          "",
          "",
          "",
          "",
          "",
          "",
          "",
          "",
          "",
          "",
          "",
          "",
          "",
          "",
          "",
          "",
          "",
          "",
          "",
          "",
          "",
          "",
          "",
          "",
          "",
          "",
          "",
          "",
          "",
          "",
          "",
          "",
          "",
          "",
          "",
          "",
          "",
          "",
          "",
          "",
          "",
          "",
          "",
          "",
          "",
          "",
          "",
          "",
          "0_https_co_ciro"
         ],
         "textfont": {
          "size": 12
         },
         "type": "scattergl",
         "x": [
          5.765447616577148,
          3.482004165649414,
          5.534337043762207,
          4.031857967376709,
          2.8550751209259033,
          4.500184059143066,
          2.925182342529297,
          3.5342462062835693,
          5.71332311630249,
          5.865392684936523,
          2.8224542140960693,
          3.9113268852233887,
          5.160452365875244,
          5.810783386230469,
          4.573928356170654,
          5.2724714279174805,
          4.137581825256348,
          5.555377960205078,
          5.905274868011475,
          3.5922739505767822,
          2.7929811477661133,
          4.347678184509277,
          2.588416576385498,
          5.573726177215576,
          5.717100143432617,
          3.333723783493042,
          3.874971628189087,
          4.110073566436768,
          2.9495060443878174,
          3.356973171234131,
          5.732513427734375,
          4.257089138031006,
          4.249155521392822,
          3.6576106548309326,
          5.658635139465332,
          4.5006890296936035,
          5.514381408691406,
          3.420121192932129,
          3.868492603302002,
          3.5450079441070557,
          5.7469658851623535,
          5.652219772338867,
          5.625455379486084,
          3.3273537158966064,
          5.211948871612549,
          5.279660224914551,
          4.839778900146484,
          5.323491096496582,
          5.746911525726318,
          3.641585350036621,
          5.571840763092041,
          4.086295127868652,
          5.092990875244141,
          5.71478271484375,
          3.5665314197540283,
          4.516829490661621
         ],
         "y": [
          -0.16604192554950714,
          -0.1594257652759552,
          -0.32847973704338074,
          -0.39482247829437256,
          0.5692087411880493,
          -0.31571486592292786,
          0.14205776154994965,
          0.19938060641288757,
          -0.19697126746177673,
          -0.4649820029735565,
          0.2152332216501236,
          -0.42845258116722107,
          -0.5758526921272278,
          -0.30906546115875244,
          -0.15240885317325592,
          -0.4612363278865814,
          -0.3845175504684448,
          -0.3639948070049286,
          -0.36705586314201355,
          -0.34725213050842285,
          0.5200821161270142,
          -0.06321218609809875,
          2.8178391456604004,
          -0.3778018653392792,
          -0.41996103525161743,
          0.043045297265052795,
          -0.0728854387998581,
          -0.41737183928489685,
          0.3134782910346985,
          -0.9122670292854309,
          -0.24992339313030243,
          -0.18383052945137024,
          -0.20039832592010498,
          -0.3335908055305481,
          -0.3016018271446228,
          -0.17725764214992523,
          -0.2960480749607086,
          0.10499235987663269,
          -0.09630808979272842,
          -0.27439239621162415,
          -0.24870599806308746,
          -0.20733636617660522,
          -0.1872779130935669,
          0.09166125953197479,
          -0.0724690780043602,
          -0.12269850075244904,
          -0.24471324682235718,
          -0.08406003564596176,
          -0.25178059935569763,
          -0.5586100816726685,
          -0.24137182533740997,
          -0.4606446921825409,
          -0.1453685462474823,
          -0.2529265880584717,
          0.20605063438415527,
          -0.13905559480190277
         ]
        },
        {
         "hoverinfo": "text",
         "hovertext": [
          "A gente vai ter que decidir o Brasil que a gente quer. Esse país já provou que pode ser bom. Se um cara que tem apenas diploma de torneiro mecânico, junto com vocês, provou que é possível, o que vocês não podem fazer?",
          "Hoje eu me encontrei com o ator @mserradoator. Grande profissional com personagens memoráveis no cinema e na televisão. Vamos juntos pelo futuro do Brasil.\n\n📸: @ricardostuckert https://t.co/yttHh3CIBy",
          "Quem assiste esta cena, e não derrama lágrimas, tem uma pedra de gelo no peito. E quem não entende a imensa tragédia social que ela concentra, vai continuar sem buscar as verdadeiras saídas para o drama brasileiro. https://t.co/HklbF4LK5o",
          "Vamos de 12 pra livrar o Brasil dessa onda de ódio e de paixões despolitizadas, gente boa! #CiroPresidente12 https://t.co/1DnMIryR79",
          "Eu não vou chegar aos estados falando mal das pessoas do estado. Em Minas eu vou falar bem do @alexandrekalil. Que é um cara que parece brabo, mas cheio de garra, que tem bom sentimento e que foi um grande prefeito de Belo Horizonte.",
          "Vim com @Haddad_Fernando para uma aula pública onde ele trabalha, na USP. O professor que será nosso governador de São Paulo. Lotou.\n\n📸: @ricardostuckert https://t.co/KxkDjhphie",
          "AVISO IMPORTANTE: \n\nPessoal, amanhã à noite estarei na posse do ministro Alexandre de Moraes na presidência do TSE. Por isso, a #CIROGAMES não será transmitida nesta terça-feira. Em seu lugar, teremos um #GiroDoCiro em Brasília. Fiquem ligados aqui nas redes!",
          "A reconstrução do Brasil é uma responsabilidade nossa. Precisamos, juntos, defender o país que sonhamos, sem fome e com vida digna pro nosso povo. #BrasilDaEsperança \n \n🎥: @ricardostuckert https://t.co/1eVmic0CnE",
          "Vim ao ABC hoje, nesse dia tão marcante da minha vida, para dizer que nós vamos ganhar as eleições e recuperar o Brasil. Porque esse país precisa de nós! #BrasilDaEsperança 🇧🇷\n\n📸: @ricardostuckert https://t.co/kP9CRYY1Sc",
          "O @AndreJanonesAdv pode contribuir muito para nossa candidatura, fazendo as denúncias que tem que ser feitas contra o aumento dos alimentos, contra a fome. Ele vai ser um grande parceiro nesse processo eleitoral. E vamos precisar de muita gente para reconstruir o Brasil.",
          "- Brasília, DF, 10/agosto.\n- Confederação Nacional da Agricultura.\n- Término do evento. https://t.co/YSyL2m7eL0",
          "RT @ElvisGov12: É com muito orgulho que inicio essa caminhada para ser governador de São Paulo ao lado do amigo @cirogomes. Juntos vamos tr…",
          "Deixe seu perfil sem medo de ser feliz! No link você pode criar sua foto com a marca do #BrasilDaEsperança! 🇧🇷🦑 #EquipeLula https://t.co/XES4xH4ueH",
          "Um feliz dia dos pais. Com muito carinho, fraternidade, amor e esperança de dias melhores para o Brasil. \n\n🎥: @ricardostuckert https://t.co/9FoOlyYsMS",
          "- Após quase 14 anos de espera pelo título da terra, Antônia Francisca e Manuel Lopes receberam o documento.\n\n- Assim como eles, mais de 370 mil famílias brasileiras receberam o título desde o início de 2019. Mais um recorde histórico. https://t.co/s8HALlKlYk",
          "Atenção, turma! Hoje nós temos um encontro no @rodaviva, da TV Cultura. Todo mundo pronto pra debater o Brasil? Começa 22h!\n\nAssista AO VIVO e participe com a hashtag #CiroNoRodaViva https://t.co/dZJcjNJQu4",
          "- Independentemente de preferências ideológicas, Jô Soares foi uma grande personalidade brasileira que conquistou a todos com seu modo cômico de discutir assuntos profundos. Que Deus conforte a família e o acolha com a cordialidade que o próprio Jô recebia a todos.",
          "Aos 50 anos de vida pública, 8 dos quais presidindo o país, volto ao lugar onde tudo começou: a porta da fábrica. Como primeiro ato de campanha, visito a Volkswagen, levando aos trabalhadores uma mensagem de esperança: vamos juntos consertar o Brasil. Bom dia! #BrasilDaEsperança",
          "A fórmula para quebrar a polarização é ter humildade, disciplina, frequentar os debates, as sabatinas e tentar mostrar ao povo brasileiro a necessidade de construir uma alternativa. É o que estou fazendo. #CiroNoRodaViva",
          "Artes pelo #BrasilDaEsperança!🇧🇷 Desenho da @artevillar1. Faça parte desse movimento e envie seu desenho. #EquipeLula https://t.co/uFNoDV5naF",
          "O melhor pai é o que aprende a ser ao mesmo tempo o melhor filho, o melhor esposo, o mais humilde membro da família e o mais temente filho de Deus. Neste dia, viva os heróicos pais brasileiros.",
          "Vou voltar no ABC com @Haddad_Fernando como governador. Vai ser a primeira vez que vamos governar ao mesmo tempo o Brasil e São Paulo. E se preparem: nós vamos fazer a maior transformação que esse país já viu. Vai ser a volta do emprego, do salário digno e do Brasil da esperança.",
          "#BrasilDaEsperança https://t.co/cLrbAIxco6",
          "Estivemos na posse do ministro Alexandre de Moraes (@alexandre) na Presidência do TSE. Aproveito a oportunidade pra reiterar minha confiança de que o novo presidente saberá conduzir a eleição mais tensa dos últimos anos. https://t.co/BbS1bUMXkN",
          "Brasil da esperança. Boa noite! https://t.co/CbNbjbS9GV",
          "Bora salvar o Brasil dessa polarização e, finalmente, trazer paz pro nosso país? Ainda dá tempo de você votar no Ciro! #CiroPresidente12 https://t.co/GfxaL3LiFM",
          "O primeiro passo para reconstruirmos nosso país é vencer as eleições. O Brasil é imenso, por isso eu conto com a ajuda de vocês, nas redes e nas ruas, para levarmos uma mensagem de fé e esperança ao nosso povo. #BrasilDaEsperança https://t.co/SrmlSTbJSy",
          "A juventude tinha direito de sonhar com Lula e Dilma. Os governos do PT investiram em renda, emprego e educação de jovens da cidade e do campo. Relembre o legado de quem mais cuidou do futuro do Brasil. #EquipeLula https://t.co/AHWeXcsobT https://t.co/chAgx3I0wR",
          "A nossa luta é em busca da primavera. Boa noite. #BrasilDaEsperança https://t.co/GT53JjyKu5",
          "Gente boa, hoje temos entrevista AO VIVO no SBT Brasil. Espero vocês às 19h50!\n\nCompartilhe e participe com a hashtag #CiroNoSBT https://t.co/vwGkOej8C0",
          "Hoje é o aniversário de @robertoclaudio, este grande prefeito que transformou Fortaleza e vai fazer muito mais pelo Ceará como nosso governador. Seu preparo e humanismo são ímpares, meu querido amigo. Estamos juntos! https://t.co/v1dtU9AvKm",
          "Bom dia! Hoje em BH daremos uma grande demonstração de democracia e do desejo de um Brasil melhor, com o primeiro comício da campanha. Estão todos convidados para a Praça da Estação, a partir de 16 horas. #BrasilDaEsperanca\n  https://t.co/BTQ5a4FxF4",
          "Quero percorrer todos os caminhos, de Norte a Sul e de Leste a Oeste, para dizer a cada brasileiro e cada brasileira: nós vamos juntos reconstruir o Brasil. Mas este país é imenso, por isso peço a vocês: onde minhas pernas não puderem alcançar, eu andarei com as pernas de vocês.",
          "Espero que Deus ilumine a minha palavra para mostrar que o Brasil precisa dar um passo adiante. Eles já tiveram oportunidade e sabemos no que deu.",
          "- BRASIL ACIMA DE TUDO! DEUS ACIMA DE TODOS! 🇧🇷👍. https://t.co/TuReiy1mYr",
          "Bom dia! Amanhã começa a campanha. Hoje estarei com @Haddad_Fernando em uma aula pública pela democracia na USP. Nos acompanhe também na transmissão nas redes. Uma boa semana pra nós e vamos juntos pelo Brasil!",
          "Volta, Lula! Pro Brasil da esperança voltar também! Boa noite 🇧🇷 #EquipeLula\n\n📸: @ricardostuckert https://t.co/UmBhxa6gmx",
          "@foquinha Obrigado pelo apoio, @foquinha. Nós vamos reconstruir o Brasil da esperança pro nosso povo.",
          "@babidewet Obrigado, @babidewet. Vamos juntos pelo Brasil da esperança!",
          "Ative as notificações aqui no Twitter para não perder nenhuma atualização da nossa campanha. Faltam 47 dias para recuperarmos o Brasil da esperança! #EquipeLula",
          "Muitas famílias hoje enfrentam a fome e o desemprego, mas queria trazer uma mensagem de esperança. Não vamos perder a fé no nosso país, em sermos capazes de fazer um Brasil melhor. Feliz dia dos pais, com muito carinho e amor.",
          "Já em Belo Horizonte para o primeiro comício da nossa campanha, com @alexandrekalil, nosso próximo governador de Minas Gerais! #BrasilDaEsperança\n\n📸: @ricardostuckert https://t.co/sNITPc62ej",
          "- Conselho de quem também apanha bastante: siga firme na sua missão e que se exploda os que querem o teu mal! Que eles virem combustível para que você e seus companheiros cresçam ainda mais! Vocês têm a total confianca do povo brasileiro e é isso que importa. Um forte abraço! 👍",
          "COMEÇOU! Entrevista ao vivo para o SBT Brasil. Assista e compartilhe #CiroNoSBT: https://t.co/Z6EjnVETjF https://t.co/LHXjzU33GE",
          "Onde minha voz não puder ser ouvida, eu falarei pela voz de vocês. Vamos ocupar as ruas e redes. Somos uma ideia, e ninguém pode aprisionar uma ideia. Eles mataram muitas flores, mas não impedirão a primavera. Estamos vivos e fortes. Com amor venceremos o ódio. #BrasilDaEsperança",
          "Pessoal, só pra lembrar que hoje temos encontro marcado às 22h na @tvcultura! \n\nJá que os fujões não vão aos debates, toda oportunidade é preciosa pra mostrar o que está acontecendo com o Brasil e como resolver essa crise. \n\nBora subir a hashtag: #CiroNoRodaViva https://t.co/jc8QS0SsDq",
          "Ação! À meia-noite começa nossa campanha. O Brasil vai voltar a ser um país de esperança! 🇧🇷 #EquipeLula https://t.co/kWiSWxkpG9",
          "Amanhã é dia dos pais. É triste saber que muitos pais não vão ter um feijão para colocar no fogo. Eu quero dar uma mensagem de esperança, não podemos desistir de construir um dia melhor para o Brasil. Temos que acreditar que pode ser melhor. Com muita fraternidade e muito amor.",
          "Hoje convido vocês pro início oficial da nossa campanha. É hora de mostrar que o Brasil tem solução e que aqui tem projeto, experiência, ficha limpa e uma alternativa viável pra mudar o país. Vamos juntos? 🌹 #CiroPresidente12 \n\nhttps://t.co/cNFB7gBEqa",
          "- Em instantes, às 10h30, estarei ao vivo com Rica Perrone.\n- Mais tarde, às 15h, participarei da Marcha pra Jesus aqui no nosso Rio de Janeiro. https://t.co/wcy4ChRYL2",
          "- No fim das contas, as divergências pouca diferença fazem na hora de nossa partida para perto de Deus. O que fica são as nossas obras, e Jô Soares deixa para o Brasil um exemplo de postura, elegância e bom humor, e, por isso, tem o meu respeito.",
          null
         ],
         "marker": {
          "opacity": 0.5,
          "size": 5
         },
         "mode": "markers+text",
         "name": "1_brasil_que_esperança",
         "text": [
          "",
          "",
          "",
          "",
          "",
          "",
          "",
          "",
          "",
          "",
          "",
          "",
          "",
          "",
          "",
          "",
          "",
          "",
          "",
          "",
          "",
          "",
          "",
          "",
          "",
          "",
          "",
          "",
          "",
          "",
          "",
          "",
          "",
          "",
          "",
          "",
          "",
          "",
          "",
          "",
          "",
          "",
          "",
          "",
          "",
          "",
          "",
          "",
          "",
          "",
          "",
          "1_brasil_que_esperança"
         ],
         "textfont": {
          "size": 12
         },
         "type": "scattergl",
         "x": [
          0.9613553881645203,
          0.9975585341453552,
          2.3538284301757812,
          0.7585510015487671,
          1.8395445346832275,
          1.8374098539352417,
          1.9914369583129883,
          1.1068432331085205,
          1.0272040367126465,
          1.4832202196121216,
          1.2828960418701172,
          1.8056201934814453,
          0.9131026864051819,
          0.28208300471305847,
          0.32817381620407104,
          1.3932545185089111,
          0.4325565695762634,
          1.6331478357315063,
          0.7502086162567139,
          1.0003383159637451,
          0.3163636326789856,
          1.3048583269119263,
          0.9014320373535156,
          2.2738964557647705,
          0.7494679689407349,
          0.8697894215583801,
          1.169512391090393,
          0.7805914878845215,
          0.9173571467399597,
          1.3670268058776855,
          1.8194854259490967,
          1.53264582157135,
          1.0974528789520264,
          1.0698693990707397,
          0.9064163565635681,
          1.9853771924972534,
          0.728814423084259,
          1.0746736526489258,
          0.6687808036804199,
          1.2800861597061157,
          0.4024870693683624,
          1.6499578952789307,
          0.8316526412963867,
          1.140061616897583,
          1.0032389163970947,
          1.4100620746612549,
          1.1974836587905884,
          0.3812124729156494,
          1.382611870765686,
          1.7903220653533936,
          0.5925288200378418,
          1.152428388595581
         ],
         "y": [
          2.169264316558838,
          0.5414807796478271,
          2.703334331512451,
          1.3719139099121094,
          0.4011903405189514,
          0.3139590620994568,
          0.6344900131225586,
          1.9119439125061035,
          1.694771647453308,
          1.5654759407043457,
          0.9025529623031616,
          0.5272661447525024,
          0.41062405705451965,
          1.1907957792282104,
          1.3089994192123413,
          0.7955411672592163,
          1.5168440341949463,
          1.8906254768371582,
          1.9516555070877075,
          0.4183718264102936,
          1.3716683387756348,
          2.1539902687072754,
          0.7729668021202087,
          0.5345935821533203,
          0.8451312780380249,
          1.8395253419876099,
          1.781927466392517,
          0.7313131093978882,
          0.9964438676834106,
          0.7323826551437378,
          0.4052942097187042,
          1.048297643661499,
          1.845516324043274,
          1.9898537397384644,
          0.4063805937767029,
          0.8585630655288696,
          0.624903678894043,
          1.7350084781646729,
          0.729103147983551,
          1.2834395170211792,
          1.2948588132858276,
          0.7888668179512024,
          1.8402835130691528,
          0.6441674828529358,
          1.1194285154342651,
          0.9234200716018677,
          1.3762037754058838,
          1.3273309469223022,
          1.7497920989990234,
          0.6918206214904785,
          1.8282383680343628,
          1.1861140727996826
         ]
        },
        {
         "hoverinfo": "text",
         "hovertext": [
          "- Entre os planos aplicados pela atual gestão também está a carteira de desestatização classificada como a maior do mundo.",
          "🤔 O QUE É? O Programa de Renda Mínima ‘Eduardo Suplicy’ será o maior programa de transferência de renda da nossa história. Ele vai garantir uma renda de R$ 1 mil, em média, para 24,2 milhões de famílias carentes.",
          "CHEGA DE CHANTAGEM E ESTELIONATO ELEITORAL! AQUI, O DIREITO É PRA SEMPRE. Conheça o Programa de Renda Mínima Eduardo Suplicy – o maior programa de transferência de renda da nossa história e que será um direito constitucional, garantido seja qual for o governo! #CiroPresidente12 https://t.co/cqkHWPKmoG",
          "- Longe do PT,  BNDES que patrocinava obras em ditaduras socialistas deixando de fora investimentos no 🇧🇷 além de outras movimentações sombrias, hoje o órgão recebeu a premiação de “transformação bancária” da América Latina do Euromoney Awards for Excellence em 2022.",
          "2) um regime de repartição transitório – com um teto que vai valer pra todo mundo que entrar no sistema;\n \nE 3) um regime de capitalização público controlado por um coletivo de trabalhadores com contribuição patronal.",
          "- Também, a ampliação do Teto do financiamento para o curso de medicina foi aumentado em mais de 20%, em 2022, sendo mais uma novidade aos estudantes da área de saúde.\n \n- Implemento de 22,8% passando do atual valor, R$ 42.983,70, para R$ 52.805,66.",
          "- Curso de formação de medicina ganha novo estímulo: https://t.co/9t4ZKK6eOf",
          "Aqui tem projeto com início, meio e fim! Veja detalhes do nosso Programa de Renda Mínima – o que é, de onde vem o dinheiro e como será sua estruturação com base no tamanho e formação das famílias. E veja também a análise dos comentaristas da @GloboNews. https://t.co/ycn96SfLuV",
          "No crédito. Com um programa de reestruturação de dívidas casado com um projeto de educação financeira. Ainda ficou alguma dúvida? Pois fique ligado porque vamos falar bastante sobre isso hoje aqui nas redes.",
          "- Graças à política constante de diminuição de impostos do Governo Federal iniciada em 2019 e redução do ICMS dos combustíveis, energia elétrica, telefonia celular e internet, mesmo contra a vontade do PT e de seus parlamentares.",
          "- Oferta de bolsas do Prouni para Medicina é 40% maior do que em 2021.\n\n- Esse número só é possível devido as alterações no Programa pela nova lei sancionada pelo Governo Federal. https://t.co/sTl5oeu3kW",
          "Ciro dá mais detalhes sobre a implantação do Programa de Renda Mínima Eduardo Suplicy, que vai distribuir 1 mil ao mês às famílias mais carentes. #CiroNoRodaViva https://t.co/Xli6wcdilq",
          "Estamos propondo um novo sistema previdenciário que tem 3 pernas:\n\n1) o programa de Renda Mínima – que vai entrar como elemento de seguridade social;",
          "O Bolsa família não era só para distribuir dinheiro. Era para cuidar das pessoas. Para a criança ir na escola, a mulher poder cuidar da sua saúde.",
          "- Recentemente priorizando o saneamento básico e infraestrutura, o BNDES anunciou também pareceria com o Sebrae para criar um fundo garantidor voltado para empreendedores individuais, além de micros e pequenos empresários.",
          "Não podemos deixar micro e pequenos empresários fecharem seus negócios por dívidas que contraíram durante a pandemia. O BNDES precisa ajudar os pequenos. O futuro pode até esperar algo novo, mas não podemos deixar que vocês morram, vamos levar à sério a renegociação de dívidas.",
          null
         ],
         "marker": {
          "opacity": 0.5,
          "size": 5
         },
         "mode": "markers+text",
         "name": "2_programa_de_renda",
         "text": [
          "",
          "",
          "",
          "",
          "",
          "",
          "",
          "",
          "",
          "",
          "",
          "",
          "",
          "",
          "",
          "",
          "2_programa_de_renda"
         ],
         "textfont": {
          "size": 12
         },
         "type": "scattergl",
         "x": [
          0.5917242169380188,
          0.575605034828186,
          0.4716797173023224,
          0.9339205622673035,
          0.5219759345054626,
          0.42823442816734314,
          0.3779718279838562,
          0.4355393648147583,
          0.36580005288124084,
          0.9220882058143616,
          0.5179215669631958,
          0.6659656763076782,
          0.468923419713974,
          0.7607676982879639,
          0.8775764107704163,
          0.9129676818847656,
          0.6142914295196533
         ],
         "y": [
          5.078347682952881,
          5.430039882659912,
          5.249783515930176,
          5.003482818603516,
          5.087148189544678,
          5.646490097045898,
          5.762177467346191,
          5.446549892425537,
          5.516280174255371,
          5.097715377807617,
          5.659143447875977,
          5.534048080444336,
          5.449803829193115,
          5.276429176330566,
          4.967804908752441,
          4.826669216156006,
          5.314494609832764
         ]
        },
        {
         "hoverinfo": "text",
         "hovertext": [
          "- Montes Claros / Minas Gerais (05/08/2022) https://t.co/QOmuY4XLIR",
          "- Agosto de 2022, Barragem da Transposição do Rio São Francisco - Eixo Norte em Jati/Ceará.\n- Feliz Dia dos Pais a todos! https://t.co/XfyioY20jI",
          "RT @verdadenarede: Damares condenada! No final da noite desta quarta (17), a justiça eleitoral concedeu liminar contra Damares Alves por fa…",
          "- Hoje, em Recife / Pernambuco (06/08/2022). 🇧🇷 https://t.co/h6fA2MpSvr",
          "GIRO DO CIRO - CIRO FAZ BALANÇO DE ENCONTRO NA ACSP | 18/08/2022\n https://t.co/V6yi134Pa1",
          "RT @AndreJanonesAdv: AGORA É OFICIAL! AUXÍLIO EMERGENCIAL DE R$ 600,00 SE LULA FOR ELEITO, MÃES SOLTEIRAS E TODOS DO CADUNICO TAMBÉM! \n\nBol…",
          "- Montes Claros / Minas Gerais (05/08/2022) https://t.co/tYUmZOzc20",
          "- A verdade sobre a transposição do Rio São Francisco. https://t.co/Pumokvzc51",
          "- A Segunda etapa da Ferrovia de Integração Oeste-Leste (FIOL), que conecta as cidades de Caetité/BA a Barreiras/BA, alcançou 159 km de trilhos lançados em grade. https://t.co/zuP9rrhvpX",
          "GIRO DO CIRO - LANÇAMENTO OFICIAL DA CAMPANHA #CiroPresidente | 16/08/2022 https://t.co/9IIFaPJcc3",
          "GIRO DO CIRO - CAMINHADA EM SANTANA DO PARNAÍBA/SP | 17/08/2022 https://t.co/fpAPrWhIeu",
          "- São Power Rangers. https://t.co/NrvZpKjdkr https://t.co/DBnYjeLUMZ",
          "GIRO DO CIRO - PALESTRA NA ASSOCIAÇÃO COMERCIAL DE SÃO PAULO | 18/08/2022 https://t.co/G3BIoQgoBV",
          "- Visita ao Parque Tecnológico de São José dos Campos/SP e cidade. (18/08/2022) https://t.co/cMPQPgQr8X",
          "- Juiz de Fora / Minas Gerais (16/08/2022)\n- Deus, Pátria, Família e Liberdade!!! https://t.co/DDpAF1s0Ry",
          null
         ],
         "marker": {
          "opacity": 0.5,
          "size": 5
         },
         "mode": "markers+text",
         "name": "3_08_2022_giro",
         "text": [
          "",
          "",
          "",
          "",
          "",
          "",
          "",
          "",
          "",
          "",
          "",
          "",
          "",
          "",
          "",
          "3_08_2022_giro"
         ],
         "textfont": {
          "size": 12
         },
         "type": "scattergl",
         "x": [
          1.162737488746643,
          1.3853909969329834,
          1.4431957006454468,
          1.3155920505523682,
          1.4200636148452759,
          1.3546497821807861,
          1.2348748445510864,
          1.2258386611938477,
          1.1878960132598877,
          1.5101988315582275,
          1.2777067422866821,
          1.3066824674606323,
          1.2479722499847412,
          1.2055320739746094,
          1.255119800567627,
          1.3022301197052002
         ],
         "y": [
          -0.6220654845237732,
          -1.0467393398284912,
          -0.286708801984787,
          -0.6023754477500916,
          -0.6932583451271057,
          -0.6365939974784851,
          -0.619207501411438,
          -0.9474853277206421,
          -1.0656895637512207,
          -0.5543341040611267,
          -0.5962534546852112,
          -0.3154684603214264,
          -0.7163364291191101,
          -0.8122398257255554,
          -0.46799930930137634,
          -0.6655170321464539
         ]
        },
        {
         "hoverinfo": "text",
         "hovertext": [
          "- O Índice de Preços ao Consumidor Amplo, o IPCA, apresentou uma retração de 0,68% no mês de julho, segundo dados divulgados nesta semana.\n\n- É a menor taxa mensal já registrada desde o início da série histórica em 1980 - Instituto Brasileiro de Geografia e Estatística (IBGE).",
          "- Sem guerra e pandemia, o PT entregou o país à pior recessão de nossa história. Em meu governo, mesmo com pandemia e guerra, benefícios sociais foram ampliados, milhões de empregos foram gerados e a economia voltou a crescer. Eles quebraram o Brasil. Nós quebramos paradigmas.",
          "- Após intensa negociação com o Paraguai, foi aprovada a redução de 8,2% da tarifa utilizada na comercialização da energia de Itaipu Binacional, a primeira em quase 15 anos, que reduzirá custos de energia, produtos e serviços, beneficiando a região e, consequentemente, o Brasil!",
          "- Após registrarmos a maior queda de preços em quase MEIO SÉCULO no país, os que me atacavam por conta da inflação gerada pelo fecha tudo e pela guerra agora alertam para o risco de baixarmos o índice. Não adianta, se zerássemos os assaltos, lamentariam o desemprego dos bandidos. https://t.co/c7EVUACZgG",
          "A indústria de transformação está abaixo de 10% do PIB e, só nos últimos anos, fechamos aproximadamente 38 mil indústrias, 400 mil pontos de comércio e 1.2 milhões de empregos com carteira assinada.",
          "Hoje 5 famílias acumulam a renda dos 100 milhões de brasileiros mais pobres. Uma economia como essa não tem saída, não tem viabilidade.",
          "- Em 4 anos de Bolsonaro, as estatais dão lucro, as obras abandonadas são concluídas e temos o menor número de homicídios em uma década. Nossa economia voltou a crescer, o desemprego é o menor desde o desastre petista e o número de brasileiros trabalhando bateu todos os recordes.",
          "O Brasil é o país que mais destruiu indústrias no capitalismo global. Em 1980, nossa indústria nacional era 6x maior do que a chinesa e representava 34% do PIB. Já hoje…",
          "- A partir de amanhã, 16/08, a Petrobras reduzirá em R$0,18 o preço médio de venda de gasolina para as distribuidoras, passando de R$3,71 para R$3,53 o litro.\n\n- É a terceira redução anunciada nas últimas semanas. Brevemente teremos uma das \"gasolinas\" mais baratas do mundo.",
          "Você tem ideia de quanto o governo pagou de juros pra banco e pras famílias mais abastadas do Brasil em um ano? R$500 bilhões! Quase o dobro do que gastou com o SUS e com Educação. #CiroNoRodaViva",
          "- A redução representa queda de R$ 0,22 por litro.\n- O presente mês acumula redução de R$ 0,42 por litro de diesel.\n- Já estamos entre os países com o menor preço médio de combustíveis do mundo, no cenário atual.",
          "- Antes de nossa chegada, o Brasil era marcado pelos altos impostos. Não se ouvia falar em redução, porque governos sempre repassaram a conta de suas políticas e práticas nefastas para o povo. Diziam que menos impostos era menos arrecadação, o que provamos ser uma grande mentira.",
          "Hoje vendemos metade dos carros que vendíamos em 2010, estamos licenciando metade dos carros que tínhamos em 2010. Tudo caiu pela metade. A única coisa que não diminuiu foi a grosseria e o desrespeito do atual presidente da República com os trabalhadores.",
          "Entre 2010 e 2020, o Brasil cresceu zero pela primeira vez em 120 anos. A população está empobrecendo de forma generalizada, sendo que, nesse mesmo período, o país patrocinou a mais perversa concentração de renda do mundo.",
          "- Hoje, aconteceu um ato muito importante em prol do Brasil e de grande relevância para o povo brasileiro: a Petrobrás reduziu, mais uma vez, o preço do diesel.",
          null
         ],
         "marker": {
          "opacity": 0.5,
          "size": 5
         },
         "mode": "markers+text",
         "name": "4_de_em_redução",
         "text": [
          "",
          "",
          "",
          "",
          "",
          "",
          "",
          "",
          "",
          "",
          "",
          "",
          "",
          "",
          "",
          "4_de_em_redução"
         ],
         "textfont": {
          "size": 12
         },
         "type": "scattergl",
         "x": [
          1.745283842086792,
          1.6917352676391602,
          2.0817360877990723,
          1.8470479249954224,
          1.5878384113311768,
          1.6339629888534546,
          1.7345647811889648,
          1.6727375984191895,
          2.1004486083984375,
          1.370963215827942,
          1.9349985122680664,
          1.4773354530334473,
          1.78661048412323,
          1.6655360460281372,
          2.124998092651367,
          1.7637197971343994
         ],
         "y": [
          5.476625442504883,
          5.784376621246338,
          5.3155317306518555,
          5.671504020690918,
          5.922142505645752,
          5.070287227630615,
          5.759353160858154,
          5.669806957244873,
          5.383483409881592,
          5.387966156005859,
          5.528539657592773,
          5.477393627166748,
          5.72308349609375,
          5.330620765686035,
          5.2498860359191895,
          5.516706466674805
         ]
        },
        {
         "hoverinfo": "text",
         "hovertext": [
          "Lula fala com a Rádio Super, de Minas Gerais. Amanhã Grande Comício na Praça da Estação em Belo Horizonte https://t.co/50QjwSQGAO",
          "Lula dá início a campanha em porta de fábrica no ABC https://t.co/xrEMsi6Jfs",
          "Lula e Haddad em aula aberta na USP https://t.co/FFxZsk9ir3",
          "Beagá, semana que vem tem Lula na cidade! Já registrou sua presença? Preencha o formulário no link pra não perder nenhuma novidade! 🦑 #EquipeLula https://t.co/JuZ3nNIres https://t.co/76PMWlbGeP",
          "Que tal ouvir o Lula quando quiser no seu Spotify? Hoje lançamos o primeiro programa do canal do Lula na plataforma. A programação terá podcasts, músicas, playlists e muita história boa pra escutar e compartilhar 🎙️🎧 #EquipeLula https://t.co/hoUlOreGKh https://t.co/80pX14ISd7",
          "Bom dia! Logo mais, 8h, tem entrevista com Lula ao vivo! Acompanhe nas redes sociais. #EquipeLula https://t.co/TRcMDLQR4G",
          "Ontem Lula recebeu a visita de representantes do Partido da Social-Democracia Alemão para discutir os principais desafios ambientais, as parcerias entre os dois países e as estratégias comerciais entre as organizações do Mercosul e União Europeia. #EquipeLula \n📷:@ricardostuckert https://t.co/tfx0RnytA3",
          "Encontro de Lula com empresários de pequenas e médias empresas https://t.co/TQNJZrfi6P",
          "Lula teve hoje sua 26ª vitória na justiça. O ex-presidente obteve vitórias em todos os processos movidos contra ele. Sextou! #LulaInocente #EquipeLula https://t.co/aApKvnbxNk https://t.co/To2yx2gDIH",
          "Lula e André Janones com uma mensagem importante. #Compartilhem #VamosJuntosPeloBrasil https://t.co/zc31FDphfF",
          null
         ],
         "marker": {
          "opacity": 0.5,
          "size": 5
         },
         "mode": "markers+text",
         "name": "5_lula_https_co",
         "text": [
          "",
          "",
          "",
          "",
          "",
          "",
          "",
          "",
          "",
          "",
          "5_lula_https_co"
         ],
         "textfont": {
          "size": 12
         },
         "type": "scattergl",
         "x": [
          2.7494876384735107,
          2.8922247886657715,
          3.138969898223877,
          2.791626453399658,
          2.9289488792419434,
          2.8913016319274902,
          2.762462615966797,
          2.8869636058807373,
          2.836526393890381,
          2.7826688289642334,
          2.8661179542541504
         ],
         "y": [
          -1.1503771543502808,
          -1.276863694190979,
          -1.1329447031021118,
          -1.1718528270721436,
          -1.3101563453674316,
          -1.2583376169204712,
          -1.1363441944122314,
          -1.2776869535446167,
          -1.2257182598114014,
          -1.1478664875030518,
          -1.2088148593902588
         ]
        },
        {
         "hoverinfo": "text",
         "hovertext": [
          "O consumo das famílias – nosso principal impulso pra reativar a economia – depende de três variáveis: emprego, renda e crédito. Os dois primeiros vêm depois que o país cresce. Então, onde a política pode agir pra melhorar a vida brasileira a curto prazo? 🤔👇",
          "- Fora as ações já realizados desde 2019, privatizações e concessões devem atrair R$ 3 trilhões em 10 anos.\n\n- Brasil deve receber R$ 203 bilhões de investimentos no próximo ano com projetos que estão sendo implementados.\n\n. Infraestrutura, empregos e desenvolvimento.",
          "1️⃣ Se as famílias aumentam o seu consumo, o comércio vende mais, contrata mais gente e encomenda mais da indústria.\n\n2️⃣ Se a indústria recebe mais encomendas, contrata mais gente e compra mais matéria-prima.",
          "- O assentamento Salubrinho, em Andaraí, na Bahia, se programa para colher 100 ton de abacaxi no biênio de 2022 e 2023. A safra inicia este mês. Dentre as 40 famílias beneficiárias da reforma agrária nessa área, 13 se dedicam ao cultivo da fruta, que leva 14 meses para produzir.",
          "- Com 838,4 hectares de terras, o Salubrinho também produz aipim, feijão, laranja, limão e manga. Atualmente, ocorre a introdução do cultivo do maracujá no assentamento, que produz frutos quatro vezes ao ano e, com isso, tem potencial de aumentar a rentabilidade das famílias.",
          "- Acertou, Bruno! O esgoto só aumenta... graças ao Marco do Saneamento que sancionamos em 2020, que elevou os investimentos de R$ 4,5 para 50 BILHÕES/ano e que finalmente tornará realidade a universalização do saneamento básico no Brasil. Fico feliz que tenha reconhecido isso. https://t.co/riB2tqdRBW",
          "Produção de trigo no Brasil:\n\n- Safra 2020: 6,2 milhões de ton/ano.\n- Safra 2021: 7,8 milhões de ton/ano.\n- Safra 2022: 9,2 milhões de ton/ano.\n\nConsumo nacional: 12,8 mi/ton/ano. Em 2025 o Brasil deverá ser autossuficiente em trigo.\n\nParabéns aos triticultores e à EMBRAPA.",
          "- São mais de 370 mil títulos entregues à famílias de assentados, garantindo além da posse, políticas governamentais no incremento da produção do agricultor familiar. O Governo Federal faz história e liberta o Brasileiro das mãos de facções patrocinadas por partidos de esquerda.",
          "- Só os investimentos já garantidos nos últimos dois anos beneficiam cerca de 20 milhões de pessoas em todo o país. Além de qualidade de vida e dignidade para os brasileiros, o Marco do Saneamento também deverá gerar economia de R$ 1,45 BILHÃO nos custos anuais com saúde.",
          "- Saneamento Básico: em mais uma etapa desde 2019, destinados mais recursos para continuidade de obras de esgotamento sanitário, abastecimento de água e manejo de águas pluviais nos estados do Ceará, Goiás, Mato Grosso, Mato Grosso do Sul, Paraná, Rondônia e Rio Grande do Sul.",
          null
         ],
         "marker": {
          "opacity": 0.5,
          "size": 5
         },
         "mode": "markers+text",
         "name": "6_ano_ton_safra",
         "text": [
          "",
          "",
          "",
          "",
          "",
          "",
          "",
          "",
          "",
          "",
          "6_ano_ton_safra"
         ],
         "textfont": {
          "size": 12
         },
         "type": "scattergl",
         "x": [
          1.1648799180984497,
          1.1826298236846924,
          1.0456970930099487,
          1.2809427976608276,
          1.2981832027435303,
          1.0601235628128052,
          1.3195303678512573,
          1.3760788440704346,
          1.1039737462997437,
          0.7233495116233826,
          1.15553879737854
         ],
         "y": [
          4.819845676422119,
          5.289072036743164,
          4.761600494384766,
          5.13756799697876,
          5.137180805206299,
          5.131584167480469,
          5.092941761016846,
          5.164761066436768,
          5.436095714569092,
          4.490836143493652,
          5.046148777008057
         ]
        },
        {
         "hoverinfo": "text",
         "hovertext": [
          "Cansei de fazer atos que a gente não podia falar a palavra voto, não podia pedir voto. E à meia-noite do primeiro dia de campanha eu já acordei pra pedir voto pra @JanjaLula. E ela disse que vai votar em mim, então eu ganhei meu primeiro voto.",
          "Dizer que eu não votei em 2018 é picaretagem absoluta. O que eu não fiz foi fazer campanha e subir em palanque com corrupto e com quem desastrou a economia. Mas meu voto de cidadão eu dei. É só botar no Google.",
          "Nós vamos disputar as eleições para cuidar do povo. Eu comi pão pela primeira vez com 7 anos. Meu café da manhã era uma cuia de farinha com café preto. 72 anos depois temos mais uma vez crianças que não podem tomar um bom café da manhã.",
          "Resolvi fazer o lançamento da candidatura na porta de fábrica no ABC porque foi aqui que tudo aconteceu na minha vida. Foi aqui que eu aprendi a ser gente e que eu tomei consciência política.",
          "Temos que construir um clima de paz e cordialidade. Depois das eleições quem ganha governa, quem perde se prepara para a próxima eleição. Você tem que conversar com quem foi eleito. Eu já perdi e já ganhei, e a pessoa tem que saber ganhar e perder com humildade.",
          "Demos início a nossa campanha de rua em Guaianases, periferia de SP! E já quero abrir o dia pedindo seu voto e oportunidade de mudar – porque não dá pra repetir as mesmas coisas e esperar resultados diferentes. https://t.co/IrMhmFsJXs",
          "Nós nordestinos, quando a gente se perde, a gente fala que tá ariado. Minha mãe falava isso. E eu to ariado, porque estamos há 48 dias das eleições mais importantes do país. Você liga a televisão e só se fala em eleição, mas eu ainda não posso falar de eleição.",
          "Eu não posso falar de eleição aqui na USP, mas eu sei que nos corredores tá todo o mundo falando de eleição. E se vocês querem falar sobre candidaturas, vão ter que ir no Vale do Anhangabaú, sábado às 8h. https://t.co/85gf1HXiKn",
          "Meus amigos e minhas amigas. Nossa campanha rumo à vitória começa oficialmente agora. Dizem que basta um passo para não estarmos mais no mesmo lugar. Já caminhamos muito, e se chegamos até aqui foi porque não conseguiram tirar de nós a esperança. Agora é hora de irmos além. https://t.co/PMU6uCyjjb",
          null
         ],
         "marker": {
          "opacity": 0.5,
          "size": 5
         },
         "mode": "markers+text",
         "name": "7_eu_voto_eleição",
         "text": [
          "",
          "",
          "",
          "",
          "",
          "",
          "",
          "",
          "",
          "7_eu_voto_eleição"
         ],
         "textfont": {
          "size": 12
         },
         "type": "scattergl",
         "x": [
          2.492790699005127,
          2.502908229827881,
          2.5194523334503174,
          2.171687364578247,
          2.472046136856079,
          2.3330910205841064,
          2.5214953422546387,
          2.501070976257324,
          2.384347438812256,
          2.4332098960876465
         ],
         "y": [
          1.1827312707901,
          1.310463309288025,
          1.336578369140625,
          1.6354295015335083,
          1.2069603204727173,
          1.086793303489685,
          1.1879661083221436,
          1.1056574583053589,
          1.1338777542114258,
          1.2429397106170654
         ]
        },
        {
         "hoverinfo": "text",
         "hovertext": [
          "Alguém disse TCHUTCHUCA DO CENTRÃO? Me ajudem aqui porque a agenda tá corrida: vocês tão falando de Bolsonaro ou de Lula? 👀 /ADM",
          "Bolsonaro não caiu de Marte, minha gente. Ele foi eleito por um protesto magoado da população brasileira pela crise econômica mais grave da nossa história e pela corrupção generalizada – que Lula e o PT promoveram.",
          "Pare pra pensar e me responda: se Bolsonaro ou Lula vencerem as eleições, você acha que o Brasil vai amanhecer mais ou menos dividido e suscetível aos ódios, paixões irracionais e violência política?",
          "Bolsonaro mente para os evangélicos. Ele é um fariseu, tenta manipular a fé de homens e mulheres evangélicas que vão à igreja pela sua religiosidade. E conta mentiras todos os dias. Mas quero que ele me ouça: não haverá mentiras ou fake news que nos impeçam de mudar o Brasil.",
          "O Bolsonaro colocou o auxílio emergencial na lei até dezembro. Ele percebeu a bobagem e agora está dizendo que vai continuar. Agora se ele quisesse que continuasse ele fazia sem colocar o fim em dezembro.",
          "Bolsonaro estava muito incomodado ontem no TSE, porque ouviu tantas vezes a palavra democracia e críticas às mentiras. Era visível o desconforto. E eu compreendo isso, porque ele não gosta de democracia, e ontem foi um ato em defesa do Estado Democrático no Brasil.",
          "Eu não sou candidato porque é fácil. Eu sou candidato porque é necessário. O Brasil não aguenta mais isso. Será que é razoável que a resposta pra tudo que Bolsonaro representa seja voltar ao que deu causa a ele?",
          "Conversando com @caiofabiovvtv, perguntei qual seria o papel dos cristãos no período eleitoral e ele foi categórico: nós, cristãos, precisamos cultivar as pautas de Jesus. Veja quais são e porquê Bolsonaro não representa nenhuma delas. https://t.co/tehSkQC6Rv",
          null
         ],
         "marker": {
          "opacity": 0.5,
          "size": 5
         },
         "mode": "markers+text",
         "name": "8_ele_bolsonaro_porque",
         "text": [
          "",
          "",
          "",
          "",
          "",
          "",
          "",
          "",
          "8_ele_bolsonaro_porque"
         ],
         "textfont": {
          "size": 12
         },
         "type": "scattergl",
         "x": [
          3.4960949420928955,
          3.4418797492980957,
          3.532104253768921,
          3.2798542976379395,
          3.233818531036377,
          3.2358076572418213,
          3.4148361682891846,
          3.459826707839966,
          3.386777877807617
         ],
         "y": [
          2.892612934112549,
          2.976719856262207,
          2.91227388381958,
          2.926565647125244,
          3.040942668914795,
          3.1367111206054688,
          2.954700469970703,
          3.2320001125335693,
          3.009065866470337
         ]
        },
        {
         "hoverinfo": "text",
         "hovertext": [
          "Vinícius Torres Freire questionou Ciro sobre de onde virão os recursos para viabilizar os seus projetos. Veja o que Ciro respondeu. #CiroNoRodaViva https://t.co/zS9Z9AIoJk",
          "O que vai ser colocado no lugar da autonomia do Banco Central? Aqui, Ciro responde a essa pergunta de @veramagalhaes. #CiroNoRodaViva https://t.co/i4cPrMu3Yk",
          "Ciro explica porque vai desdolarizar o preço dos combustíveis e retomar o controle do Estado sobre a Eletrobras. #CiroNoRodaViva https://t.co/yU12T5uFMb",
          "Veja como Ciro responde à primeira pergunta do @rodaviva sobre a viabilidade de sua candidatura. #CiroNoRodaViva https://t.co/Y4h9Fniy9f",
          "Relação amistosa com os Estados Unidos, tudo bem. Vassalagem, não. É assim que Ciro explica a relação que terá com os EUA. #CiroNoRodaViva https://t.co/3A4TSAGm1r",
          "Mais uma vez confirmado: onde Ciro vai, o povo acompanha. A rota do 12 é a rota da vitória! #CiroPresidente12 https://t.co/hvXlxykuFG https://t.co/HXoRPqeowG",
          "Ciro responde sobre a valorização de mulheres e negros num governo seu e sobre a ameaça de golpe que paira sobre o país. #CiroNoRodaViva https://t.co/N6YcUbXlsc",
          null
         ],
         "marker": {
          "opacity": 0.5,
          "size": 5
         },
         "mode": "markers+text",
         "name": "9_sobre_ciro_cironorodaviva",
         "text": [
          "",
          "",
          "",
          "",
          "",
          "",
          "",
          "9_sobre_ciro_cironorodaviva"
         ],
         "textfont": {
          "size": 12
         },
         "type": "scattergl",
         "x": [
          1.9936118125915527,
          2.0050439834594727,
          2.11222243309021,
          2.0190608501434326,
          2.22808837890625,
          2.2831950187683105,
          2.065335512161255,
          2.1009366512298584
         ],
         "y": [
          -0.37947970628738403,
          -0.45339956879615784,
          -0.46367743611335754,
          -0.4316089451313019,
          -0.5025550127029419,
          -0.45010906457901,
          -0.4133937358856201,
          -0.4420318901538849
         ]
        },
        {
         "hoverinfo": "text",
         "hovertext": [
          "Questionar a fé alheia já é uma postura condenável. Mentir sobre ela, pior ainda. Tenho uma sólida formação religiosa, este é um dos meus maiores patrimônios, e nenhuma fake news vai roubar isso de mim. https://t.co/c4SPSw2ExK",
          "É uma forma muito grave de corrupção os políticos invadirem a religiosidade do povo. Onde se misturou política corrupta com religião, deu em genocídio. Se proteja, meu irmão! Você tem direito de adorar a Deus da forma que você desejar e o papel do seu presidente é respeitar.",
          "Quando o discurso da esquerda se assemelha ao fascismo da pior das direitas, o uso em vão do Nome de Deus já traz em si um forte castigo. O de mostrar que os dois lados – e seus dois líderes – estão se tornando iguais. https://t.co/kUMynaAAoU",
          "- É preciso estar atento. A partir de hoje, mais do que nunca, os que amam o vermelho passarão a usar verde e a amarelo, os que perseguiram e defenderam fechar igrejas se julgarão grandes cristãos, os que apoiam e louvam ditaduras socialistas se dirão defensores da democracia.",
          "Ninguém tem direito de explorar o jeito do povo adorar a Deus. Ontem vimos a presidente do PT postando: \"Bolsonaro usa Deus, Deus usa Lula\". Veja, agora estamos disputando quem é o autorreferido intérprete de Deus em uma disputa eleitoral. Isso é de uma violência absurda.",
          "Meu irmão cristão, não deixe que usem o nome de Deus em vão. Esse é um dos maiores pecados que existem! https://t.co/aLwG0uAqjl",
          "- Valeu pelo apoio e divulgação. E não se preocupe, por mais que você já tenha me associado a coisas abomináveis como nazismo, racismo e genocídio, não tenho nada contra você. Quem deve estar chateado é o Ladrão, por você ter se limpado com a toalha dele Kkkkkk. Forte abraço! 👍. https://t.co/Lw5NqrTsHC",
          null
         ],
         "marker": {
          "opacity": 0.5,
          "size": 5
         },
         "mode": "markers+text",
         "name": "10_deus_se_você",
         "text": [
          "",
          "",
          "",
          "",
          "",
          "",
          "",
          "10_deus_se_você"
         ],
         "textfont": {
          "size": 12
         },
         "type": "scattergl",
         "x": [
          3.340395927429199,
          3.3171396255493164,
          3.328603506088257,
          3.2217116355895996,
          3.4037790298461914,
          3.465928554534912,
          3.652920722961426,
          3.390068531036377
         ],
         "y": [
          3.7274394035339355,
          3.7432987689971924,
          3.728320598602295,
          3.77117657661438,
          3.6024532318115234,
          3.636242389678955,
          3.301165819168091,
          3.6442997455596924
         ]
        },
        {
         "hoverinfo": "text",
         "hovertext": [
          "- Acredito que a \"carta pela democracia\", que foi lida na micareta do PT, teve algumas de suas páginas rasgadas, principalmente nas partes em que deveriam repudiar o apoio, inclusive financeiro, a ditaduras como Cuba, Nicarágua e Venezuela, bem como o controle da mídia/internet.",
          "- Uma carta \"pela democracia\" que reúne artistas com saudades da lei rouanet, sindicatos com saudades do imposto sindical, bancos com saudades das taxas de transferência e defensores de ditaduras socialistas, todos com saudades do Ladrão, vale menos que esse pastelzinho de vento. https://t.co/axpsa8SaCL",
          "Assim como existe um pequeno grupo golpista nas Forças Armadas, há, também, um grupelho de amantes da ditadura no empresariado. E as autoridades têm que identificá-los e puni-los para que fiquem ainda menores. Sejam reduzidos a pó.\n\nhttps://t.co/oR2JDh9F9R",
          "- Do contrário, assinar uma carta pela democracia enquanto apoia regimes que a desprezam e atacam os seus pilares tem a mesma relevância que uma carta contra as drogas assinada pelo Zé Pequeno, ou um manifesto em defesa das mulheres assinado pelo Maníaco do Parque.",
          "- O aliado do descondenado na Nicarágua persegue cristãos. Na Venezuela, fecha jornais e deixa o país mais pobre que o Haiti. Em Cuba, prende opositores e proíbe cidadãos de deixarem o país. Outros aumentam impostos e liberam drogas. Mas há quem diga que ele não apoia nada disso.",
          "- Das duas uma, ou a esquerda repentinamente se arrependeu de suas ameaças crônicas à nossa democracia, como os esquemas de corrupção, os ataques à propriedade privada e a promoção de atos violentos, ou trata-se de uma jogada eleitoral desesperada. O golpe tá aí, cai quem quer. https://t.co/lm8oatJXPP",
          null
         ],
         "marker": {
          "opacity": 0.5,
          "size": 5
         },
         "mode": "markers+text",
         "name": "11_saudades_carta_democracia",
         "text": [
          "",
          "",
          "",
          "",
          "",
          "",
          "11_saudades_carta_democracia"
         ],
         "textfont": {
          "size": 12
         },
         "type": "scattergl",
         "x": [
          2.8873190879821777,
          2.828418254852295,
          2.6227409839630127,
          2.7766244411468506,
          2.8463284969329834,
          2.9398844242095947,
          2.8168859481811523
         ],
         "y": [
          3.805676221847534,
          3.9023919105529785,
          3.4466400146484375,
          3.9086270332336426,
          3.81597638130188,
          3.852231025695801,
          3.788590669631958
         ]
        },
        {
         "hoverinfo": "text",
         "hovertext": [
          "- Minha história de luta por leis mais duras para assassinos covardes, estupradores e demais crimes violentos fala por mim e mostra de que lado sempre estive. Enquanto viver, serão as vítimas, não seus algozes, que contarão com a minha eterna solidariedade.",
          "Quem nasce na terra que eu nasci, se não morresse até 1 ano de idade, ficava resistente. E eu to aqui pra dizer pra vocês que nós não temos tempo de desanimar. Acreditem em vocês, não desanimem da vida ou da luta.",
          "Eu não aceito essa história de que corrupção “é uma coisa normal”, que “é isso mesmo” e que “todo mundo é corrupto” porque eu não sou.",
          "- Aos que embarcaram nesse verdadeiro vale-tudo, podem bater em mim à vontade, só peço que tenham respeito pelo menos por aquelas pessoas que não podem se defender e que deveriam ser preservadas. O sofrimento dos familiares e amigos diante de uma perda não basta para vocês?",
          "É contra este sistema que botou a corrupção no centro da vida pública brasileira, que eu venho lutando com todas as minhas forças. E não vou desistir! https://t.co/MtmT1lHPmm",
          "Não dá pra me chamar de ladrão, porque não sou; não dá pra me chamar de incompetente, porque tenho uma história, então inventaram essa de destemperado. Mas na verdade sou um homem livre, não sou um carreirista, nunca fiz da política meio de vida, estou aqui para servir ao Brasil.",
          null
         ],
         "marker": {
          "opacity": 0.5,
          "size": 5
         },
         "mode": "markers+text",
         "name": "12_não_sou_que",
         "text": [
          "",
          "",
          "",
          "",
          "",
          "",
          "12_não_sou_que"
         ],
         "textfont": {
          "size": 12
         },
         "type": "scattergl",
         "x": [
          2.3353042602539062,
          2.1979548931121826,
          2.243244171142578,
          2.3907577991485596,
          2.150658369064331,
          2.102437734603882,
          2.2367262840270996
         ],
         "y": [
          3.40616774559021,
          3.478743076324463,
          3.879971504211426,
          3.350628614425659,
          4.198079586029053,
          3.912552833557129,
          3.704357147216797
         ]
        },
        {
         "hoverinfo": "text",
         "hovertext": [
          "Esse modelo de governança política só produz desastre e crise. Sem exceção. Aí me perguntam: como eu pretendo resolver isso? Pra começar, vou abrir mão da minha reeleição em troca das reformas que o Brasil precisa.",
          "Vou acabar com a molecagem política de humilhar nosso povo na véspera de cada eleição e criar o programa de Renda Mínima Eduardo Suplicy, que vai ter status constitucional e será um direito previdenciário dos brasileiros.",
          "Repito: eu começo meu governo anunciando o fim da reeleição porque considero um crime na vida política brasileira. Hoje, quando um presidente se elege, ele já está lá cuidando da reeleição. Então fica claro que o conchavo que essa turma faz com ladrão não é pra reformar o país.",
          "A democracia não pode se basear em ser um regime que chama o povo pra votar e pronto acabou. Democracia tem que ser entendida como um REGIME DE OPORTUNIDADES. E o Brasil tem fechado a porta de oportunidades para a maioria esmagadora do povo brasileiro.",
          "- O Brasil já tem sua carta pela democracia: a Constituição. Essa é a única carta que importa na garantia do estado democrático de direito, mas foi justamente ela que foi atacada pelos que agora promovem um texto paralelo que, para efeitos legais, vale menos que papel higiênico.",
          "Eu sou candidato do povo brasileiro, e quero tratar todas as religiões com respeito. Religião é para cuidar da fé, não para fazer política. Eu faço campanha eleitoral respeitando religião, e não uso o nome de Deus em vão.",
          null
         ],
         "marker": {
          "opacity": 0.5,
          "size": 5
         },
         "mode": "markers+text",
         "name": "13_reeleição_política_um",
         "text": [
          "",
          "",
          "",
          "",
          "",
          "",
          "13_reeleição_política_um"
         ],
         "textfont": {
          "size": 12
         },
         "type": "scattergl",
         "x": [
          2.319899320602417,
          2.3637025356292725,
          2.262816905975342,
          2.437933921813965,
          2.495488405227661,
          2.7546675205230713,
          2.439084768295288
         ],
         "y": [
          3.871436595916748,
          3.691053628921509,
          3.7491722106933594,
          3.966581344604492,
          3.8742668628692627,
          3.5244429111480713,
          3.7794923782348633
         ]
        },
        {
         "hoverinfo": "text",
         "hovertext": [
          "Bolsonaro tenta se aproveitar do PIX, mas na realidade ele nem sabia como o sistema funcionava na semana do seu lançamento. E agora até funcionários do Banco Central afirmam que ele mais atrapalhou do que ajudou. Compartilhe @verdadenarede! #EquipeLula https://t.co/RgBUhQfOPd https://t.co/KKEz0485cr",
          "- Thiago Gagliasso fala sobre quando conheceu Jair Bolsonaro. https://t.co/5nQ9TKwWMJ",
          "-Pronunciamento à nação (11/08/2022) PR Jair Bolsonaro. https://t.co/d8i69uus01",
          "E aí, gente boa, o que acharam do último react sobre a participação de Bolsonaro no @flowpdc? Pra quem não viu (ou pra quem quer rever) segue o link do #ReactDoCirão completo no Youtube: https://t.co/qbzudHvRDG e comente o que achou. 👀 https://t.co/Lxgzi5p9YT",
          "\"Honra a teu pai e a tua mãe, para que se prolonguem os teus dias na terra que o Senhor teu Deus te dá\" - Êxodo 20:12\n\n- Cada pai continua vivendo um pouco em seu filho.\n- Sr. Percy Geraldo Bolsonaro, meu pai e meu herói.\n- Feliz Dia dos Pais a todos! https://t.co/PttTAsCYi1",
          "- Live da semana / PR Jair Bolsonaro (18/08/2022). https://t.co/EnilvCvHjG",
          null
         ],
         "marker": {
          "opacity": 0.5,
          "size": 5
         },
         "mode": "markers+text",
         "name": "14_bolsonaro_jair_pai",
         "text": [
          "",
          "",
          "",
          "",
          "",
          "",
          "14_bolsonaro_jair_pai"
         ],
         "textfont": {
          "size": 12
         },
         "type": "scattergl",
         "x": [
          3.5669920444488525,
          3.543748378753662,
          3.540785074234009,
          3.605790376663208,
          3.5176496505737305,
          3.5286343097686768,
          3.550600051879883
         ],
         "y": [
          2.4564571380615234,
          2.413083553314209,
          2.4338650703430176,
          2.467705011367798,
          2.389862060546875,
          2.4447782039642334,
          2.4342918395996094
         ]
        },
        {
         "hoverinfo": "text",
         "hovertext": [
          "Um mandato tem 4 anos. Se a gente começa a deixar as coisas pra amanhã, a gente não faz mais. Por isso digo que a primeira coisa que quero fazer é reunir os governadores eleitos, unir o país para trabalharmos juntos e a gente começar a gerar empregos e reduzir a pobreza.",
          "Está nas nossas mãos a responsabilidade de dizer que país a gente quer. Que futuro a gente quer, que educação a gente quer. Que trabalho merecemos, que política de desenvolvimento merecemos. Se nós nos omitirmos, o Brasil irá repetir o último resultado.",
          "Eu e o @geraldoalckmin queremos cuidar desse país, gerar oportunidades. Vamos recriar alguns ministérios. O Ministério da Pequena e Média Empresa precisa funcionar.",
          "É isso que a gente necessita: desarmar. Precisamos reconciliar o país em torno de um projeto concreto que responda objetivamente os anseios do nosso povo.",
          "Uma das primeiras coisas que quero fazer é reconstruir o pacto federativo. E discutir com os estados as propostas de infraestrutura, para que a gente possa gerar condições melhores para a economia e salários para o povo.",
          "Sei como resolver isso, em curto prazo, melhorando a vida do povo e a economia do país. Você já conhece o nosso projeto que vai LIMPAR O NOME DE TODO MUNDO que tá no SPC/Serasa? Veja os detalhes dessa e de outras propostas no site oficial👇\nhttps://t.co/1DguBNIVUU",
          null
         ],
         "marker": {
          "opacity": 0.5,
          "size": 5
         },
         "mode": "markers+text",
         "name": "15_gente_que_gerar",
         "text": [
          "",
          "",
          "",
          "",
          "",
          "",
          "15_gente_que_gerar"
         ],
         "textfont": {
          "size": 12
         },
         "type": "scattergl",
         "x": [
          0.6226062178611755,
          0.9881234169006348,
          0.5424264669418335,
          0.7470365166664124,
          0.6254308819770813,
          0.6869344115257263,
          0.7020929455757141
         ],
         "y": [
          3.8103020191192627,
          3.7773008346557617,
          3.807504415512085,
          3.865469455718994,
          3.791287899017334,
          3.9769716262817383,
          3.838139295578003
         ]
        },
        {
         "hoverinfo": "text",
         "hovertext": [
          "- Mais um estímulo à prática ao esporte de jovens: Assinado o decreto que atualiza o rol das ENTIDADES ESPORTIVAS detentoras do direito de indicarem competições elegíveis para o recebimento da BOLSA-ATLETA NA CATEGORIA ESTUDANTIL! DECRETO 11.168/2022.",
          "- Agora, além do Comitê Olímpico do Brasil e do Comitê Paralímpico Brasileiro (CPB) a Confederação Brasileira de Desporto Escolar (CBDE) e a Confederação Brasileira de Desporto Universitário (CBDU) indicarão competições estudantis e universitárias para concessão do benefício.",
          "- Na contramão de outros governos, o estímulo à prática de esportes e sua profissionalização são destaque para o Brasil desde 2019, formando mais campeões internacionais e nacionais, cidadãos longe dos perigos de escolhas erradas e estímulo para novas carreiras direcionadas.",
          "Videogame não é apenas entretenimento, é também cultura, emprego e desenvolvimento tecnológico. Ontem gamers apresentaram propostas para o nosso Programa de Governo, pedindo políticas públicas que fortaleçam o setor de jogos eletrônicos no Brasil.\n\n📸: @ricardostuckert https://t.co/4kxlkrZltb",
          "A cartilha \"Lula Play\", sugere o fortalecimento do mercado nacional de jogos digitais e criação de cursos técnicos e de Ensino Superior para, cada vez mais, desenvolver esse setor. A América Latina é onde mais cresce o número de jogadores, e o Brasil é líder no continente.",
          null
         ],
         "marker": {
          "opacity": 0.5,
          "size": 5
         },
         "mode": "markers+text",
         "name": "16_estímulo_prática_desporto",
         "text": [
          "",
          "",
          "",
          "",
          "",
          "16_estímulo_prática_desporto"
         ],
         "textfont": {
          "size": 12
         },
         "type": "scattergl",
         "x": [
          0.4492267072200775,
          0.46334412693977356,
          0.4798785448074341,
          0.497943639755249,
          0.5888603925704956,
          0.49585065245628357
         ],
         "y": [
          3.1428492069244385,
          3.0980417728424072,
          3.092851400375366,
          3.238337755203247,
          3.3937442302703857,
          3.193164825439453
         ]
        },
        {
         "hoverinfo": "text",
         "hovertext": [
          "-Apreensão de 4 toneladas de maconha nas últimas 24 horas pela PRF:\n\n. Campo Grande/MS: em conjunto com a Polícia Civil, Policiais fecharam oficina que armazenava 2,6 t da droga. \n\n. Bataguassu/MS: policiais encontraram 620 kg de maconha em veículo abordado em trecho da BR-267.",
          "- A operação representa mais de R$ 20 milhões de prejuízo ao tráfico de drogas, vidas e famílias salvas deste mau.\n\n- A droga tinha como destino o porto de Hamburgo, na Alemanha.",
          ". Cornélio Procópio/PR: 343,7 kg do entorpecente foram apreendidos após condutor desobedecer ordem de parada. \n\n. Rio Verde/GO: 397,5 kg de maconha no interior de um automóvel que trafegava na BR-060\n\nMais um Prejuízo milionário ao crime organizado, vidas e famílias preservadas!",
          "- Entenda por que a conclusão da ponte Abunã é preocupante... para os balseiros.\n\n- Entenda por que a conclusão da Transposição do Rio São Francisco preocupa... caminhões-pipa.\n\n- Entenda por que apreensões recordes de drogas e bens do crime organizado preocupa... traficantes.",
          "- Mesmo que a Polícia esteja impedida de realizar certas operações, os recordes de apreensões de drogas não param de ser batidos.\n\n- A PF apreendeu 605kg de cocaína no Porto de Santos.",
          null
         ],
         "marker": {
          "opacity": 0.5,
          "size": 5
         },
         "mode": "markers+text",
         "name": "17_entenda_kg_maconha",
         "text": [
          "",
          "",
          "",
          "",
          "",
          "17_entenda_kg_maconha"
         ],
         "textfont": {
          "size": 12
         },
         "type": "scattergl",
         "x": [
          2.4223976135253906,
          2.4330077171325684,
          2.4176130294799805,
          2.3999602794647217,
          2.415897846221924,
          2.4177753925323486
         ],
         "y": [
          6.051886558532715,
          6.075511455535889,
          6.060266494750977,
          6.055263996124268,
          6.054628372192383,
          6.059511184692383
         ]
        },
        {
         "hoverinfo": "text",
         "hovertext": [
          "Precisamos apoiar micro e pequenas empresas e reestabelecer políticas de incentivo ao setor. Agradeço os empresários que estiveram hoje comigo e com o @geraldoalckmin. Vamos gerar oportunidades, empregos e recuperar a economia brasileira. #BrasilDaEsperança\n\n📸: @ricardostuckert https://t.co/Gh76eFJDQM",
          "Quero pegar experiências de governo bem sucedidas para construirmos um novo Brasil. Um Brasil sem fome, com mais jovens na universidade, mais empregos qualificados, investimentos no SUS. E por isso nós não temos tempo a perder para recuperar nosso país. Bom dia!",
          "Faz 11 anos que o Brasil não cresce e vou fazer o País voltar a crescer. Para isso precisamos restaurar o consumo das famílias, recuperar as empresas, retomar o investimento público e iniciar um amplo processo de reindustrialização.",
          "Precisamos recuperar a economia no Brasil, resolver a questão da fome e da miséria. E também recuperar o prestígio e o protagonismo que o Brasil tinha, para, inclusive, ajudar estados como Minas Gerais a exportar e crescer mais.",
          "Vamos trabalhar e fazer o Brasil retomar o crescimento, gerar novas indústrias, mais empregos, aumento de salários, melhorias na educação e saúde. Nós vamos voltar a ter orgulho de ser brasileiro. Quando viajarem, as pessoas vão mostrar o passaporte com muito orgulho.",
          null
         ],
         "marker": {
          "opacity": 0.5,
          "size": 5
         },
         "mode": "markers+text",
         "name": "18_recuperar_precisamos_empregos",
         "text": [
          "",
          "",
          "",
          "",
          "",
          "18_recuperar_precisamos_empregos"
         ],
         "textfont": {
          "size": 12
         },
         "type": "scattergl",
         "x": [
          0.7707915902137756,
          0.7942232489585876,
          0.8335701823234558,
          0.8091880679130554,
          0.7416350841522217,
          0.7898816466331482
         ],
         "y": [
          2.667032480239868,
          2.7153851985931396,
          2.7938649654388428,
          2.7129204273223877,
          2.5813820362091064,
          2.6941170692443848
         ]
        },
        {
         "hoverinfo": "text",
         "hovertext": [
          "A solução para a carestia no Brasil é mudar o modelo econômico, que vinculou muitas coisas ao dólar – como combustíveis e energia elétrica –, e estabelecer novamente uma política de abastecimento e preços, em que o governo deve entrar comprando pra proteger o produtor. #CiroNoSBT",
          "O povo pobre tem que ser muito respeitado. Não só em época eleição. Porque essa é a gente que gosta, trabalha e produz as coisas no Brasil. E quando melhora para o pobre, melhora a vida para todos.",
          "Um país com a riqueza do Brasil pode acabar com a fome. A ONU já reconheceu isso. Se hoje 33 milhões de brasileiros passam fome é pela irresponsabilidade do governo. Eu quero cuidar do nosso povo, e é para isso que vou dedicar os próximos 4 anos da minha vida. Boa noite.",
          "Isso, por si só, vai distensionar o ambiente porque eu não vou precisar fazer conchavo e muito menos vender o Brasil pros ladrões da economia.",
          null
         ],
         "marker": {
          "opacity": 0.5,
          "size": 5
         },
         "mode": "markers+text",
         "name": "19_melhora_pobre_coisas",
         "text": [
          "",
          "",
          "",
          "",
          "19_melhora_pobre_coisas"
         ],
         "textfont": {
          "size": 12
         },
         "type": "scattergl",
         "x": [
          1.5720527172088623,
          1.8232426643371582,
          1.6336359977722168,
          1.84268319606781,
          1.717903733253479
         ],
         "y": [
          4.7592926025390625,
          4.447348117828369,
          4.602291107177734,
          4.794306755065918,
          4.650809288024902
         ]
        },
        {
         "hoverinfo": "text",
         "hovertext": [
          "O que está fracassando no Brasil é a política e o que tá errado, está errado pra proteger uma minoria de privilegiados que têm conseguido engessar as instituições pra eternizar a miséria, a informalidade selvagem e uma das maiores concentrações de renda do mundo. #CiroNoRodaViva",
          "O que está acontecendo no Brasil é que está se relativizando de uma forma absolutamente chocante de que corrupção é uma inerência da política. Isso destrói uma nação. #CiroNoRodaViva",
          "O país está vivenciando uma devastadora crise social e estamos sendo impedidos de refletir sobre isso por conta de ódios e paixões despolitizadas. E pra completar, os dois que lideram as pesquisas estão simplificando a questão brasileira a um jogo de personalidades.",
          null
         ],
         "marker": {
          "opacity": 0.5,
          "size": 5
         },
         "mode": "markers+text",
         "name": "20_está_uma_errado",
         "text": [
          "",
          "",
          "",
          "20_está_uma_errado"
         ],
         "textfont": {
          "size": 12
         },
         "type": "scattergl",
         "x": [
          2.0379981994628906,
          2.1729466915130615,
          2.1216979026794434,
          2.1108810901641846
         ],
         "y": [
          4.41665506362915,
          4.304847240447998,
          4.265281677246094,
          4.328927993774414
         ]
        }
       ],
       "layout": {
        "annotations": [
         {
          "showarrow": false,
          "text": "D1",
          "x": 0.2397705540060997,
          "y": 2.740079188346863,
          "yshift": 10
         },
         {
          "showarrow": false,
          "text": "D2",
          "x": 3.5154183261096477,
          "xshift": 10,
          "y": 6.986838173866272
         }
        ],
        "height": 750,
        "shapes": [
         {
          "line": {
           "color": "#CFD8DC",
           "width": 2
          },
          "type": "line",
          "x0": 3.5154183261096477,
          "x1": 3.5154183261096477,
          "y0": -1.5066797971725463,
          "y1": 6.986838173866272
         },
         {
          "line": {
           "color": "#9E9E9E",
           "width": 2
          },
          "type": "line",
          "x0": 0.2397705540060997,
          "x1": 6.791066098213196,
          "y0": 2.740079188346863,
          "y1": 2.740079188346863
         }
        ],
        "template": {
         "data": {
          "bar": [
           {
            "error_x": {
             "color": "rgb(36,36,36)"
            },
            "error_y": {
             "color": "rgb(36,36,36)"
            },
            "marker": {
             "line": {
              "color": "white",
              "width": 0.5
             },
             "pattern": {
              "fillmode": "overlay",
              "size": 10,
              "solidity": 0.2
             }
            },
            "type": "bar"
           }
          ],
          "barpolar": [
           {
            "marker": {
             "line": {
              "color": "white",
              "width": 0.5
             },
             "pattern": {
              "fillmode": "overlay",
              "size": 10,
              "solidity": 0.2
             }
            },
            "type": "barpolar"
           }
          ],
          "carpet": [
           {
            "aaxis": {
             "endlinecolor": "rgb(36,36,36)",
             "gridcolor": "white",
             "linecolor": "white",
             "minorgridcolor": "white",
             "startlinecolor": "rgb(36,36,36)"
            },
            "baxis": {
             "endlinecolor": "rgb(36,36,36)",
             "gridcolor": "white",
             "linecolor": "white",
             "minorgridcolor": "white",
             "startlinecolor": "rgb(36,36,36)"
            },
            "type": "carpet"
           }
          ],
          "choropleth": [
           {
            "colorbar": {
             "outlinewidth": 1,
             "tickcolor": "rgb(36,36,36)",
             "ticks": "outside"
            },
            "type": "choropleth"
           }
          ],
          "contour": [
           {
            "colorbar": {
             "outlinewidth": 1,
             "tickcolor": "rgb(36,36,36)",
             "ticks": "outside"
            },
            "colorscale": [
             [
              0,
              "#440154"
             ],
             [
              0.1111111111111111,
              "#482878"
             ],
             [
              0.2222222222222222,
              "#3e4989"
             ],
             [
              0.3333333333333333,
              "#31688e"
             ],
             [
              0.4444444444444444,
              "#26828e"
             ],
             [
              0.5555555555555556,
              "#1f9e89"
             ],
             [
              0.6666666666666666,
              "#35b779"
             ],
             [
              0.7777777777777778,
              "#6ece58"
             ],
             [
              0.8888888888888888,
              "#b5de2b"
             ],
             [
              1,
              "#fde725"
             ]
            ],
            "type": "contour"
           }
          ],
          "contourcarpet": [
           {
            "colorbar": {
             "outlinewidth": 1,
             "tickcolor": "rgb(36,36,36)",
             "ticks": "outside"
            },
            "type": "contourcarpet"
           }
          ],
          "heatmap": [
           {
            "colorbar": {
             "outlinewidth": 1,
             "tickcolor": "rgb(36,36,36)",
             "ticks": "outside"
            },
            "colorscale": [
             [
              0,
              "#440154"
             ],
             [
              0.1111111111111111,
              "#482878"
             ],
             [
              0.2222222222222222,
              "#3e4989"
             ],
             [
              0.3333333333333333,
              "#31688e"
             ],
             [
              0.4444444444444444,
              "#26828e"
             ],
             [
              0.5555555555555556,
              "#1f9e89"
             ],
             [
              0.6666666666666666,
              "#35b779"
             ],
             [
              0.7777777777777778,
              "#6ece58"
             ],
             [
              0.8888888888888888,
              "#b5de2b"
             ],
             [
              1,
              "#fde725"
             ]
            ],
            "type": "heatmap"
           }
          ],
          "heatmapgl": [
           {
            "colorbar": {
             "outlinewidth": 1,
             "tickcolor": "rgb(36,36,36)",
             "ticks": "outside"
            },
            "colorscale": [
             [
              0,
              "#440154"
             ],
             [
              0.1111111111111111,
              "#482878"
             ],
             [
              0.2222222222222222,
              "#3e4989"
             ],
             [
              0.3333333333333333,
              "#31688e"
             ],
             [
              0.4444444444444444,
              "#26828e"
             ],
             [
              0.5555555555555556,
              "#1f9e89"
             ],
             [
              0.6666666666666666,
              "#35b779"
             ],
             [
              0.7777777777777778,
              "#6ece58"
             ],
             [
              0.8888888888888888,
              "#b5de2b"
             ],
             [
              1,
              "#fde725"
             ]
            ],
            "type": "heatmapgl"
           }
          ],
          "histogram": [
           {
            "marker": {
             "line": {
              "color": "white",
              "width": 0.6
             }
            },
            "type": "histogram"
           }
          ],
          "histogram2d": [
           {
            "colorbar": {
             "outlinewidth": 1,
             "tickcolor": "rgb(36,36,36)",
             "ticks": "outside"
            },
            "colorscale": [
             [
              0,
              "#440154"
             ],
             [
              0.1111111111111111,
              "#482878"
             ],
             [
              0.2222222222222222,
              "#3e4989"
             ],
             [
              0.3333333333333333,
              "#31688e"
             ],
             [
              0.4444444444444444,
              "#26828e"
             ],
             [
              0.5555555555555556,
              "#1f9e89"
             ],
             [
              0.6666666666666666,
              "#35b779"
             ],
             [
              0.7777777777777778,
              "#6ece58"
             ],
             [
              0.8888888888888888,
              "#b5de2b"
             ],
             [
              1,
              "#fde725"
             ]
            ],
            "type": "histogram2d"
           }
          ],
          "histogram2dcontour": [
           {
            "colorbar": {
             "outlinewidth": 1,
             "tickcolor": "rgb(36,36,36)",
             "ticks": "outside"
            },
            "colorscale": [
             [
              0,
              "#440154"
             ],
             [
              0.1111111111111111,
              "#482878"
             ],
             [
              0.2222222222222222,
              "#3e4989"
             ],
             [
              0.3333333333333333,
              "#31688e"
             ],
             [
              0.4444444444444444,
              "#26828e"
             ],
             [
              0.5555555555555556,
              "#1f9e89"
             ],
             [
              0.6666666666666666,
              "#35b779"
             ],
             [
              0.7777777777777778,
              "#6ece58"
             ],
             [
              0.8888888888888888,
              "#b5de2b"
             ],
             [
              1,
              "#fde725"
             ]
            ],
            "type": "histogram2dcontour"
           }
          ],
          "mesh3d": [
           {
            "colorbar": {
             "outlinewidth": 1,
             "tickcolor": "rgb(36,36,36)",
             "ticks": "outside"
            },
            "type": "mesh3d"
           }
          ],
          "parcoords": [
           {
            "line": {
             "colorbar": {
              "outlinewidth": 1,
              "tickcolor": "rgb(36,36,36)",
              "ticks": "outside"
             }
            },
            "type": "parcoords"
           }
          ],
          "pie": [
           {
            "automargin": true,
            "type": "pie"
           }
          ],
          "scatter": [
           {
            "fillpattern": {
             "fillmode": "overlay",
             "size": 10,
             "solidity": 0.2
            },
            "type": "scatter"
           }
          ],
          "scatter3d": [
           {
            "line": {
             "colorbar": {
              "outlinewidth": 1,
              "tickcolor": "rgb(36,36,36)",
              "ticks": "outside"
             }
            },
            "marker": {
             "colorbar": {
              "outlinewidth": 1,
              "tickcolor": "rgb(36,36,36)",
              "ticks": "outside"
             }
            },
            "type": "scatter3d"
           }
          ],
          "scattercarpet": [
           {
            "marker": {
             "colorbar": {
              "outlinewidth": 1,
              "tickcolor": "rgb(36,36,36)",
              "ticks": "outside"
             }
            },
            "type": "scattercarpet"
           }
          ],
          "scattergeo": [
           {
            "marker": {
             "colorbar": {
              "outlinewidth": 1,
              "tickcolor": "rgb(36,36,36)",
              "ticks": "outside"
             }
            },
            "type": "scattergeo"
           }
          ],
          "scattergl": [
           {
            "marker": {
             "colorbar": {
              "outlinewidth": 1,
              "tickcolor": "rgb(36,36,36)",
              "ticks": "outside"
             }
            },
            "type": "scattergl"
           }
          ],
          "scattermapbox": [
           {
            "marker": {
             "colorbar": {
              "outlinewidth": 1,
              "tickcolor": "rgb(36,36,36)",
              "ticks": "outside"
             }
            },
            "type": "scattermapbox"
           }
          ],
          "scatterpolar": [
           {
            "marker": {
             "colorbar": {
              "outlinewidth": 1,
              "tickcolor": "rgb(36,36,36)",
              "ticks": "outside"
             }
            },
            "type": "scatterpolar"
           }
          ],
          "scatterpolargl": [
           {
            "marker": {
             "colorbar": {
              "outlinewidth": 1,
              "tickcolor": "rgb(36,36,36)",
              "ticks": "outside"
             }
            },
            "type": "scatterpolargl"
           }
          ],
          "scatterternary": [
           {
            "marker": {
             "colorbar": {
              "outlinewidth": 1,
              "tickcolor": "rgb(36,36,36)",
              "ticks": "outside"
             }
            },
            "type": "scatterternary"
           }
          ],
          "surface": [
           {
            "colorbar": {
             "outlinewidth": 1,
             "tickcolor": "rgb(36,36,36)",
             "ticks": "outside"
            },
            "colorscale": [
             [
              0,
              "#440154"
             ],
             [
              0.1111111111111111,
              "#482878"
             ],
             [
              0.2222222222222222,
              "#3e4989"
             ],
             [
              0.3333333333333333,
              "#31688e"
             ],
             [
              0.4444444444444444,
              "#26828e"
             ],
             [
              0.5555555555555556,
              "#1f9e89"
             ],
             [
              0.6666666666666666,
              "#35b779"
             ],
             [
              0.7777777777777778,
              "#6ece58"
             ],
             [
              0.8888888888888888,
              "#b5de2b"
             ],
             [
              1,
              "#fde725"
             ]
            ],
            "type": "surface"
           }
          ],
          "table": [
           {
            "cells": {
             "fill": {
              "color": "rgb(237,237,237)"
             },
             "line": {
              "color": "white"
             }
            },
            "header": {
             "fill": {
              "color": "rgb(217,217,217)"
             },
             "line": {
              "color": "white"
             }
            },
            "type": "table"
           }
          ]
         },
         "layout": {
          "annotationdefaults": {
           "arrowhead": 0,
           "arrowwidth": 1
          },
          "autotypenumbers": "strict",
          "coloraxis": {
           "colorbar": {
            "outlinewidth": 1,
            "tickcolor": "rgb(36,36,36)",
            "ticks": "outside"
           }
          },
          "colorscale": {
           "diverging": [
            [
             0,
             "rgb(103,0,31)"
            ],
            [
             0.1,
             "rgb(178,24,43)"
            ],
            [
             0.2,
             "rgb(214,96,77)"
            ],
            [
             0.3,
             "rgb(244,165,130)"
            ],
            [
             0.4,
             "rgb(253,219,199)"
            ],
            [
             0.5,
             "rgb(247,247,247)"
            ],
            [
             0.6,
             "rgb(209,229,240)"
            ],
            [
             0.7,
             "rgb(146,197,222)"
            ],
            [
             0.8,
             "rgb(67,147,195)"
            ],
            [
             0.9,
             "rgb(33,102,172)"
            ],
            [
             1,
             "rgb(5,48,97)"
            ]
           ],
           "sequential": [
            [
             0,
             "#440154"
            ],
            [
             0.1111111111111111,
             "#482878"
            ],
            [
             0.2222222222222222,
             "#3e4989"
            ],
            [
             0.3333333333333333,
             "#31688e"
            ],
            [
             0.4444444444444444,
             "#26828e"
            ],
            [
             0.5555555555555556,
             "#1f9e89"
            ],
            [
             0.6666666666666666,
             "#35b779"
            ],
            [
             0.7777777777777778,
             "#6ece58"
            ],
            [
             0.8888888888888888,
             "#b5de2b"
            ],
            [
             1,
             "#fde725"
            ]
           ],
           "sequentialminus": [
            [
             0,
             "#440154"
            ],
            [
             0.1111111111111111,
             "#482878"
            ],
            [
             0.2222222222222222,
             "#3e4989"
            ],
            [
             0.3333333333333333,
             "#31688e"
            ],
            [
             0.4444444444444444,
             "#26828e"
            ],
            [
             0.5555555555555556,
             "#1f9e89"
            ],
            [
             0.6666666666666666,
             "#35b779"
            ],
            [
             0.7777777777777778,
             "#6ece58"
            ],
            [
             0.8888888888888888,
             "#b5de2b"
            ],
            [
             1,
             "#fde725"
            ]
           ]
          },
          "colorway": [
           "#1F77B4",
           "#FF7F0E",
           "#2CA02C",
           "#D62728",
           "#9467BD",
           "#8C564B",
           "#E377C2",
           "#7F7F7F",
           "#BCBD22",
           "#17BECF"
          ],
          "font": {
           "color": "rgb(36,36,36)"
          },
          "geo": {
           "bgcolor": "white",
           "lakecolor": "white",
           "landcolor": "white",
           "showlakes": true,
           "showland": true,
           "subunitcolor": "white"
          },
          "hoverlabel": {
           "align": "left"
          },
          "hovermode": "closest",
          "mapbox": {
           "style": "light"
          },
          "paper_bgcolor": "white",
          "plot_bgcolor": "white",
          "polar": {
           "angularaxis": {
            "gridcolor": "rgb(232,232,232)",
            "linecolor": "rgb(36,36,36)",
            "showgrid": false,
            "showline": true,
            "ticks": "outside"
           },
           "bgcolor": "white",
           "radialaxis": {
            "gridcolor": "rgb(232,232,232)",
            "linecolor": "rgb(36,36,36)",
            "showgrid": false,
            "showline": true,
            "ticks": "outside"
           }
          },
          "scene": {
           "xaxis": {
            "backgroundcolor": "white",
            "gridcolor": "rgb(232,232,232)",
            "gridwidth": 2,
            "linecolor": "rgb(36,36,36)",
            "showbackground": true,
            "showgrid": false,
            "showline": true,
            "ticks": "outside",
            "zeroline": false,
            "zerolinecolor": "rgb(36,36,36)"
           },
           "yaxis": {
            "backgroundcolor": "white",
            "gridcolor": "rgb(232,232,232)",
            "gridwidth": 2,
            "linecolor": "rgb(36,36,36)",
            "showbackground": true,
            "showgrid": false,
            "showline": true,
            "ticks": "outside",
            "zeroline": false,
            "zerolinecolor": "rgb(36,36,36)"
           },
           "zaxis": {
            "backgroundcolor": "white",
            "gridcolor": "rgb(232,232,232)",
            "gridwidth": 2,
            "linecolor": "rgb(36,36,36)",
            "showbackground": true,
            "showgrid": false,
            "showline": true,
            "ticks": "outside",
            "zeroline": false,
            "zerolinecolor": "rgb(36,36,36)"
           }
          },
          "shapedefaults": {
           "fillcolor": "black",
           "line": {
            "width": 0
           },
           "opacity": 0.3
          },
          "ternary": {
           "aaxis": {
            "gridcolor": "rgb(232,232,232)",
            "linecolor": "rgb(36,36,36)",
            "showgrid": false,
            "showline": true,
            "ticks": "outside"
           },
           "baxis": {
            "gridcolor": "rgb(232,232,232)",
            "linecolor": "rgb(36,36,36)",
            "showgrid": false,
            "showline": true,
            "ticks": "outside"
           },
           "bgcolor": "white",
           "caxis": {
            "gridcolor": "rgb(232,232,232)",
            "linecolor": "rgb(36,36,36)",
            "showgrid": false,
            "showline": true,
            "ticks": "outside"
           }
          },
          "title": {
           "x": 0.05
          },
          "xaxis": {
           "automargin": true,
           "gridcolor": "rgb(232,232,232)",
           "linecolor": "rgb(36,36,36)",
           "showgrid": false,
           "showline": true,
           "ticks": "outside",
           "title": {
            "standoff": 15
           },
           "zeroline": false,
           "zerolinecolor": "rgb(36,36,36)"
          },
          "yaxis": {
           "automargin": true,
           "gridcolor": "rgb(232,232,232)",
           "linecolor": "rgb(36,36,36)",
           "showgrid": false,
           "showline": true,
           "ticks": "outside",
           "title": {
            "standoff": 15
           },
           "zeroline": false,
           "zerolinecolor": "rgb(36,36,36)"
          }
         }
        },
        "title": {
         "font": {
          "color": "Black",
          "size": 22
         },
         "text": "<b>Documents and Topics",
         "x": 0.5,
         "xanchor": "center",
         "yanchor": "top"
        },
        "width": 1200,
        "xaxis": {
         "visible": false
        },
        "yaxis": {
         "visible": false
        }
       }
      }
     },
     "metadata": {},
     "output_type": "display_data"
    }
   ],
   "source": [
    "model.visualize_documents(docs)"
   ]
  },
  {
   "cell_type": "code",
   "execution_count": 8,
   "metadata": {},
   "outputs": [
    {
     "data": {
      "application/vnd.plotly.v1+json": {
       "config": {
        "plotlyServerURL": "https://plot.ly"
       },
       "data": [
        {
         "customdata": [
          [
           0,
           "https | co | ciro | rt | com",
           55
          ],
          [
           1,
           "brasil | que | esperança | de | vamos",
           51
          ],
          [
           2,
           "programa | de | renda | mínima | do",
           16
          ],
          [
           3,
           "08 | 2022 | giro | https | co",
           15
          ],
          [
           4,
           "de | em | redução | menor | guerra",
           15
          ],
          [
           5,
           "lula | https | co | equipelula | na",
           10
          ],
          [
           6,
           "ano | ton | safra | de | mais",
           10
          ],
          [
           7,
           "eu | voto | eleição | não | falar",
           9
          ],
          [
           8,
           "ele | bolsonaro | porque | mentiras | ou",
           8
          ],
          [
           9,
           "sobre | ciro | cironorodaviva | responde | rota",
           7
          ],
          [
           10,
           "deus | se | você | os | estar",
           7
          ],
          [
           11,
           "saudades | carta | democracia | cuba | los",
           6
          ],
          [
           12,
           "não | sou | que | eu | história",
           6
          ],
          [
           13,
           "reeleição | política | um | que | povo",
           6
          ],
          [
           14,
           "bolsonaro | jair | pai | pr | teu",
           6
          ],
          [
           15,
           "gente | que | gerar | país | quer",
           6
          ],
          [
           16,
           "estímulo | prática | desporto | comitê | competições",
           5
          ],
          [
           17,
           "entenda | kg | maconha | de | drogas",
           5
          ],
          [
           18,
           "recuperar | precisamos | empregos | brasil | retomar",
           5
          ],
          [
           19,
           "melhora | pobre | coisas | isso | vou",
           4
          ],
          [
           20,
           "está | uma | errado | pra | que",
           3
          ]
         ],
         "hovertemplate": "<b>Topic %{customdata[0]}</b><br>Words: %{customdata[1]}<br>Size: %{customdata[2]}",
         "legendgroup": "",
         "marker": {
          "color": "#B0BEC5",
          "line": {
           "color": "DarkSlateGrey",
           "width": 2
          },
          "size": [
           55,
           51,
           16,
           15,
           15,
           10,
           10,
           9,
           8,
           7,
           7,
           6,
           6,
           6,
           6,
           6,
           5,
           5,
           5,
           4,
           3
          ],
          "sizemode": "area",
          "sizeref": 0.034375,
          "symbol": "circle"
         },
         "mode": "markers",
         "name": "",
         "orientation": "v",
         "showlegend": false,
         "type": "scatter",
         "x": [
          -5.013950347900391,
          -4.739191055297852,
          17.471162796020508,
          -2.0378031730651855,
          17.4229736328125,
          -4.40595006942749,
          13.139429092407227,
          -2.3548903465270996,
          11.078856468200684,
          11.78167724609375,
          10.699097633361816,
          10.373971939086914,
          -2.189276695251465,
          11.068856239318848,
          -2.2845516204833984,
          12.220817565917969,
          12.657989501953125,
          11.637728691101074,
          12.768143653869629,
          11.51095962524414,
          11.933867454528809
         ],
         "xaxis": "x",
         "y": [
          -7.018087863922119,
          -6.851593017578125,
          5.271554470062256,
          10.204190254211426,
          5.320005893707275,
          -6.896299839019775,
          20.532562255859375,
          10.875155448913574,
          -2.156141996383667,
          -1.529224157333374,
          -1.5793497562408447,
          -1.4898669719696045,
          11.261042594909668,
          -1.8383241891860962,
          10.424905776977539,
          20.8671875,
          20.277984619140625,
          -0.9273090958595276,
          20.648805618286133,
          -1.323746681213379,
          21.116994857788086
         ],
         "yaxis": "y"
        }
       ],
       "layout": {
        "annotations": [
         {
          "showarrow": false,
          "text": "D1",
          "x": -5.766042900085449,
          "y": 8.106871521472932,
          "yshift": 10
         },
         {
          "showarrow": false,
          "text": "D2",
          "x": 7.162897157669068,
          "xshift": 10,
          "y": 24.2845440864563
         }
        ],
        "height": 650,
        "hoverlabel": {
         "bgcolor": "white",
         "font": {
          "family": "Rockwell",
          "size": 16
         }
        },
        "legend": {
         "itemsizing": "constant",
         "tracegroupgap": 0
        },
        "margin": {
         "t": 60
        },
        "shapes": [
         {
          "line": {
           "color": "#CFD8DC",
           "width": 2
          },
          "type": "line",
          "x0": 7.162897157669068,
          "x1": 7.162897157669068,
          "y0": -8.070801043510437,
          "y1": 24.2845440864563
         },
         {
          "line": {
           "color": "#9E9E9E",
           "width": 2
          },
          "type": "line",
          "x0": -5.766042900085449,
          "x1": 20.091837215423585,
          "y0": 8.106871521472932,
          "y1": 8.106871521472932
         }
        ],
        "sliders": [
         {
          "active": 0,
          "pad": {
           "t": 50
          },
          "steps": [
           {
            "args": [
             {
              "marker.color": [
               [
                "red",
                "#B0BEC5",
                "#B0BEC5",
                "#B0BEC5",
                "#B0BEC5",
                "#B0BEC5",
                "#B0BEC5",
                "#B0BEC5",
                "#B0BEC5",
                "#B0BEC5",
                "#B0BEC5",
                "#B0BEC5",
                "#B0BEC5",
                "#B0BEC5",
                "#B0BEC5",
                "#B0BEC5",
                "#B0BEC5",
                "#B0BEC5",
                "#B0BEC5",
                "#B0BEC5",
                "#B0BEC5"
               ]
              ]
             }
            ],
            "label": "Topic 0",
            "method": "update"
           },
           {
            "args": [
             {
              "marker.color": [
               [
                "#B0BEC5",
                "red",
                "#B0BEC5",
                "#B0BEC5",
                "#B0BEC5",
                "#B0BEC5",
                "#B0BEC5",
                "#B0BEC5",
                "#B0BEC5",
                "#B0BEC5",
                "#B0BEC5",
                "#B0BEC5",
                "#B0BEC5",
                "#B0BEC5",
                "#B0BEC5",
                "#B0BEC5",
                "#B0BEC5",
                "#B0BEC5",
                "#B0BEC5",
                "#B0BEC5",
                "#B0BEC5"
               ]
              ]
             }
            ],
            "label": "Topic 1",
            "method": "update"
           },
           {
            "args": [
             {
              "marker.color": [
               [
                "#B0BEC5",
                "#B0BEC5",
                "red",
                "#B0BEC5",
                "#B0BEC5",
                "#B0BEC5",
                "#B0BEC5",
                "#B0BEC5",
                "#B0BEC5",
                "#B0BEC5",
                "#B0BEC5",
                "#B0BEC5",
                "#B0BEC5",
                "#B0BEC5",
                "#B0BEC5",
                "#B0BEC5",
                "#B0BEC5",
                "#B0BEC5",
                "#B0BEC5",
                "#B0BEC5",
                "#B0BEC5"
               ]
              ]
             }
            ],
            "label": "Topic 2",
            "method": "update"
           },
           {
            "args": [
             {
              "marker.color": [
               [
                "#B0BEC5",
                "#B0BEC5",
                "#B0BEC5",
                "red",
                "#B0BEC5",
                "#B0BEC5",
                "#B0BEC5",
                "#B0BEC5",
                "#B0BEC5",
                "#B0BEC5",
                "#B0BEC5",
                "#B0BEC5",
                "#B0BEC5",
                "#B0BEC5",
                "#B0BEC5",
                "#B0BEC5",
                "#B0BEC5",
                "#B0BEC5",
                "#B0BEC5",
                "#B0BEC5",
                "#B0BEC5"
               ]
              ]
             }
            ],
            "label": "Topic 3",
            "method": "update"
           },
           {
            "args": [
             {
              "marker.color": [
               [
                "#B0BEC5",
                "#B0BEC5",
                "#B0BEC5",
                "#B0BEC5",
                "red",
                "#B0BEC5",
                "#B0BEC5",
                "#B0BEC5",
                "#B0BEC5",
                "#B0BEC5",
                "#B0BEC5",
                "#B0BEC5",
                "#B0BEC5",
                "#B0BEC5",
                "#B0BEC5",
                "#B0BEC5",
                "#B0BEC5",
                "#B0BEC5",
                "#B0BEC5",
                "#B0BEC5",
                "#B0BEC5"
               ]
              ]
             }
            ],
            "label": "Topic 4",
            "method": "update"
           },
           {
            "args": [
             {
              "marker.color": [
               [
                "#B0BEC5",
                "#B0BEC5",
                "#B0BEC5",
                "#B0BEC5",
                "#B0BEC5",
                "red",
                "#B0BEC5",
                "#B0BEC5",
                "#B0BEC5",
                "#B0BEC5",
                "#B0BEC5",
                "#B0BEC5",
                "#B0BEC5",
                "#B0BEC5",
                "#B0BEC5",
                "#B0BEC5",
                "#B0BEC5",
                "#B0BEC5",
                "#B0BEC5",
                "#B0BEC5",
                "#B0BEC5"
               ]
              ]
             }
            ],
            "label": "Topic 5",
            "method": "update"
           },
           {
            "args": [
             {
              "marker.color": [
               [
                "#B0BEC5",
                "#B0BEC5",
                "#B0BEC5",
                "#B0BEC5",
                "#B0BEC5",
                "#B0BEC5",
                "red",
                "#B0BEC5",
                "#B0BEC5",
                "#B0BEC5",
                "#B0BEC5",
                "#B0BEC5",
                "#B0BEC5",
                "#B0BEC5",
                "#B0BEC5",
                "#B0BEC5",
                "#B0BEC5",
                "#B0BEC5",
                "#B0BEC5",
                "#B0BEC5",
                "#B0BEC5"
               ]
              ]
             }
            ],
            "label": "Topic 6",
            "method": "update"
           },
           {
            "args": [
             {
              "marker.color": [
               [
                "#B0BEC5",
                "#B0BEC5",
                "#B0BEC5",
                "#B0BEC5",
                "#B0BEC5",
                "#B0BEC5",
                "#B0BEC5",
                "red",
                "#B0BEC5",
                "#B0BEC5",
                "#B0BEC5",
                "#B0BEC5",
                "#B0BEC5",
                "#B0BEC5",
                "#B0BEC5",
                "#B0BEC5",
                "#B0BEC5",
                "#B0BEC5",
                "#B0BEC5",
                "#B0BEC5",
                "#B0BEC5"
               ]
              ]
             }
            ],
            "label": "Topic 7",
            "method": "update"
           },
           {
            "args": [
             {
              "marker.color": [
               [
                "#B0BEC5",
                "#B0BEC5",
                "#B0BEC5",
                "#B0BEC5",
                "#B0BEC5",
                "#B0BEC5",
                "#B0BEC5",
                "#B0BEC5",
                "red",
                "#B0BEC5",
                "#B0BEC5",
                "#B0BEC5",
                "#B0BEC5",
                "#B0BEC5",
                "#B0BEC5",
                "#B0BEC5",
                "#B0BEC5",
                "#B0BEC5",
                "#B0BEC5",
                "#B0BEC5",
                "#B0BEC5"
               ]
              ]
             }
            ],
            "label": "Topic 8",
            "method": "update"
           },
           {
            "args": [
             {
              "marker.color": [
               [
                "#B0BEC5",
                "#B0BEC5",
                "#B0BEC5",
                "#B0BEC5",
                "#B0BEC5",
                "#B0BEC5",
                "#B0BEC5",
                "#B0BEC5",
                "#B0BEC5",
                "red",
                "#B0BEC5",
                "#B0BEC5",
                "#B0BEC5",
                "#B0BEC5",
                "#B0BEC5",
                "#B0BEC5",
                "#B0BEC5",
                "#B0BEC5",
                "#B0BEC5",
                "#B0BEC5",
                "#B0BEC5"
               ]
              ]
             }
            ],
            "label": "Topic 9",
            "method": "update"
           },
           {
            "args": [
             {
              "marker.color": [
               [
                "#B0BEC5",
                "#B0BEC5",
                "#B0BEC5",
                "#B0BEC5",
                "#B0BEC5",
                "#B0BEC5",
                "#B0BEC5",
                "#B0BEC5",
                "#B0BEC5",
                "#B0BEC5",
                "red",
                "#B0BEC5",
                "#B0BEC5",
                "#B0BEC5",
                "#B0BEC5",
                "#B0BEC5",
                "#B0BEC5",
                "#B0BEC5",
                "#B0BEC5",
                "#B0BEC5",
                "#B0BEC5"
               ]
              ]
             }
            ],
            "label": "Topic 10",
            "method": "update"
           },
           {
            "args": [
             {
              "marker.color": [
               [
                "#B0BEC5",
                "#B0BEC5",
                "#B0BEC5",
                "#B0BEC5",
                "#B0BEC5",
                "#B0BEC5",
                "#B0BEC5",
                "#B0BEC5",
                "#B0BEC5",
                "#B0BEC5",
                "#B0BEC5",
                "red",
                "#B0BEC5",
                "#B0BEC5",
                "#B0BEC5",
                "#B0BEC5",
                "#B0BEC5",
                "#B0BEC5",
                "#B0BEC5",
                "#B0BEC5",
                "#B0BEC5"
               ]
              ]
             }
            ],
            "label": "Topic 11",
            "method": "update"
           },
           {
            "args": [
             {
              "marker.color": [
               [
                "#B0BEC5",
                "#B0BEC5",
                "#B0BEC5",
                "#B0BEC5",
                "#B0BEC5",
                "#B0BEC5",
                "#B0BEC5",
                "#B0BEC5",
                "#B0BEC5",
                "#B0BEC5",
                "#B0BEC5",
                "#B0BEC5",
                "red",
                "#B0BEC5",
                "#B0BEC5",
                "#B0BEC5",
                "#B0BEC5",
                "#B0BEC5",
                "#B0BEC5",
                "#B0BEC5",
                "#B0BEC5"
               ]
              ]
             }
            ],
            "label": "Topic 12",
            "method": "update"
           },
           {
            "args": [
             {
              "marker.color": [
               [
                "#B0BEC5",
                "#B0BEC5",
                "#B0BEC5",
                "#B0BEC5",
                "#B0BEC5",
                "#B0BEC5",
                "#B0BEC5",
                "#B0BEC5",
                "#B0BEC5",
                "#B0BEC5",
                "#B0BEC5",
                "#B0BEC5",
                "#B0BEC5",
                "red",
                "#B0BEC5",
                "#B0BEC5",
                "#B0BEC5",
                "#B0BEC5",
                "#B0BEC5",
                "#B0BEC5",
                "#B0BEC5"
               ]
              ]
             }
            ],
            "label": "Topic 13",
            "method": "update"
           },
           {
            "args": [
             {
              "marker.color": [
               [
                "#B0BEC5",
                "#B0BEC5",
                "#B0BEC5",
                "#B0BEC5",
                "#B0BEC5",
                "#B0BEC5",
                "#B0BEC5",
                "#B0BEC5",
                "#B0BEC5",
                "#B0BEC5",
                "#B0BEC5",
                "#B0BEC5",
                "#B0BEC5",
                "#B0BEC5",
                "red",
                "#B0BEC5",
                "#B0BEC5",
                "#B0BEC5",
                "#B0BEC5",
                "#B0BEC5",
                "#B0BEC5"
               ]
              ]
             }
            ],
            "label": "Topic 14",
            "method": "update"
           },
           {
            "args": [
             {
              "marker.color": [
               [
                "#B0BEC5",
                "#B0BEC5",
                "#B0BEC5",
                "#B0BEC5",
                "#B0BEC5",
                "#B0BEC5",
                "#B0BEC5",
                "#B0BEC5",
                "#B0BEC5",
                "#B0BEC5",
                "#B0BEC5",
                "#B0BEC5",
                "#B0BEC5",
                "#B0BEC5",
                "#B0BEC5",
                "red",
                "#B0BEC5",
                "#B0BEC5",
                "#B0BEC5",
                "#B0BEC5",
                "#B0BEC5"
               ]
              ]
             }
            ],
            "label": "Topic 15",
            "method": "update"
           },
           {
            "args": [
             {
              "marker.color": [
               [
                "#B0BEC5",
                "#B0BEC5",
                "#B0BEC5",
                "#B0BEC5",
                "#B0BEC5",
                "#B0BEC5",
                "#B0BEC5",
                "#B0BEC5",
                "#B0BEC5",
                "#B0BEC5",
                "#B0BEC5",
                "#B0BEC5",
                "#B0BEC5",
                "#B0BEC5",
                "#B0BEC5",
                "#B0BEC5",
                "red",
                "#B0BEC5",
                "#B0BEC5",
                "#B0BEC5",
                "#B0BEC5"
               ]
              ]
             }
            ],
            "label": "Topic 16",
            "method": "update"
           },
           {
            "args": [
             {
              "marker.color": [
               [
                "#B0BEC5",
                "#B0BEC5",
                "#B0BEC5",
                "#B0BEC5",
                "#B0BEC5",
                "#B0BEC5",
                "#B0BEC5",
                "#B0BEC5",
                "#B0BEC5",
                "#B0BEC5",
                "#B0BEC5",
                "#B0BEC5",
                "#B0BEC5",
                "#B0BEC5",
                "#B0BEC5",
                "#B0BEC5",
                "#B0BEC5",
                "red",
                "#B0BEC5",
                "#B0BEC5",
                "#B0BEC5"
               ]
              ]
             }
            ],
            "label": "Topic 17",
            "method": "update"
           },
           {
            "args": [
             {
              "marker.color": [
               [
                "#B0BEC5",
                "#B0BEC5",
                "#B0BEC5",
                "#B0BEC5",
                "#B0BEC5",
                "#B0BEC5",
                "#B0BEC5",
                "#B0BEC5",
                "#B0BEC5",
                "#B0BEC5",
                "#B0BEC5",
                "#B0BEC5",
                "#B0BEC5",
                "#B0BEC5",
                "#B0BEC5",
                "#B0BEC5",
                "#B0BEC5",
                "#B0BEC5",
                "red",
                "#B0BEC5",
                "#B0BEC5"
               ]
              ]
             }
            ],
            "label": "Topic 18",
            "method": "update"
           },
           {
            "args": [
             {
              "marker.color": [
               [
                "#B0BEC5",
                "#B0BEC5",
                "#B0BEC5",
                "#B0BEC5",
                "#B0BEC5",
                "#B0BEC5",
                "#B0BEC5",
                "#B0BEC5",
                "#B0BEC5",
                "#B0BEC5",
                "#B0BEC5",
                "#B0BEC5",
                "#B0BEC5",
                "#B0BEC5",
                "#B0BEC5",
                "#B0BEC5",
                "#B0BEC5",
                "#B0BEC5",
                "#B0BEC5",
                "red",
                "#B0BEC5"
               ]
              ]
             }
            ],
            "label": "Topic 19",
            "method": "update"
           },
           {
            "args": [
             {
              "marker.color": [
               [
                "#B0BEC5",
                "#B0BEC5",
                "#B0BEC5",
                "#B0BEC5",
                "#B0BEC5",
                "#B0BEC5",
                "#B0BEC5",
                "#B0BEC5",
                "#B0BEC5",
                "#B0BEC5",
                "#B0BEC5",
                "#B0BEC5",
                "#B0BEC5",
                "#B0BEC5",
                "#B0BEC5",
                "#B0BEC5",
                "#B0BEC5",
                "#B0BEC5",
                "#B0BEC5",
                "#B0BEC5",
                "red"
               ]
              ]
             }
            ],
            "label": "Topic 20",
            "method": "update"
           }
          ]
         }
        ],
        "template": {
         "data": {
          "bar": [
           {
            "error_x": {
             "color": "rgb(36,36,36)"
            },
            "error_y": {
             "color": "rgb(36,36,36)"
            },
            "marker": {
             "line": {
              "color": "white",
              "width": 0.5
             },
             "pattern": {
              "fillmode": "overlay",
              "size": 10,
              "solidity": 0.2
             }
            },
            "type": "bar"
           }
          ],
          "barpolar": [
           {
            "marker": {
             "line": {
              "color": "white",
              "width": 0.5
             },
             "pattern": {
              "fillmode": "overlay",
              "size": 10,
              "solidity": 0.2
             }
            },
            "type": "barpolar"
           }
          ],
          "carpet": [
           {
            "aaxis": {
             "endlinecolor": "rgb(36,36,36)",
             "gridcolor": "white",
             "linecolor": "white",
             "minorgridcolor": "white",
             "startlinecolor": "rgb(36,36,36)"
            },
            "baxis": {
             "endlinecolor": "rgb(36,36,36)",
             "gridcolor": "white",
             "linecolor": "white",
             "minorgridcolor": "white",
             "startlinecolor": "rgb(36,36,36)"
            },
            "type": "carpet"
           }
          ],
          "choropleth": [
           {
            "colorbar": {
             "outlinewidth": 1,
             "tickcolor": "rgb(36,36,36)",
             "ticks": "outside"
            },
            "type": "choropleth"
           }
          ],
          "contour": [
           {
            "colorbar": {
             "outlinewidth": 1,
             "tickcolor": "rgb(36,36,36)",
             "ticks": "outside"
            },
            "colorscale": [
             [
              0,
              "#440154"
             ],
             [
              0.1111111111111111,
              "#482878"
             ],
             [
              0.2222222222222222,
              "#3e4989"
             ],
             [
              0.3333333333333333,
              "#31688e"
             ],
             [
              0.4444444444444444,
              "#26828e"
             ],
             [
              0.5555555555555556,
              "#1f9e89"
             ],
             [
              0.6666666666666666,
              "#35b779"
             ],
             [
              0.7777777777777778,
              "#6ece58"
             ],
             [
              0.8888888888888888,
              "#b5de2b"
             ],
             [
              1,
              "#fde725"
             ]
            ],
            "type": "contour"
           }
          ],
          "contourcarpet": [
           {
            "colorbar": {
             "outlinewidth": 1,
             "tickcolor": "rgb(36,36,36)",
             "ticks": "outside"
            },
            "type": "contourcarpet"
           }
          ],
          "heatmap": [
           {
            "colorbar": {
             "outlinewidth": 1,
             "tickcolor": "rgb(36,36,36)",
             "ticks": "outside"
            },
            "colorscale": [
             [
              0,
              "#440154"
             ],
             [
              0.1111111111111111,
              "#482878"
             ],
             [
              0.2222222222222222,
              "#3e4989"
             ],
             [
              0.3333333333333333,
              "#31688e"
             ],
             [
              0.4444444444444444,
              "#26828e"
             ],
             [
              0.5555555555555556,
              "#1f9e89"
             ],
             [
              0.6666666666666666,
              "#35b779"
             ],
             [
              0.7777777777777778,
              "#6ece58"
             ],
             [
              0.8888888888888888,
              "#b5de2b"
             ],
             [
              1,
              "#fde725"
             ]
            ],
            "type": "heatmap"
           }
          ],
          "heatmapgl": [
           {
            "colorbar": {
             "outlinewidth": 1,
             "tickcolor": "rgb(36,36,36)",
             "ticks": "outside"
            },
            "colorscale": [
             [
              0,
              "#440154"
             ],
             [
              0.1111111111111111,
              "#482878"
             ],
             [
              0.2222222222222222,
              "#3e4989"
             ],
             [
              0.3333333333333333,
              "#31688e"
             ],
             [
              0.4444444444444444,
              "#26828e"
             ],
             [
              0.5555555555555556,
              "#1f9e89"
             ],
             [
              0.6666666666666666,
              "#35b779"
             ],
             [
              0.7777777777777778,
              "#6ece58"
             ],
             [
              0.8888888888888888,
              "#b5de2b"
             ],
             [
              1,
              "#fde725"
             ]
            ],
            "type": "heatmapgl"
           }
          ],
          "histogram": [
           {
            "marker": {
             "line": {
              "color": "white",
              "width": 0.6
             }
            },
            "type": "histogram"
           }
          ],
          "histogram2d": [
           {
            "colorbar": {
             "outlinewidth": 1,
             "tickcolor": "rgb(36,36,36)",
             "ticks": "outside"
            },
            "colorscale": [
             [
              0,
              "#440154"
             ],
             [
              0.1111111111111111,
              "#482878"
             ],
             [
              0.2222222222222222,
              "#3e4989"
             ],
             [
              0.3333333333333333,
              "#31688e"
             ],
             [
              0.4444444444444444,
              "#26828e"
             ],
             [
              0.5555555555555556,
              "#1f9e89"
             ],
             [
              0.6666666666666666,
              "#35b779"
             ],
             [
              0.7777777777777778,
              "#6ece58"
             ],
             [
              0.8888888888888888,
              "#b5de2b"
             ],
             [
              1,
              "#fde725"
             ]
            ],
            "type": "histogram2d"
           }
          ],
          "histogram2dcontour": [
           {
            "colorbar": {
             "outlinewidth": 1,
             "tickcolor": "rgb(36,36,36)",
             "ticks": "outside"
            },
            "colorscale": [
             [
              0,
              "#440154"
             ],
             [
              0.1111111111111111,
              "#482878"
             ],
             [
              0.2222222222222222,
              "#3e4989"
             ],
             [
              0.3333333333333333,
              "#31688e"
             ],
             [
              0.4444444444444444,
              "#26828e"
             ],
             [
              0.5555555555555556,
              "#1f9e89"
             ],
             [
              0.6666666666666666,
              "#35b779"
             ],
             [
              0.7777777777777778,
              "#6ece58"
             ],
             [
              0.8888888888888888,
              "#b5de2b"
             ],
             [
              1,
              "#fde725"
             ]
            ],
            "type": "histogram2dcontour"
           }
          ],
          "mesh3d": [
           {
            "colorbar": {
             "outlinewidth": 1,
             "tickcolor": "rgb(36,36,36)",
             "ticks": "outside"
            },
            "type": "mesh3d"
           }
          ],
          "parcoords": [
           {
            "line": {
             "colorbar": {
              "outlinewidth": 1,
              "tickcolor": "rgb(36,36,36)",
              "ticks": "outside"
             }
            },
            "type": "parcoords"
           }
          ],
          "pie": [
           {
            "automargin": true,
            "type": "pie"
           }
          ],
          "scatter": [
           {
            "fillpattern": {
             "fillmode": "overlay",
             "size": 10,
             "solidity": 0.2
            },
            "type": "scatter"
           }
          ],
          "scatter3d": [
           {
            "line": {
             "colorbar": {
              "outlinewidth": 1,
              "tickcolor": "rgb(36,36,36)",
              "ticks": "outside"
             }
            },
            "marker": {
             "colorbar": {
              "outlinewidth": 1,
              "tickcolor": "rgb(36,36,36)",
              "ticks": "outside"
             }
            },
            "type": "scatter3d"
           }
          ],
          "scattercarpet": [
           {
            "marker": {
             "colorbar": {
              "outlinewidth": 1,
              "tickcolor": "rgb(36,36,36)",
              "ticks": "outside"
             }
            },
            "type": "scattercarpet"
           }
          ],
          "scattergeo": [
           {
            "marker": {
             "colorbar": {
              "outlinewidth": 1,
              "tickcolor": "rgb(36,36,36)",
              "ticks": "outside"
             }
            },
            "type": "scattergeo"
           }
          ],
          "scattergl": [
           {
            "marker": {
             "colorbar": {
              "outlinewidth": 1,
              "tickcolor": "rgb(36,36,36)",
              "ticks": "outside"
             }
            },
            "type": "scattergl"
           }
          ],
          "scattermapbox": [
           {
            "marker": {
             "colorbar": {
              "outlinewidth": 1,
              "tickcolor": "rgb(36,36,36)",
              "ticks": "outside"
             }
            },
            "type": "scattermapbox"
           }
          ],
          "scatterpolar": [
           {
            "marker": {
             "colorbar": {
              "outlinewidth": 1,
              "tickcolor": "rgb(36,36,36)",
              "ticks": "outside"
             }
            },
            "type": "scatterpolar"
           }
          ],
          "scatterpolargl": [
           {
            "marker": {
             "colorbar": {
              "outlinewidth": 1,
              "tickcolor": "rgb(36,36,36)",
              "ticks": "outside"
             }
            },
            "type": "scatterpolargl"
           }
          ],
          "scatterternary": [
           {
            "marker": {
             "colorbar": {
              "outlinewidth": 1,
              "tickcolor": "rgb(36,36,36)",
              "ticks": "outside"
             }
            },
            "type": "scatterternary"
           }
          ],
          "surface": [
           {
            "colorbar": {
             "outlinewidth": 1,
             "tickcolor": "rgb(36,36,36)",
             "ticks": "outside"
            },
            "colorscale": [
             [
              0,
              "#440154"
             ],
             [
              0.1111111111111111,
              "#482878"
             ],
             [
              0.2222222222222222,
              "#3e4989"
             ],
             [
              0.3333333333333333,
              "#31688e"
             ],
             [
              0.4444444444444444,
              "#26828e"
             ],
             [
              0.5555555555555556,
              "#1f9e89"
             ],
             [
              0.6666666666666666,
              "#35b779"
             ],
             [
              0.7777777777777778,
              "#6ece58"
             ],
             [
              0.8888888888888888,
              "#b5de2b"
             ],
             [
              1,
              "#fde725"
             ]
            ],
            "type": "surface"
           }
          ],
          "table": [
           {
            "cells": {
             "fill": {
              "color": "rgb(237,237,237)"
             },
             "line": {
              "color": "white"
             }
            },
            "header": {
             "fill": {
              "color": "rgb(217,217,217)"
             },
             "line": {
              "color": "white"
             }
            },
            "type": "table"
           }
          ]
         },
         "layout": {
          "annotationdefaults": {
           "arrowhead": 0,
           "arrowwidth": 1
          },
          "autotypenumbers": "strict",
          "coloraxis": {
           "colorbar": {
            "outlinewidth": 1,
            "tickcolor": "rgb(36,36,36)",
            "ticks": "outside"
           }
          },
          "colorscale": {
           "diverging": [
            [
             0,
             "rgb(103,0,31)"
            ],
            [
             0.1,
             "rgb(178,24,43)"
            ],
            [
             0.2,
             "rgb(214,96,77)"
            ],
            [
             0.3,
             "rgb(244,165,130)"
            ],
            [
             0.4,
             "rgb(253,219,199)"
            ],
            [
             0.5,
             "rgb(247,247,247)"
            ],
            [
             0.6,
             "rgb(209,229,240)"
            ],
            [
             0.7,
             "rgb(146,197,222)"
            ],
            [
             0.8,
             "rgb(67,147,195)"
            ],
            [
             0.9,
             "rgb(33,102,172)"
            ],
            [
             1,
             "rgb(5,48,97)"
            ]
           ],
           "sequential": [
            [
             0,
             "#440154"
            ],
            [
             0.1111111111111111,
             "#482878"
            ],
            [
             0.2222222222222222,
             "#3e4989"
            ],
            [
             0.3333333333333333,
             "#31688e"
            ],
            [
             0.4444444444444444,
             "#26828e"
            ],
            [
             0.5555555555555556,
             "#1f9e89"
            ],
            [
             0.6666666666666666,
             "#35b779"
            ],
            [
             0.7777777777777778,
             "#6ece58"
            ],
            [
             0.8888888888888888,
             "#b5de2b"
            ],
            [
             1,
             "#fde725"
            ]
           ],
           "sequentialminus": [
            [
             0,
             "#440154"
            ],
            [
             0.1111111111111111,
             "#482878"
            ],
            [
             0.2222222222222222,
             "#3e4989"
            ],
            [
             0.3333333333333333,
             "#31688e"
            ],
            [
             0.4444444444444444,
             "#26828e"
            ],
            [
             0.5555555555555556,
             "#1f9e89"
            ],
            [
             0.6666666666666666,
             "#35b779"
            ],
            [
             0.7777777777777778,
             "#6ece58"
            ],
            [
             0.8888888888888888,
             "#b5de2b"
            ],
            [
             1,
             "#fde725"
            ]
           ]
          },
          "colorway": [
           "#1F77B4",
           "#FF7F0E",
           "#2CA02C",
           "#D62728",
           "#9467BD",
           "#8C564B",
           "#E377C2",
           "#7F7F7F",
           "#BCBD22",
           "#17BECF"
          ],
          "font": {
           "color": "rgb(36,36,36)"
          },
          "geo": {
           "bgcolor": "white",
           "lakecolor": "white",
           "landcolor": "white",
           "showlakes": true,
           "showland": true,
           "subunitcolor": "white"
          },
          "hoverlabel": {
           "align": "left"
          },
          "hovermode": "closest",
          "mapbox": {
           "style": "light"
          },
          "paper_bgcolor": "white",
          "plot_bgcolor": "white",
          "polar": {
           "angularaxis": {
            "gridcolor": "rgb(232,232,232)",
            "linecolor": "rgb(36,36,36)",
            "showgrid": false,
            "showline": true,
            "ticks": "outside"
           },
           "bgcolor": "white",
           "radialaxis": {
            "gridcolor": "rgb(232,232,232)",
            "linecolor": "rgb(36,36,36)",
            "showgrid": false,
            "showline": true,
            "ticks": "outside"
           }
          },
          "scene": {
           "xaxis": {
            "backgroundcolor": "white",
            "gridcolor": "rgb(232,232,232)",
            "gridwidth": 2,
            "linecolor": "rgb(36,36,36)",
            "showbackground": true,
            "showgrid": false,
            "showline": true,
            "ticks": "outside",
            "zeroline": false,
            "zerolinecolor": "rgb(36,36,36)"
           },
           "yaxis": {
            "backgroundcolor": "white",
            "gridcolor": "rgb(232,232,232)",
            "gridwidth": 2,
            "linecolor": "rgb(36,36,36)",
            "showbackground": true,
            "showgrid": false,
            "showline": true,
            "ticks": "outside",
            "zeroline": false,
            "zerolinecolor": "rgb(36,36,36)"
           },
           "zaxis": {
            "backgroundcolor": "white",
            "gridcolor": "rgb(232,232,232)",
            "gridwidth": 2,
            "linecolor": "rgb(36,36,36)",
            "showbackground": true,
            "showgrid": false,
            "showline": true,
            "ticks": "outside",
            "zeroline": false,
            "zerolinecolor": "rgb(36,36,36)"
           }
          },
          "shapedefaults": {
           "fillcolor": "black",
           "line": {
            "width": 0
           },
           "opacity": 0.3
          },
          "ternary": {
           "aaxis": {
            "gridcolor": "rgb(232,232,232)",
            "linecolor": "rgb(36,36,36)",
            "showgrid": false,
            "showline": true,
            "ticks": "outside"
           },
           "baxis": {
            "gridcolor": "rgb(232,232,232)",
            "linecolor": "rgb(36,36,36)",
            "showgrid": false,
            "showline": true,
            "ticks": "outside"
           },
           "bgcolor": "white",
           "caxis": {
            "gridcolor": "rgb(232,232,232)",
            "linecolor": "rgb(36,36,36)",
            "showgrid": false,
            "showline": true,
            "ticks": "outside"
           }
          },
          "title": {
           "x": 0.05
          },
          "xaxis": {
           "automargin": true,
           "gridcolor": "rgb(232,232,232)",
           "linecolor": "rgb(36,36,36)",
           "showgrid": false,
           "showline": true,
           "ticks": "outside",
           "title": {
            "standoff": 15
           },
           "zeroline": false,
           "zerolinecolor": "rgb(36,36,36)"
          },
          "yaxis": {
           "automargin": true,
           "gridcolor": "rgb(232,232,232)",
           "linecolor": "rgb(36,36,36)",
           "showgrid": false,
           "showline": true,
           "ticks": "outside",
           "title": {
            "standoff": 15
           },
           "zeroline": false,
           "zerolinecolor": "rgb(36,36,36)"
          }
         }
        },
        "title": {
         "font": {
          "color": "Black",
          "size": 22
         },
         "text": "<b>Intertopic Distance Map",
         "x": 0.5,
         "xanchor": "center",
         "y": 0.95,
         "yanchor": "top"
        },
        "width": 650,
        "xaxis": {
         "anchor": "y",
         "domain": [
          0,
          1
         ],
         "range": [
          -5.766042900085449,
          20.091837215423585
         ],
         "title": {
          "text": ""
         },
         "visible": false
        },
        "yaxis": {
         "anchor": "x",
         "domain": [
          0,
          1
         ],
         "range": [
          -8.070801043510437,
          24.2845440864563
         ],
         "title": {
          "text": ""
         },
         "visible": false
        }
       }
      }
     },
     "metadata": {},
     "output_type": "display_data"
    }
   ],
   "source": [
    "model.visualize_topics()"
   ]
  },
  {
   "cell_type": "code",
   "execution_count": 7,
   "metadata": {},
   "outputs": [
    {
     "data": {
      "application/vnd.plotly.v1+json": {
       "config": {
        "plotlyServerURL": "https://plot.ly"
       },
       "data": [
        {
         "marker": {
          "color": "#D55E00"
         },
         "orientation": "h",
         "type": "bar",
         "x": [
          0.02519185411770986,
          0.025859887675666306,
          0.07683210717996711,
          0.07878043231612103,
          0.07878043231612103
         ],
         "xaxis": "x",
         "y": [
          "com  ",
          "rt  ",
          "ciro  ",
          "co  ",
          "https  "
         ],
         "yaxis": "y"
        },
        {
         "marker": {
          "color": "#0072B2"
         },
         "orientation": "h",
         "type": "bar",
         "x": [
          0.026693693541142736,
          0.02681844076502995,
          0.027578929970398368,
          0.027778957009133565,
          0.03807975290381575
         ],
         "xaxis": "x2",
         "y": [
          "vamos  ",
          "de  ",
          "esperança  ",
          "que  ",
          "brasil  "
         ],
         "yaxis": "y2"
        },
        {
         "marker": {
          "color": "#CC79A7"
         },
         "orientation": "h",
         "type": "bar",
         "x": [
          0.03485030734802383,
          0.038962533771087514,
          0.050385308921209064,
          0.053710914492834314,
          0.05866212796021611
         ],
         "xaxis": "x3",
         "y": [
          "do  ",
          "mínima  ",
          "renda  ",
          "de  ",
          "programa  "
         ],
         "yaxis": "y3"
        },
        {
         "marker": {
          "color": "#E69F00"
         },
         "orientation": "h",
         "type": "bar",
         "x": [
          0.07214325303674088,
          0.07214325303674088,
          0.07797847227454284,
          0.13220361208508657,
          0.13399234269989868
         ],
         "xaxis": "x4",
         "y": [
          "co  ",
          "https  ",
          "giro  ",
          "2022  ",
          "08  "
         ],
         "yaxis": "y4"
        },
        {
         "marker": {
          "color": "#56B4E9"
         },
         "orientation": "h",
         "type": "bar",
         "x": [
          0.02856665021574734,
          0.0341155570935452,
          0.03939024774469074,
          0.04308728047135468,
          0.048135813021246726
         ],
         "xaxis": "x5",
         "y": [
          "guerra  ",
          "menor  ",
          "redução  ",
          "em  ",
          "de  "
         ],
         "yaxis": "y5"
        }
       ],
       "layout": {
        "annotations": [
         {
          "font": {
           "size": 16
          },
          "showarrow": false,
          "text": "Topic 0",
          "x": 0.0875,
          "xanchor": "center",
          "xref": "paper",
          "y": 1,
          "yanchor": "bottom",
          "yref": "paper"
         },
         {
          "font": {
           "size": 16
          },
          "showarrow": false,
          "text": "Topic 1",
          "x": 0.36250000000000004,
          "xanchor": "center",
          "xref": "paper",
          "y": 1,
          "yanchor": "bottom",
          "yref": "paper"
         },
         {
          "font": {
           "size": 16
          },
          "showarrow": false,
          "text": "Topic 2",
          "x": 0.6375000000000001,
          "xanchor": "center",
          "xref": "paper",
          "y": 1,
          "yanchor": "bottom",
          "yref": "paper"
         },
         {
          "font": {
           "size": 16
          },
          "showarrow": false,
          "text": "Topic 3",
          "x": 0.9125,
          "xanchor": "center",
          "xref": "paper",
          "y": 1,
          "yanchor": "bottom",
          "yref": "paper"
         },
         {
          "font": {
           "size": 16
          },
          "showarrow": false,
          "text": "Topic 4",
          "x": 0.0875,
          "xanchor": "center",
          "xref": "paper",
          "y": 0.4,
          "yanchor": "bottom",
          "yref": "paper"
         }
        ],
        "height": 500,
        "hoverlabel": {
         "bgcolor": "white",
         "font": {
          "family": "Rockwell",
          "size": 16
         }
        },
        "showlegend": false,
        "template": {
         "data": {
          "bar": [
           {
            "error_x": {
             "color": "#2a3f5f"
            },
            "error_y": {
             "color": "#2a3f5f"
            },
            "marker": {
             "line": {
              "color": "white",
              "width": 0.5
             },
             "pattern": {
              "fillmode": "overlay",
              "size": 10,
              "solidity": 0.2
             }
            },
            "type": "bar"
           }
          ],
          "barpolar": [
           {
            "marker": {
             "line": {
              "color": "white",
              "width": 0.5
             },
             "pattern": {
              "fillmode": "overlay",
              "size": 10,
              "solidity": 0.2
             }
            },
            "type": "barpolar"
           }
          ],
          "carpet": [
           {
            "aaxis": {
             "endlinecolor": "#2a3f5f",
             "gridcolor": "#C8D4E3",
             "linecolor": "#C8D4E3",
             "minorgridcolor": "#C8D4E3",
             "startlinecolor": "#2a3f5f"
            },
            "baxis": {
             "endlinecolor": "#2a3f5f",
             "gridcolor": "#C8D4E3",
             "linecolor": "#C8D4E3",
             "minorgridcolor": "#C8D4E3",
             "startlinecolor": "#2a3f5f"
            },
            "type": "carpet"
           }
          ],
          "choropleth": [
           {
            "colorbar": {
             "outlinewidth": 0,
             "ticks": ""
            },
            "type": "choropleth"
           }
          ],
          "contour": [
           {
            "colorbar": {
             "outlinewidth": 0,
             "ticks": ""
            },
            "colorscale": [
             [
              0,
              "#0d0887"
             ],
             [
              0.1111111111111111,
              "#46039f"
             ],
             [
              0.2222222222222222,
              "#7201a8"
             ],
             [
              0.3333333333333333,
              "#9c179e"
             ],
             [
              0.4444444444444444,
              "#bd3786"
             ],
             [
              0.5555555555555556,
              "#d8576b"
             ],
             [
              0.6666666666666666,
              "#ed7953"
             ],
             [
              0.7777777777777778,
              "#fb9f3a"
             ],
             [
              0.8888888888888888,
              "#fdca26"
             ],
             [
              1,
              "#f0f921"
             ]
            ],
            "type": "contour"
           }
          ],
          "contourcarpet": [
           {
            "colorbar": {
             "outlinewidth": 0,
             "ticks": ""
            },
            "type": "contourcarpet"
           }
          ],
          "heatmap": [
           {
            "colorbar": {
             "outlinewidth": 0,
             "ticks": ""
            },
            "colorscale": [
             [
              0,
              "#0d0887"
             ],
             [
              0.1111111111111111,
              "#46039f"
             ],
             [
              0.2222222222222222,
              "#7201a8"
             ],
             [
              0.3333333333333333,
              "#9c179e"
             ],
             [
              0.4444444444444444,
              "#bd3786"
             ],
             [
              0.5555555555555556,
              "#d8576b"
             ],
             [
              0.6666666666666666,
              "#ed7953"
             ],
             [
              0.7777777777777778,
              "#fb9f3a"
             ],
             [
              0.8888888888888888,
              "#fdca26"
             ],
             [
              1,
              "#f0f921"
             ]
            ],
            "type": "heatmap"
           }
          ],
          "heatmapgl": [
           {
            "colorbar": {
             "outlinewidth": 0,
             "ticks": ""
            },
            "colorscale": [
             [
              0,
              "#0d0887"
             ],
             [
              0.1111111111111111,
              "#46039f"
             ],
             [
              0.2222222222222222,
              "#7201a8"
             ],
             [
              0.3333333333333333,
              "#9c179e"
             ],
             [
              0.4444444444444444,
              "#bd3786"
             ],
             [
              0.5555555555555556,
              "#d8576b"
             ],
             [
              0.6666666666666666,
              "#ed7953"
             ],
             [
              0.7777777777777778,
              "#fb9f3a"
             ],
             [
              0.8888888888888888,
              "#fdca26"
             ],
             [
              1,
              "#f0f921"
             ]
            ],
            "type": "heatmapgl"
           }
          ],
          "histogram": [
           {
            "marker": {
             "pattern": {
              "fillmode": "overlay",
              "size": 10,
              "solidity": 0.2
             }
            },
            "type": "histogram"
           }
          ],
          "histogram2d": [
           {
            "colorbar": {
             "outlinewidth": 0,
             "ticks": ""
            },
            "colorscale": [
             [
              0,
              "#0d0887"
             ],
             [
              0.1111111111111111,
              "#46039f"
             ],
             [
              0.2222222222222222,
              "#7201a8"
             ],
             [
              0.3333333333333333,
              "#9c179e"
             ],
             [
              0.4444444444444444,
              "#bd3786"
             ],
             [
              0.5555555555555556,
              "#d8576b"
             ],
             [
              0.6666666666666666,
              "#ed7953"
             ],
             [
              0.7777777777777778,
              "#fb9f3a"
             ],
             [
              0.8888888888888888,
              "#fdca26"
             ],
             [
              1,
              "#f0f921"
             ]
            ],
            "type": "histogram2d"
           }
          ],
          "histogram2dcontour": [
           {
            "colorbar": {
             "outlinewidth": 0,
             "ticks": ""
            },
            "colorscale": [
             [
              0,
              "#0d0887"
             ],
             [
              0.1111111111111111,
              "#46039f"
             ],
             [
              0.2222222222222222,
              "#7201a8"
             ],
             [
              0.3333333333333333,
              "#9c179e"
             ],
             [
              0.4444444444444444,
              "#bd3786"
             ],
             [
              0.5555555555555556,
              "#d8576b"
             ],
             [
              0.6666666666666666,
              "#ed7953"
             ],
             [
              0.7777777777777778,
              "#fb9f3a"
             ],
             [
              0.8888888888888888,
              "#fdca26"
             ],
             [
              1,
              "#f0f921"
             ]
            ],
            "type": "histogram2dcontour"
           }
          ],
          "mesh3d": [
           {
            "colorbar": {
             "outlinewidth": 0,
             "ticks": ""
            },
            "type": "mesh3d"
           }
          ],
          "parcoords": [
           {
            "line": {
             "colorbar": {
              "outlinewidth": 0,
              "ticks": ""
             }
            },
            "type": "parcoords"
           }
          ],
          "pie": [
           {
            "automargin": true,
            "type": "pie"
           }
          ],
          "scatter": [
           {
            "fillpattern": {
             "fillmode": "overlay",
             "size": 10,
             "solidity": 0.2
            },
            "type": "scatter"
           }
          ],
          "scatter3d": [
           {
            "line": {
             "colorbar": {
              "outlinewidth": 0,
              "ticks": ""
             }
            },
            "marker": {
             "colorbar": {
              "outlinewidth": 0,
              "ticks": ""
             }
            },
            "type": "scatter3d"
           }
          ],
          "scattercarpet": [
           {
            "marker": {
             "colorbar": {
              "outlinewidth": 0,
              "ticks": ""
             }
            },
            "type": "scattercarpet"
           }
          ],
          "scattergeo": [
           {
            "marker": {
             "colorbar": {
              "outlinewidth": 0,
              "ticks": ""
             }
            },
            "type": "scattergeo"
           }
          ],
          "scattergl": [
           {
            "marker": {
             "colorbar": {
              "outlinewidth": 0,
              "ticks": ""
             }
            },
            "type": "scattergl"
           }
          ],
          "scattermapbox": [
           {
            "marker": {
             "colorbar": {
              "outlinewidth": 0,
              "ticks": ""
             }
            },
            "type": "scattermapbox"
           }
          ],
          "scatterpolar": [
           {
            "marker": {
             "colorbar": {
              "outlinewidth": 0,
              "ticks": ""
             }
            },
            "type": "scatterpolar"
           }
          ],
          "scatterpolargl": [
           {
            "marker": {
             "colorbar": {
              "outlinewidth": 0,
              "ticks": ""
             }
            },
            "type": "scatterpolargl"
           }
          ],
          "scatterternary": [
           {
            "marker": {
             "colorbar": {
              "outlinewidth": 0,
              "ticks": ""
             }
            },
            "type": "scatterternary"
           }
          ],
          "surface": [
           {
            "colorbar": {
             "outlinewidth": 0,
             "ticks": ""
            },
            "colorscale": [
             [
              0,
              "#0d0887"
             ],
             [
              0.1111111111111111,
              "#46039f"
             ],
             [
              0.2222222222222222,
              "#7201a8"
             ],
             [
              0.3333333333333333,
              "#9c179e"
             ],
             [
              0.4444444444444444,
              "#bd3786"
             ],
             [
              0.5555555555555556,
              "#d8576b"
             ],
             [
              0.6666666666666666,
              "#ed7953"
             ],
             [
              0.7777777777777778,
              "#fb9f3a"
             ],
             [
              0.8888888888888888,
              "#fdca26"
             ],
             [
              1,
              "#f0f921"
             ]
            ],
            "type": "surface"
           }
          ],
          "table": [
           {
            "cells": {
             "fill": {
              "color": "#EBF0F8"
             },
             "line": {
              "color": "white"
             }
            },
            "header": {
             "fill": {
              "color": "#C8D4E3"
             },
             "line": {
              "color": "white"
             }
            },
            "type": "table"
           }
          ]
         },
         "layout": {
          "annotationdefaults": {
           "arrowcolor": "#2a3f5f",
           "arrowhead": 0,
           "arrowwidth": 1
          },
          "autotypenumbers": "strict",
          "coloraxis": {
           "colorbar": {
            "outlinewidth": 0,
            "ticks": ""
           }
          },
          "colorscale": {
           "diverging": [
            [
             0,
             "#8e0152"
            ],
            [
             0.1,
             "#c51b7d"
            ],
            [
             0.2,
             "#de77ae"
            ],
            [
             0.3,
             "#f1b6da"
            ],
            [
             0.4,
             "#fde0ef"
            ],
            [
             0.5,
             "#f7f7f7"
            ],
            [
             0.6,
             "#e6f5d0"
            ],
            [
             0.7,
             "#b8e186"
            ],
            [
             0.8,
             "#7fbc41"
            ],
            [
             0.9,
             "#4d9221"
            ],
            [
             1,
             "#276419"
            ]
           ],
           "sequential": [
            [
             0,
             "#0d0887"
            ],
            [
             0.1111111111111111,
             "#46039f"
            ],
            [
             0.2222222222222222,
             "#7201a8"
            ],
            [
             0.3333333333333333,
             "#9c179e"
            ],
            [
             0.4444444444444444,
             "#bd3786"
            ],
            [
             0.5555555555555556,
             "#d8576b"
            ],
            [
             0.6666666666666666,
             "#ed7953"
            ],
            [
             0.7777777777777778,
             "#fb9f3a"
            ],
            [
             0.8888888888888888,
             "#fdca26"
            ],
            [
             1,
             "#f0f921"
            ]
           ],
           "sequentialminus": [
            [
             0,
             "#0d0887"
            ],
            [
             0.1111111111111111,
             "#46039f"
            ],
            [
             0.2222222222222222,
             "#7201a8"
            ],
            [
             0.3333333333333333,
             "#9c179e"
            ],
            [
             0.4444444444444444,
             "#bd3786"
            ],
            [
             0.5555555555555556,
             "#d8576b"
            ],
            [
             0.6666666666666666,
             "#ed7953"
            ],
            [
             0.7777777777777778,
             "#fb9f3a"
            ],
            [
             0.8888888888888888,
             "#fdca26"
            ],
            [
             1,
             "#f0f921"
            ]
           ]
          },
          "colorway": [
           "#636efa",
           "#EF553B",
           "#00cc96",
           "#ab63fa",
           "#FFA15A",
           "#19d3f3",
           "#FF6692",
           "#B6E880",
           "#FF97FF",
           "#FECB52"
          ],
          "font": {
           "color": "#2a3f5f"
          },
          "geo": {
           "bgcolor": "white",
           "lakecolor": "white",
           "landcolor": "white",
           "showlakes": true,
           "showland": true,
           "subunitcolor": "#C8D4E3"
          },
          "hoverlabel": {
           "align": "left"
          },
          "hovermode": "closest",
          "mapbox": {
           "style": "light"
          },
          "paper_bgcolor": "white",
          "plot_bgcolor": "white",
          "polar": {
           "angularaxis": {
            "gridcolor": "#EBF0F8",
            "linecolor": "#EBF0F8",
            "ticks": ""
           },
           "bgcolor": "white",
           "radialaxis": {
            "gridcolor": "#EBF0F8",
            "linecolor": "#EBF0F8",
            "ticks": ""
           }
          },
          "scene": {
           "xaxis": {
            "backgroundcolor": "white",
            "gridcolor": "#DFE8F3",
            "gridwidth": 2,
            "linecolor": "#EBF0F8",
            "showbackground": true,
            "ticks": "",
            "zerolinecolor": "#EBF0F8"
           },
           "yaxis": {
            "backgroundcolor": "white",
            "gridcolor": "#DFE8F3",
            "gridwidth": 2,
            "linecolor": "#EBF0F8",
            "showbackground": true,
            "ticks": "",
            "zerolinecolor": "#EBF0F8"
           },
           "zaxis": {
            "backgroundcolor": "white",
            "gridcolor": "#DFE8F3",
            "gridwidth": 2,
            "linecolor": "#EBF0F8",
            "showbackground": true,
            "ticks": "",
            "zerolinecolor": "#EBF0F8"
           }
          },
          "shapedefaults": {
           "line": {
            "color": "#2a3f5f"
           }
          },
          "ternary": {
           "aaxis": {
            "gridcolor": "#DFE8F3",
            "linecolor": "#A2B1C6",
            "ticks": ""
           },
           "baxis": {
            "gridcolor": "#DFE8F3",
            "linecolor": "#A2B1C6",
            "ticks": ""
           },
           "bgcolor": "white",
           "caxis": {
            "gridcolor": "#DFE8F3",
            "linecolor": "#A2B1C6",
            "ticks": ""
           }
          },
          "title": {
           "x": 0.05
          },
          "xaxis": {
           "automargin": true,
           "gridcolor": "#EBF0F8",
           "linecolor": "#EBF0F8",
           "ticks": "",
           "title": {
            "standoff": 15
           },
           "zerolinecolor": "#EBF0F8",
           "zerolinewidth": 2
          },
          "yaxis": {
           "automargin": true,
           "gridcolor": "#EBF0F8",
           "linecolor": "#EBF0F8",
           "ticks": "",
           "title": {
            "standoff": 15
           },
           "zerolinecolor": "#EBF0F8",
           "zerolinewidth": 2
          }
         }
        },
        "title": {
         "font": {
          "color": "Black",
          "size": 22
         },
         "text": "<b>Topic Word Scores",
         "x": 0.5,
         "xanchor": "center",
         "yanchor": "top"
        },
        "width": 1000,
        "xaxis": {
         "anchor": "y",
         "domain": [
          0,
          0.175
         ],
         "showgrid": true
        },
        "xaxis2": {
         "anchor": "y2",
         "domain": [
          0.275,
          0.45
         ],
         "showgrid": true
        },
        "xaxis3": {
         "anchor": "y3",
         "domain": [
          0.55,
          0.7250000000000001
         ],
         "showgrid": true
        },
        "xaxis4": {
         "anchor": "y4",
         "domain": [
          0.825,
          1
         ],
         "showgrid": true
        },
        "xaxis5": {
         "anchor": "y5",
         "domain": [
          0,
          0.175
         ],
         "showgrid": true
        },
        "xaxis6": {
         "anchor": "y6",
         "domain": [
          0.275,
          0.45
         ],
         "showgrid": true
        },
        "xaxis7": {
         "anchor": "y7",
         "domain": [
          0.55,
          0.7250000000000001
         ],
         "showgrid": true
        },
        "xaxis8": {
         "anchor": "y8",
         "domain": [
          0.825,
          1
         ],
         "showgrid": true
        },
        "yaxis": {
         "anchor": "x",
         "domain": [
          0.6000000000000001,
          1
         ],
         "showgrid": true
        },
        "yaxis2": {
         "anchor": "x2",
         "domain": [
          0.6000000000000001,
          1
         ],
         "showgrid": true
        },
        "yaxis3": {
         "anchor": "x3",
         "domain": [
          0.6000000000000001,
          1
         ],
         "showgrid": true
        },
        "yaxis4": {
         "anchor": "x4",
         "domain": [
          0.6000000000000001,
          1
         ],
         "showgrid": true
        },
        "yaxis5": {
         "anchor": "x5",
         "domain": [
          0,
          0.4
         ],
         "showgrid": true
        },
        "yaxis6": {
         "anchor": "x6",
         "domain": [
          0,
          0.4
         ],
         "showgrid": true
        },
        "yaxis7": {
         "anchor": "x7",
         "domain": [
          0,
          0.4
         ],
         "showgrid": true
        },
        "yaxis8": {
         "anchor": "x8",
         "domain": [
          0,
          0.4
         ],
         "showgrid": true
        }
       }
      }
     },
     "metadata": {},
     "output_type": "display_data"
    }
   ],
   "source": [
    "model.visualize_barchart(top_n_topics=5)"
   ]
  },
  {
   "cell_type": "code",
   "execution_count": 9,
   "metadata": {},
   "outputs": [
    {
     "data": {
      "application/vnd.plotly.v1+json": {
       "config": {
        "plotlyServerURL": "https://plot.ly"
       },
       "data": [
        {
         "coloraxis": "coloraxis",
         "hovertemplate": "x: %{x}<br>y: %{y}<br>Similarity Score: %{z}<extra></extra>",
         "name": "0",
         "type": "heatmap",
         "x": [
          "0_https_co_ciro",
          "1_brasil_que_esperança",
          "2_programa_de_renda",
          "3_08_2022_giro",
          "4_de_em_redução",
          "5_lula_https_co",
          "6_ano_ton_safra",
          "7_eu_voto_eleição",
          "8_ele_bolsonaro_porque",
          "9_sobre_ciro_cironorodaviva",
          "10_deus_se_você",
          "11_saudades_carta_democracia",
          "12_não_sou_que",
          "13_reeleição_política_um",
          "14_bolsonaro_jair_pai",
          "15_gente_que_gerar",
          "16_estímulo_prática_desporto",
          "17_entenda_kg_maconha",
          "18_recuperar_precisamos_emp...",
          "19_melhora_pobre_coisas",
          "20_está_uma_errado"
         ],
         "xaxis": "x",
         "y": [
          "0_https_co_ciro",
          "1_brasil_que_esperança",
          "2_programa_de_renda",
          "3_08_2022_giro",
          "4_de_em_redução",
          "5_lula_https_co",
          "6_ano_ton_safra",
          "7_eu_voto_eleição",
          "8_ele_bolsonaro_porque",
          "9_sobre_ciro_cironorodaviva",
          "10_deus_se_você",
          "11_saudades_carta_democracia",
          "12_não_sou_que",
          "13_reeleição_política_um",
          "14_bolsonaro_jair_pai",
          "15_gente_que_gerar",
          "16_estímulo_prática_desporto",
          "17_entenda_kg_maconha",
          "18_recuperar_precisamos_emp...",
          "19_melhora_pobre_coisas",
          "20_está_uma_errado"
         ],
         "yaxis": "y",
         "z": [
          [
           0.9999999999999997,
           0.8978779278000807,
           0.8976084365459094,
           0.9576721624140145,
           0.8788869462315435,
           0.9303959114535938,
           0.9270417047648112,
           0.9337222091648838,
           0.8821649325400704,
           0.9433481807096898,
           0.9467083150781059,
           0.930880961590939,
           0.896048876542058,
           0.9389958085966208,
           0.8500146741388923,
           0.9275569531146659,
           0.9530172317291384,
           0.8585643916994994,
           0.8900289973668356,
           0.8911293150907071,
           0.9145936327096302
          ],
          [
           0.8978779278000807,
           0.9999999999999991,
           0.871230300190934,
           0.8763500026108574,
           0.9071005289305067,
           0.8428650938172049,
           0.9650272260566546,
           0.8759069041075017,
           0.7900581115358773,
           0.8579812531320452,
           0.947704998067452,
           0.8586287908762709,
           0.8291351458213101,
           0.8360922596211848,
           0.7767547261217873,
           0.9116455766855784,
           0.8860860641051934,
           0.7747531759551339,
           0.8055521666832186,
           0.8056155953323199,
           0.8025445767259984
          ],
          [
           0.8976084365459094,
           0.871230300190934,
           1,
           0.8594211451188312,
           0.8393941202299475,
           0.8330638431688341,
           0.8838368114883581,
           0.8602640922592268,
           0.8147716573914847,
           0.8812227979575422,
           0.8908679130851802,
           0.8530426911950237,
           0.9116946303322186,
           0.8545966625560366,
           0.7961521140809543,
           0.8617586047646416,
           0.8873632051335185,
           0.7954715914719044,
           0.8064215811903852,
           0.8809323444416649,
           0.8839011062191865
          ],
          [
           0.9576721624140145,
           0.8763500026108574,
           0.8594211451188312,
           1.0000000000000002,
           0.8849957528719843,
           0.9437488779348555,
           0.9115176573963738,
           0.9317051055194925,
           0.8397884142902267,
           0.9081953890645469,
           0.9299205699338604,
           0.907157779554616,
           0.8581758068559626,
           0.8809576127048717,
           0.8273304941152801,
           0.9238505371373191,
           0.9388852454177175,
           0.8653704916260638,
           0.8931589774898674,
           0.8712967927841275,
           0.9061403757377652
          ],
          [
           0.8788869462315435,
           0.9071005289305067,
           0.8393941202299475,
           0.8849957528719843,
           0.9999999999999998,
           0.8776875724305808,
           0.9037275636004947,
           0.8802524953940788,
           0.8123777274532817,
           0.8535522293234817,
           0.9082511465200358,
           0.8443814484060586,
           0.8302817662486075,
           0.8256611266096987,
           0.8122486230725492,
           0.9062987750295426,
           0.898574499485616,
           0.808573482260724,
           0.7985069091449473,
           0.80124672316921,
           0.8120420223615725
          ],
          [
           0.9303959114535938,
           0.8428650938172049,
           0.8330638431688341,
           0.9437488779348555,
           0.8776875724305808,
           0.9999999999999994,
           0.8683654060307041,
           0.9182727567380722,
           0.8339849392592736,
           0.8794950465867584,
           0.8962922779296281,
           0.87362386336082,
           0.8380985577683011,
           0.8563689062488442,
           0.8288196040337547,
           0.896310418771896,
           0.9081151303139376,
           0.845727072887553,
           0.8711393522964367,
           0.8661031297745196,
           0.8844596697709666
          ],
          [
           0.9270417047648112,
           0.9650272260566546,
           0.8838368114883581,
           0.9115176573963738,
           0.9037275636004947,
           0.8683654060307041,
           0.9999999999999998,
           0.9020213372967045,
           0.8087202788629075,
           0.8790298867585066,
           0.9520111248998128,
           0.8854211550853017,
           0.8521427870294326,
           0.8561400264173504,
           0.7961498089778887,
           0.909724193525324,
           0.9160250422638299,
           0.8060103042757473,
           0.8341580358479024,
           0.8323000025476555,
           0.8403192230713643
          ],
          [
           0.9337222091648838,
           0.8759069041075017,
           0.8602640922592268,
           0.9317051055194925,
           0.8802524953940788,
           0.9182727567380722,
           0.9020213372967045,
           0.9999999999999996,
           0.8330154371874363,
           0.8830291757021511,
           0.9129124201805868,
           0.891243249462423,
           0.8597964283703687,
           0.8664985059181707,
           0.8444581122499445,
           0.9066120029586597,
           0.9468125856363482,
           0.838292096290902,
           0.8635630547610342,
           0.8685378987775515,
           0.9012415683022358
          ],
          [
           0.8821649325400704,
           0.7900581115358773,
           0.8147716573914847,
           0.8397884142902267,
           0.8123777274532817,
           0.8339849392592736,
           0.8087202788629075,
           0.8330154371874363,
           0.9999999999999998,
           0.9051239706974277,
           0.8445947551868478,
           0.8476641827348114,
           0.8682420213173276,
           0.8896667161725285,
           0.924555297006592,
           0.8404953118251103,
           0.8677114315539155,
           0.7964787425167859,
           0.7835202533733361,
           0.7882559780153311,
           0.820879621674876
          ],
          [
           0.9433481807096898,
           0.8579812531320452,
           0.8812227979575422,
           0.9081953890645469,
           0.8535522293234817,
           0.8794950465867584,
           0.8790298867585066,
           0.8830291757021511,
           0.9051239706974277,
           1.0000000000000004,
           0.9104770863211045,
           0.9345478924891941,
           0.8875496347452441,
           0.9498941504032052,
           0.8646779837942499,
           0.9158852799900835,
           0.914383004506824,
           0.8243488527655013,
           0.8539615434729086,
           0.8604635827699909,
           0.8867745927079469
          ],
          [
           0.9467083150781059,
           0.947704998067452,
           0.8908679130851802,
           0.9299205699338604,
           0.9082511465200358,
           0.8962922779296281,
           0.9520111248998128,
           0.9129124201805868,
           0.8445947551868478,
           0.9104770863211045,
           1.0000000000000002,
           0.9089090202376757,
           0.8827314627796214,
           0.896609329874376,
           0.8339370943581628,
           0.9203909773586751,
           0.9355586742693444,
           0.8477915754843077,
           0.8587475663493351,
           0.8649390695315486,
           0.8617181699021608
          ],
          [
           0.930880961590939,
           0.8586287908762709,
           0.8530426911950237,
           0.907157779554616,
           0.8443814484060586,
           0.87362386336082,
           0.8854211550853017,
           0.891243249462423,
           0.8476641827348114,
           0.9345478924891941,
           0.9089090202376757,
           1.0000000000000002,
           0.8623923699891456,
           0.9351948423596177,
           0.8421641733971924,
           0.9042282258405616,
           0.9141276843034382,
           0.8062470668895847,
           0.8497565532429276,
           0.8510186971671991,
           0.8799302043007754
          ],
          [
           0.896048876542058,
           0.8291351458213101,
           0.9116946303322186,
           0.8581758068559626,
           0.8302817662486075,
           0.8380985577683011,
           0.8521427870294326,
           0.8597964283703687,
           0.8682420213173276,
           0.8875496347452441,
           0.8827314627796214,
           0.8623923699891456,
           1.0000000000000002,
           0.861835624016231,
           0.8756009322027432,
           0.8526868386875335,
           0.90166596055656,
           0.819096545854995,
           0.8071736444508134,
           0.8560509511163441,
           0.8762242513862237
          ],
          [
           0.9389958085966208,
           0.8360922596211848,
           0.8545966625560366,
           0.8809576127048717,
           0.8256611266096987,
           0.8563689062488442,
           0.8561400264173504,
           0.8664985059181707,
           0.8896667161725285,
           0.9498941504032052,
           0.896609329874376,
           0.9351948423596177,
           0.861835624016231,
           1.0000000000000004,
           0.8320306146001799,
           0.8816546099533542,
           0.8990955975052011,
           0.8030003451404983,
           0.8409385674160675,
           0.8577647729598121,
           0.8852429887911402
          ],
          [
           0.8500146741388923,
           0.7767547261217873,
           0.7961521140809543,
           0.8273304941152801,
           0.8122486230725492,
           0.8288196040337547,
           0.7961498089778887,
           0.8444581122499445,
           0.924555297006592,
           0.8646779837942499,
           0.8339370943581628,
           0.8421641733971924,
           0.8756009322027432,
           0.8320306146001799,
           0.9999999999999989,
           0.8373546643948677,
           0.8804463073160989,
           0.8458558593820096,
           0.7855189303469374,
           0.8084781013338705,
           0.7998288583840589
          ],
          [
           0.9275569531146659,
           0.9116455766855784,
           0.8617586047646416,
           0.9238505371373191,
           0.9062987750295426,
           0.896310418771896,
           0.909724193525324,
           0.9066120029586597,
           0.8404953118251103,
           0.9158852799900835,
           0.9203909773586751,
           0.9042282258405616,
           0.8526868386875335,
           0.8816546099533542,
           0.8373546643948677,
           0.9999999999999993,
           0.9119918370381579,
           0.8411175239492825,
           0.8695354005984719,
           0.8544539712970063,
           0.8499453334509217
          ],
          [
           0.9530172317291384,
           0.8860860641051934,
           0.8873632051335185,
           0.9388852454177175,
           0.898574499485616,
           0.9081151303139376,
           0.9160250422638299,
           0.9468125856363482,
           0.8677114315539155,
           0.914383004506824,
           0.9355586742693444,
           0.9141276843034382,
           0.90166596055656,
           0.8990955975052011,
           0.8804463073160989,
           0.9119918370381579,
           1.0000000000000004,
           0.8713078591396981,
           0.8597111714630639,
           0.8928783585235862,
           0.9070630805057626
          ],
          [
           0.8585643916994994,
           0.7747531759551339,
           0.7954715914719044,
           0.8653704916260638,
           0.808573482260724,
           0.845727072887553,
           0.8060103042757473,
           0.838292096290902,
           0.7964787425167859,
           0.8243488527655013,
           0.8477915754843077,
           0.8062470668895847,
           0.819096545854995,
           0.8030003451404983,
           0.8458558593820096,
           0.8411175239492825,
           0.8713078591396981,
           1.0000000000000009,
           0.7921785522424751,
           0.8300443730147706,
           0.7988768249292988
          ],
          [
           0.8900289973668356,
           0.8055521666832186,
           0.8064215811903852,
           0.8931589774898674,
           0.7985069091449473,
           0.8711393522964367,
           0.8341580358479024,
           0.8635630547610342,
           0.7835202533733361,
           0.8539615434729086,
           0.8587475663493351,
           0.8497565532429276,
           0.8071736444508134,
           0.8409385674160675,
           0.7855189303469374,
           0.8695354005984719,
           0.8597111714630639,
           0.7921785522424751,
           1.0000000000000002,
           0.8171946489252405,
           0.8472184633508588
          ],
          [
           0.8911293150907071,
           0.8056155953323199,
           0.8809323444416649,
           0.8712967927841275,
           0.80124672316921,
           0.8661031297745196,
           0.8323000025476555,
           0.8685378987775515,
           0.7882559780153311,
           0.8604635827699909,
           0.8649390695315486,
           0.8510186971671991,
           0.8560509511163441,
           0.8577647729598121,
           0.8084781013338705,
           0.8544539712970063,
           0.8928783585235862,
           0.8300443730147706,
           0.8171946489252405,
           1.0000000000000002,
           0.8823807898886534
          ],
          [
           0.9145936327096302,
           0.8025445767259984,
           0.8839011062191865,
           0.9061403757377652,
           0.8120420223615725,
           0.8844596697709666,
           0.8403192230713643,
           0.9012415683022358,
           0.820879621674876,
           0.8867745927079469,
           0.8617181699021608,
           0.8799302043007754,
           0.8762242513862237,
           0.8852429887911402,
           0.7998288583840589,
           0.8499453334509217,
           0.9070630805057626,
           0.7988768249292988,
           0.8472184633508588,
           0.8823807898886534,
           0.9999999999999991
          ]
         ]
        }
       ],
       "layout": {
        "coloraxis": {
         "colorbar": {
          "title": {
           "text": "Similarity Score"
          }
         },
         "colorscale": [
          [
           0,
           "rgb(247,252,240)"
          ],
          [
           0.125,
           "rgb(224,243,219)"
          ],
          [
           0.25,
           "rgb(204,235,197)"
          ],
          [
           0.375,
           "rgb(168,221,181)"
          ],
          [
           0.5,
           "rgb(123,204,196)"
          ],
          [
           0.625,
           "rgb(78,179,211)"
          ],
          [
           0.75,
           "rgb(43,140,190)"
          ],
          [
           0.875,
           "rgb(8,104,172)"
          ],
          [
           1,
           "rgb(8,64,129)"
          ]
         ]
        },
        "height": 750,
        "hoverlabel": {
         "bgcolor": "white",
         "font": {
          "family": "Rockwell",
          "size": 16
         }
        },
        "legend": {
         "title": {
          "text": "Trend"
         }
        },
        "margin": {
         "t": 60
        },
        "showlegend": true,
        "template": {
         "data": {
          "bar": [
           {
            "error_x": {
             "color": "#2a3f5f"
            },
            "error_y": {
             "color": "#2a3f5f"
            },
            "marker": {
             "line": {
              "color": "#E5ECF6",
              "width": 0.5
             },
             "pattern": {
              "fillmode": "overlay",
              "size": 10,
              "solidity": 0.2
             }
            },
            "type": "bar"
           }
          ],
          "barpolar": [
           {
            "marker": {
             "line": {
              "color": "#E5ECF6",
              "width": 0.5
             },
             "pattern": {
              "fillmode": "overlay",
              "size": 10,
              "solidity": 0.2
             }
            },
            "type": "barpolar"
           }
          ],
          "carpet": [
           {
            "aaxis": {
             "endlinecolor": "#2a3f5f",
             "gridcolor": "white",
             "linecolor": "white",
             "minorgridcolor": "white",
             "startlinecolor": "#2a3f5f"
            },
            "baxis": {
             "endlinecolor": "#2a3f5f",
             "gridcolor": "white",
             "linecolor": "white",
             "minorgridcolor": "white",
             "startlinecolor": "#2a3f5f"
            },
            "type": "carpet"
           }
          ],
          "choropleth": [
           {
            "colorbar": {
             "outlinewidth": 0,
             "ticks": ""
            },
            "type": "choropleth"
           }
          ],
          "contour": [
           {
            "colorbar": {
             "outlinewidth": 0,
             "ticks": ""
            },
            "colorscale": [
             [
              0,
              "#0d0887"
             ],
             [
              0.1111111111111111,
              "#46039f"
             ],
             [
              0.2222222222222222,
              "#7201a8"
             ],
             [
              0.3333333333333333,
              "#9c179e"
             ],
             [
              0.4444444444444444,
              "#bd3786"
             ],
             [
              0.5555555555555556,
              "#d8576b"
             ],
             [
              0.6666666666666666,
              "#ed7953"
             ],
             [
              0.7777777777777778,
              "#fb9f3a"
             ],
             [
              0.8888888888888888,
              "#fdca26"
             ],
             [
              1,
              "#f0f921"
             ]
            ],
            "type": "contour"
           }
          ],
          "contourcarpet": [
           {
            "colorbar": {
             "outlinewidth": 0,
             "ticks": ""
            },
            "type": "contourcarpet"
           }
          ],
          "heatmap": [
           {
            "colorbar": {
             "outlinewidth": 0,
             "ticks": ""
            },
            "colorscale": [
             [
              0,
              "#0d0887"
             ],
             [
              0.1111111111111111,
              "#46039f"
             ],
             [
              0.2222222222222222,
              "#7201a8"
             ],
             [
              0.3333333333333333,
              "#9c179e"
             ],
             [
              0.4444444444444444,
              "#bd3786"
             ],
             [
              0.5555555555555556,
              "#d8576b"
             ],
             [
              0.6666666666666666,
              "#ed7953"
             ],
             [
              0.7777777777777778,
              "#fb9f3a"
             ],
             [
              0.8888888888888888,
              "#fdca26"
             ],
             [
              1,
              "#f0f921"
             ]
            ],
            "type": "heatmap"
           }
          ],
          "heatmapgl": [
           {
            "colorbar": {
             "outlinewidth": 0,
             "ticks": ""
            },
            "colorscale": [
             [
              0,
              "#0d0887"
             ],
             [
              0.1111111111111111,
              "#46039f"
             ],
             [
              0.2222222222222222,
              "#7201a8"
             ],
             [
              0.3333333333333333,
              "#9c179e"
             ],
             [
              0.4444444444444444,
              "#bd3786"
             ],
             [
              0.5555555555555556,
              "#d8576b"
             ],
             [
              0.6666666666666666,
              "#ed7953"
             ],
             [
              0.7777777777777778,
              "#fb9f3a"
             ],
             [
              0.8888888888888888,
              "#fdca26"
             ],
             [
              1,
              "#f0f921"
             ]
            ],
            "type": "heatmapgl"
           }
          ],
          "histogram": [
           {
            "marker": {
             "pattern": {
              "fillmode": "overlay",
              "size": 10,
              "solidity": 0.2
             }
            },
            "type": "histogram"
           }
          ],
          "histogram2d": [
           {
            "colorbar": {
             "outlinewidth": 0,
             "ticks": ""
            },
            "colorscale": [
             [
              0,
              "#0d0887"
             ],
             [
              0.1111111111111111,
              "#46039f"
             ],
             [
              0.2222222222222222,
              "#7201a8"
             ],
             [
              0.3333333333333333,
              "#9c179e"
             ],
             [
              0.4444444444444444,
              "#bd3786"
             ],
             [
              0.5555555555555556,
              "#d8576b"
             ],
             [
              0.6666666666666666,
              "#ed7953"
             ],
             [
              0.7777777777777778,
              "#fb9f3a"
             ],
             [
              0.8888888888888888,
              "#fdca26"
             ],
             [
              1,
              "#f0f921"
             ]
            ],
            "type": "histogram2d"
           }
          ],
          "histogram2dcontour": [
           {
            "colorbar": {
             "outlinewidth": 0,
             "ticks": ""
            },
            "colorscale": [
             [
              0,
              "#0d0887"
             ],
             [
              0.1111111111111111,
              "#46039f"
             ],
             [
              0.2222222222222222,
              "#7201a8"
             ],
             [
              0.3333333333333333,
              "#9c179e"
             ],
             [
              0.4444444444444444,
              "#bd3786"
             ],
             [
              0.5555555555555556,
              "#d8576b"
             ],
             [
              0.6666666666666666,
              "#ed7953"
             ],
             [
              0.7777777777777778,
              "#fb9f3a"
             ],
             [
              0.8888888888888888,
              "#fdca26"
             ],
             [
              1,
              "#f0f921"
             ]
            ],
            "type": "histogram2dcontour"
           }
          ],
          "mesh3d": [
           {
            "colorbar": {
             "outlinewidth": 0,
             "ticks": ""
            },
            "type": "mesh3d"
           }
          ],
          "parcoords": [
           {
            "line": {
             "colorbar": {
              "outlinewidth": 0,
              "ticks": ""
             }
            },
            "type": "parcoords"
           }
          ],
          "pie": [
           {
            "automargin": true,
            "type": "pie"
           }
          ],
          "scatter": [
           {
            "fillpattern": {
             "fillmode": "overlay",
             "size": 10,
             "solidity": 0.2
            },
            "type": "scatter"
           }
          ],
          "scatter3d": [
           {
            "line": {
             "colorbar": {
              "outlinewidth": 0,
              "ticks": ""
             }
            },
            "marker": {
             "colorbar": {
              "outlinewidth": 0,
              "ticks": ""
             }
            },
            "type": "scatter3d"
           }
          ],
          "scattercarpet": [
           {
            "marker": {
             "colorbar": {
              "outlinewidth": 0,
              "ticks": ""
             }
            },
            "type": "scattercarpet"
           }
          ],
          "scattergeo": [
           {
            "marker": {
             "colorbar": {
              "outlinewidth": 0,
              "ticks": ""
             }
            },
            "type": "scattergeo"
           }
          ],
          "scattergl": [
           {
            "marker": {
             "colorbar": {
              "outlinewidth": 0,
              "ticks": ""
             }
            },
            "type": "scattergl"
           }
          ],
          "scattermapbox": [
           {
            "marker": {
             "colorbar": {
              "outlinewidth": 0,
              "ticks": ""
             }
            },
            "type": "scattermapbox"
           }
          ],
          "scatterpolar": [
           {
            "marker": {
             "colorbar": {
              "outlinewidth": 0,
              "ticks": ""
             }
            },
            "type": "scatterpolar"
           }
          ],
          "scatterpolargl": [
           {
            "marker": {
             "colorbar": {
              "outlinewidth": 0,
              "ticks": ""
             }
            },
            "type": "scatterpolargl"
           }
          ],
          "scatterternary": [
           {
            "marker": {
             "colorbar": {
              "outlinewidth": 0,
              "ticks": ""
             }
            },
            "type": "scatterternary"
           }
          ],
          "surface": [
           {
            "colorbar": {
             "outlinewidth": 0,
             "ticks": ""
            },
            "colorscale": [
             [
              0,
              "#0d0887"
             ],
             [
              0.1111111111111111,
              "#46039f"
             ],
             [
              0.2222222222222222,
              "#7201a8"
             ],
             [
              0.3333333333333333,
              "#9c179e"
             ],
             [
              0.4444444444444444,
              "#bd3786"
             ],
             [
              0.5555555555555556,
              "#d8576b"
             ],
             [
              0.6666666666666666,
              "#ed7953"
             ],
             [
              0.7777777777777778,
              "#fb9f3a"
             ],
             [
              0.8888888888888888,
              "#fdca26"
             ],
             [
              1,
              "#f0f921"
             ]
            ],
            "type": "surface"
           }
          ],
          "table": [
           {
            "cells": {
             "fill": {
              "color": "#EBF0F8"
             },
             "line": {
              "color": "white"
             }
            },
            "header": {
             "fill": {
              "color": "#C8D4E3"
             },
             "line": {
              "color": "white"
             }
            },
            "type": "table"
           }
          ]
         },
         "layout": {
          "annotationdefaults": {
           "arrowcolor": "#2a3f5f",
           "arrowhead": 0,
           "arrowwidth": 1
          },
          "autotypenumbers": "strict",
          "coloraxis": {
           "colorbar": {
            "outlinewidth": 0,
            "ticks": ""
           }
          },
          "colorscale": {
           "diverging": [
            [
             0,
             "#8e0152"
            ],
            [
             0.1,
             "#c51b7d"
            ],
            [
             0.2,
             "#de77ae"
            ],
            [
             0.3,
             "#f1b6da"
            ],
            [
             0.4,
             "#fde0ef"
            ],
            [
             0.5,
             "#f7f7f7"
            ],
            [
             0.6,
             "#e6f5d0"
            ],
            [
             0.7,
             "#b8e186"
            ],
            [
             0.8,
             "#7fbc41"
            ],
            [
             0.9,
             "#4d9221"
            ],
            [
             1,
             "#276419"
            ]
           ],
           "sequential": [
            [
             0,
             "#0d0887"
            ],
            [
             0.1111111111111111,
             "#46039f"
            ],
            [
             0.2222222222222222,
             "#7201a8"
            ],
            [
             0.3333333333333333,
             "#9c179e"
            ],
            [
             0.4444444444444444,
             "#bd3786"
            ],
            [
             0.5555555555555556,
             "#d8576b"
            ],
            [
             0.6666666666666666,
             "#ed7953"
            ],
            [
             0.7777777777777778,
             "#fb9f3a"
            ],
            [
             0.8888888888888888,
             "#fdca26"
            ],
            [
             1,
             "#f0f921"
            ]
           ],
           "sequentialminus": [
            [
             0,
             "#0d0887"
            ],
            [
             0.1111111111111111,
             "#46039f"
            ],
            [
             0.2222222222222222,
             "#7201a8"
            ],
            [
             0.3333333333333333,
             "#9c179e"
            ],
            [
             0.4444444444444444,
             "#bd3786"
            ],
            [
             0.5555555555555556,
             "#d8576b"
            ],
            [
             0.6666666666666666,
             "#ed7953"
            ],
            [
             0.7777777777777778,
             "#fb9f3a"
            ],
            [
             0.8888888888888888,
             "#fdca26"
            ],
            [
             1,
             "#f0f921"
            ]
           ]
          },
          "colorway": [
           "#636efa",
           "#EF553B",
           "#00cc96",
           "#ab63fa",
           "#FFA15A",
           "#19d3f3",
           "#FF6692",
           "#B6E880",
           "#FF97FF",
           "#FECB52"
          ],
          "font": {
           "color": "#2a3f5f"
          },
          "geo": {
           "bgcolor": "white",
           "lakecolor": "white",
           "landcolor": "#E5ECF6",
           "showlakes": true,
           "showland": true,
           "subunitcolor": "white"
          },
          "hoverlabel": {
           "align": "left"
          },
          "hovermode": "closest",
          "mapbox": {
           "style": "light"
          },
          "paper_bgcolor": "white",
          "plot_bgcolor": "#E5ECF6",
          "polar": {
           "angularaxis": {
            "gridcolor": "white",
            "linecolor": "white",
            "ticks": ""
           },
           "bgcolor": "#E5ECF6",
           "radialaxis": {
            "gridcolor": "white",
            "linecolor": "white",
            "ticks": ""
           }
          },
          "scene": {
           "xaxis": {
            "backgroundcolor": "#E5ECF6",
            "gridcolor": "white",
            "gridwidth": 2,
            "linecolor": "white",
            "showbackground": true,
            "ticks": "",
            "zerolinecolor": "white"
           },
           "yaxis": {
            "backgroundcolor": "#E5ECF6",
            "gridcolor": "white",
            "gridwidth": 2,
            "linecolor": "white",
            "showbackground": true,
            "ticks": "",
            "zerolinecolor": "white"
           },
           "zaxis": {
            "backgroundcolor": "#E5ECF6",
            "gridcolor": "white",
            "gridwidth": 2,
            "linecolor": "white",
            "showbackground": true,
            "ticks": "",
            "zerolinecolor": "white"
           }
          },
          "shapedefaults": {
           "line": {
            "color": "#2a3f5f"
           }
          },
          "ternary": {
           "aaxis": {
            "gridcolor": "white",
            "linecolor": "white",
            "ticks": ""
           },
           "baxis": {
            "gridcolor": "white",
            "linecolor": "white",
            "ticks": ""
           },
           "bgcolor": "#E5ECF6",
           "caxis": {
            "gridcolor": "white",
            "linecolor": "white",
            "ticks": ""
           }
          },
          "title": {
           "x": 0.05
          },
          "xaxis": {
           "automargin": true,
           "gridcolor": "white",
           "linecolor": "white",
           "ticks": "",
           "title": {
            "standoff": 15
           },
           "zerolinecolor": "white",
           "zerolinewidth": 2
          },
          "yaxis": {
           "automargin": true,
           "gridcolor": "white",
           "linecolor": "white",
           "ticks": "",
           "title": {
            "standoff": 15
           },
           "zerolinecolor": "white",
           "zerolinewidth": 2
          }
         }
        },
        "title": {
         "font": {
          "color": "Black",
          "size": 22
         },
         "text": "<b>Similarity Matrix",
         "x": 0.55,
         "xanchor": "center",
         "y": 0.95,
         "yanchor": "top"
        },
        "width": 750,
        "xaxis": {
         "anchor": "y",
         "constrain": "domain",
         "domain": [
          0,
          1
         ],
         "scaleanchor": "y"
        },
        "yaxis": {
         "anchor": "x",
         "autorange": "reversed",
         "constrain": "domain",
         "domain": [
          0,
          1
         ]
        }
       }
      }
     },
     "metadata": {},
     "output_type": "display_data"
    }
   ],
   "source": [
    "model.visualize_heatmap(width=750, height=750)"
   ]
  },
  {
   "cell_type": "code",
   "execution_count": 10,
   "metadata": {},
   "outputs": [
    {
     "data": {
      "application/vnd.plotly.v1+json": {
       "config": {
        "plotlyServerURL": "https://plot.ly"
       },
       "data": [
        {
         "hovertext": "<b>Topic -1</b>:de_que_em_não_do_da_povo_auxílio_p",
         "line": {
          "color": "black",
          "width": 1.5
         },
         "mode": "lines+lines",
         "name": "",
         "opacity": 0.1,
         "type": "scatter",
         "x": [
          1,
          2,
          3,
          4,
          5,
          6,
          7,
          8,
          9,
          10
         ],
         "y": [
          0.033020389255814804,
          0.02652957434417692,
          0.023223496665297928,
          0.021021287449836813,
          0.020940533007375712,
          0.02069576488559569,
          0.01892279678481239,
          0.01775368284097667,
          0.017062523042779183,
          0.016647694827061327
         ]
        },
        {
         "hovertext": "<b>Topic 0</b>:https_co_ciro_rt_com_todos_lulaofic",
         "line": {
          "color": "black",
          "width": 1.5
         },
         "mode": "lines+lines",
         "name": "",
         "opacity": 0.1,
         "type": "scatter",
         "x": [
          1,
          2,
          3,
          4,
          5,
          6,
          7,
          8,
          9,
          10
         ],
         "y": [
          0.07878043231612103,
          0.07878043231612103,
          0.07683210717996711,
          0.025859887675666306,
          0.02519185411770986,
          0.024336104208943977,
          0.024329283349657362,
          0.02378834310883548,
          0.02137531361774227,
          0.021123037087861493
         ]
        },
        {
         "hovertext": "<b>Topic 1</b>:brasil_que_esperança_de_vamos_https",
         "line": {
          "color": "black",
          "width": 1.5
         },
         "mode": "lines+lines",
         "name": "",
         "opacity": 0.1,
         "type": "scatter",
         "x": [
          1,
          2,
          3,
          4,
          5,
          6,
          7,
          8,
          9,
          10
         ],
         "y": [
          0.03807975290381575,
          0.027778957009133565,
          0.027578929970398368,
          0.02681844076502995,
          0.026693693541142736,
          0.026592925014232334,
          0.026592925014232334,
          0.026042578343600818,
          0.023994540502268038,
          0.02298244164199864
         ]
        },
        {
         "hovertext": "<b>Topic 2</b>:programa_de_renda_mínima_do_um_bnde",
         "line": {
          "color": "black",
          "width": 1.5
         },
         "mode": "lines+lines",
         "name": "",
         "opacity": 0.1,
         "type": "scatter",
         "x": [
          1,
          2,
          3,
          4,
          5,
          6,
          7,
          8,
          9,
          10
         ],
         "y": [
          0.05866212796021611,
          0.053710914492834314,
          0.050385308921209064,
          0.038962533771087514,
          0.03485030734802383,
          0.03314324324833607,
          0.030104399502723384,
          0.030104399502723384,
          0.030104399502723384,
          0.029550736781162084
         ]
        },
        {
         "hovertext": "<b>Topic 3</b>:08_2022_giro_https_co_são_18_gerais",
         "line": {
          "color": "black",
          "width": 1.5
         },
         "mode": "lines+lines",
         "name": "",
         "opacity": 0.1,
         "type": "scatter",
         "x": [
          1,
          2,
          3,
          4,
          5,
          6,
          7,
          8,
          9,
          10
         ],
         "y": [
          0.13399234269989868,
          0.13220361208508657,
          0.07797847227454284,
          0.07214325303674088,
          0.07214325303674088,
          0.06296884849112305,
          0.05565646974555931,
          0.05140932333858356,
          0.04925135075638917,
          0.04825359951650069
         ]
        },
        {
         "hovertext": "<b>Topic 4</b>:de_em_redução_menor_guerra_metade_2",
         "line": {
          "color": "black",
          "width": 1.5
         },
         "mode": "lines+lines",
         "name": "",
         "opacity": 0.1,
         "type": "scatter",
         "x": [
          1,
          2,
          3,
          4,
          5,
          6,
          7,
          8,
          9,
          10
         ],
         "y": [
          0.048135813021246726,
          0.04308728047135468,
          0.03939024774469074,
          0.0341155570935452,
          0.02856665021574734,
          0.02856665021574734,
          0.02856665021574734,
          0.02856665021574734,
          0.02798242148104135,
          0.026886487002322726
         ]
        },
        {
         "hovertext": "<b>Topic 5</b>:lula_https_co_equipelula_na_entre_a",
         "line": {
          "color": "black",
          "width": 1.5
         },
         "mode": "lines+lines",
         "name": "",
         "opacity": 0.1,
         "type": "scatter",
         "x": [
          1,
          2,
          3,
          4,
          5,
          6,
          7,
          8,
          9,
          10
         ],
         "y": [
          0.1416881737332699,
          0.07157853089946697,
          0.07157853089946697,
          0.0694523521944748,
          0.04479247694981175,
          0.03800441885899296,
          0.029939493182475803,
          0.029689080787276303,
          0.028757824335285224,
          0.028750692851125702
         ]
        },
        {
         "hovertext": "<b>Topic 6</b>:ano_ton_safra_de_mais_saneamento_fa",
         "line": {
          "color": "black",
          "width": 1.5
         },
         "mode": "lines+lines",
         "name": "",
         "opacity": 0.1,
         "type": "scatter",
         "x": [
          1,
          2,
          3,
          4,
          5,
          6,
          7,
          8,
          9,
          10
         ],
         "y": [
          0.06621953424902016,
          0.05608791524746287,
          0.04714977393344451,
          0.044689701464322086,
          0.044381849770693364,
          0.043012753127232344,
          0.039302493877493495,
          0.03520736415843851,
          0.033652749148477726,
          0.032259564845424256
         ]
        },
        {
         "hovertext": "<b>Topic 7</b>:eu_voto_eleição_não_falar_foi_café_",
         "line": {
          "color": "black",
          "width": 1.5
         },
         "mode": "lines+lines",
         "name": "",
         "opacity": 0.1,
         "type": "scatter",
         "x": [
          1,
          2,
          3,
          4,
          5,
          6,
          7,
          8,
          9,
          10
         ],
         "y": [
          0.0796719195382549,
          0.06822104696819228,
          0.051417769976599095,
          0.04485992317451515,
          0.04382434120666139,
          0.04025877198612786,
          0.03972793704867595,
          0.0384171431759939,
          0.035041497734003724,
          0.03411321131618676
         ]
        },
        {
         "hovertext": "<b>Topic 8</b>:ele_bolsonaro_porque_mentiras_ou_me",
         "line": {
          "color": "black",
          "width": 1.5
         },
         "mode": "lines+lines",
         "name": "",
         "opacity": 0.1,
         "type": "scatter",
         "x": [
          1,
          2,
          3,
          4,
          5,
          6,
          7,
          8,
          9,
          10
         ],
         "y": [
          0.10409930507628126,
          0.09104879523455126,
          0.0578329472646007,
          0.05528678691945017,
          0.05071866588979472,
          0.042932860406316206,
          0.039205936229797574,
          0.037457183000469685,
          0.036857857946300115,
          0.036857857946300115
         ]
        },
        {
         "hovertext": "<b>Topic 9</b>:sobre_ciro_cironorodaviva_responde_",
         "line": {
          "color": "black",
          "width": 1.5
         },
         "mode": "lines+lines",
         "name": "",
         "opacity": 0.1,
         "type": "scatter",
         "x": [
          1,
          2,
          3,
          4,
          5,
          6,
          7,
          8,
          9,
          10
         ],
         "y": [
          0.12677318928315157,
          0.12375641424961144,
          0.1205327171813103,
          0.09758674469674762,
          0.07046513012841282,
          0.07046513012841282,
          0.07046513012841282,
          0.06474217146921328,
          0.06474217146921328,
          0.06123141782631887
         ]
        },
        {
         "hovertext": "<b>Topic 10</b>:deus_se_você_os_estar_irmão_genocí",
         "line": {
          "color": "black",
          "width": 1.5
         },
         "mode": "lines+lines",
         "name": "",
         "opacity": 0.1,
         "type": "scatter",
         "x": [
          1,
          2,
          3,
          4,
          5,
          6,
          7,
          8,
          9,
          10
         ],
         "y": [
          0.08501545188874766,
          0.06737720522531279,
          0.05962501642420955,
          0.0410474033611964,
          0.03977009238308148,
          0.03977009238308148,
          0.03977009238308148,
          0.03977009238308148,
          0.037967452016491036,
          0.03671824484801868
         ]
        },
        {
         "hovertext": "<b>Topic 11</b>:saudades_carta_democracia_cuba_los",
         "line": {
          "color": "black",
          "width": 1.5
         },
         "mode": "lines+lines",
         "name": "",
         "opacity": 0.1,
         "type": "scatter",
         "x": [
          1,
          2,
          3,
          4,
          5,
          6,
          7,
          8,
          9,
          10
         ],
         "y": [
          0.07357646174291542,
          0.06712070750096337,
          0.049064726227709625,
          0.042335904794893194,
          0.042335904794893194,
          0.042335904794893194,
          0.042335904794893194,
          0.042335904794893194,
          0.041647902503438826,
          0.04157726301789017
         ]
        },
        {
         "hovertext": "<b>Topic 12</b>:não_sou_que_eu_história_chamar_lut",
         "line": {
          "color": "black",
          "width": 1.5
         },
         "mode": "lines+lines",
         "name": "",
         "opacity": 0.1,
         "type": "scatter",
         "x": [
          1,
          2,
          3,
          4,
          5,
          6,
          7,
          8,
          9,
          10
         ],
         "y": [
          0.09701977930197411,
          0.07052696638818083,
          0.05539053552466029,
          0.0509788855786736,
          0.048657974540799835,
          0.04772411085969778,
          0.04406189381762241,
          0.04372223239992737,
          0.042930011825430874,
          0.04148199581069996
         ]
        },
        {
         "hovertext": "<b>Topic 13</b>:reeleição_política_um_que_povo_rel",
         "line": {
          "color": "black",
          "width": 1.5
         },
         "mode": "lines+lines",
         "name": "",
         "opacity": 0.1,
         "type": "scatter",
         "x": [
          1,
          2,
          3,
          4,
          5,
          6,
          7,
          8,
          9,
          10
         ],
         "y": [
          0.0640547355057947,
          0.05649862630240248,
          0.04701376355050315,
          0.04542361774641746,
          0.0449842698096301,
          0.04270315700386314,
          0.04020281532314533,
          0.04019154738379521,
          0.039525479567605964,
          0.03824849903219055
         ]
        },
        {
         "hovertext": "<b>Topic 14</b>:bolsonaro_jair_pai_pr_teu_co_https",
         "line": {
          "color": "black",
          "width": 1.5
         },
         "mode": "lines+lines",
         "name": "",
         "opacity": 0.1,
         "type": "scatter",
         "x": [
          1,
          2,
          3,
          4,
          5,
          6,
          7,
          8,
          9,
          10
         ],
         "y": [
          0.10950838329277582,
          0.0886611278037524,
          0.07941228000281024,
          0.05910741853583495,
          0.05910741853583495,
          0.05882063139580963,
          0.05882063139580963,
          0.050749803232435726,
          0.04737157162034383,
          0.04248537695362641
         ]
        },
        {
         "hovertext": "<b>Topic 15</b>:gente_que_gerar_país_quer_merecemo",
         "line": {
          "color": "black",
          "width": 1.5
         },
         "mode": "lines+lines",
         "name": "",
         "opacity": 0.1,
         "type": "scatter",
         "x": [
          1,
          2,
          3,
          4,
          5,
          6,
          7,
          8,
          9,
          10
         ],
         "y": [
          0.11352947826585984,
          0.06380061683468725,
          0.06298315005878823,
          0.06209214100510759,
          0.0609264369321981,
          0.054970180047819436,
          0.050751919580507496,
          0.04538854235541718,
          0.040617624621465405,
          0.040617624621465405
         ]
        },
        {
         "hovertext": "<b>Topic 16</b>:estímulo_prática_desporto_comitê_c",
         "line": {
          "color": "black",
          "width": 1.5
         },
         "mode": "lines+lines",
         "name": "",
         "opacity": 0.1,
         "type": "scatter",
         "x": [
          1,
          2,
          3,
          4,
          5,
          6,
          7,
          8,
          9,
          10
         ],
         "y": [
          0.08003053733439922,
          0.061399440872125795,
          0.061399440872125795,
          0.061399440872125795,
          0.061399440872125795,
          0.061399440872125795,
          0.061399440872125795,
          0.056687816607467426,
          0.056687816607467426,
          0.05552803551641295
         ]
        },
        {
         "hovertext": "<b>Topic 17</b>:entenda_kg_maconha_de_drogas_apree",
         "line": {
          "color": "black",
          "width": 1.5
         },
         "mode": "lines+lines",
         "name": "",
         "opacity": 0.1,
         "type": "scatter",
         "x": [
          1,
          2,
          3,
          4,
          5,
          6,
          7,
          8,
          9,
          10
         ],
         "y": [
          0.08261605090804201,
          0.08261605090804201,
          0.08261605090804201,
          0.06960547962447325,
          0.06611903098891952,
          0.05965513857462223,
          0.05965513857462223,
          0.05965513857462223,
          0.05965513857462223,
          0.05965513857462223
         ]
        },
        {
         "hovertext": "<b>Topic 18</b>:recuperar_precisamos_empregos_bras",
         "line": {
          "color": "black",
          "width": 1.5
         },
         "mode": "lines+lines",
         "name": "",
         "opacity": 0.1,
         "type": "scatter",
         "x": [
          1,
          2,
          3,
          4,
          5,
          6,
          7,
          8,
          9,
          10
         ],
         "y": [
          0.1126880467750615,
          0.06968233206017867,
          0.06761282806503689,
          0.062036363918529173,
          0.058045608622017554,
          0.058045608622017554,
          0.05463162428815277,
          0.051990474732378764,
          0.04802308048394632,
          0.04802308048394632
         ]
        },
        {
         "hovertext": "<b>Topic 19</b>:melhora_pobre_coisas_isso_vou_fome",
         "line": {
          "color": "black",
          "width": 1.5
         },
         "mode": "lines+lines",
         "name": "",
         "opacity": 0.1,
         "type": "scatter",
         "x": [
          1,
          2,
          3,
          4,
          5,
          6,
          7,
          8,
          9,
          10
         ],
         "y": [
          0.07894213826416174,
          0.06859760342948505,
          0.05833057370451046,
          0.05824443507999715,
          0.05659820695168502,
          0.053657916786846935,
          0.0519301893453352,
          0.048214993122726924,
          0.047595459014068246,
          0.04734136642403405
         ]
        },
        {
         "hovertext": "<b>Topic 20</b>:está_uma_errado_pra_que_política_c",
         "line": {
          "color": "black",
          "width": 1.5
         },
         "mode": "lines+lines",
         "name": "",
         "opacity": 0.1,
         "type": "scatter",
         "x": [
          1,
          2,
          3,
          4,
          5,
          6,
          7,
          8,
          9,
          10
         ],
         "y": [
          0.16506569233311735,
          0.12149584645277131,
          0.1060535796882173,
          0.06858128924630355,
          0.06627927327737129,
          0.06477367762952203,
          0.060469275622946926,
          0.06000172982545891,
          0.06000172982545891,
          0.06000172982545891
         ]
        }
       ],
       "layout": {
        "height": 500,
        "hoverlabel": {
         "bgcolor": "white",
         "font": {
          "family": "Rockwell",
          "size": 16
         }
        },
        "showlegend": false,
        "template": {
         "data": {
          "bar": [
           {
            "error_x": {
             "color": "#2a3f5f"
            },
            "error_y": {
             "color": "#2a3f5f"
            },
            "marker": {
             "line": {
              "color": "white",
              "width": 0.5
             },
             "pattern": {
              "fillmode": "overlay",
              "size": 10,
              "solidity": 0.2
             }
            },
            "type": "bar"
           }
          ],
          "barpolar": [
           {
            "marker": {
             "line": {
              "color": "white",
              "width": 0.5
             },
             "pattern": {
              "fillmode": "overlay",
              "size": 10,
              "solidity": 0.2
             }
            },
            "type": "barpolar"
           }
          ],
          "carpet": [
           {
            "aaxis": {
             "endlinecolor": "#2a3f5f",
             "gridcolor": "#C8D4E3",
             "linecolor": "#C8D4E3",
             "minorgridcolor": "#C8D4E3",
             "startlinecolor": "#2a3f5f"
            },
            "baxis": {
             "endlinecolor": "#2a3f5f",
             "gridcolor": "#C8D4E3",
             "linecolor": "#C8D4E3",
             "minorgridcolor": "#C8D4E3",
             "startlinecolor": "#2a3f5f"
            },
            "type": "carpet"
           }
          ],
          "choropleth": [
           {
            "colorbar": {
             "outlinewidth": 0,
             "ticks": ""
            },
            "type": "choropleth"
           }
          ],
          "contour": [
           {
            "colorbar": {
             "outlinewidth": 0,
             "ticks": ""
            },
            "colorscale": [
             [
              0,
              "#0d0887"
             ],
             [
              0.1111111111111111,
              "#46039f"
             ],
             [
              0.2222222222222222,
              "#7201a8"
             ],
             [
              0.3333333333333333,
              "#9c179e"
             ],
             [
              0.4444444444444444,
              "#bd3786"
             ],
             [
              0.5555555555555556,
              "#d8576b"
             ],
             [
              0.6666666666666666,
              "#ed7953"
             ],
             [
              0.7777777777777778,
              "#fb9f3a"
             ],
             [
              0.8888888888888888,
              "#fdca26"
             ],
             [
              1,
              "#f0f921"
             ]
            ],
            "type": "contour"
           }
          ],
          "contourcarpet": [
           {
            "colorbar": {
             "outlinewidth": 0,
             "ticks": ""
            },
            "type": "contourcarpet"
           }
          ],
          "heatmap": [
           {
            "colorbar": {
             "outlinewidth": 0,
             "ticks": ""
            },
            "colorscale": [
             [
              0,
              "#0d0887"
             ],
             [
              0.1111111111111111,
              "#46039f"
             ],
             [
              0.2222222222222222,
              "#7201a8"
             ],
             [
              0.3333333333333333,
              "#9c179e"
             ],
             [
              0.4444444444444444,
              "#bd3786"
             ],
             [
              0.5555555555555556,
              "#d8576b"
             ],
             [
              0.6666666666666666,
              "#ed7953"
             ],
             [
              0.7777777777777778,
              "#fb9f3a"
             ],
             [
              0.8888888888888888,
              "#fdca26"
             ],
             [
              1,
              "#f0f921"
             ]
            ],
            "type": "heatmap"
           }
          ],
          "heatmapgl": [
           {
            "colorbar": {
             "outlinewidth": 0,
             "ticks": ""
            },
            "colorscale": [
             [
              0,
              "#0d0887"
             ],
             [
              0.1111111111111111,
              "#46039f"
             ],
             [
              0.2222222222222222,
              "#7201a8"
             ],
             [
              0.3333333333333333,
              "#9c179e"
             ],
             [
              0.4444444444444444,
              "#bd3786"
             ],
             [
              0.5555555555555556,
              "#d8576b"
             ],
             [
              0.6666666666666666,
              "#ed7953"
             ],
             [
              0.7777777777777778,
              "#fb9f3a"
             ],
             [
              0.8888888888888888,
              "#fdca26"
             ],
             [
              1,
              "#f0f921"
             ]
            ],
            "type": "heatmapgl"
           }
          ],
          "histogram": [
           {
            "marker": {
             "pattern": {
              "fillmode": "overlay",
              "size": 10,
              "solidity": 0.2
             }
            },
            "type": "histogram"
           }
          ],
          "histogram2d": [
           {
            "colorbar": {
             "outlinewidth": 0,
             "ticks": ""
            },
            "colorscale": [
             [
              0,
              "#0d0887"
             ],
             [
              0.1111111111111111,
              "#46039f"
             ],
             [
              0.2222222222222222,
              "#7201a8"
             ],
             [
              0.3333333333333333,
              "#9c179e"
             ],
             [
              0.4444444444444444,
              "#bd3786"
             ],
             [
              0.5555555555555556,
              "#d8576b"
             ],
             [
              0.6666666666666666,
              "#ed7953"
             ],
             [
              0.7777777777777778,
              "#fb9f3a"
             ],
             [
              0.8888888888888888,
              "#fdca26"
             ],
             [
              1,
              "#f0f921"
             ]
            ],
            "type": "histogram2d"
           }
          ],
          "histogram2dcontour": [
           {
            "colorbar": {
             "outlinewidth": 0,
             "ticks": ""
            },
            "colorscale": [
             [
              0,
              "#0d0887"
             ],
             [
              0.1111111111111111,
              "#46039f"
             ],
             [
              0.2222222222222222,
              "#7201a8"
             ],
             [
              0.3333333333333333,
              "#9c179e"
             ],
             [
              0.4444444444444444,
              "#bd3786"
             ],
             [
              0.5555555555555556,
              "#d8576b"
             ],
             [
              0.6666666666666666,
              "#ed7953"
             ],
             [
              0.7777777777777778,
              "#fb9f3a"
             ],
             [
              0.8888888888888888,
              "#fdca26"
             ],
             [
              1,
              "#f0f921"
             ]
            ],
            "type": "histogram2dcontour"
           }
          ],
          "mesh3d": [
           {
            "colorbar": {
             "outlinewidth": 0,
             "ticks": ""
            },
            "type": "mesh3d"
           }
          ],
          "parcoords": [
           {
            "line": {
             "colorbar": {
              "outlinewidth": 0,
              "ticks": ""
             }
            },
            "type": "parcoords"
           }
          ],
          "pie": [
           {
            "automargin": true,
            "type": "pie"
           }
          ],
          "scatter": [
           {
            "fillpattern": {
             "fillmode": "overlay",
             "size": 10,
             "solidity": 0.2
            },
            "type": "scatter"
           }
          ],
          "scatter3d": [
           {
            "line": {
             "colorbar": {
              "outlinewidth": 0,
              "ticks": ""
             }
            },
            "marker": {
             "colorbar": {
              "outlinewidth": 0,
              "ticks": ""
             }
            },
            "type": "scatter3d"
           }
          ],
          "scattercarpet": [
           {
            "marker": {
             "colorbar": {
              "outlinewidth": 0,
              "ticks": ""
             }
            },
            "type": "scattercarpet"
           }
          ],
          "scattergeo": [
           {
            "marker": {
             "colorbar": {
              "outlinewidth": 0,
              "ticks": ""
             }
            },
            "type": "scattergeo"
           }
          ],
          "scattergl": [
           {
            "marker": {
             "colorbar": {
              "outlinewidth": 0,
              "ticks": ""
             }
            },
            "type": "scattergl"
           }
          ],
          "scattermapbox": [
           {
            "marker": {
             "colorbar": {
              "outlinewidth": 0,
              "ticks": ""
             }
            },
            "type": "scattermapbox"
           }
          ],
          "scatterpolar": [
           {
            "marker": {
             "colorbar": {
              "outlinewidth": 0,
              "ticks": ""
             }
            },
            "type": "scatterpolar"
           }
          ],
          "scatterpolargl": [
           {
            "marker": {
             "colorbar": {
              "outlinewidth": 0,
              "ticks": ""
             }
            },
            "type": "scatterpolargl"
           }
          ],
          "scatterternary": [
           {
            "marker": {
             "colorbar": {
              "outlinewidth": 0,
              "ticks": ""
             }
            },
            "type": "scatterternary"
           }
          ],
          "surface": [
           {
            "colorbar": {
             "outlinewidth": 0,
             "ticks": ""
            },
            "colorscale": [
             [
              0,
              "#0d0887"
             ],
             [
              0.1111111111111111,
              "#46039f"
             ],
             [
              0.2222222222222222,
              "#7201a8"
             ],
             [
              0.3333333333333333,
              "#9c179e"
             ],
             [
              0.4444444444444444,
              "#bd3786"
             ],
             [
              0.5555555555555556,
              "#d8576b"
             ],
             [
              0.6666666666666666,
              "#ed7953"
             ],
             [
              0.7777777777777778,
              "#fb9f3a"
             ],
             [
              0.8888888888888888,
              "#fdca26"
             ],
             [
              1,
              "#f0f921"
             ]
            ],
            "type": "surface"
           }
          ],
          "table": [
           {
            "cells": {
             "fill": {
              "color": "#EBF0F8"
             },
             "line": {
              "color": "white"
             }
            },
            "header": {
             "fill": {
              "color": "#C8D4E3"
             },
             "line": {
              "color": "white"
             }
            },
            "type": "table"
           }
          ]
         },
         "layout": {
          "annotationdefaults": {
           "arrowcolor": "#2a3f5f",
           "arrowhead": 0,
           "arrowwidth": 1
          },
          "autotypenumbers": "strict",
          "coloraxis": {
           "colorbar": {
            "outlinewidth": 0,
            "ticks": ""
           }
          },
          "colorscale": {
           "diverging": [
            [
             0,
             "#8e0152"
            ],
            [
             0.1,
             "#c51b7d"
            ],
            [
             0.2,
             "#de77ae"
            ],
            [
             0.3,
             "#f1b6da"
            ],
            [
             0.4,
             "#fde0ef"
            ],
            [
             0.5,
             "#f7f7f7"
            ],
            [
             0.6,
             "#e6f5d0"
            ],
            [
             0.7,
             "#b8e186"
            ],
            [
             0.8,
             "#7fbc41"
            ],
            [
             0.9,
             "#4d9221"
            ],
            [
             1,
             "#276419"
            ]
           ],
           "sequential": [
            [
             0,
             "#0d0887"
            ],
            [
             0.1111111111111111,
             "#46039f"
            ],
            [
             0.2222222222222222,
             "#7201a8"
            ],
            [
             0.3333333333333333,
             "#9c179e"
            ],
            [
             0.4444444444444444,
             "#bd3786"
            ],
            [
             0.5555555555555556,
             "#d8576b"
            ],
            [
             0.6666666666666666,
             "#ed7953"
            ],
            [
             0.7777777777777778,
             "#fb9f3a"
            ],
            [
             0.8888888888888888,
             "#fdca26"
            ],
            [
             1,
             "#f0f921"
            ]
           ],
           "sequentialminus": [
            [
             0,
             "#0d0887"
            ],
            [
             0.1111111111111111,
             "#46039f"
            ],
            [
             0.2222222222222222,
             "#7201a8"
            ],
            [
             0.3333333333333333,
             "#9c179e"
            ],
            [
             0.4444444444444444,
             "#bd3786"
            ],
            [
             0.5555555555555556,
             "#d8576b"
            ],
            [
             0.6666666666666666,
             "#ed7953"
            ],
            [
             0.7777777777777778,
             "#fb9f3a"
            ],
            [
             0.8888888888888888,
             "#fdca26"
            ],
            [
             1,
             "#f0f921"
            ]
           ]
          },
          "colorway": [
           "#636efa",
           "#EF553B",
           "#00cc96",
           "#ab63fa",
           "#FFA15A",
           "#19d3f3",
           "#FF6692",
           "#B6E880",
           "#FF97FF",
           "#FECB52"
          ],
          "font": {
           "color": "#2a3f5f"
          },
          "geo": {
           "bgcolor": "white",
           "lakecolor": "white",
           "landcolor": "white",
           "showlakes": true,
           "showland": true,
           "subunitcolor": "#C8D4E3"
          },
          "hoverlabel": {
           "align": "left"
          },
          "hovermode": "closest",
          "mapbox": {
           "style": "light"
          },
          "paper_bgcolor": "white",
          "plot_bgcolor": "white",
          "polar": {
           "angularaxis": {
            "gridcolor": "#EBF0F8",
            "linecolor": "#EBF0F8",
            "ticks": ""
           },
           "bgcolor": "white",
           "radialaxis": {
            "gridcolor": "#EBF0F8",
            "linecolor": "#EBF0F8",
            "ticks": ""
           }
          },
          "scene": {
           "xaxis": {
            "backgroundcolor": "white",
            "gridcolor": "#DFE8F3",
            "gridwidth": 2,
            "linecolor": "#EBF0F8",
            "showbackground": true,
            "ticks": "",
            "zerolinecolor": "#EBF0F8"
           },
           "yaxis": {
            "backgroundcolor": "white",
            "gridcolor": "#DFE8F3",
            "gridwidth": 2,
            "linecolor": "#EBF0F8",
            "showbackground": true,
            "ticks": "",
            "zerolinecolor": "#EBF0F8"
           },
           "zaxis": {
            "backgroundcolor": "white",
            "gridcolor": "#DFE8F3",
            "gridwidth": 2,
            "linecolor": "#EBF0F8",
            "showbackground": true,
            "ticks": "",
            "zerolinecolor": "#EBF0F8"
           }
          },
          "shapedefaults": {
           "line": {
            "color": "#2a3f5f"
           }
          },
          "ternary": {
           "aaxis": {
            "gridcolor": "#DFE8F3",
            "linecolor": "#A2B1C6",
            "ticks": ""
           },
           "baxis": {
            "gridcolor": "#DFE8F3",
            "linecolor": "#A2B1C6",
            "ticks": ""
           },
           "bgcolor": "white",
           "caxis": {
            "gridcolor": "#DFE8F3",
            "linecolor": "#A2B1C6",
            "ticks": ""
           }
          },
          "title": {
           "x": 0.05
          },
          "xaxis": {
           "automargin": true,
           "gridcolor": "#EBF0F8",
           "linecolor": "#EBF0F8",
           "ticks": "",
           "title": {
            "standoff": 15
           },
           "zerolinecolor": "#EBF0F8",
           "zerolinewidth": 2
          },
          "yaxis": {
           "automargin": true,
           "gridcolor": "#EBF0F8",
           "linecolor": "#EBF0F8",
           "ticks": "",
           "title": {
            "standoff": 15
           },
           "zerolinecolor": "#EBF0F8",
           "zerolinewidth": 2
          }
         }
        },
        "title": {
         "font": {
          "color": "Black",
          "size": 22
         },
         "text": "<b>Term score decline per Topic</b>",
         "x": 0.5,
         "xanchor": "center",
         "y": 0.9,
         "yanchor": "top"
        },
        "width": 800,
        "xaxis": {
         "dtick": 2,
         "range": [
          0,
          10
         ],
         "tick0": 1,
         "title": {
          "text": "Term Rank"
         }
        },
        "yaxis": {
         "title": {
          "text": "c-TF-IDF score"
         }
        }
       }
      }
     },
     "metadata": {},
     "output_type": "display_data"
    }
   ],
   "source": [
    "model.visualize_term_rank()"
   ]
  },
  {
   "cell_type": "markdown",
   "metadata": {},
   "source": [
    "TODO:\n",
    "- Normalize, remove stop words, lower case, etc"
   ]
  }
 ],
 "metadata": {
  "kernelspec": {
   "display_name": "Python 3.10.4 64-bit",
   "language": "python",
   "name": "python3"
  },
  "language_info": {
   "codemirror_mode": {
    "name": "ipython",
    "version": 3
   },
   "file_extension": ".py",
   "mimetype": "text/x-python",
   "name": "python",
   "nbconvert_exporter": "python",
   "pygments_lexer": "ipython3",
   "version": "3.10.4"
  },
  "orig_nbformat": 4,
  "vscode": {
   "interpreter": {
    "hash": "916dbcbb3f70747c44a77c7bcd40155683ae19c65e1c03b4aa3499c5328201f1"
   }
  }
 },
 "nbformat": 4,
 "nbformat_minor": 2
}
